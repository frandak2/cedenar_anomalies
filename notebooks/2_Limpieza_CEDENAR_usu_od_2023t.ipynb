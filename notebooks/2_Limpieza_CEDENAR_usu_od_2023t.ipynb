{
 "cells": [
  {
   "cell_type": "markdown",
   "id": "b4973a23-2785-4036-bfee-577641aff864",
   "metadata": {},
   "source": [
    "# Limpieza datos combinados Usuarios y Ordenes de trabajo Zentry - *Piloto Pacífico*"
   ]
  },
  {
   "cell_type": "markdown",
   "id": "efe7116c-b334-4f3c-b62f-98d3ba7587fc",
   "metadata": {},
   "source": [
    "Se genera combinación de datos propios de los usuario, con ordenes de trabajo (odt) para años 2022-2024 y se cuenta con anomalías confirmadas hasta 2023.\n",
    "Estas últimas permitirán marcar el caso positivo de anomalías y las demás ordenes serán nuestro negativo de anomalía. Tomando el caso como una regresión logistica multivariado.\n",
    "\n",
    "Dicho lo anterior, debido al corte de fecha de las anomalías confirmadas se tendrá como muestra total las odt de 2022 y 2023 - Zona Pacífico."
   ]
  },
  {
   "cell_type": "code",
   "id": "b834f80c-c137-4735-b804-edbdb779470a",
   "metadata": {
    "ExecuteTime": {
     "end_time": "2025-05-03T19:53:09.251494Z",
     "start_time": "2025-05-03T19:53:08.880301Z"
    }
   },
   "source": [
    "import os\n",
    "\n",
    "import numpy as np\n",
    "import pandas as pd\n",
    "\n",
    "from cedenar_anomalies.utils.paths import (\n",
    "    data_processed_dir,\n",
    "    data_raw_dir,\n",
    ")"
   ],
   "outputs": [],
   "execution_count": 2
  },
  {
   "cell_type": "code",
   "id": "00871abc-59a4-476e-89cb-4963c217429b",
   "metadata": {
    "ExecuteTime": {
     "end_time": "2025-05-03T19:53:09.259401Z",
     "start_time": "2025-05-03T19:53:09.257101Z"
    }
   },
   "source": [
    "os.getcwd()"
   ],
   "outputs": [
    {
     "data": {
      "text/plain": [
       "'/Users/frandak2/Documents/repos/cedenar_anomalies/notebooks'"
      ]
     },
     "execution_count": 3,
     "metadata": {},
     "output_type": "execute_result"
    }
   ],
   "execution_count": 3
  },
  {
   "cell_type": "code",
   "id": "83efa6c4-5b2a-4448-ac0b-bc9627f67b2f",
   "metadata": {
    "ExecuteTime": {
     "end_time": "2025-05-03T19:53:09.282359Z",
     "start_time": "2025-05-03T19:53:09.280864Z"
    }
   },
   "source": [
    "pd.set_option(\"display.max_rows\", None)  # Mostrar todas las filas\n",
    "pd.set_option(\"display.max_columns\", None)  # Mostrar todas las columnas"
   ],
   "outputs": [],
   "execution_count": 4
  },
  {
   "cell_type": "markdown",
   "id": "72f10dd3-884f-4ffd-9057-8b3e2218c91e",
   "metadata": {},
   "source": [
    "## Datos por año"
   ]
  },
  {
   "cell_type": "markdown",
   "id": "4a3c97ea-330c-45e1-9bf1-c08e2d9ed0cc",
   "metadata": {},
   "source": [
    "#### 2023"
   ]
  },
  {
   "cell_type": "code",
   "id": "58db28d3-6449-40b2-a956-470362f8b21c",
   "metadata": {
    "ExecuteTime": {
     "end_time": "2025-05-03T19:54:57.528674Z",
     "start_time": "2025-05-03T19:54:57.407390Z"
    }
   },
   "source": [
    "# ruta_archivo = \"J:\\\\JESSICA\\\\Jessica\\\\Rafael\\\\igrid\\\\cedenar\\\\python_zentr\\\\dataset_decantado_2023.csv\"\n",
    "ruta_archivo = data_processed_dir(\"dataset_decantado_2023.csv\")\n",
    "df_2023 = pd.read_csv(ruta_archivo)\n",
    "decantado_paci = df_2023[df_2023.ZONA == 'PACIFICO']"
   ],
   "outputs": [
    {
     "name": "stderr",
     "output_type": "stream",
     "text": [
      "/var/folders/pq/cm_j30pd6d5gvwryc4gttm2h0000gn/T/ipykernel_7698/3044468155.py:3: DtypeWarning: Columns (54) have mixed types. Specify dtype option on import or set low_memory=False.\n",
      "  df_2023 = pd.read_csv(ruta_archivo)\n"
     ]
    }
   ],
   "execution_count": 10
  },
  {
   "cell_type": "code",
   "id": "fd100487-1358-45b8-a463-5839f5e36790",
   "metadata": {
    "ExecuteTime": {
     "end_time": "2025-05-03T19:55:03.524788Z",
     "start_time": "2025-05-03T19:55:03.517621Z"
    }
   },
   "source": "decantado_paci.info()",
   "outputs": [
    {
     "name": "stdout",
     "output_type": "stream",
     "text": [
      "<class 'pandas.core.frame.DataFrame'>\n",
      "Index: 13502 entries, 5 to 66367\n",
      "Data columns (total 57 columns):\n",
      " #   Column          Non-Null Count  Dtype  \n",
      "---  ------          --------------  -----  \n",
      " 0   item_288        13502 non-null  int64  \n",
      " 1   PLAN_COMERCIAL  13502 non-null  object \n",
      " 2   NIVEL           13502 non-null  float64\n",
      " 3   LATI_USU        13502 non-null  float64\n",
      " 4   LONG_USU        13502 non-null  float64\n",
      " 5   AREA            13502 non-null  object \n",
      " 6   ZONA            13502 non-null  object \n",
      " 7   Descripcion     2400 non-null   object \n",
      " 8   odt             13502 non-null  int64  \n",
      " 9   orden           13502 non-null  int64  \n",
      " 10  item_1442       13431 non-null  float64\n",
      " 11  item_8          13031 non-null  object \n",
      " 12  item_237        11769 non-null  object \n",
      " 13  item_23         10844 non-null  object \n",
      " 14  item_24         10840 non-null  object \n",
      " 15  item_33         9604 non-null   float64\n",
      " 16  item_598        9638 non-null   object \n",
      " 17  item_601        10667 non-null  object \n",
      " 18  item_43         7790 non-null   float64\n",
      " 19  item_99         9208 non-null   float64\n",
      " 20  item_35         8230 non-null   float64\n",
      " 21  item_111        7954 non-null   float64\n",
      " 22  item_599        8217 non-null   object \n",
      " 23  item_108        7980 non-null   float64\n",
      " 24  item_603        7833 non-null   object \n",
      " 25  item_190        1531 non-null   float64\n",
      " 26  item_192        892 non-null    float64\n",
      " 27  item_588        799 non-null    float64\n",
      " 28  item_248        513 non-null    object \n",
      " 29  item_591        794 non-null    float64\n",
      " 30  item_602        4610 non-null   object \n",
      " 31  item_41         4899 non-null   float64\n",
      " 32  item_211        1459 non-null   float64\n",
      " 33  item_74         1368 non-null   object \n",
      " 34  item_1889       0 non-null      float64\n",
      " 35  item_597        2465 non-null   object \n",
      " 36  item_600        273 non-null    object \n",
      " 37  item_37         270 non-null    float64\n",
      " 38  item_1407       34 non-null     object \n",
      " 39  item_1410       30 non-null     object \n",
      " 40  item_68         15 non-null     object \n",
      " 41  item_1328       24 non-null     float64\n",
      " 42  item_1334       5 non-null      float64\n",
      " 43  item_594        5 non-null      float64\n",
      " 44  item_67         2 non-null      object \n",
      " 45  item_1408       16 non-null     object \n",
      " 46  item_1352       8 non-null      float64\n",
      " 47  item_1405       7 non-null      object \n",
      " 48  item_1283       2 non-null      float64\n",
      " 49  item_1343       2 non-null      float64\n",
      " 50  item_1346       1 non-null      float64\n",
      " 51  item_1292       2 non-null      float64\n",
      " 52  item_1298       2 non-null      float64\n",
      " 53  item_69         3 non-null      object \n",
      " 54  item_1331       3 non-null      object \n",
      " 55  item_202        2 non-null      float64\n",
      " 56  item_1349       2 non-null      float64\n",
      "dtypes: float64(29), int64(3), object(25)\n",
      "memory usage: 6.0+ MB\n"
     ]
    }
   ],
   "execution_count": 11
  },
  {
   "cell_type": "code",
   "execution_count": 33,
   "id": "7fabe856-ed81-4c58-a50a-9321364098ca",
   "metadata": {},
   "outputs": [
    {
     "data": {
      "text/plain": [
       "19425"
      ]
     },
     "execution_count": 33,
     "metadata": {},
     "output_type": "execute_result"
    }
   ],
   "source": [
    "filas, columnas = df_2023.shape\n",
    "filas"
   ]
  },
  {
   "cell_type": "markdown",
   "id": "3af6b61a-b859-42f3-9a35-97241a1315f9",
   "metadata": {},
   "source": [
    "## Duplicados"
   ]
  },
  {
   "cell_type": "code",
   "execution_count": 151,
   "id": "6c11494f-13d0-4c89-ba87-ef491656897e",
   "metadata": {},
   "outputs": [],
   "source": [
    "def revisar_y_guardar_duplicados(df, nombre_df):\n",
    "    \"\"\"\n",
    "    Revisa si hay duplicados en las columnas 'orden' y 'odt' de un DataFrame y guarda los duplicados en un archivo CSV.\n",
    "\n",
    "    Parámetros:\n",
    "    - df (DataFrame): El DataFrame a revisar.\n",
    "    - nombre_df (str): El nombre del DataFrame para usar en el nombre del archivo.\n",
    "    \"\"\"\n",
    "\n",
    "    # Identificar duplicados basados en 'orden' y 'odt'\n",
    "    duplicados = df.duplicated(subset=[\"orden\", \"odt\"], keep=False)\n",
    "\n",
    "    # Contar el número de duplicados\n",
    "    num_duplicados = duplicados.sum()\n",
    "\n",
    "    # Guardar los duplicados en un archivo CSV si existen\n",
    "    if num_duplicados > 0:\n",
    "        duplicados_df = df[duplicados]\n",
    "        nombre_archivo = f\"{nombre_df}_duplicados.csv\"\n",
    "        duplicados_df.to_csv(nombre_archivo, index=False)\n",
    "        print(\n",
    "            f\"Se encontraron {num_duplicados} registros duplicados en {nombre_df} y se guardaron en {nombre_archivo}.\"\n",
    "        )\n",
    "    else:\n",
    "        print(f\"No se encontraron registros duplicados en {nombre_df}.\")"
   ]
  },
  {
   "cell_type": "code",
   "execution_count": 460,
   "id": "77e95ef8-bb07-42ac-8074-e0795fa4d85e",
   "metadata": {},
   "outputs": [
    {
     "name": "stdout",
     "output_type": "stream",
     "text": [
      "Se encontraron 16374 registros duplicados en df_2022 y se guardaron en df_2022_duplicados.csv.\n",
      "Se encontraron 8254 registros duplicados en df_2023 y se guardaron en df_2023_duplicados.csv.\n"
     ]
    }
   ],
   "source": [
    "# Revisar y guardar duplicados en df_2023\n",
    "revisar_y_guardar_duplicados(df_2023, \"df_2023\")"
   ]
  },
  {
   "cell_type": "code",
   "execution_count": 462,
   "id": "c8cf2ae6-5552-4da1-8a1b-36d512615d5a",
   "metadata": {},
   "outputs": [
    {
     "name": "stdout",
     "output_type": "stream",
     "text": [
      "Registros 2022 - duplicados = 17087\n",
      "Registros 2023 - duplicados = 11171\n"
     ]
    }
   ],
   "source": [
    "filas, columnas = df_2023.shape\n",
    "print(f\"Registros 2023 - duplicados = {filas - 8254}\")"
   ]
  },
  {
   "cell_type": "markdown",
   "id": "7c5ca187-b096-4ebe-9396-9a5e8ac771de",
   "metadata": {},
   "source": [
    "### Eliminar duplicados"
   ]
  },
  {
   "cell_type": "code",
   "execution_count": 163,
   "id": "9dab4fb3-87bb-41e9-a756-e7a7f763370f",
   "metadata": {},
   "outputs": [],
   "source": [
    "def eliminar_duplicados(df, nombre_df):\n",
    "    \"\"\"\n",
    "    Elimina registros duplicados en las columnas 'orden' y 'odt' de un DataFrame, conservando solo la primera aparición.\n",
    "\n",
    "    Parámetros:\n",
    "    - df (DataFrame): El DataFrame a procesar.\n",
    "    - nombre_df (str): El nombre del DataFrame para imprimir en los resultados.\n",
    "    \"\"\"\n",
    "\n",
    "    # Eliminar duplicados, conservando la primera aparición\n",
    "    df_sin_duplicados = df.drop_duplicates(subset=[\"orden\", \"odt\"], keep=\"first\")\n",
    "\n",
    "    # Imprimir información sobre el DataFrame resultante\n",
    "    print(\n",
    "        f\"Registros duplicados eliminados en {nombre_df}. Tamaño original: {len(df)}, Tamaño después de eliminar duplicados: {len(df_sin_duplicados)}\"\n",
    "    )\n",
    "\n",
    "    return df_sin_duplicados"
   ]
  },
  {
   "cell_type": "code",
   "execution_count": 464,
   "id": "ea1521e8-8772-4cbf-b616-63bf78de3329",
   "metadata": {},
   "outputs": [
    {
     "name": "stdout",
     "output_type": "stream",
     "text": [
      "Registros duplicados eliminados en df_2022. Tamaño original: 33461, Tamaño después de eliminar duplicados: 21257\n",
      "Registros duplicados eliminados en df_2023. Tamaño original: 19425, Tamaño después de eliminar duplicados: 13380\n",
      "DataFrames sin duplicados guardados en archivos CSV.\n"
     ]
    }
   ],
   "source": [
    "# Eliminar duplicados en df_2023\n",
    "df_2023 = eliminar_duplicados(df_2023, \"df_2023\")\n",
    "\n",
    "df_2023.to_csv(\"df_2023_sin_duplicados.csv\", index=False)\n",
    "\n",
    "print(\"DataFrames sin duplicados guardados en archivos CSV.\")"
   ]
  },
  {
   "cell_type": "markdown",
   "id": "49def73e-4d8a-4659-bb17-5721575aedae",
   "metadata": {},
   "source": [
    "## Variables a prescindir"
   ]
  },
  {
   "cell_type": "markdown",
   "id": "21f4f0d0-68b4-4ce3-9378-d6bc4366de28",
   "metadata": {},
   "source": [
    "### Ubicación"
   ]
  },
  {
   "cell_type": "code",
   "execution_count": 466,
   "id": "6b716d3f-7215-418f-8d9d-45f7ab4f7007",
   "metadata": {},
   "outputs": [],
   "source": [
    "# Guardar el nuevo dataframe en un archivo csv\n",
    "df_2022.to_csv(\"df_2022_sin_nulos.csv\", index=False)"
   ]
  },
  {
   "cell_type": "markdown",
   "id": "4e5121f2-da4f-41f3-83d5-f41be66f591a",
   "metadata": {},
   "source": [
    "### Inspección Estado Del Predio"
   ]
  },
  {
   "cell_type": "code",
   "execution_count": 468,
   "id": "43c90913-96fa-4801-8eb6-4138ef13fdcf",
   "metadata": {},
   "outputs": [
    {
     "name": "stdout",
     "output_type": "stream",
     "text": [
      "[True nan]\n",
      "[True nan]\n"
     ]
    }
   ],
   "source": "print(df_2023[\"item_237\"].unique())"
  },
  {
   "cell_type": "code",
   "execution_count": 470,
   "id": "d05ec294-be61-4242-9e1f-b167b1e8aa75",
   "metadata": {},
   "outputs": [
    {
     "data": {
      "text/plain": [
       "array([True, nan], dtype=object)"
      ]
     },
     "execution_count": 470,
     "metadata": {},
     "output_type": "execute_result"
    }
   ],
   "source": [
    "df_2023[\"item_237\"].unique()"
   ]
  },
  {
   "cell_type": "code",
   "execution_count": 472,
   "id": "acba9e54-d2dc-40ac-864b-acdb3eef93c6",
   "metadata": {},
   "outputs": [
    {
     "name": "stderr",
     "output_type": "stream",
     "text": [
      "C:\\Users\\User\\AppData\\Local\\Temp\\ipykernel_13120\\1591275600.py:2: FutureWarning: Downcasting behavior in `replace` is deprecated and will be removed in a future version. To retain the old behavior, explicitly call `result.infer_objects(copy=False)`. To opt-in to the future behavior, set `pd.set_option('future.no_silent_downcasting', True)`\n",
      "  df_2022['item_237'] = df_2022['item_237'].replace(np.nan, False)\n",
      "C:\\Users\\User\\AppData\\Local\\Temp\\ipykernel_13120\\1591275600.py:5: FutureWarning: Downcasting behavior in `replace` is deprecated and will be removed in a future version. To retain the old behavior, explicitly call `result.infer_objects(copy=False)`. To opt-in to the future behavior, set `pd.set_option('future.no_silent_downcasting', True)`\n",
      "  df_2023['item_237'] = df_2023['item_237'].replace(np.nan, False)\n"
     ]
    }
   ],
   "source": [
    "# Reemplazar NaN con False en df_2023['item_237']\n",
    "df_2023[\"item_237\"] = df_2023[\"item_237\"].replace(np.nan, False)"
   ]
  },
  {
   "cell_type": "code",
   "execution_count": 474,
   "id": "86e1acfe-f5a9-4525-8c16-8288df7514e3",
   "metadata": {},
   "outputs": [
    {
     "name": "stdout",
     "output_type": "stream",
     "text": [
      "item_237\n",
      "True     18786\n",
      "False     2468\n",
      "Name: count, dtype: int64\n",
      "item_237\n",
      "True     11706\n",
      "False     1674\n",
      "Name: count, dtype: int64\n"
     ]
    }
   ],
   "source": "print(df_2023[\"item_237\"].value_counts())"
  },
  {
   "cell_type": "markdown",
   "id": "1a53dddb-bcad-4b62-811f-12e3ce6a8bdd",
   "metadata": {},
   "source": [
    "### Medida Activa"
   ]
  },
  {
   "cell_type": "code",
   "execution_count": 183,
   "id": "db475f91-5fa2-436c-8a88-7dd33f63d1c8",
   "metadata": {},
   "outputs": [
    {
     "name": "stdout",
     "output_type": "stream",
     "text": [
      "['SI' nan 'TRUE']\n",
      "['SI' nan 'TRUE']\n"
     ]
    }
   ],
   "source": "print(df_2023[\"item_23\"].unique())"
  },
  {
   "cell_type": "code",
   "execution_count": 478,
   "id": "126274f6-884f-4ccf-b5fb-bb504208980e",
   "metadata": {},
   "outputs": [],
   "source": "df_2023[\"item_23\"] = df_2023[\"item_23\"].replace({np.nan: \"NO\", \"TRUE\": \"SI\"})"
  },
  {
   "cell_type": "code",
   "execution_count": 480,
   "id": "1a2505d3-411f-4129-9790-8b82c864f309",
   "metadata": {},
   "outputs": [
    {
     "name": "stdout",
     "output_type": "stream",
     "text": [
      "item_23\n",
      "SI    18289\n",
      "NO     2965\n",
      "Name: count, dtype: int64\n",
      "item_23\n",
      "SI    10760\n",
      "NO     2620\n",
      "Name: count, dtype: int64\n"
     ]
    }
   ],
   "source": "print(df_2023[\"item_23\"].value_counts())"
  },
  {
   "cell_type": "markdown",
   "id": "995d2772-c02f-46b0-8a21-f772e10faee2",
   "metadata": {},
   "source": [
    "### Medida Reactiva"
   ]
  },
  {
   "cell_type": "code",
   "execution_count": 191,
   "id": "b967c2fa-2ce8-4198-90d7-f83ae5905265",
   "metadata": {},
   "outputs": [
    {
     "name": "stdout",
     "output_type": "stream",
     "text": [
      "['SI' nan 'NO' 'TRUE']\n",
      "['NO' nan 'SI' 'TRUE']\n"
     ]
    }
   ],
   "source": "print(df_2023[\"item_24\"].unique())"
  },
  {
   "cell_type": "code",
   "execution_count": 484,
   "id": "72c17f30-382a-4208-ab16-b1b2fe0e01b5",
   "metadata": {},
   "outputs": [],
   "source": "df_2023[\"item_24\"] = df_2023[\"item_24\"].replace({np.nan: \"NO\", \"TRUE\": \"SI\"})"
  },
  {
   "cell_type": "code",
   "execution_count": 486,
   "id": "4fcda258-db32-4b68-b635-6a2680277020",
   "metadata": {},
   "outputs": [
    {
     "name": "stdout",
     "output_type": "stream",
     "text": [
      "item_24\n",
      "NO    14339\n",
      "SI     6915\n",
      "Name: count, dtype: int64\n",
      "item_24\n",
      "NO    8394\n",
      "SI    4986\n",
      "Name: count, dtype: int64\n"
     ]
    }
   ],
   "source": "print(df_2023[\"item_24\"].value_counts())"
  },
  {
   "cell_type": "markdown",
   "id": "b3ba751a-5a5f-4ee6-8f7e-3107173b1ab6",
   "metadata": {},
   "source": [
    "### Tipo Sello 1 Tapa Bornera"
   ]
  },
  {
   "cell_type": "code",
   "execution_count": 488,
   "id": "eee9561d-97a0-49da-9d56-1f5df86b5752",
   "metadata": {},
   "outputs": [
    {
     "name": "stdout",
     "output_type": "stream",
     "text": [
      "['DA' 'RA' nan 'GR' 'DT' 'FA' 'TR' 'RN' 'AO' 'DY' 'NE' 'AZ' 'VE' 'BT' 'CF'\n",
      " 'BL' 'TA' 'AL' 'VR' 'AT' 'SH' 'AM' 'SA' 'RO']\n",
      "['DA' nan 'DT' 'RA' 'TR' 'FA' 'DY' 'AZ' 'AO' 'CF' 'VT' 'VR' 'VE' 'NE' 'AT'\n",
      " 'BT' 'RN' 'EP' 'GR' 'BL' 'TA' 'AL']\n"
     ]
    }
   ],
   "source": "print(df_2023[\"item_601\"].unique())"
  },
  {
   "cell_type": "code",
   "execution_count": 490,
   "id": "7b484e30-24fb-434a-9d8a-c4fead6828aa",
   "metadata": {},
   "outputs": [],
   "source": "df_2023[\"item_601\"] = df_2023[\"item_601\"].replace(np.nan, \"NOAPL\")"
  },
  {
   "cell_type": "code",
   "execution_count": 492,
   "id": "f9d3e858-f165-4e68-b644-7788dd73dce4",
   "metadata": {},
   "outputs": [
    {
     "name": "stdout",
     "output_type": "stream",
     "text": [
      "Número de valores NaN: 0\n",
      "Número de valores NaN: 0\n"
     ]
    }
   ],
   "source": [
    "conteo_nan = df_2023[\"item_601\"].isna().sum()\n",
    "print(f\"Número de valores NaN: {conteo_nan}\")"
   ]
  },
  {
   "cell_type": "markdown",
   "id": "5f803f74-02c3-4397-892e-cdc2ce8cc864",
   "metadata": {},
   "source": [
    "### Sello 1 Tapa Principal"
   ]
  },
  {
   "cell_type": "code",
   "execution_count": 494,
   "id": "0334b5b3-1b71-47e7-bb1f-ce9302b5331e",
   "metadata": {},
   "outputs": [
    {
     "name": "stdout",
     "output_type": "stream",
     "text": [
      "Número de valores NaN: 5879\n",
      "Número de valores NaN: 3853\n"
     ]
    }
   ],
   "source": [
    "conteo_nan = df_2023[\"item_33\"].isna().sum()\n",
    "print(f\"Número de valores NaN: {conteo_nan}\")"
   ]
  },
  {
   "cell_type": "code",
   "execution_count": 496,
   "id": "8ecb702c-ee18-4668-b779-2c99850936dd",
   "metadata": {},
   "outputs": [],
   "source": "df_2023[\"item_33\"] = df_2023[\"item_33\"].replace(np.nan, \"NO INDICA\")"
  },
  {
   "cell_type": "code",
   "execution_count": 498,
   "id": "41591e79-108c-4be8-a24c-065554b3041b",
   "metadata": {},
   "outputs": [
    {
     "name": "stdout",
     "output_type": "stream",
     "text": [
      "Número de valores NaN: 0\n",
      "Número de valores NaN: 0\n"
     ]
    }
   ],
   "source": [
    "conteo_nan = df_2023[\"item_33\"].isna().sum()\n",
    "print(f\"Número de valores NaN: {conteo_nan}\")"
   ]
  },
  {
   "cell_type": "markdown",
   "id": "78e925c4-2ec7-4029-80fb-3aefe05d122d",
   "metadata": {},
   "source": [
    "### Tipo Sello 1 Tapa Principal"
   ]
  },
  {
   "cell_type": "code",
   "execution_count": 500,
   "id": "a1f1de86-317c-4a54-af22-cc39f47b0fc7",
   "metadata": {},
   "outputs": [
    {
     "name": "stdout",
     "output_type": "stream",
     "text": [
      "Número de valores NaN: 5940\n",
      "Número de valores NaN: 3821\n"
     ]
    }
   ],
   "source": [
    "conteo_nan = df_2023[\"item_598\"].isna().sum()\n",
    "print(f\"Número de valores NaN: {conteo_nan}\")"
   ]
  },
  {
   "cell_type": "code",
   "execution_count": 502,
   "id": "70b69d9b-eab7-4aba-9ead-483ce008fa5b",
   "metadata": {},
   "outputs": [],
   "source": "df_2023[\"item_598\"] = df_2023[\"item_598\"].replace(np.nan, \"NOAPL\")"
  },
  {
   "cell_type": "code",
   "execution_count": 504,
   "id": "6a0ccc76-108b-4f96-bb76-06cecb1ac939",
   "metadata": {},
   "outputs": [
    {
     "name": "stdout",
     "output_type": "stream",
     "text": [
      "Número de valores NaN: 0\n",
      "Número de valores NaN: 0\n"
     ]
    }
   ],
   "source": [
    "conteo_nan = df_2023[\"item_598\"].isna().sum()\n",
    "print(f\"Número de valores NaN: {conteo_nan}\")"
   ]
  },
  {
   "cell_type": "markdown",
   "id": "fe3ec64b-ce7d-42f1-a184-ab055fffaf4b",
   "metadata": {},
   "source": [
    "### Sello 2 Tapa Principal"
   ]
  },
  {
   "cell_type": "code",
   "execution_count": 506,
   "id": "bc8f3a17-d80b-4afc-8d1f-36f14211165c",
   "metadata": {},
   "outputs": [
    {
     "name": "stdout",
     "output_type": "stream",
     "text": [
      "Número de valores NaN: 8172\n",
      "Número de valores NaN: 5215\n"
     ]
    }
   ],
   "source": [
    "conteo_nan = df_2023[\"item_35\"].isna().sum()\n",
    "print(f\"Número de valores NaN: {conteo_nan}\")"
   ]
  },
  {
   "cell_type": "code",
   "execution_count": 508,
   "id": "05c798b1-62bb-41ae-abf3-c7459631ee15",
   "metadata": {},
   "outputs": [],
   "source": "df_2023[\"item_35\"] = df_2023[\"item_35\"].replace(np.nan, \"NO INDICA\")"
  },
  {
   "cell_type": "code",
   "execution_count": 510,
   "id": "ae4aced6-8a37-452a-9264-e1c88e6bacf4",
   "metadata": {},
   "outputs": [
    {
     "name": "stdout",
     "output_type": "stream",
     "text": [
      "Número de valores NaN: 0\n",
      "Número de valores NaN: 0\n"
     ]
    }
   ],
   "source": [
    "conteo_nan = df_2023[\"item_35\"].isna().sum()\n",
    "print(f\"Número de valores NaN: {conteo_nan}\")"
   ]
  },
  {
   "cell_type": "markdown",
   "id": "c9b52b7c-2729-490c-ab9a-2366147c93be",
   "metadata": {},
   "source": [
    "### Tipo Sello 2 Tapa Principal"
   ]
  },
  {
   "cell_type": "code",
   "execution_count": 512,
   "id": "ec3bb367-2870-47d1-aa18-a45c4f5959cd",
   "metadata": {},
   "outputs": [
    {
     "name": "stdout",
     "output_type": "stream",
     "text": [
      "Número de valores NaN: 8257\n",
      "Número de valores NaN: 5227\n"
     ]
    }
   ],
   "source": [
    "conteo_nan = df_2023[\"item_599\"].isna().sum()\n",
    "print(f\"Número de valores NaN: {conteo_nan}\")"
   ]
  },
  {
   "cell_type": "code",
   "execution_count": 514,
   "id": "6b8c4df2-d888-4ae9-9fd5-98a65d455201",
   "metadata": {},
   "outputs": [],
   "source": "df_2023[\"item_599\"] = df_2023[\"item_599\"].replace(np.nan, \"NOAPL\")"
  },
  {
   "cell_type": "code",
   "execution_count": 516,
   "id": "da21257d-0052-40e3-a7e3-9c71d2a7f0d5",
   "metadata": {},
   "outputs": [
    {
     "name": "stdout",
     "output_type": "stream",
     "text": [
      "Número de valores NaN: 0\n",
      "Número de valores NaN: 0\n"
     ]
    }
   ],
   "source": [
    "conteo_nan = df_2023[\"item_599\"].isna().sum()\n",
    "print(f\"Número de valores NaN: {conteo_nan}\")"
   ]
  },
  {
   "cell_type": "markdown",
   "id": "713a62fe-5696-4d13-bef3-9be7f3cb107b",
   "metadata": {},
   "source": [
    "### Tipo Sello Caja"
   ]
  },
  {
   "cell_type": "code",
   "execution_count": 518,
   "id": "c9390cc7-b7a0-442b-aca9-f13f57fc6ee0",
   "metadata": {},
   "outputs": [
    {
     "name": "stdout",
     "output_type": "stream",
     "text": [
      "Número de valores NaN: 8920\n",
      "Número de valores NaN: 5598\n"
     ]
    }
   ],
   "source": [
    "conteo_nan = df_2023[\"item_603\"].isna().sum()\n",
    "print(f\"Número de valores NaN: {conteo_nan}\")"
   ]
  },
  {
   "cell_type": "code",
   "execution_count": 520,
   "id": "f1b849d6-bd43-4aed-ac2f-def8748198ce",
   "metadata": {},
   "outputs": [],
   "source": "df_2023[\"item_603\"] = df_2023[\"item_603\"].replace(np.nan, \"NOAPL\")"
  },
  {
   "cell_type": "code",
   "execution_count": 522,
   "id": "4a88bf84-f351-40b4-bc93-6f7e587dc87b",
   "metadata": {},
   "outputs": [
    {
     "name": "stdout",
     "output_type": "stream",
     "text": [
      "Número de valores NaN: 0\n",
      "Número de valores NaN: 0\n"
     ]
    }
   ],
   "source": [
    "conteo_nan = df_2023[\"item_603\"].isna().sum()\n",
    "print(f\"Número de valores NaN: {conteo_nan}\")"
   ]
  },
  {
   "cell_type": "markdown",
   "id": "b2938c73-939a-4203-98e2-e6b27cff0350",
   "metadata": {},
   "source": [
    "### Sello Caja"
   ]
  },
  {
   "cell_type": "code",
   "execution_count": 524,
   "id": "fad3b871-c9cd-4364-be5e-1573c252ffbf",
   "metadata": {},
   "outputs": [
    {
     "name": "stdout",
     "output_type": "stream",
     "text": [
      "Número de valores NaN: 8944\n",
      "Número de valores NaN: 5640\n"
     ]
    }
   ],
   "source": [
    "conteo_nan = df_2023[\"item_43\"].isna().sum()\n",
    "print(f\"Número de valores NaN: {conteo_nan}\")"
   ]
  },
  {
   "cell_type": "code",
   "execution_count": 526,
   "id": "3430a205-3b1f-4eee-8f0d-8bb5ea4602e8",
   "metadata": {},
   "outputs": [],
   "source": "df_2023[\"item_43\"] = df_2023[\"item_43\"].replace(np.nan, \"NO INDICA\")"
  },
  {
   "cell_type": "code",
   "execution_count": 528,
   "id": "b8d9993f-dca3-47ca-bff4-0a6990932aff",
   "metadata": {},
   "outputs": [
    {
     "name": "stdout",
     "output_type": "stream",
     "text": [
      "Número de valores NaN: 0\n",
      "Número de valores NaN: 0\n"
     ]
    }
   ],
   "source": [
    "conteo_nan = df_2023[\"item_43\"].isna().sum()\n",
    "print(f\"Número de valores NaN: {conteo_nan}\")"
   ]
  },
  {
   "cell_type": "markdown",
   "id": "eb3a0728-ab86-4cf2-b6a9-a295aa348712",
   "metadata": {},
   "source": [
    "### Corriente (A)"
   ]
  },
  {
   "cell_type": "code",
   "execution_count": 530,
   "id": "5dfde2db-5aad-42e3-b14f-f0614e1970b4",
   "metadata": {},
   "outputs": [
    {
     "name": "stdout",
     "output_type": "stream",
     "text": [
      "Número de valores NaN: 9142\n",
      "Número de valores NaN: 5431\n"
     ]
    }
   ],
   "source": [
    "conteo_nan = df_2023[\"item_108\"].isna().sum()\n",
    "print(f\"Número de valores NaN: {conteo_nan}\")"
   ]
  },
  {
   "cell_type": "code",
   "execution_count": 532,
   "id": "88f1979c-1aa9-423e-a379-f619e502bfe2",
   "metadata": {},
   "outputs": [],
   "source": "df_2023[\"item_108\"] = df_2023[\"item_108\"].replace(np.nan, \"NO INDICA\")"
  },
  {
   "cell_type": "code",
   "execution_count": 534,
   "id": "bea132d1-b93e-4627-b7a9-5d42c0cf7663",
   "metadata": {},
   "outputs": [
    {
     "name": "stdout",
     "output_type": "stream",
     "text": [
      "Número de valores NaN: 0\n",
      "Número de valores NaN: 0\n"
     ]
    }
   ],
   "source": [
    "conteo_nan = df_2023[\"item_108\"].isna().sum()\n",
    "print(f\"Número de valores NaN: {conteo_nan}\")"
   ]
  },
  {
   "cell_type": "markdown",
   "id": "50246984-6692-4b4b-b9bf-5bae366e132d",
   "metadata": {},
   "source": [
    "### Tipo Sello 2 Tapa Bornera"
   ]
  },
  {
   "cell_type": "code",
   "execution_count": 536,
   "id": "7cc6feec-0f59-49bb-83ab-c5c1280b9079",
   "metadata": {},
   "outputs": [
    {
     "name": "stdout",
     "output_type": "stream",
     "text": [
      "Número de valores NaN: 14916\n",
      "Número de valores NaN: 8816\n"
     ]
    }
   ],
   "source": [
    "conteo_nan = df_2023[\"item_602\"].isna().sum()\n",
    "print(f\"Número de valores NaN: {conteo_nan}\")"
   ]
  },
  {
   "cell_type": "code",
   "execution_count": 538,
   "id": "05984f6a-2300-4180-9c60-f3d463a800a1",
   "metadata": {},
   "outputs": [],
   "source": "df_2023[\"item_602\"] = df_2023[\"item_602\"].replace(np.nan, \"NOAPL\")"
  },
  {
   "cell_type": "code",
   "execution_count": 540,
   "id": "e69e728f-887b-4410-93e6-09b2eba72b36",
   "metadata": {},
   "outputs": [
    {
     "name": "stdout",
     "output_type": "stream",
     "text": [
      "Número de valores NaN: 0\n",
      "Número de valores NaN: 0\n"
     ]
    }
   ],
   "source": [
    "conteo_nan = df_2023[\"item_602\"].isna().sum()\n",
    "print(f\"Número de valores NaN: {conteo_nan}\")"
   ]
  },
  {
   "cell_type": "markdown",
   "id": "55ea4f0b-6f7c-4c39-ae63-588aee702013",
   "metadata": {},
   "source": [
    "### Tipo Sello Home Display"
   ]
  },
  {
   "cell_type": "code",
   "execution_count": 542,
   "id": "8df4c12b-f452-43a2-b242-0fc286285cc0",
   "metadata": {},
   "outputs": [
    {
     "name": "stdout",
     "output_type": "stream",
     "text": [
      "Número de valores NaN: 17411\n",
      "Número de valores NaN: 10931\n"
     ]
    }
   ],
   "source": [
    "conteo_nan = df_2023[\"item_597\"].isna().sum()\n",
    "print(f\"Número de valores NaN: {conteo_nan}\")"
   ]
  },
  {
   "cell_type": "code",
   "execution_count": 544,
   "id": "8517e041-645d-422b-aabc-0914670d704e",
   "metadata": {},
   "outputs": [],
   "source": "df_2023[\"item_597\"] = df_2023[\"item_597\"].replace(np.nan, \"NOAPL\")"
  },
  {
   "cell_type": "code",
   "execution_count": 546,
   "id": "a027498a-1e40-46b5-a0da-040d6c9b4d59",
   "metadata": {},
   "outputs": [
    {
     "name": "stdout",
     "output_type": "stream",
     "text": [
      "Número de valores NaN: 0\n",
      "Número de valores NaN: 0\n"
     ]
    }
   ],
   "source": [
    "conteo_nan = df_2023[\"item_597\"].isna().sum()\n",
    "print(f\"Número de valores NaN: {conteo_nan}\")"
   ]
  },
  {
   "cell_type": "markdown",
   "id": "9ecf7db1-8fba-4488-ba65-6b94c2dc63c1",
   "metadata": {},
   "source": [
    "### Sin Sello O Sello Abierto En Caja"
   ]
  },
  {
   "cell_type": "code",
   "execution_count": 550,
   "id": "1fa0e98e-8df9-4814-9967-98147e2aaa0d",
   "metadata": {},
   "outputs": [
    {
     "data": {
      "text/plain": [
       "array([nan, True], dtype=object)"
      ]
     },
     "execution_count": 550,
     "metadata": {},
     "output_type": "execute_result"
    }
   ],
   "source": ""
  },
  {
   "cell_type": "code",
   "execution_count": 552,
   "id": "f75b9323-3bbc-484b-9b53-6459e701711b",
   "metadata": {},
   "outputs": [
    {
     "name": "stdout",
     "output_type": "stream",
     "text": [
      "[nan True]\n",
      "[nan True]\n"
     ]
    }
   ],
   "source": "print(df_2023[\"item_74\"].unique())"
  },
  {
   "cell_type": "code",
   "execution_count": 554,
   "id": "299d384a-cec6-48c3-b8c3-d4763b9b9c17",
   "metadata": {},
   "outputs": [
    {
     "name": "stderr",
     "output_type": "stream",
     "text": [
      "C:\\Users\\User\\AppData\\Local\\Temp\\ipykernel_13120\\581404203.py:2: FutureWarning: Downcasting behavior in `replace` is deprecated and will be removed in a future version. To retain the old behavior, explicitly call `result.infer_objects(copy=False)`. To opt-in to the future behavior, set `pd.set_option('future.no_silent_downcasting', True)`\n",
      "  df_2022['item_74'] = df_2022['item_74'].replace(np.nan, False)\n",
      "C:\\Users\\User\\AppData\\Local\\Temp\\ipykernel_13120\\581404203.py:5: FutureWarning: Downcasting behavior in `replace` is deprecated and will be removed in a future version. To retain the old behavior, explicitly call `result.infer_objects(copy=False)`. To opt-in to the future behavior, set `pd.set_option('future.no_silent_downcasting', True)`\n",
      "  df_2023['item_74'] = df_2023['item_74'].replace(np.nan, False)\n"
     ]
    }
   ],
   "source": [
    "# Reemplazar NaN con False en df_2023['item_237']\n",
    "df_2023[\"item_74\"] = df_2023[\"item_74\"].replace(np.nan, False)"
   ]
  },
  {
   "cell_type": "code",
   "execution_count": 556,
   "id": "0daa0d02-42bb-408d-b7da-9e1d0fa8a3a8",
   "metadata": {},
   "outputs": [
    {
     "name": "stdout",
     "output_type": "stream",
     "text": [
      "item_74\n",
      "False    18535\n",
      "True      2719\n",
      "Name: count, dtype: int64\n",
      "item_74\n",
      "False    12013\n",
      "True      1367\n",
      "Name: count, dtype: int64\n"
     ]
    }
   ],
   "source": "print(df_2023[\"item_74\"].value_counts())"
  },
  {
   "cell_type": "markdown",
   "id": "55d2c04a-6a39-4e00-af6f-8a571f6fd108",
   "metadata": {},
   "source": [
    "### Tipo Acometida"
   ]
  },
  {
   "cell_type": "code",
   "execution_count": 558,
   "id": "26ae0eb1-abe1-44e1-abd8-ac1ac230b5c9",
   "metadata": {},
   "outputs": [
    {
     "data": {
      "text/plain": [
       "array([nan, 'INSTALACION ACOM MONOFASICA', 'INSTALACION ACOM BIFASICA',\n",
       "       'INSTALACION ACOM TRIFASICA'], dtype=object)"
      ]
     },
     "execution_count": 558,
     "metadata": {},
     "output_type": "execute_result"
    }
   ],
   "source": ""
  },
  {
   "cell_type": "code",
   "execution_count": 560,
   "id": "7d8def3a-50fc-484d-b2e4-0f1b64cf0079",
   "metadata": {},
   "outputs": [
    {
     "name": "stdout",
     "output_type": "stream",
     "text": [
      "item_248\n",
      "INSTALACION ACOM MONOFASICA    1341\n",
      "INSTALACION ACOM BIFASICA       107\n",
      "INSTALACION ACOM TRIFASICA       42\n",
      "Name: count, dtype: int64\n",
      "item_248\n",
      "INSTALACION ACOM MONOFASICA    446\n",
      "INSTALACION ACOM BIFASICA       47\n",
      "INSTALACION ACOM TRIFASICA      19\n",
      "Name: count, dtype: int64\n"
     ]
    }
   ],
   "source": "print(df_2023[\"item_248\"].value_counts())"
  },
  {
   "cell_type": "code",
   "execution_count": 562,
   "id": "2ea56951-48b3-495e-b86c-5f19f9c86e87",
   "metadata": {},
   "outputs": [
    {
     "name": "stdout",
     "output_type": "stream",
     "text": [
      "Número de valores NaN: 19764\n",
      "Número de valores NaN: 12868\n"
     ]
    }
   ],
   "source": [
    "conteo_nan = df_2023[\"item_248\"].isna().sum()\n",
    "print(f\"Número de valores NaN: {conteo_nan}\")"
   ]
  },
  {
   "cell_type": "code",
   "execution_count": 564,
   "id": "d50255a2-ec8b-42ea-97e1-697fd3b68fc8",
   "metadata": {},
   "outputs": [],
   "source": "df_2023[\"item_248\"] = df_2023[\"item_248\"].replace(np.nan, \"NO INDICA\")"
  },
  {
   "cell_type": "code",
   "execution_count": 566,
   "id": "367ea314-70a8-4f04-a3ca-16cbb8b3b25c",
   "metadata": {},
   "outputs": [
    {
     "name": "stdout",
     "output_type": "stream",
     "text": [
      "Número de valores NaN: 0\n",
      "Número de valores NaN: 0\n"
     ]
    }
   ],
   "source": [
    "conteo_nan = df_2023[\"item_248\"].isna().sum()\n",
    "print(f\"Número de valores NaN: {conteo_nan}\")"
   ]
  },
  {
   "cell_type": "markdown",
   "id": "b186ee3c-7740-4b5c-a25a-5f0d14184ac6",
   "metadata": {},
   "source": [
    "### Sin Sello (S) Tapa Principal"
   ]
  },
  {
   "cell_type": "code",
   "execution_count": 569,
   "id": "950e91df-2d08-48d0-921d-913bba79bba0",
   "metadata": {},
   "outputs": [
    {
     "data": {
      "text/plain": [
       "array([nan, True], dtype=object)"
      ]
     },
     "execution_count": 569,
     "metadata": {},
     "output_type": "execute_result"
    }
   ],
   "source": ""
  },
  {
   "cell_type": "code",
   "execution_count": 571,
   "id": "8c26e950-6e3f-4f65-b3e4-259e47e38562",
   "metadata": {},
   "outputs": [
    {
     "name": "stdout",
     "output_type": "stream",
     "text": [
      "Número de valores NaN: 21115\n",
      "Número de valores NaN: 13366\n"
     ]
    }
   ],
   "source": [
    "conteo_nan = df_2023[\"item_68\"].isna().sum()\n",
    "print(f\"Número de valores NaN: {conteo_nan}\")"
   ]
  },
  {
   "cell_type": "code",
   "execution_count": 573,
   "id": "e01f4d95-fe3a-4b7d-a321-fc71bae6732e",
   "metadata": {},
   "outputs": [
    {
     "name": "stderr",
     "output_type": "stream",
     "text": [
      "C:\\Users\\User\\AppData\\Local\\Temp\\ipykernel_13120\\3129199292.py:1: FutureWarning: Downcasting behavior in `replace` is deprecated and will be removed in a future version. To retain the old behavior, explicitly call `result.infer_objects(copy=False)`. To opt-in to the future behavior, set `pd.set_option('future.no_silent_downcasting', True)`\n",
      "  df_2022['item_68'] = df_2022['item_68'].replace(np.nan, False)\n",
      "C:\\Users\\User\\AppData\\Local\\Temp\\ipykernel_13120\\3129199292.py:3: FutureWarning: Downcasting behavior in `replace` is deprecated and will be removed in a future version. To retain the old behavior, explicitly call `result.infer_objects(copy=False)`. To opt-in to the future behavior, set `pd.set_option('future.no_silent_downcasting', True)`\n",
      "  df_2023['item_68'] = df_2023['item_68'].replace(np.nan, False)\n"
     ]
    }
   ],
   "source": "df_2023[\"item_68\"] = df_2023[\"item_68\"].replace(np.nan, False)"
  },
  {
   "cell_type": "code",
   "execution_count": 575,
   "id": "9a5dfe41-7ed3-449d-b165-053b0ecf2fb8",
   "metadata": {},
   "outputs": [
    {
     "name": "stdout",
     "output_type": "stream",
     "text": [
      "Número de valores NaN: 0\n",
      "Número de valores NaN: 0\n"
     ]
    }
   ],
   "source": [
    "conteo_nan = df_2023[\"item_68\"].isna().sum()\n",
    "print(f\"Número de valores NaN: {conteo_nan}\")"
   ]
  },
  {
   "cell_type": "code",
   "execution_count": 577,
   "id": "0a259b6b-4181-4fee-9f04-d3e5ada4d1d7",
   "metadata": {},
   "outputs": [
    {
     "data": {
      "text/plain": [
       "array([False,  True])"
      ]
     },
     "execution_count": 577,
     "metadata": {},
     "output_type": "execute_result"
    }
   ],
   "source": [
    "df_2022[\"item_68\"].unique()"
   ]
  },
  {
   "cell_type": "markdown",
   "id": "1eb9d02d-4912-4e0d-bd69-2e3b7b8eac83",
   "metadata": {},
   "source": [
    "### Descripcion\n",
    "\n",
    "*Anomalias confirmadas*"
   ]
  },
  {
   "cell_type": "code",
   "execution_count": 580,
   "id": "3b98dd4c-2e27-41dd-8976-813413fbb14c",
   "metadata": {},
   "outputs": [
    {
     "data": {
      "text/plain": [
       "array([nan, 'Anomalia verificada y aprobada',\n",
       "       'Anomalia verificada con acta digital', 'Posible anomalia'],\n",
       "      dtype=object)"
      ]
     },
     "execution_count": 580,
     "metadata": {},
     "output_type": "execute_result"
    }
   ],
   "source": [
    "df_2023[\"Descripcion\"].unique()"
   ]
  },
  {
   "cell_type": "code",
   "execution_count": 582,
   "id": "5eadf43b-7b21-4f8d-9a52-0f0dd3bfbc41",
   "metadata": {},
   "outputs": [
    {
     "data": {
      "text/plain": [
       "array([nan, 'Anomalia verificada y aprobada',\n",
       "       'Anomalia verificada con acta digital', 'Posible anomalia'],\n",
       "      dtype=object)"
      ]
     },
     "execution_count": 582,
     "metadata": {},
     "output_type": "execute_result"
    }
   ],
   "source": [
    "df_2023[\"Descripcion\"].unique()"
   ]
  },
  {
   "cell_type": "code",
   "execution_count": 584,
   "id": "0c9262aa-3f5c-4ee5-ae41-0c8e6000a58a",
   "metadata": {},
   "outputs": [
    {
     "name": "stdout",
     "output_type": "stream",
     "text": [
      "Descripcion\n",
      "Posible anomalia                        47\n",
      "Anomalia verificada y aprobada          13\n",
      "Anomalia verificada con acta digital     6\n",
      "Name: count, dtype: int64\n",
      "Descripcion\n",
      "Anomalia verificada y aprobada          1612\n",
      "Anomalia verificada con acta digital     676\n",
      "Posible anomalia                         105\n",
      "Name: count, dtype: int64\n"
     ]
    }
   ],
   "source": "print(df_2023[\"Descripcion\"].value_counts())"
  },
  {
   "cell_type": "code",
   "execution_count": 586,
   "id": "4c220685-832c-4928-b1c6-0508d6a240a6",
   "metadata": {},
   "outputs": [],
   "source": "df_2023[\"Descripcion\"] = df_2023[\"Descripcion\"].replace(np.nan, \"Solo odt\")"
  },
  {
   "cell_type": "code",
   "execution_count": 588,
   "id": "d9a4fffb-aa52-4bbe-87ca-5f163b9b3e78",
   "metadata": {},
   "outputs": [
    {
     "name": "stdout",
     "output_type": "stream",
     "text": [
      "Descripcion\n",
      "Solo odt                                21188\n",
      "Posible anomalia                           47\n",
      "Anomalia verificada y aprobada             13\n",
      "Anomalia verificada con acta digital        6\n",
      "Name: count, dtype: int64\n",
      "Descripcion\n",
      "Solo odt                                10987\n",
      "Anomalia verificada y aprobada           1612\n",
      "Anomalia verificada con acta digital      676\n",
      "Posible anomalia                          105\n",
      "Name: count, dtype: int64\n"
     ]
    }
   ],
   "source": "print(df_2023[\"Descripcion\"].value_counts())"
  },
  {
   "cell_type": "markdown",
   "id": "7902e0ce-177b-42d6-8bc5-200641e17fa2",
   "metadata": {},
   "source": [
    "## Dataframes limpios"
   ]
  },
  {
   "cell_type": "code",
   "execution_count": 590,
   "id": "d1d73885-8767-4eca-8404-32281e74082c",
   "metadata": {},
   "outputs": [
    {
     "name": "stdout",
     "output_type": "stream",
     "text": [
      "\n",
      "DataFrames filtrados guardados en archivos CSV.\n"
     ]
    }
   ],
   "source": [
    "# Lista de columnas a conservar\n",
    "columnas_a_conservar = [\n",
    "    \"item_68\",\n",
    "    \"item_248\",\n",
    "    \"item_74\",\n",
    "    \"item_597\",\n",
    "    \"item_602\",\n",
    "    \"item_108\",\n",
    "    \"item_43\",\n",
    "    \"item_603\",\n",
    "    \"item_599\",\n",
    "    \"item_35\",\n",
    "    \"item_598\",\n",
    "    \"item_33\",\n",
    "    \"item_601\",\n",
    "    \"item_24\",\n",
    "    \"item_23\",\n",
    "    \"item_237\",\n",
    "    \"LATI_USU\",\n",
    "    \"LONG_USU\",\n",
    "    \"NIVEL\",\n",
    "    \"AREA\",\n",
    "    \"item_288\",\n",
    "    \"odt\",\n",
    "    \"orden\",\n",
    "    \"PLAN_COMERCIAL\",\n",
    "    \"Descripcion\",\n",
    "]\n",
    "\n",
    "df_2023_filtrado = df_2023[columnas_a_conservar]\n",
    "\n",
    "# Guardar los DataFrames filtrados en archivos CSV\n",
    "df_2023_filtrado.to_csv(\"df_2023_filtrado.csv\", index=False)\n",
    "\n",
    "print(\"\\nDataFrames filtrados guardados en archivos CSV.\")"
   ]
  },
  {
   "cell_type": "code",
   "execution_count": 594,
   "id": "d3566445-2298-456f-9ef1-d5c233183cd1",
   "metadata": {},
   "outputs": [
    {
     "name": "stdout",
     "output_type": "stream",
     "text": [
      "df_2023_filtrado:\n",
      "<class 'pandas.core.frame.DataFrame'>\n",
      "Index: 13380 entries, 0 to 19424\n",
      "Data columns (total 25 columns):\n",
      " #   Column          Non-Null Count  Dtype  \n",
      "---  ------          --------------  -----  \n",
      " 0   item_68         13380 non-null  bool   \n",
      " 1   item_248        13380 non-null  object \n",
      " 2   item_74         13380 non-null  bool   \n",
      " 3   item_597        13380 non-null  object \n",
      " 4   item_602        13380 non-null  object \n",
      " 5   item_108        13380 non-null  object \n",
      " 6   item_43         13380 non-null  object \n",
      " 7   item_603        13380 non-null  object \n",
      " 8   item_599        13380 non-null  object \n",
      " 9   item_35         13380 non-null  object \n",
      " 10  item_598        13380 non-null  object \n",
      " 11  item_33         13380 non-null  object \n",
      " 12  item_601        13380 non-null  object \n",
      " 13  item_24         13380 non-null  object \n",
      " 14  item_23         13380 non-null  object \n",
      " 15  item_237        13380 non-null  bool   \n",
      " 16  LATI_USU        13380 non-null  float64\n",
      " 17  LONG_USU        13380 non-null  float64\n",
      " 18  NIVEL           13380 non-null  float64\n",
      " 19  AREA            13380 non-null  object \n",
      " 20  item_288        13380 non-null  int64  \n",
      " 21  odt             13380 non-null  int64  \n",
      " 22  orden           13380 non-null  int64  \n",
      " 23  PLAN_COMERCIAL  13380 non-null  object \n",
      " 24  Descripcion     13380 non-null  object \n",
      "dtypes: bool(3), float64(3), int64(3), object(16)\n",
      "memory usage: 2.4+ MB\n"
     ]
    }
   ],
   "source": [
    "print(\"df_2023_filtrado:\")\n",
    "df_2023_filtrado.info()"
   ]
  },
  {
   "cell_type": "markdown",
   "id": "40081ee2-ba9c-4784-bedb-0c74789be925",
   "metadata": {},
   "source": [
    "## Marcar reincidencias"
   ]
  },
  {
   "cell_type": "code",
   "execution_count": 419,
   "id": "fdc53757-0bd3-4ec9-8358-b6a623368e2c",
   "metadata": {},
   "outputs": [],
   "source": [
    "def crear_campo_reincidente(df):\n",
    "    \"\"\"\n",
    "    Crea el campo 'reincidente' en un DataFrame basado en la columna 'item_288'.\n",
    "\n",
    "    Parámetros:\n",
    "    - df (DataFrame): El DataFrame a procesar.\n",
    "    \"\"\"\n",
    "\n",
    "    # Identificar registros duplicados en 'item_288'\n",
    "    duplicados = df.duplicated(subset=\"item_288\", keep=False)\n",
    "\n",
    "    # Crear el campo 'reincidente'\n",
    "    df[\"reincidente\"] = duplicados.apply(lambda x: \"SI\" if x else \"NO\")\n",
    "\n",
    "    return df"
   ]
  },
  {
   "cell_type": "code",
   "execution_count": 596,
   "id": "594f582a-db67-41d2-83d7-30e01e1aee67",
   "metadata": {},
   "outputs": [
    {
     "name": "stdout",
     "output_type": "stream",
     "text": [
      "\n",
      "DataFrames modificados guardados en archivos CSV.\n"
     ]
    }
   ],
   "source": [
    "df_2023_filtrado = crear_campo_reincidente(df_2023_filtrado.copy())\n",
    "\n",
    "df_2023_filtrado.to_csv(\"df_2023_filtrado_reincidente.csv\", index=False)\n",
    "\n",
    "print(\"\\nDataFrames modificados guardados en archivos CSV.\")"
   ]
  },
  {
   "cell_type": "code",
   "execution_count": 600,
   "id": "2ce68e4b-9cce-498c-9de3-c4fa02d84248",
   "metadata": {},
   "outputs": [
    {
     "name": "stdout",
     "output_type": "stream",
     "text": [
      "df_2023_filtrado:\n"
     ]
    },
    {
     "data": {
      "text/plain": [
       "reincidente\n",
       "NO    8657\n",
       "SI    4723\n",
       "Name: count, dtype: int64"
      ]
     },
     "execution_count": 600,
     "metadata": {},
     "output_type": "execute_result"
    }
   ],
   "source": [
    "print(\"df_2023_filtrado:\")\n",
    "df_2023_filtrado[\"reincidente\"].value_counts()"
   ]
  },
  {
   "cell_type": "markdown",
   "id": "853345ab-bd80-42d8-81cf-deb20d21750c",
   "metadata": {},
   "source": [
    "## Descripcion binaria | Es o no anomalía"
   ]
  },
  {
   "cell_type": "code",
   "execution_count": 602,
   "id": "5044362e-0446-41a8-a289-deb387262397",
   "metadata": {},
   "outputs": [
    {
     "data": {
      "text/plain": [
       "array(['Solo odt', 'Anomalia verificada y aprobada',\n",
       "       'Anomalia verificada con acta digital', 'Posible anomalia'],\n",
       "      dtype=object)"
      ]
     },
     "execution_count": 602,
     "metadata": {},
     "output_type": "execute_result"
    }
   ],
   "source": [
    "df_2023_filtrado[\"Descripcion\"].unique()"
   ]
  },
  {
   "cell_type": "code",
   "execution_count": 604,
   "id": "7ec970eb-130c-4cc9-908e-fc3863f019c9",
   "metadata": {},
   "outputs": [
    {
     "data": {
      "text/plain": [
       "array(['Solo odt', 'Posible anomalia',\n",
       "       'Anomalia verificada con acta digital',\n",
       "       'Anomalia verificada y aprobada'], dtype=object)"
      ]
     },
     "execution_count": 604,
     "metadata": {},
     "output_type": "execute_result"
    }
   ],
   "source": ""
  },
  {
   "cell_type": "code",
   "execution_count": 433,
   "id": "9b598701-e099-420b-8dcb-c514ba6e8c98",
   "metadata": {},
   "outputs": [],
   "source": [
    "def crear_columna_anomalia(df):\n",
    "    \"\"\"\n",
    "    Crea la columna 'Anomalia_conf' en un DataFrame basado en la columna 'Descripcion'.\n",
    "\n",
    "    Parámetros:\n",
    "    - df (DataFrame): El DataFrame a procesar.\n",
    "    \"\"\"\n",
    "\n",
    "    def determinar_anomalia(descripcion):\n",
    "        if descripcion == \"Solo odt\":\n",
    "            return \"No anomalia\"\n",
    "        else:\n",
    "            return \"Anomalia\"\n",
    "\n",
    "    df[\"Anomalia_conf\"] = df[\"Descripcion\"].apply(determinar_anomalia)\n",
    "    return df"
   ]
  },
  {
   "cell_type": "code",
   "execution_count": 606,
   "id": "3846f4f5-21f7-45b7-b0d9-73793e6e6cbb",
   "metadata": {},
   "outputs": [
    {
     "name": "stdout",
     "output_type": "stream",
     "text": [
      "\n",
      "DataFrames modificados guardados en archivos CSV.\n"
     ]
    }
   ],
   "source": [
    "df_2023_filtrado = crear_columna_anomalia(df_2023_filtrado.copy())\n",
    "\n",
    "df_2023_filtrado.to_csv(\"df_2023_filtrado_anomalia.csv\", index=False)\n",
    "\n",
    "print(\"\\nDataFrames modificados guardados en archivos CSV.\")"
   ]
  },
  {
   "cell_type": "code",
   "execution_count": 608,
   "id": "76d6bd4a-df27-400a-b3a6-8577b57f01c2",
   "metadata": {},
   "outputs": [
    {
     "name": "stdout",
     "output_type": "stream",
     "text": [
      "Anomalia_conf\n",
      "No anomalia    21188\n",
      "Anomalia          66\n",
      "Name: count, dtype: int64\n",
      "Anomalia_conf\n",
      "No anomalia    10987\n",
      "Anomalia        2393\n",
      "Name: count, dtype: int64\n"
     ]
    }
   ],
   "source": "print(df_2023_filtrado[\"Anomalia_conf\"].value_counts())"
  },
  {
   "cell_type": "markdown",
   "id": "a07938f5-c8e6-497d-a507-0ab458b07311",
   "metadata": {},
   "source": [
    "## Combinar Dataframes"
   ]
  },
  {
   "cell_type": "code",
   "execution_count": 610,
   "id": "68e2c2a4-8f6a-4ada-9ea6-56914a96ad17",
   "metadata": {},
   "outputs": [],
   "source": [
    "# Crear la columna 'año' en df_2022_filtrado\n",
    "df_2022_filtrado[\"año\"] = 2022\n",
    "\n",
    "# Crear la columna 'año' en df_2023_filtrado\n",
    "df_2023_filtrado[\"año\"] = 2023\n",
    "\n",
    "# Unir los DataFrames\n",
    "df_combinado = pd.concat([df_2022_filtrado, df_2023_filtrado], ignore_index=True)"
   ]
  },
  {
   "cell_type": "code",
   "execution_count": 612,
   "id": "f4b09b31-c8bb-470e-ab02-09d9fc0125e4",
   "metadata": {},
   "outputs": [
    {
     "data": {
      "text/plain": [
       "año\n",
       "2022    21254\n",
       "2023    13380\n",
       "Name: count, dtype: int64"
      ]
     },
     "execution_count": 612,
     "metadata": {},
     "output_type": "execute_result"
    }
   ],
   "source": [
    "df_combinado[\"año\"].value_counts()"
   ]
  },
  {
   "cell_type": "code",
   "execution_count": 614,
   "id": "c48503b8-f9a7-4e18-8efe-ded811b1fa04",
   "metadata": {},
   "outputs": [
    {
     "name": "stdout",
     "output_type": "stream",
     "text": [
      "df_combinado:\n"
     ]
    },
    {
     "data": {
      "text/html": [
       "<div>\n",
       "<style scoped>\n",
       "    .dataframe tbody tr th:only-of-type {\n",
       "        vertical-align: middle;\n",
       "    }\n",
       "\n",
       "    .dataframe tbody tr th {\n",
       "        vertical-align: top;\n",
       "    }\n",
       "\n",
       "    .dataframe thead th {\n",
       "        text-align: right;\n",
       "    }\n",
       "</style>\n",
       "<table border=\"1\" class=\"dataframe\">\n",
       "  <thead>\n",
       "    <tr style=\"text-align: right;\">\n",
       "      <th></th>\n",
       "      <th>item_68</th>\n",
       "      <th>item_248</th>\n",
       "      <th>item_74</th>\n",
       "      <th>item_597</th>\n",
       "      <th>item_602</th>\n",
       "      <th>item_108</th>\n",
       "      <th>item_43</th>\n",
       "      <th>item_603</th>\n",
       "      <th>item_599</th>\n",
       "      <th>item_35</th>\n",
       "      <th>item_598</th>\n",
       "      <th>item_33</th>\n",
       "      <th>item_601</th>\n",
       "      <th>item_24</th>\n",
       "      <th>item_23</th>\n",
       "      <th>item_237</th>\n",
       "      <th>LATI_USU</th>\n",
       "      <th>LONG_USU</th>\n",
       "      <th>NIVEL</th>\n",
       "      <th>AREA</th>\n",
       "      <th>item_288</th>\n",
       "      <th>odt</th>\n",
       "      <th>orden</th>\n",
       "      <th>PLAN_COMERCIAL</th>\n",
       "      <th>Descripcion</th>\n",
       "      <th>reincidente</th>\n",
       "      <th>Anomalia_conf</th>\n",
       "      <th>año</th>\n",
       "    </tr>\n",
       "  </thead>\n",
       "  <tbody>\n",
       "    <tr>\n",
       "      <th>0</th>\n",
       "      <td>False</td>\n",
       "      <td>NO INDICA</td>\n",
       "      <td>False</td>\n",
       "      <td>NOAPL</td>\n",
       "      <td>NOAPL</td>\n",
       "      <td>9.23</td>\n",
       "      <td>636289.0</td>\n",
       "      <td>RA</td>\n",
       "      <td>NOAPL</td>\n",
       "      <td>NO INDICA</td>\n",
       "      <td>DT</td>\n",
       "      <td>64284</td>\n",
       "      <td>DA</td>\n",
       "      <td>SI</td>\n",
       "      <td>SI</td>\n",
       "      <td>True</td>\n",
       "      <td>1.811442</td>\n",
       "      <td>-78.769160</td>\n",
       "      <td>1.0</td>\n",
       "      <td>Urbano</td>\n",
       "      <td>1065193</td>\n",
       "      <td>552285</td>\n",
       "      <td>21286266</td>\n",
       "      <td>31-PLAN RESIDENCIAL TELEMEDIDO</td>\n",
       "      <td>Solo odt</td>\n",
       "      <td>SI</td>\n",
       "      <td>No anomalia</td>\n",
       "      <td>2022</td>\n",
       "    </tr>\n",
       "    <tr>\n",
       "      <th>1</th>\n",
       "      <td>False</td>\n",
       "      <td>NO INDICA</td>\n",
       "      <td>False</td>\n",
       "      <td>NOAPL</td>\n",
       "      <td>NOAPL</td>\n",
       "      <td>NO INDICA</td>\n",
       "      <td>NO INDICA</td>\n",
       "      <td>NOAPL</td>\n",
       "      <td>VE</td>\n",
       "      <td>501250.0</td>\n",
       "      <td>VE</td>\n",
       "      <td>501249</td>\n",
       "      <td>DA</td>\n",
       "      <td>NO</td>\n",
       "      <td>NO</td>\n",
       "      <td>True</td>\n",
       "      <td>1.805372</td>\n",
       "      <td>-78.771186</td>\n",
       "      <td>1.0</td>\n",
       "      <td>Urbano</td>\n",
       "      <td>462370</td>\n",
       "      <td>551224</td>\n",
       "      <td>21270629</td>\n",
       "      <td>31-PLAN RESIDENCIAL TELEMEDIDO</td>\n",
       "      <td>Solo odt</td>\n",
       "      <td>SI</td>\n",
       "      <td>No anomalia</td>\n",
       "      <td>2022</td>\n",
       "    </tr>\n",
       "    <tr>\n",
       "      <th>2</th>\n",
       "      <td>False</td>\n",
       "      <td>NO INDICA</td>\n",
       "      <td>False</td>\n",
       "      <td>NOAPL</td>\n",
       "      <td>NOAPL</td>\n",
       "      <td>47.5</td>\n",
       "      <td>NO INDICA</td>\n",
       "      <td>NOAPL</td>\n",
       "      <td>VE</td>\n",
       "      <td>656922.0</td>\n",
       "      <td>VE</td>\n",
       "      <td>656921</td>\n",
       "      <td>DA</td>\n",
       "      <td>SI</td>\n",
       "      <td>SI</td>\n",
       "      <td>True</td>\n",
       "      <td>1.805999</td>\n",
       "      <td>-78.767334</td>\n",
       "      <td>1.0</td>\n",
       "      <td>Urbano</td>\n",
       "      <td>903404</td>\n",
       "      <td>552595</td>\n",
       "      <td>21302985</td>\n",
       "      <td>2-PLAN RESIDENCIAL</td>\n",
       "      <td>Solo odt</td>\n",
       "      <td>NO</td>\n",
       "      <td>No anomalia</td>\n",
       "      <td>2022</td>\n",
       "    </tr>\n",
       "    <tr>\n",
       "      <th>3</th>\n",
       "      <td>False</td>\n",
       "      <td>NO INDICA</td>\n",
       "      <td>False</td>\n",
       "      <td>NOAPL</td>\n",
       "      <td>NOAPL</td>\n",
       "      <td>8.95</td>\n",
       "      <td>667526.0</td>\n",
       "      <td>RA</td>\n",
       "      <td>VE</td>\n",
       "      <td>661350.0</td>\n",
       "      <td>DT</td>\n",
       "      <td>64420</td>\n",
       "      <td>RA</td>\n",
       "      <td>SI</td>\n",
       "      <td>SI</td>\n",
       "      <td>True</td>\n",
       "      <td>1.796402</td>\n",
       "      <td>-78.793846</td>\n",
       "      <td>1.0</td>\n",
       "      <td>Urbano</td>\n",
       "      <td>8550053</td>\n",
       "      <td>552286</td>\n",
       "      <td>21168129</td>\n",
       "      <td>31-PLAN RESIDENCIAL TELEMEDIDO</td>\n",
       "      <td>Solo odt</td>\n",
       "      <td>NO</td>\n",
       "      <td>No anomalia</td>\n",
       "      <td>2022</td>\n",
       "    </tr>\n",
       "    <tr>\n",
       "      <th>4</th>\n",
       "      <td>False</td>\n",
       "      <td>NO INDICA</td>\n",
       "      <td>False</td>\n",
       "      <td>NOAPL</td>\n",
       "      <td>NOAPL</td>\n",
       "      <td>8.5</td>\n",
       "      <td>570158.0</td>\n",
       "      <td>RA</td>\n",
       "      <td>VE</td>\n",
       "      <td>573020.0</td>\n",
       "      <td>VE</td>\n",
       "      <td>573019</td>\n",
       "      <td>DA</td>\n",
       "      <td>SI</td>\n",
       "      <td>SI</td>\n",
       "      <td>True</td>\n",
       "      <td>1.798110</td>\n",
       "      <td>-78.784266</td>\n",
       "      <td>1.0</td>\n",
       "      <td>Urbano</td>\n",
       "      <td>8518138</td>\n",
       "      <td>505002</td>\n",
       "      <td>21063683</td>\n",
       "      <td>2-PLAN RESIDENCIAL</td>\n",
       "      <td>Solo odt</td>\n",
       "      <td>NO</td>\n",
       "      <td>No anomalia</td>\n",
       "      <td>2022</td>\n",
       "    </tr>\n",
       "  </tbody>\n",
       "</table>\n",
       "</div>"
      ],
      "text/plain": [
       "   item_68   item_248  item_74 item_597 item_602   item_108    item_43  \\\n",
       "0    False  NO INDICA    False    NOAPL    NOAPL       9.23   636289.0   \n",
       "1    False  NO INDICA    False    NOAPL    NOAPL  NO INDICA  NO INDICA   \n",
       "2    False  NO INDICA    False    NOAPL    NOAPL       47.5  NO INDICA   \n",
       "3    False  NO INDICA    False    NOAPL    NOAPL       8.95   667526.0   \n",
       "4    False  NO INDICA    False    NOAPL    NOAPL        8.5   570158.0   \n",
       "\n",
       "  item_603 item_599    item_35 item_598 item_33 item_601 item_24 item_23  \\\n",
       "0       RA    NOAPL  NO INDICA       DT   64284       DA      SI      SI   \n",
       "1    NOAPL       VE   501250.0       VE  501249       DA      NO      NO   \n",
       "2    NOAPL       VE   656922.0       VE  656921       DA      SI      SI   \n",
       "3       RA       VE   661350.0       DT   64420       RA      SI      SI   \n",
       "4       RA       VE   573020.0       VE  573019       DA      SI      SI   \n",
       "\n",
       "   item_237  LATI_USU   LONG_USU  NIVEL    AREA  item_288     odt     orden  \\\n",
       "0      True  1.811442 -78.769160    1.0  Urbano   1065193  552285  21286266   \n",
       "1      True  1.805372 -78.771186    1.0  Urbano    462370  551224  21270629   \n",
       "2      True  1.805999 -78.767334    1.0  Urbano    903404  552595  21302985   \n",
       "3      True  1.796402 -78.793846    1.0  Urbano   8550053  552286  21168129   \n",
       "4      True  1.798110 -78.784266    1.0  Urbano   8518138  505002  21063683   \n",
       "\n",
       "                   PLAN_COMERCIAL Descripcion reincidente Anomalia_conf   año  \n",
       "0  31-PLAN RESIDENCIAL TELEMEDIDO    Solo odt          SI   No anomalia  2022  \n",
       "1  31-PLAN RESIDENCIAL TELEMEDIDO    Solo odt          SI   No anomalia  2022  \n",
       "2              2-PLAN RESIDENCIAL    Solo odt          NO   No anomalia  2022  \n",
       "3  31-PLAN RESIDENCIAL TELEMEDIDO    Solo odt          NO   No anomalia  2022  \n",
       "4              2-PLAN RESIDENCIAL    Solo odt          NO   No anomalia  2022  "
      ]
     },
     "execution_count": 614,
     "metadata": {},
     "output_type": "execute_result"
    }
   ],
   "source": [
    "print(\"df_combinado:\")\n",
    "df_combinado.head()"
   ]
  },
  {
   "cell_type": "code",
   "execution_count": 618,
   "id": "90f76943-73a7-4939-b307-976618e2fdf4",
   "metadata": {},
   "outputs": [
    {
     "name": "stdout",
     "output_type": "stream",
     "text": [
      "<class 'pandas.core.frame.DataFrame'>\n",
      "RangeIndex: 34634 entries, 0 to 34633\n",
      "Data columns (total 28 columns):\n",
      " #   Column          Non-Null Count  Dtype  \n",
      "---  ------          --------------  -----  \n",
      " 0   item_68         34634 non-null  bool   \n",
      " 1   item_248        34634 non-null  object \n",
      " 2   item_74         34634 non-null  bool   \n",
      " 3   item_597        34634 non-null  object \n",
      " 4   item_602        34634 non-null  object \n",
      " 5   item_108        34634 non-null  object \n",
      " 6   item_43         34634 non-null  object \n",
      " 7   item_603        34634 non-null  object \n",
      " 8   item_599        34634 non-null  object \n",
      " 9   item_35         34634 non-null  object \n",
      " 10  item_598        34634 non-null  object \n",
      " 11  item_33         34634 non-null  object \n",
      " 12  item_601        34634 non-null  object \n",
      " 13  item_24         34634 non-null  object \n",
      " 14  item_23         34634 non-null  object \n",
      " 15  item_237        34634 non-null  bool   \n",
      " 16  LATI_USU        34634 non-null  float64\n",
      " 17  LONG_USU        34634 non-null  float64\n",
      " 18  NIVEL           34634 non-null  float64\n",
      " 19  AREA            34634 non-null  object \n",
      " 20  item_288        34634 non-null  int64  \n",
      " 21  odt             34634 non-null  int64  \n",
      " 22  orden           34634 non-null  int64  \n",
      " 23  PLAN_COMERCIAL  34634 non-null  object \n",
      " 24  Descripcion     34634 non-null  object \n",
      " 25  reincidente     34634 non-null  object \n",
      " 26  Anomalia_conf   34634 non-null  object \n",
      " 27  año             34634 non-null  int64  \n",
      "dtypes: bool(3), float64(3), int64(4), object(18)\n",
      "memory usage: 6.7+ MB\n"
     ]
    }
   ],
   "source": [
    "df_combinado.info()"
   ]
  },
  {
   "cell_type": "code",
   "execution_count": 616,
   "id": "2f00eea6-59b2-4755-8fd5-1029635428b3",
   "metadata": {},
   "outputs": [
    {
     "name": "stdout",
     "output_type": "stream",
     "text": [
      "\n",
      "DataFrame combinado guardado en df_combinado.csv.\n"
     ]
    }
   ],
   "source": [
    "# Guardar el DataFrame combinado en un archivo CSV\n",
    "df_combinado.to_csv(\"df_combinado.csv\", index=False)\n",
    "\n",
    "print(\"\\nDataFrame combinado guardado en df_combinado.csv.\")"
   ]
  }
 ],
 "metadata": {
  "kernelspec": {
   "display_name": "Python [conda env:base] *",
   "language": "python",
   "name": "conda-base-py"
  },
  "language_info": {
   "codemirror_mode": {
    "name": "ipython",
    "version": 3
   },
   "file_extension": ".py",
   "mimetype": "text/x-python",
   "name": "python",
   "nbconvert_exporter": "python",
   "pygments_lexer": "ipython3",
   "version": "3.12.7"
  }
 },
 "nbformat": 4,
 "nbformat_minor": 5
}
