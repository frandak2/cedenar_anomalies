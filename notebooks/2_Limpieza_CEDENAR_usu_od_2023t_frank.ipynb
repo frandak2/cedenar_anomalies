{
 "cells": [
  {
   "cell_type": "markdown",
   "id": "b4973a23-2785-4036-bfee-577641aff864",
   "metadata": {},
   "source": [
    "# Limpieza datos combinados Usuarios y Ordenes de trabajo Zentry - *Piloto Pacífico*"
   ]
  },
  {
   "cell_type": "markdown",
   "id": "efe7116c-b334-4f3c-b62f-98d3ba7587fc",
   "metadata": {},
   "source": [
    "Se genera combinación de datos propios de los usuario, con ordenes de trabajo (odt) para años 2022-2024 y se cuenta con anomalías confirmadas hasta 2023.\n",
    "Estas últimas permitirán marcar el caso positivo de anomalías y las demás ordenes serán nuestro negativo de anomalía. Tomando el caso como una regresión logistica multivariado.\n",
    "\n",
    "Dicho lo anterior, debido al corte de fecha de las anomalías confirmadas se tendrá como muestra total las odt de 2022 y 2023 - Zona Pacífico."
   ]
  },
  {
   "cell_type": "code",
   "id": "b834f80c-c137-4735-b804-edbdb779470a",
   "metadata": {
    "ExecuteTime": {
     "end_time": "2025-05-04T00:35:42.333861Z",
     "start_time": "2025-05-04T00:35:42.332262Z"
    }
   },
   "source": [
    "import os\n",
    "\n",
    "import numpy as np\n",
    "import pandas as pd\n",
    "\n",
    "from cedenar_anomalies.utils.paths import (\n",
    "    data_processed_dir,\n",
    "    data_raw_dir,\n",
    "    reports_dir\n",
    ")"
   ],
   "outputs": [],
   "execution_count": 87
  },
  {
   "cell_type": "code",
   "id": "00871abc-59a4-476e-89cb-4963c217429b",
   "metadata": {
    "ExecuteTime": {
     "end_time": "2025-05-03T22:16:02.763338Z",
     "start_time": "2025-05-03T22:16:02.757845Z"
    }
   },
   "source": [
    "os.getcwd()"
   ],
   "outputs": [
    {
     "data": {
      "text/plain": [
       "'/Users/frandak2/Documents/repos/cedenar_anomalies/notebooks'"
      ]
     },
     "execution_count": 3,
     "metadata": {},
     "output_type": "execute_result"
    }
   ],
   "execution_count": 3
  },
  {
   "cell_type": "code",
   "id": "83efa6c4-5b2a-4448-ac0b-bc9627f67b2f",
   "metadata": {
    "ExecuteTime": {
     "end_time": "2025-05-03T22:16:02.791563Z",
     "start_time": "2025-05-03T22:16:02.786871Z"
    }
   },
   "source": [
    "pd.set_option(\"display.max_rows\", None)  # Mostrar todas las filas\n",
    "pd.set_option(\"display.max_columns\", None)  # Mostrar todas las columnas"
   ],
   "outputs": [],
   "execution_count": 4
  },
  {
   "cell_type": "markdown",
   "id": "72f10dd3-884f-4ffd-9057-8b3e2218c91e",
   "metadata": {},
   "source": [
    "## Datos por año"
   ]
  },
  {
   "cell_type": "markdown",
   "id": "4a3c97ea-330c-45e1-9bf1-c08e2d9ed0cc",
   "metadata": {},
   "source": [
    "#### 2023"
   ]
  },
  {
   "cell_type": "code",
   "id": "58db28d3-6449-40b2-a956-470362f8b21c",
   "metadata": {
    "ExecuteTime": {
     "end_time": "2025-05-03T22:16:02.925864Z",
     "start_time": "2025-05-03T22:16:02.810002Z"
    }
   },
   "source": [
    "# ruta_archivo = \"J:\\\\JESSICA\\\\Jessica\\\\Rafael\\\\igrid\\\\cedenar\\\\python_zentr\\\\dataset_decantado_2023.csv\"\n",
    "ruta_archivo = data_processed_dir(\"dataset_decantado_2023.csv\")\n",
    "df_2023 = pd.read_csv(ruta_archivo)\n",
    "df_2023 = df_2023[df_2023.ZONA == 'PACIFICO'].copy()"
   ],
   "outputs": [
    {
     "name": "stderr",
     "output_type": "stream",
     "text": [
      "/var/folders/pq/cm_j30pd6d5gvwryc4gttm2h0000gn/T/ipykernel_9627/1848789.py:3: DtypeWarning: Columns (54) have mixed types. Specify dtype option on import or set low_memory=False.\n",
      "  df_2023 = pd.read_csv(ruta_archivo)\n"
     ]
    }
   ],
   "execution_count": 5
  },
  {
   "cell_type": "code",
   "id": "7fabe856-ed81-4c58-a50a-9321364098ca",
   "metadata": {
    "ExecuteTime": {
     "end_time": "2025-05-03T22:16:02.955953Z",
     "start_time": "2025-05-03T22:16:02.953821Z"
    }
   },
   "source": [
    "filas, columnas = df_2023.shape\n",
    "filas"
   ],
   "outputs": [
    {
     "data": {
      "text/plain": [
       "13502"
      ]
     },
     "execution_count": 6,
     "metadata": {},
     "output_type": "execute_result"
    }
   ],
   "execution_count": 6
  },
  {
   "cell_type": "markdown",
   "id": "3af6b61a-b859-42f3-9a35-97241a1315f9",
   "metadata": {},
   "source": [
    "## Duplicados"
   ]
  },
  {
   "cell_type": "code",
   "id": "6c11494f-13d0-4c89-ba87-ef491656897e",
   "metadata": {
    "ExecuteTime": {
     "end_time": "2025-05-03T22:16:02.996849Z",
     "start_time": "2025-05-03T22:16:02.994910Z"
    }
   },
   "source": [
    "def revisar_y_guardar_duplicados(df, nombre_df):\n",
    "    \"\"\"\n",
    "    Revisa si hay duplicados en las columnas 'orden' y 'odt' de un DataFrame y guarda los duplicados en un archivo CSV.\n",
    "\n",
    "    Parámetros:\n",
    "    - df (DataFrame): El DataFrame a revisar.\n",
    "    - nombre_df (str): El nombre del DataFrame para usar en el nombre del archivo.\n",
    "    \"\"\"\n",
    "\n",
    "    # Identificar duplicados basados en 'orden' y 'odt'\n",
    "    duplicados = df.duplicated(subset=[\"orden\", \"odt\"], keep=False)\n",
    "\n",
    "    # Contar el número de duplicados\n",
    "    num_duplicados = duplicados.sum()\n",
    "\n",
    "    # Guardar los duplicados en un archivo CSV si existen\n",
    "    if num_duplicados > 0:\n",
    "        duplicados_df = df[duplicados]\n",
    "        nombre_archivo = f\"{nombre_df}_duplicados.csv\"\n",
    "        duplicados_df.to_csv(nombre_archivo, index=False)\n",
    "        print(\n",
    "            f\"Se encontraron {num_duplicados} registros duplicados en {nombre_df} y se guardaron en {nombre_archivo}.\"\n",
    "        )\n",
    "    else:\n",
    "        print(f\"No se encontraron registros duplicados en {nombre_df}.\")"
   ],
   "outputs": [],
   "execution_count": 7
  },
  {
   "cell_type": "code",
   "id": "77e95ef8-bb07-42ac-8074-e0795fa4d85e",
   "metadata": {
    "ExecuteTime": {
     "end_time": "2025-05-03T22:16:03.014325Z",
     "start_time": "2025-05-03T22:16:03.011662Z"
    }
   },
   "source": [
    "# Revisar y guardar duplicados en df_2023\n",
    "revisar_y_guardar_duplicados(df_2023, \"df_2023\")"
   ],
   "outputs": [
    {
     "name": "stdout",
     "output_type": "stream",
     "text": [
      "No se encontraron registros duplicados en df_2023.\n"
     ]
    }
   ],
   "execution_count": 8
  },
  {
   "cell_type": "code",
   "id": "c8cf2ae6-5552-4da1-8a1b-36d512615d5a",
   "metadata": {
    "ExecuteTime": {
     "end_time": "2025-05-03T22:16:03.041211Z",
     "start_time": "2025-05-03T22:16:03.039545Z"
    }
   },
   "source": [
    "filas, columnas = df_2023.shape\n",
    "print(f\"Registros 2023 - duplicados = {filas - 0}\")"
   ],
   "outputs": [
    {
     "name": "stdout",
     "output_type": "stream",
     "text": [
      "Registros 2023 - duplicados = 13502\n"
     ]
    }
   ],
   "execution_count": 9
  },
  {
   "cell_type": "markdown",
   "id": "7c5ca187-b096-4ebe-9396-9a5e8ac771de",
   "metadata": {},
   "source": [
    "### Eliminar duplicados"
   ]
  },
  {
   "cell_type": "code",
   "id": "9dab4fb3-87bb-41e9-a756-e7a7f763370f",
   "metadata": {
    "ExecuteTime": {
     "end_time": "2025-05-03T22:16:03.084050Z",
     "start_time": "2025-05-03T22:16:03.082341Z"
    }
   },
   "source": [
    "def eliminar_duplicados(df, nombre_df):\n",
    "    \"\"\"\n",
    "    Elimina registros duplicados en las columnas 'orden' y 'odt' de un DataFrame, conservando solo la primera aparición.\n",
    "\n",
    "    Parámetros:\n",
    "    - df (DataFrame): El DataFrame a procesar.\n",
    "    - nombre_df (str): El nombre del DataFrame para imprimir en los resultados.\n",
    "    \"\"\"\n",
    "\n",
    "    # Eliminar duplicados, conservando la primera aparición\n",
    "    df_sin_duplicados = df.drop_duplicates(subset=[\"orden\", \"odt\"], keep=\"first\")\n",
    "\n",
    "    # Imprimir información sobre el DataFrame resultante\n",
    "    print(\n",
    "        f\"Registros duplicados eliminados en {nombre_df}. Tamaño original: {len(df)}, Tamaño después de eliminar duplicados: {len(df_sin_duplicados)}\"\n",
    "    )\n",
    "\n",
    "    return df_sin_duplicados"
   ],
   "outputs": [],
   "execution_count": 10
  },
  {
   "cell_type": "code",
   "id": "ea1521e8-8772-4cbf-b616-63bf78de3329",
   "metadata": {
    "ExecuteTime": {
     "end_time": "2025-05-03T22:16:03.196763Z",
     "start_time": "2025-05-03T22:16:03.099035Z"
    }
   },
   "source": [
    "# Eliminar duplicados en df_2023\n",
    "df_2023 = eliminar_duplicados(df_2023, \"df_2023\")\n",
    "\n",
    "df_2023.to_csv(\"df_2023_sin_duplicados.csv\", index=False)\n",
    "\n",
    "print(\"DataFrames sin duplicados guardados en archivos CSV.\")"
   ],
   "outputs": [
    {
     "name": "stdout",
     "output_type": "stream",
     "text": [
      "Registros duplicados eliminados en df_2023. Tamaño original: 13502, Tamaño después de eliminar duplicados: 13502\n",
      "DataFrames sin duplicados guardados en archivos CSV.\n"
     ]
    }
   ],
   "execution_count": 11
  },
  {
   "cell_type": "markdown",
   "id": "49def73e-4d8a-4659-bb17-5721575aedae",
   "metadata": {},
   "source": [
    "## Variables a prescindir"
   ]
  },
  {
   "cell_type": "markdown",
   "id": "21f4f0d0-68b4-4ce3-9378-d6bc4366de28",
   "metadata": {},
   "source": [
    "### Ubicación"
   ]
  },
  {
   "cell_type": "code",
   "id": "6b716d3f-7215-418f-8d9d-45f7ab4f7007",
   "metadata": {
    "ExecuteTime": {
     "end_time": "2025-05-03T22:16:03.311020Z",
     "start_time": "2025-05-03T22:16:03.212170Z"
    }
   },
   "source": [
    "# Guardar el nuevo dataframe en un archivo csv\n",
    "# Eliminar los registros con valores nulos en 'LATI_USU'\n",
    "df_2023 = df_2023.dropna(subset=[\"LATI_USU\"])\n",
    "df_2023.to_csv(\"df_2023_sin_nulos.csv\", index=False)"
   ],
   "outputs": [],
   "execution_count": 12
  },
  {
   "cell_type": "markdown",
   "id": "4e5121f2-da4f-41f3-83d5-f41be66f591a",
   "metadata": {},
   "source": [
    "### Inspección Estado Del Predio"
   ]
  },
  {
   "cell_type": "code",
   "id": "43c90913-96fa-4801-8eb6-4138ef13fdcf",
   "metadata": {
    "ExecuteTime": {
     "end_time": "2025-05-03T22:16:03.336558Z",
     "start_time": "2025-05-03T22:16:03.334674Z"
    }
   },
   "source": "print(df_2023[\"item_237\"].unique())",
   "outputs": [
    {
     "name": "stdout",
     "output_type": "stream",
     "text": [
      "[True nan]\n"
     ]
    }
   ],
   "execution_count": 13
  },
  {
   "cell_type": "code",
   "id": "d05ec294-be61-4242-9e1f-b167b1e8aa75",
   "metadata": {
    "ExecuteTime": {
     "end_time": "2025-05-03T22:16:03.374460Z",
     "start_time": "2025-05-03T22:16:03.372340Z"
    }
   },
   "source": [
    "df_2023[\"item_237\"].unique()"
   ],
   "outputs": [
    {
     "data": {
      "text/plain": [
       "array([True, nan], dtype=object)"
      ]
     },
     "execution_count": 14,
     "metadata": {},
     "output_type": "execute_result"
    }
   ],
   "execution_count": 14
  },
  {
   "cell_type": "code",
   "id": "acba9e54-d2dc-40ac-864b-acdb3eef93c6",
   "metadata": {
    "ExecuteTime": {
     "end_time": "2025-05-03T22:16:03.418527Z",
     "start_time": "2025-05-03T22:16:03.415828Z"
    }
   },
   "source": [
    "# Reemplazar NaN con False en df_2023['item_237']\n",
    "df_2023[\"item_237\"] = df_2023[\"item_237\"].replace(np.nan, False)"
   ],
   "outputs": [
    {
     "name": "stderr",
     "output_type": "stream",
     "text": [
      "/var/folders/pq/cm_j30pd6d5gvwryc4gttm2h0000gn/T/ipykernel_9627/3629671584.py:2: FutureWarning: Downcasting behavior in `replace` is deprecated and will be removed in a future version. To retain the old behavior, explicitly call `result.infer_objects(copy=False)`. To opt-in to the future behavior, set `pd.set_option('future.no_silent_downcasting', True)`\n",
      "  df_2023[\"item_237\"] = df_2023[\"item_237\"].replace(np.nan, False)\n"
     ]
    }
   ],
   "execution_count": 15
  },
  {
   "cell_type": "code",
   "id": "86e1acfe-f5a9-4525-8c16-8288df7514e3",
   "metadata": {
    "ExecuteTime": {
     "end_time": "2025-05-03T22:16:03.448783Z",
     "start_time": "2025-05-03T22:16:03.446522Z"
    }
   },
   "source": "print(df_2023[\"item_237\"].value_counts())",
   "outputs": [
    {
     "name": "stdout",
     "output_type": "stream",
     "text": [
      "item_237\n",
      "True     11769\n",
      "False     1733\n",
      "Name: count, dtype: int64\n"
     ]
    }
   ],
   "execution_count": 16
  },
  {
   "cell_type": "markdown",
   "id": "1a53dddb-bcad-4b62-811f-12e3ce6a8bdd",
   "metadata": {},
   "source": [
    "### Medida Activa"
   ]
  },
  {
   "cell_type": "code",
   "id": "db475f91-5fa2-436c-8a88-7dd33f63d1c8",
   "metadata": {
    "ExecuteTime": {
     "end_time": "2025-05-03T22:16:03.492008Z",
     "start_time": "2025-05-03T22:16:03.490247Z"
    }
   },
   "source": "print(df_2023[\"item_23\"].unique())",
   "outputs": [
    {
     "name": "stdout",
     "output_type": "stream",
     "text": [
      "['SI' nan 'TRUE']\n"
     ]
    }
   ],
   "execution_count": 17
  },
  {
   "cell_type": "code",
   "id": "126274f6-884f-4ccf-b5fb-bb504208980e",
   "metadata": {
    "ExecuteTime": {
     "end_time": "2025-05-03T22:16:03.534457Z",
     "start_time": "2025-05-03T22:16:03.531704Z"
    }
   },
   "source": "df_2023[\"item_23\"] = df_2023[\"item_23\"].replace({np.nan: \"NO\", \"TRUE\": \"SI\"})",
   "outputs": [],
   "execution_count": 18
  },
  {
   "cell_type": "code",
   "id": "1a2505d3-411f-4129-9790-8b82c864f309",
   "metadata": {
    "ExecuteTime": {
     "end_time": "2025-05-03T22:16:03.556766Z",
     "start_time": "2025-05-03T22:16:03.554454Z"
    }
   },
   "source": "print(df_2023[\"item_23\"].value_counts())",
   "outputs": [
    {
     "name": "stdout",
     "output_type": "stream",
     "text": [
      "item_23\n",
      "SI    10844\n",
      "NO     2658\n",
      "Name: count, dtype: int64\n"
     ]
    }
   ],
   "execution_count": 19
  },
  {
   "cell_type": "markdown",
   "id": "995d2772-c02f-46b0-8a21-f772e10faee2",
   "metadata": {},
   "source": [
    "### Medida Reactiva"
   ]
  },
  {
   "cell_type": "code",
   "id": "b967c2fa-2ce8-4198-90d7-f83ae5905265",
   "metadata": {
    "ExecuteTime": {
     "end_time": "2025-05-03T22:16:03.587115Z",
     "start_time": "2025-05-03T22:16:03.585251Z"
    }
   },
   "source": "print(df_2023[\"item_24\"].unique())",
   "outputs": [
    {
     "name": "stdout",
     "output_type": "stream",
     "text": [
      "['NO' nan 'SI' 'TRUE']\n"
     ]
    }
   ],
   "execution_count": 20
  },
  {
   "cell_type": "code",
   "id": "72c17f30-382a-4208-ab16-b1b2fe0e01b5",
   "metadata": {
    "ExecuteTime": {
     "end_time": "2025-05-03T22:16:03.643131Z",
     "start_time": "2025-05-03T22:16:03.640072Z"
    }
   },
   "source": "df_2023[\"item_24\"] = df_2023[\"item_24\"].replace({np.nan: \"NO\", \"TRUE\": \"SI\"})",
   "outputs": [],
   "execution_count": 21
  },
  {
   "cell_type": "code",
   "id": "4fcda258-db32-4b68-b635-6a2680277020",
   "metadata": {
    "ExecuteTime": {
     "end_time": "2025-05-03T22:16:03.663554Z",
     "start_time": "2025-05-03T22:16:03.661543Z"
    }
   },
   "source": "print(df_2023[\"item_24\"].value_counts())",
   "outputs": [
    {
     "name": "stdout",
     "output_type": "stream",
     "text": [
      "item_24\n",
      "NO    8452\n",
      "SI    5050\n",
      "Name: count, dtype: int64\n"
     ]
    }
   ],
   "execution_count": 22
  },
  {
   "cell_type": "markdown",
   "id": "b3ba751a-5a5f-4ee6-8f7e-3107173b1ab6",
   "metadata": {},
   "source": [
    "### Tipo Sello 1 Tapa Bornera"
   ]
  },
  {
   "cell_type": "code",
   "id": "eee9561d-97a0-49da-9d56-1f5df86b5752",
   "metadata": {
    "ExecuteTime": {
     "end_time": "2025-05-03T22:16:03.690567Z",
     "start_time": "2025-05-03T22:16:03.688574Z"
    }
   },
   "source": "print(df_2023[\"item_601\"].unique())",
   "outputs": [
    {
     "name": "stdout",
     "output_type": "stream",
     "text": [
      "['DA' nan 'DT' 'RA' 'DY' 'TR' 'FA' 'AZ' 'AO' 'CF' 'VT' 'VR' 'VE' 'NE' 'AT'\n",
      " 'BT' 'RN' 'EP' 'GR' 'BL' 'TA' 'AL']\n"
     ]
    }
   ],
   "execution_count": 23
  },
  {
   "cell_type": "code",
   "id": "7b484e30-24fb-434a-9d8a-c4fead6828aa",
   "metadata": {
    "ExecuteTime": {
     "end_time": "2025-05-03T22:16:03.733662Z",
     "start_time": "2025-05-03T22:16:03.731165Z"
    }
   },
   "source": "df_2023[\"item_601\"] = df_2023[\"item_601\"].replace(np.nan, \"NOAPL\")",
   "outputs": [],
   "execution_count": 24
  },
  {
   "cell_type": "code",
   "id": "f9d3e858-f165-4e68-b644-7788dd73dce4",
   "metadata": {
    "ExecuteTime": {
     "end_time": "2025-05-03T22:16:03.750308Z",
     "start_time": "2025-05-03T22:16:03.748089Z"
    }
   },
   "source": [
    "conteo_nan = df_2023[\"item_601\"].isna().sum()\n",
    "print(f\"Número de valores NaN: {conteo_nan}\")"
   ],
   "outputs": [
    {
     "name": "stdout",
     "output_type": "stream",
     "text": [
      "Número de valores NaN: 0\n"
     ]
    }
   ],
   "execution_count": 25
  },
  {
   "cell_type": "markdown",
   "id": "5f803f74-02c3-4397-892e-cdc2ce8cc864",
   "metadata": {},
   "source": [
    "### Sello 1 Tapa Principal"
   ]
  },
  {
   "cell_type": "code",
   "id": "0334b5b3-1b71-47e7-bb1f-ce9302b5331e",
   "metadata": {
    "ExecuteTime": {
     "end_time": "2025-05-03T22:16:03.784309Z",
     "start_time": "2025-05-03T22:16:03.782476Z"
    }
   },
   "source": [
    "conteo_nan = df_2023[\"item_33\"].isna().sum()\n",
    "print(f\"Número de valores NaN: {conteo_nan}\")"
   ],
   "outputs": [
    {
     "name": "stdout",
     "output_type": "stream",
     "text": [
      "Número de valores NaN: 3898\n"
     ]
    }
   ],
   "execution_count": 26
  },
  {
   "cell_type": "code",
   "id": "8ecb702c-ee18-4668-b779-2c99850936dd",
   "metadata": {
    "ExecuteTime": {
     "end_time": "2025-05-03T22:16:03.815913Z",
     "start_time": "2025-05-03T22:16:03.813802Z"
    }
   },
   "source": "df_2023[\"item_33\"] = df_2023[\"item_33\"].replace(np.nan, \"NO INDICA\")",
   "outputs": [],
   "execution_count": 27
  },
  {
   "cell_type": "code",
   "id": "41591e79-108c-4be8-a24c-065554b3041b",
   "metadata": {
    "ExecuteTime": {
     "end_time": "2025-05-03T22:16:03.838584Z",
     "start_time": "2025-05-03T22:16:03.836270Z"
    }
   },
   "source": [
    "conteo_nan = df_2023[\"item_33\"].isna().sum()\n",
    "print(f\"Número de valores NaN: {conteo_nan}\")"
   ],
   "outputs": [
    {
     "name": "stdout",
     "output_type": "stream",
     "text": [
      "Número de valores NaN: 0\n"
     ]
    }
   ],
   "execution_count": 28
  },
  {
   "cell_type": "markdown",
   "id": "78e925c4-2ec7-4029-80fb-3aefe05d122d",
   "metadata": {},
   "source": [
    "### Tipo Sello 1 Tapa Principal"
   ]
  },
  {
   "cell_type": "code",
   "id": "a1f1de86-317c-4a54-af22-cc39f47b0fc7",
   "metadata": {
    "ExecuteTime": {
     "end_time": "2025-05-03T22:16:03.867977Z",
     "start_time": "2025-05-03T22:16:03.865791Z"
    }
   },
   "source": [
    "conteo_nan = df_2023[\"item_598\"].isna().sum()\n",
    "print(f\"Número de valores NaN: {conteo_nan}\")"
   ],
   "outputs": [
    {
     "name": "stdout",
     "output_type": "stream",
     "text": [
      "Número de valores NaN: 3864\n"
     ]
    }
   ],
   "execution_count": 29
  },
  {
   "cell_type": "code",
   "id": "70b69d9b-eab7-4aba-9ead-483ce008fa5b",
   "metadata": {
    "ExecuteTime": {
     "end_time": "2025-05-03T22:16:03.909760Z",
     "start_time": "2025-05-03T22:16:03.907432Z"
    }
   },
   "source": "df_2023[\"item_598\"] = df_2023[\"item_598\"].replace(np.nan, \"NOAPL\")",
   "outputs": [],
   "execution_count": 30
  },
  {
   "cell_type": "code",
   "id": "6a0ccc76-108b-4f96-bb76-06cecb1ac939",
   "metadata": {
    "ExecuteTime": {
     "end_time": "2025-05-03T22:16:03.925587Z",
     "start_time": "2025-05-03T22:16:03.923986Z"
    }
   },
   "source": [
    "conteo_nan = df_2023[\"item_598\"].isna().sum()\n",
    "print(f\"Número de valores NaN: {conteo_nan}\")"
   ],
   "outputs": [
    {
     "name": "stdout",
     "output_type": "stream",
     "text": [
      "Número de valores NaN: 0\n"
     ]
    }
   ],
   "execution_count": 31
  },
  {
   "cell_type": "markdown",
   "id": "fe3ec64b-ce7d-42f1-a184-ab055fffaf4b",
   "metadata": {},
   "source": [
    "### Sello 2 Tapa Principal"
   ]
  },
  {
   "cell_type": "code",
   "id": "bc8f3a17-d80b-4afc-8d1f-36f14211165c",
   "metadata": {
    "ExecuteTime": {
     "end_time": "2025-05-03T22:16:03.952181Z",
     "start_time": "2025-05-03T22:16:03.950443Z"
    }
   },
   "source": [
    "conteo_nan = df_2023[\"item_35\"].isna().sum()\n",
    "print(f\"Número de valores NaN: {conteo_nan}\")"
   ],
   "outputs": [
    {
     "name": "stdout",
     "output_type": "stream",
     "text": [
      "Número de valores NaN: 5272\n"
     ]
    }
   ],
   "execution_count": 32
  },
  {
   "cell_type": "code",
   "id": "05c798b1-62bb-41ae-abf3-c7459631ee15",
   "metadata": {
    "ExecuteTime": {
     "end_time": "2025-05-03T22:16:03.994223Z",
     "start_time": "2025-05-03T22:16:03.992177Z"
    }
   },
   "source": "df_2023[\"item_35\"] = df_2023[\"item_35\"].replace(np.nan, \"NO INDICA\")",
   "outputs": [],
   "execution_count": 33
  },
  {
   "cell_type": "code",
   "id": "ae4aced6-8a37-452a-9264-e1c88e6bacf4",
   "metadata": {
    "ExecuteTime": {
     "end_time": "2025-05-03T22:16:04.010879Z",
     "start_time": "2025-05-03T22:16:04.009235Z"
    }
   },
   "source": [
    "conteo_nan = df_2023[\"item_35\"].isna().sum()\n",
    "print(f\"Número de valores NaN: {conteo_nan}\")"
   ],
   "outputs": [
    {
     "name": "stdout",
     "output_type": "stream",
     "text": [
      "Número de valores NaN: 0\n"
     ]
    }
   ],
   "execution_count": 34
  },
  {
   "cell_type": "markdown",
   "id": "c9b52b7c-2729-490c-ab9a-2366147c93be",
   "metadata": {},
   "source": [
    "### Tipo Sello 2 Tapa Principal"
   ]
  },
  {
   "cell_type": "code",
   "id": "ec3bb367-2870-47d1-aa18-a45c4f5959cd",
   "metadata": {
    "ExecuteTime": {
     "end_time": "2025-05-03T22:16:04.037155Z",
     "start_time": "2025-05-03T22:16:04.035178Z"
    }
   },
   "source": [
    "conteo_nan = df_2023[\"item_599\"].isna().sum()\n",
    "print(f\"Número de valores NaN: {conteo_nan}\")"
   ],
   "outputs": [
    {
     "name": "stdout",
     "output_type": "stream",
     "text": [
      "Número de valores NaN: 5285\n"
     ]
    }
   ],
   "execution_count": 35
  },
  {
   "cell_type": "code",
   "id": "6b8c4df2-d888-4ae9-9fd5-98a65d455201",
   "metadata": {
    "ExecuteTime": {
     "end_time": "2025-05-03T22:16:04.079892Z",
     "start_time": "2025-05-03T22:16:04.077472Z"
    }
   },
   "source": "df_2023[\"item_599\"] = df_2023[\"item_599\"].replace(np.nan, \"NOAPL\")",
   "outputs": [],
   "execution_count": 36
  },
  {
   "cell_type": "code",
   "id": "da21257d-0052-40e3-a7e3-9c71d2a7f0d5",
   "metadata": {
    "ExecuteTime": {
     "end_time": "2025-05-03T22:16:04.096669Z",
     "start_time": "2025-05-03T22:16:04.094648Z"
    }
   },
   "source": [
    "conteo_nan = df_2023[\"item_599\"].isna().sum()\n",
    "print(f\"Número de valores NaN: {conteo_nan}\")"
   ],
   "outputs": [
    {
     "name": "stdout",
     "output_type": "stream",
     "text": [
      "Número de valores NaN: 0\n"
     ]
    }
   ],
   "execution_count": 37
  },
  {
   "cell_type": "markdown",
   "id": "713a62fe-5696-4d13-bef3-9be7f3cb107b",
   "metadata": {},
   "source": [
    "### Tipo Sello Caja"
   ]
  },
  {
   "cell_type": "code",
   "id": "c9390cc7-b7a0-442b-aca9-f13f57fc6ee0",
   "metadata": {
    "ExecuteTime": {
     "end_time": "2025-05-03T22:16:04.121114Z",
     "start_time": "2025-05-03T22:16:04.119167Z"
    }
   },
   "source": [
    "conteo_nan = df_2023[\"item_603\"].isna().sum()\n",
    "print(f\"Número de valores NaN: {conteo_nan}\")"
   ],
   "outputs": [
    {
     "name": "stdout",
     "output_type": "stream",
     "text": [
      "Número de valores NaN: 5669\n"
     ]
    }
   ],
   "execution_count": 38
  },
  {
   "cell_type": "code",
   "id": "f1b849d6-bd43-4aed-ac2f-def8748198ce",
   "metadata": {
    "ExecuteTime": {
     "end_time": "2025-05-03T22:16:04.165027Z",
     "start_time": "2025-05-03T22:16:04.162647Z"
    }
   },
   "source": "df_2023[\"item_603\"] = df_2023[\"item_603\"].replace(np.nan, \"NOAPL\")",
   "outputs": [],
   "execution_count": 39
  },
  {
   "cell_type": "code",
   "id": "4a88bf84-f351-40b4-bc93-6f7e587dc87b",
   "metadata": {
    "ExecuteTime": {
     "end_time": "2025-05-03T22:16:04.179036Z",
     "start_time": "2025-05-03T22:16:04.177190Z"
    }
   },
   "source": [
    "conteo_nan = df_2023[\"item_603\"].isna().sum()\n",
    "print(f\"Número de valores NaN: {conteo_nan}\")"
   ],
   "outputs": [
    {
     "name": "stdout",
     "output_type": "stream",
     "text": [
      "Número de valores NaN: 0\n"
     ]
    }
   ],
   "execution_count": 40
  },
  {
   "cell_type": "markdown",
   "id": "b2938c73-939a-4203-98e2-e6b27cff0350",
   "metadata": {},
   "source": [
    "### Sello Caja"
   ]
  },
  {
   "cell_type": "code",
   "id": "fad3b871-c9cd-4364-be5e-1573c252ffbf",
   "metadata": {
    "ExecuteTime": {
     "end_time": "2025-05-03T22:16:04.218270Z",
     "start_time": "2025-05-03T22:16:04.216352Z"
    }
   },
   "source": [
    "conteo_nan = df_2023[\"item_43\"].isna().sum()\n",
    "print(f\"Número de valores NaN: {conteo_nan}\")"
   ],
   "outputs": [
    {
     "name": "stdout",
     "output_type": "stream",
     "text": [
      "Número de valores NaN: 5712\n"
     ]
    }
   ],
   "execution_count": 41
  },
  {
   "cell_type": "code",
   "id": "3430a205-3b1f-4eee-8f0d-8bb5ea4602e8",
   "metadata": {
    "ExecuteTime": {
     "end_time": "2025-05-03T22:16:04.251079Z",
     "start_time": "2025-05-03T22:16:04.248834Z"
    }
   },
   "source": "df_2023[\"item_43\"] = df_2023[\"item_43\"].replace(np.nan, \"NO INDICA\")",
   "outputs": [],
   "execution_count": 42
  },
  {
   "cell_type": "code",
   "id": "b8d9993f-dca3-47ca-bff4-0a6990932aff",
   "metadata": {
    "ExecuteTime": {
     "end_time": "2025-05-03T22:16:04.278967Z",
     "start_time": "2025-05-03T22:16:04.277221Z"
    }
   },
   "source": [
    "conteo_nan = df_2023[\"item_43\"].isna().sum()\n",
    "print(f\"Número de valores NaN: {conteo_nan}\")"
   ],
   "outputs": [
    {
     "name": "stdout",
     "output_type": "stream",
     "text": [
      "Número de valores NaN: 0\n"
     ]
    }
   ],
   "execution_count": 43
  },
  {
   "cell_type": "markdown",
   "id": "eb3a0728-ab86-4cf2-b6a9-a295aa348712",
   "metadata": {},
   "source": [
    "### Corriente (A)"
   ]
  },
  {
   "cell_type": "code",
   "id": "5dfde2db-5aad-42e3-b14f-f0614e1970b4",
   "metadata": {
    "ExecuteTime": {
     "end_time": "2025-05-03T22:16:04.307901Z",
     "start_time": "2025-05-03T22:16:04.305986Z"
    }
   },
   "source": [
    "conteo_nan = df_2023[\"item_108\"].isna().sum()\n",
    "print(f\"Número de valores NaN: {conteo_nan}\")"
   ],
   "outputs": [
    {
     "name": "stdout",
     "output_type": "stream",
     "text": [
      "Número de valores NaN: 5522\n"
     ]
    }
   ],
   "execution_count": 44
  },
  {
   "cell_type": "code",
   "id": "88f1979c-1aa9-423e-a379-f619e502bfe2",
   "metadata": {
    "ExecuteTime": {
     "end_time": "2025-05-03T22:16:04.351674Z",
     "start_time": "2025-05-03T22:16:04.349429Z"
    }
   },
   "source": "df_2023[\"item_108\"] = df_2023[\"item_108\"].replace(np.nan, \"NO INDICA\")",
   "outputs": [],
   "execution_count": 45
  },
  {
   "cell_type": "code",
   "id": "bea132d1-b93e-4627-b7a9-5d42c0cf7663",
   "metadata": {
    "ExecuteTime": {
     "end_time": "2025-05-03T22:16:04.368801Z",
     "start_time": "2025-05-03T22:16:04.366858Z"
    }
   },
   "source": [
    "conteo_nan = df_2023[\"item_108\"].isna().sum()\n",
    "print(f\"Número de valores NaN: {conteo_nan}\")"
   ],
   "outputs": [
    {
     "name": "stdout",
     "output_type": "stream",
     "text": [
      "Número de valores NaN: 0\n"
     ]
    }
   ],
   "execution_count": 46
  },
  {
   "cell_type": "markdown",
   "id": "50246984-6692-4b4b-b9bf-5bae366e132d",
   "metadata": {},
   "source": [
    "### Tipo Sello 2 Tapa Bornera"
   ]
  },
  {
   "cell_type": "code",
   "id": "7cc6feec-0f59-49bb-83ab-c5c1280b9079",
   "metadata": {
    "ExecuteTime": {
     "end_time": "2025-05-03T22:16:04.395371Z",
     "start_time": "2025-05-03T22:16:04.393401Z"
    }
   },
   "source": [
    "conteo_nan = df_2023[\"item_602\"].isna().sum()\n",
    "print(f\"Número de valores NaN: {conteo_nan}\")"
   ],
   "outputs": [
    {
     "name": "stdout",
     "output_type": "stream",
     "text": [
      "Número de valores NaN: 8892\n"
     ]
    }
   ],
   "execution_count": 47
  },
  {
   "cell_type": "code",
   "id": "05984f6a-2300-4180-9c60-f3d463a800a1",
   "metadata": {
    "ExecuteTime": {
     "end_time": "2025-05-03T22:16:04.440562Z",
     "start_time": "2025-05-03T22:16:04.438216Z"
    }
   },
   "source": "df_2023[\"item_602\"] = df_2023[\"item_602\"].replace(np.nan, \"NOAPL\")",
   "outputs": [],
   "execution_count": 48
  },
  {
   "cell_type": "code",
   "id": "e69e728f-887b-4410-93e6-09b2eba72b36",
   "metadata": {
    "ExecuteTime": {
     "end_time": "2025-05-03T22:16:04.459312Z",
     "start_time": "2025-05-03T22:16:04.457183Z"
    }
   },
   "source": [
    "conteo_nan = df_2023[\"item_602\"].isna().sum()\n",
    "print(f\"Número de valores NaN: {conteo_nan}\")"
   ],
   "outputs": [
    {
     "name": "stdout",
     "output_type": "stream",
     "text": [
      "Número de valores NaN: 0\n"
     ]
    }
   ],
   "execution_count": 49
  },
  {
   "cell_type": "markdown",
   "id": "55ea4f0b-6f7c-4c39-ae63-588aee702013",
   "metadata": {},
   "source": [
    "### Tipo Sello Home Display"
   ]
  },
  {
   "cell_type": "code",
   "id": "8df4c12b-f452-43a2-b242-0fc286285cc0",
   "metadata": {
    "ExecuteTime": {
     "end_time": "2025-05-03T22:16:04.499047Z",
     "start_time": "2025-05-03T22:16:04.497078Z"
    }
   },
   "source": [
    "conteo_nan = df_2023[\"item_597\"].isna().sum()\n",
    "print(f\"Número de valores NaN: {conteo_nan}\")"
   ],
   "outputs": [
    {
     "name": "stdout",
     "output_type": "stream",
     "text": [
      "Número de valores NaN: 11037\n"
     ]
    }
   ],
   "execution_count": 50
  },
  {
   "cell_type": "code",
   "id": "8517e041-645d-422b-aabc-0914670d704e",
   "metadata": {
    "ExecuteTime": {
     "end_time": "2025-05-03T22:16:04.532904Z",
     "start_time": "2025-05-03T22:16:04.530514Z"
    }
   },
   "source": "df_2023[\"item_597\"] = df_2023[\"item_597\"].replace(np.nan, \"NOAPL\")",
   "outputs": [],
   "execution_count": 51
  },
  {
   "cell_type": "code",
   "id": "a027498a-1e40-46b5-a0da-040d6c9b4d59",
   "metadata": {
    "ExecuteTime": {
     "end_time": "2025-05-03T22:16:04.556071Z",
     "start_time": "2025-05-03T22:16:04.554214Z"
    }
   },
   "source": [
    "conteo_nan = df_2023[\"item_597\"].isna().sum()\n",
    "print(f\"Número de valores NaN: {conteo_nan}\")"
   ],
   "outputs": [
    {
     "name": "stdout",
     "output_type": "stream",
     "text": [
      "Número de valores NaN: 0\n"
     ]
    }
   ],
   "execution_count": 52
  },
  {
   "cell_type": "markdown",
   "id": "9ecf7db1-8fba-4488-ba65-6b94c2dc63c1",
   "metadata": {},
   "source": [
    "### Sin Sello O Sello Abierto En Caja"
   ]
  },
  {
   "cell_type": "code",
   "id": "1fa0e98e-8df9-4814-9967-98147e2aaa0d",
   "metadata": {
    "ExecuteTime": {
     "end_time": "2025-05-03T22:16:04.587138Z",
     "start_time": "2025-05-03T22:16:04.585814Z"
    }
   },
   "source": "",
   "outputs": [],
   "execution_count": null
  },
  {
   "cell_type": "code",
   "id": "f75b9323-3bbc-484b-9b53-6459e701711b",
   "metadata": {
    "ExecuteTime": {
     "end_time": "2025-05-03T22:16:04.612005Z",
     "start_time": "2025-05-03T22:16:04.610294Z"
    }
   },
   "source": "print(df_2023[\"item_74\"].unique())",
   "outputs": [
    {
     "name": "stdout",
     "output_type": "stream",
     "text": [
      "[nan True]\n"
     ]
    }
   ],
   "execution_count": 53
  },
  {
   "cell_type": "code",
   "id": "299d384a-cec6-48c3-b8c3-d4763b9b9c17",
   "metadata": {
    "ExecuteTime": {
     "end_time": "2025-05-03T22:16:04.670746Z",
     "start_time": "2025-05-03T22:16:04.668463Z"
    }
   },
   "source": [
    "# Reemplazar NaN con False en df_2023['item_237']\n",
    "df_2023[\"item_74\"] = df_2023[\"item_74\"].replace(np.nan, False)"
   ],
   "outputs": [
    {
     "name": "stderr",
     "output_type": "stream",
     "text": [
      "/var/folders/pq/cm_j30pd6d5gvwryc4gttm2h0000gn/T/ipykernel_9627/1211262664.py:2: FutureWarning: Downcasting behavior in `replace` is deprecated and will be removed in a future version. To retain the old behavior, explicitly call `result.infer_objects(copy=False)`. To opt-in to the future behavior, set `pd.set_option('future.no_silent_downcasting', True)`\n",
      "  df_2023[\"item_74\"] = df_2023[\"item_74\"].replace(np.nan, False)\n"
     ]
    }
   ],
   "execution_count": 54
  },
  {
   "cell_type": "code",
   "id": "0daa0d02-42bb-408d-b7da-9e1d0fa8a3a8",
   "metadata": {
    "ExecuteTime": {
     "end_time": "2025-05-03T22:16:04.697006Z",
     "start_time": "2025-05-03T22:16:04.694907Z"
    }
   },
   "source": "print(df_2023[\"item_74\"].value_counts())",
   "outputs": [
    {
     "name": "stdout",
     "output_type": "stream",
     "text": [
      "item_74\n",
      "False    12134\n",
      "True      1368\n",
      "Name: count, dtype: int64\n"
     ]
    }
   ],
   "execution_count": 55
  },
  {
   "cell_type": "markdown",
   "id": "55d2c04a-6a39-4e00-af6f-8a571f6fd108",
   "metadata": {},
   "source": [
    "### Tipo Acometida"
   ]
  },
  {
   "cell_type": "code",
   "id": "26ae0eb1-abe1-44e1-abd8-ac1ac230b5c9",
   "metadata": {
    "ExecuteTime": {
     "end_time": "2025-05-03T22:16:04.741845Z",
     "start_time": "2025-05-03T22:16:04.740647Z"
    }
   },
   "source": "",
   "outputs": [],
   "execution_count": null
  },
  {
   "cell_type": "code",
   "id": "7d8def3a-50fc-484d-b2e4-0f1b64cf0079",
   "metadata": {
    "ExecuteTime": {
     "end_time": "2025-05-03T22:16:04.759951Z",
     "start_time": "2025-05-03T22:16:04.757966Z"
    }
   },
   "source": "print(df_2023[\"item_248\"].value_counts())",
   "outputs": [
    {
     "name": "stdout",
     "output_type": "stream",
     "text": [
      "item_248\n",
      "INSTALACION ACOM MONOFASICA    447\n",
      "INSTALACION ACOM BIFASICA       47\n",
      "INSTALACION ACOM TRIFASICA      19\n",
      "Name: count, dtype: int64\n"
     ]
    }
   ],
   "execution_count": 56
  },
  {
   "cell_type": "code",
   "id": "2ea56951-48b3-495e-b86c-5f19f9c86e87",
   "metadata": {
    "ExecuteTime": {
     "end_time": "2025-05-03T22:16:04.785724Z",
     "start_time": "2025-05-03T22:16:04.784028Z"
    }
   },
   "source": [
    "conteo_nan = df_2023[\"item_248\"].isna().sum()\n",
    "print(f\"Número de valores NaN: {conteo_nan}\")"
   ],
   "outputs": [
    {
     "name": "stdout",
     "output_type": "stream",
     "text": [
      "Número de valores NaN: 12989\n"
     ]
    }
   ],
   "execution_count": 57
  },
  {
   "cell_type": "code",
   "id": "d50255a2-ec8b-42ea-97e1-697fd3b68fc8",
   "metadata": {
    "ExecuteTime": {
     "end_time": "2025-05-03T22:16:04.840577Z",
     "start_time": "2025-05-03T22:16:04.838404Z"
    }
   },
   "source": "df_2023[\"item_248\"] = df_2023[\"item_248\"].replace(np.nan, \"NO INDICA\")",
   "outputs": [],
   "execution_count": 58
  },
  {
   "cell_type": "code",
   "id": "367ea314-70a8-4f04-a3ca-16cbb8b3b25c",
   "metadata": {
    "ExecuteTime": {
     "end_time": "2025-05-03T22:16:04.856495Z",
     "start_time": "2025-05-03T22:16:04.854777Z"
    }
   },
   "source": [
    "conteo_nan = df_2023[\"item_248\"].isna().sum()\n",
    "print(f\"Número de valores NaN: {conteo_nan}\")"
   ],
   "outputs": [
    {
     "name": "stdout",
     "output_type": "stream",
     "text": [
      "Número de valores NaN: 0\n"
     ]
    }
   ],
   "execution_count": 59
  },
  {
   "cell_type": "markdown",
   "id": "b186ee3c-7740-4b5c-a25a-5f0d14184ac6",
   "metadata": {},
   "source": [
    "### Sin Sello (S) Tapa Principal"
   ]
  },
  {
   "cell_type": "code",
   "id": "950e91df-2d08-48d0-921d-913bba79bba0",
   "metadata": {
    "ExecuteTime": {
     "end_time": "2025-05-03T22:16:04.882832Z",
     "start_time": "2025-05-03T22:16:04.881606Z"
    }
   },
   "source": "",
   "outputs": [],
   "execution_count": null
  },
  {
   "cell_type": "code",
   "id": "8c26e950-6e3f-4f65-b3e4-259e47e38562",
   "metadata": {
    "ExecuteTime": {
     "end_time": "2025-05-03T22:16:04.900745Z",
     "start_time": "2025-05-03T22:16:04.898853Z"
    }
   },
   "source": [
    "conteo_nan = df_2023[\"item_68\"].isna().sum()\n",
    "print(f\"Número de valores NaN: {conteo_nan}\")"
   ],
   "outputs": [
    {
     "name": "stdout",
     "output_type": "stream",
     "text": [
      "Número de valores NaN: 13487\n"
     ]
    }
   ],
   "execution_count": 60
  },
  {
   "cell_type": "code",
   "id": "e01f4d95-fe3a-4b7d-a321-fc71bae6732e",
   "metadata": {
    "ExecuteTime": {
     "end_time": "2025-05-03T22:16:04.957676Z",
     "start_time": "2025-05-03T22:16:04.955061Z"
    }
   },
   "source": "df_2023[\"item_68\"] = df_2023[\"item_68\"].replace(np.nan, False)",
   "outputs": [
    {
     "name": "stderr",
     "output_type": "stream",
     "text": [
      "/var/folders/pq/cm_j30pd6d5gvwryc4gttm2h0000gn/T/ipykernel_9627/2267857441.py:1: FutureWarning: Downcasting behavior in `replace` is deprecated and will be removed in a future version. To retain the old behavior, explicitly call `result.infer_objects(copy=False)`. To opt-in to the future behavior, set `pd.set_option('future.no_silent_downcasting', True)`\n",
      "  df_2023[\"item_68\"] = df_2023[\"item_68\"].replace(np.nan, False)\n"
     ]
    }
   ],
   "execution_count": 61
  },
  {
   "cell_type": "code",
   "id": "9a5dfe41-7ed3-449d-b165-053b0ecf2fb8",
   "metadata": {
    "ExecuteTime": {
     "end_time": "2025-05-03T22:16:04.985908Z",
     "start_time": "2025-05-03T22:16:04.984227Z"
    }
   },
   "source": [
    "conteo_nan = df_2023[\"item_68\"].isna().sum()\n",
    "print(f\"Número de valores NaN: {conteo_nan}\")"
   ],
   "outputs": [
    {
     "name": "stdout",
     "output_type": "stream",
     "text": [
      "Número de valores NaN: 0\n"
     ]
    }
   ],
   "execution_count": 62
  },
  {
   "cell_type": "code",
   "id": "0a259b6b-4181-4fee-9f04-d3e5ada4d1d7",
   "metadata": {
    "ExecuteTime": {
     "end_time": "2025-05-03T22:16:05.027763Z",
     "start_time": "2025-05-03T22:16:05.025459Z"
    }
   },
   "source": "df_2023[\"item_68\"].unique()",
   "outputs": [
    {
     "data": {
      "text/plain": [
       "array([False,  True])"
      ]
     },
     "execution_count": 63,
     "metadata": {},
     "output_type": "execute_result"
    }
   ],
   "execution_count": 63
  },
  {
   "cell_type": "markdown",
   "id": "1eb9d02d-4912-4e0d-bd69-2e3b7b8eac83",
   "metadata": {},
   "source": [
    "### Descripcion\n",
    "\n",
    "*Anomalias confirmadas*"
   ]
  },
  {
   "cell_type": "code",
   "id": "3b98dd4c-2e27-41dd-8976-813413fbb14c",
   "metadata": {
    "ExecuteTime": {
     "end_time": "2025-05-03T22:16:05.057801Z",
     "start_time": "2025-05-03T22:16:05.055574Z"
    }
   },
   "source": [
    "df_2023[\"Descripcion\"].unique()"
   ],
   "outputs": [
    {
     "data": {
      "text/plain": [
       "array([nan, 'Anomalia verificada y aprobada',\n",
       "       'Anomalia verificada con acta digital', 'Posible anomalia'],\n",
       "      dtype=object)"
      ]
     },
     "execution_count": 64,
     "metadata": {},
     "output_type": "execute_result"
    }
   ],
   "execution_count": 64
  },
  {
   "cell_type": "code",
   "id": "5eadf43b-7b21-4f8d-9a52-0f0dd3bfbc41",
   "metadata": {
    "ExecuteTime": {
     "end_time": "2025-05-03T22:16:05.098856Z",
     "start_time": "2025-05-03T22:16:05.096599Z"
    }
   },
   "source": [
    "df_2023[\"Descripcion\"].unique()"
   ],
   "outputs": [
    {
     "data": {
      "text/plain": [
       "array([nan, 'Anomalia verificada y aprobada',\n",
       "       'Anomalia verificada con acta digital', 'Posible anomalia'],\n",
       "      dtype=object)"
      ]
     },
     "execution_count": 65,
     "metadata": {},
     "output_type": "execute_result"
    }
   ],
   "execution_count": 65
  },
  {
   "cell_type": "code",
   "id": "0c9262aa-3f5c-4ee5-ae41-0c8e6000a58a",
   "metadata": {
    "ExecuteTime": {
     "end_time": "2025-05-03T22:16:05.131932Z",
     "start_time": "2025-05-03T22:16:05.129809Z"
    }
   },
   "source": "print(df_2023[\"Descripcion\"].value_counts())",
   "outputs": [
    {
     "name": "stdout",
     "output_type": "stream",
     "text": [
      "Descripcion\n",
      "Anomalia verificada y aprobada          1616\n",
      "Anomalia verificada con acta digital     677\n",
      "Posible anomalia                         107\n",
      "Name: count, dtype: int64\n"
     ]
    }
   ],
   "execution_count": 66
  },
  {
   "cell_type": "code",
   "id": "4c220685-832c-4928-b1c6-0508d6a240a6",
   "metadata": {
    "ExecuteTime": {
     "end_time": "2025-05-03T22:16:05.174483Z",
     "start_time": "2025-05-03T22:16:05.172407Z"
    }
   },
   "source": "df_2023[\"Descripcion\"] = df_2023[\"Descripcion\"].replace(np.nan, \"Solo odt\")",
   "outputs": [],
   "execution_count": 67
  },
  {
   "cell_type": "code",
   "id": "d9a4fffb-aa52-4bbe-87ca-5f163b9b3e78",
   "metadata": {
    "ExecuteTime": {
     "end_time": "2025-05-03T22:16:05.192042Z",
     "start_time": "2025-05-03T22:16:05.189771Z"
    }
   },
   "source": "print(df_2023[\"Descripcion\"].value_counts())",
   "outputs": [
    {
     "name": "stdout",
     "output_type": "stream",
     "text": [
      "Descripcion\n",
      "Solo odt                                11102\n",
      "Anomalia verificada y aprobada           1616\n",
      "Anomalia verificada con acta digital      677\n",
      "Posible anomalia                          107\n",
      "Name: count, dtype: int64\n"
     ]
    }
   ],
   "execution_count": 68
  },
  {
   "cell_type": "markdown",
   "id": "7902e0ce-177b-42d6-8bc5-200641e17fa2",
   "metadata": {},
   "source": [
    "## Dataframes limpios"
   ]
  },
  {
   "cell_type": "code",
   "id": "d1d73885-8767-4eca-8404-32281e74082c",
   "metadata": {
    "ExecuteTime": {
     "end_time": "2025-05-03T22:16:05.273887Z",
     "start_time": "2025-05-03T22:16:05.228033Z"
    }
   },
   "source": [
    "# Lista de columnas a conservar\n",
    "columnas_a_conservar = [\n",
    "    \"item_68\",\n",
    "    \"item_248\",\n",
    "    \"item_74\",\n",
    "    \"item_597\",\n",
    "    \"item_602\",\n",
    "    \"item_108\",\n",
    "    \"item_43\",\n",
    "    \"item_603\",\n",
    "    \"item_599\",\n",
    "    \"item_35\",\n",
    "    \"item_598\",\n",
    "    \"item_33\",\n",
    "    \"item_601\",\n",
    "    \"item_24\",\n",
    "    \"item_23\",\n",
    "    \"item_237\",\n",
    "    \"LATI_USU\",\n",
    "    \"LONG_USU\",\n",
    "    \"NIVEL\",\n",
    "    \"AREA\",\n",
    "    \"item_288\",\n",
    "    \"odt\",\n",
    "    \"orden\",\n",
    "    \"PLAN_COMERCIAL\",\n",
    "    \"Descripcion\",\n",
    "]\n",
    "\n",
    "df_2023_filtrado = df_2023[columnas_a_conservar]\n",
    "\n",
    "# Guardar los DataFrames filtrados en archivos CSV\n",
    "df_2023_filtrado.to_csv(\"df_2023_filtrado.csv\", index=False)\n",
    "\n",
    "print(\"\\nDataFrames filtrados guardados en archivos CSV.\")"
   ],
   "outputs": [
    {
     "name": "stdout",
     "output_type": "stream",
     "text": [
      "\n",
      "DataFrames filtrados guardados en archivos CSV.\n"
     ]
    }
   ],
   "execution_count": 69
  },
  {
   "cell_type": "code",
   "id": "d3566445-2298-456f-9ef1-d5c233183cd1",
   "metadata": {
    "ExecuteTime": {
     "end_time": "2025-05-03T22:16:05.309946Z",
     "start_time": "2025-05-03T22:16:05.303129Z"
    }
   },
   "source": [
    "print(\"df_2023_filtrado:\")\n",
    "df_2023_filtrado.info()"
   ],
   "outputs": [
    {
     "name": "stdout",
     "output_type": "stream",
     "text": [
      "df_2023_filtrado:\n",
      "<class 'pandas.core.frame.DataFrame'>\n",
      "Index: 13502 entries, 5 to 66367\n",
      "Data columns (total 25 columns):\n",
      " #   Column          Non-Null Count  Dtype  \n",
      "---  ------          --------------  -----  \n",
      " 0   item_68         13502 non-null  bool   \n",
      " 1   item_248        13502 non-null  object \n",
      " 2   item_74         13502 non-null  bool   \n",
      " 3   item_597        13502 non-null  object \n",
      " 4   item_602        13502 non-null  object \n",
      " 5   item_108        13502 non-null  object \n",
      " 6   item_43         13502 non-null  object \n",
      " 7   item_603        13502 non-null  object \n",
      " 8   item_599        13502 non-null  object \n",
      " 9   item_35         13502 non-null  object \n",
      " 10  item_598        13502 non-null  object \n",
      " 11  item_33         13502 non-null  object \n",
      " 12  item_601        13502 non-null  object \n",
      " 13  item_24         13502 non-null  object \n",
      " 14  item_23         13502 non-null  object \n",
      " 15  item_237        13502 non-null  bool   \n",
      " 16  LATI_USU        13502 non-null  float64\n",
      " 17  LONG_USU        13502 non-null  float64\n",
      " 18  NIVEL           13502 non-null  float64\n",
      " 19  AREA            13502 non-null  object \n",
      " 20  item_288        13502 non-null  int64  \n",
      " 21  odt             13502 non-null  int64  \n",
      " 22  orden           13502 non-null  int64  \n",
      " 23  PLAN_COMERCIAL  13502 non-null  object \n",
      " 24  Descripcion     13502 non-null  object \n",
      "dtypes: bool(3), float64(3), int64(3), object(16)\n",
      "memory usage: 2.4+ MB\n"
     ]
    }
   ],
   "execution_count": 70
  },
  {
   "cell_type": "markdown",
   "id": "40081ee2-ba9c-4784-bedb-0c74789be925",
   "metadata": {},
   "source": [
    "## Marcar reincidencias"
   ]
  },
  {
   "cell_type": "code",
   "id": "fdc53757-0bd3-4ec9-8358-b6a623368e2c",
   "metadata": {
    "ExecuteTime": {
     "end_time": "2025-05-03T22:16:05.340683Z",
     "start_time": "2025-05-03T22:16:05.338990Z"
    }
   },
   "source": [
    "def crear_campo_reincidente(df):\n",
    "    \"\"\"\n",
    "    Crea el campo 'reincidente' en un DataFrame basado en la columna 'item_288'.\n",
    "\n",
    "    Parámetros:\n",
    "    - df (DataFrame): El DataFrame a procesar.\n",
    "    \"\"\"\n",
    "\n",
    "    # Identificar registros duplicados en 'item_288'\n",
    "    duplicados = df.duplicated(subset=\"item_288\", keep=False)\n",
    "\n",
    "    # Crear el campo 'reincidente'\n",
    "    df[\"reincidente\"] = duplicados.apply(lambda x: \"SI\" if x else \"NO\")\n",
    "\n",
    "    return df"
   ],
   "outputs": [],
   "execution_count": 71
  },
  {
   "cell_type": "code",
   "id": "594f582a-db67-41d2-83d7-30e01e1aee67",
   "metadata": {
    "ExecuteTime": {
     "end_time": "2025-05-03T22:16:05.413597Z",
     "start_time": "2025-05-03T22:16:05.362429Z"
    }
   },
   "source": [
    "df_2023_filtrado = crear_campo_reincidente(df_2023_filtrado.copy())\n",
    "\n",
    "df_2023_filtrado.to_csv(\"df_2023_filtrado_reincidente.csv\", index=False)\n",
    "\n",
    "print(\"\\nDataFrames modificados guardados en archivos CSV.\")"
   ],
   "outputs": [
    {
     "name": "stdout",
     "output_type": "stream",
     "text": [
      "\n",
      "DataFrames modificados guardados en archivos CSV.\n"
     ]
    }
   ],
   "execution_count": 72
  },
  {
   "cell_type": "code",
   "id": "2ce68e4b-9cce-498c-9de3-c4fa02d84248",
   "metadata": {
    "ExecuteTime": {
     "end_time": "2025-05-03T22:16:05.443440Z",
     "start_time": "2025-05-03T22:16:05.440851Z"
    }
   },
   "source": [
    "print(\"df_2023_filtrado:\")\n",
    "df_2023_filtrado[\"reincidente\"].value_counts()"
   ],
   "outputs": [
    {
     "name": "stdout",
     "output_type": "stream",
     "text": [
      "df_2023_filtrado:\n"
     ]
    },
    {
     "data": {
      "text/plain": [
       "reincidente\n",
       "NO    8719\n",
       "SI    4783\n",
       "Name: count, dtype: int64"
      ]
     },
     "execution_count": 73,
     "metadata": {},
     "output_type": "execute_result"
    }
   ],
   "execution_count": 73
  },
  {
   "cell_type": "markdown",
   "id": "853345ab-bd80-42d8-81cf-deb20d21750c",
   "metadata": {},
   "source": [
    "## Descripcion binaria | Es o no anomalía"
   ]
  },
  {
   "cell_type": "code",
   "id": "5044362e-0446-41a8-a289-deb387262397",
   "metadata": {
    "ExecuteTime": {
     "end_time": "2025-05-03T22:16:05.471167Z",
     "start_time": "2025-05-03T22:16:05.468979Z"
    }
   },
   "source": [
    "df_2023_filtrado[\"Descripcion\"].unique()"
   ],
   "outputs": [
    {
     "data": {
      "text/plain": [
       "array(['Solo odt', 'Anomalia verificada y aprobada',\n",
       "       'Anomalia verificada con acta digital', 'Posible anomalia'],\n",
       "      dtype=object)"
      ]
     },
     "execution_count": 74,
     "metadata": {},
     "output_type": "execute_result"
    }
   ],
   "execution_count": 74
  },
  {
   "cell_type": "code",
   "id": "7ec970eb-130c-4cc9-908e-fc3863f019c9",
   "metadata": {
    "ExecuteTime": {
     "end_time": "2025-05-03T22:16:05.537311Z",
     "start_time": "2025-05-03T22:16:05.536057Z"
    }
   },
   "source": "",
   "outputs": [],
   "execution_count": null
  },
  {
   "cell_type": "code",
   "id": "9b598701-e099-420b-8dcb-c514ba6e8c98",
   "metadata": {
    "ExecuteTime": {
     "end_time": "2025-05-03T22:16:05.633038Z",
     "start_time": "2025-05-03T22:16:05.631353Z"
    }
   },
   "source": [
    "def crear_columna_anomalia(df):\n",
    "    \"\"\"\n",
    "    Crea la columna 'Anomalia_conf' en un DataFrame basado en la columna 'Descripcion'.\n",
    "\n",
    "    Parámetros:\n",
    "    - df (DataFrame): El DataFrame a procesar.\n",
    "    \"\"\"\n",
    "\n",
    "    def determinar_anomalia(descripcion):\n",
    "        if descripcion == \"Solo odt\":\n",
    "            return \"No anomalia\"\n",
    "        else:\n",
    "            return \"Anomalia\"\n",
    "\n",
    "    df[\"Anomalia_conf\"] = df[\"Descripcion\"].apply(determinar_anomalia)\n",
    "    return df"
   ],
   "outputs": [],
   "execution_count": 75
  },
  {
   "cell_type": "code",
   "id": "3846f4f5-21f7-45b7-b0d9-73793e6e6cbb",
   "metadata": {
    "ExecuteTime": {
     "end_time": "2025-05-03T22:16:05.699586Z",
     "start_time": "2025-05-03T22:16:05.645130Z"
    }
   },
   "source": [
    "df_2023_filtrado = crear_columna_anomalia(df_2023_filtrado.copy())\n",
    "\n",
    "df_2023_filtrado.to_csv(\"df_2023_filtrado_anomalia.csv\", index=False)\n",
    "\n",
    "print(\"\\nDataFrames modificados guardados en archivos CSV.\")"
   ],
   "outputs": [
    {
     "name": "stdout",
     "output_type": "stream",
     "text": [
      "\n",
      "DataFrames modificados guardados en archivos CSV.\n"
     ]
    }
   ],
   "execution_count": 76
  },
  {
   "cell_type": "code",
   "id": "76d6bd4a-df27-400a-b3a6-8577b57f01c2",
   "metadata": {
    "ExecuteTime": {
     "end_time": "2025-05-03T22:16:05.717937Z",
     "start_time": "2025-05-03T22:16:05.715785Z"
    }
   },
   "source": "print(df_2023_filtrado[\"Anomalia_conf\"].value_counts())",
   "outputs": [
    {
     "name": "stdout",
     "output_type": "stream",
     "text": [
      "Anomalia_conf\n",
      "No anomalia    11102\n",
      "Anomalia        2400\n",
      "Name: count, dtype: int64\n"
     ]
    }
   ],
   "execution_count": 77
  },
  {
   "metadata": {
    "ExecuteTime": {
     "end_time": "2025-05-03T22:16:05.774352Z",
     "start_time": "2025-05-03T22:16:05.767915Z"
    }
   },
   "cell_type": "code",
   "source": "df_2023_filtrado.info()",
   "id": "969b7e4711da7a9",
   "outputs": [
    {
     "name": "stdout",
     "output_type": "stream",
     "text": [
      "<class 'pandas.core.frame.DataFrame'>\n",
      "Index: 13502 entries, 5 to 66367\n",
      "Data columns (total 27 columns):\n",
      " #   Column          Non-Null Count  Dtype  \n",
      "---  ------          --------------  -----  \n",
      " 0   item_68         13502 non-null  bool   \n",
      " 1   item_248        13502 non-null  object \n",
      " 2   item_74         13502 non-null  bool   \n",
      " 3   item_597        13502 non-null  object \n",
      " 4   item_602        13502 non-null  object \n",
      " 5   item_108        13502 non-null  object \n",
      " 6   item_43         13502 non-null  object \n",
      " 7   item_603        13502 non-null  object \n",
      " 8   item_599        13502 non-null  object \n",
      " 9   item_35         13502 non-null  object \n",
      " 10  item_598        13502 non-null  object \n",
      " 11  item_33         13502 non-null  object \n",
      " 12  item_601        13502 non-null  object \n",
      " 13  item_24         13502 non-null  object \n",
      " 14  item_23         13502 non-null  object \n",
      " 15  item_237        13502 non-null  bool   \n",
      " 16  LATI_USU        13502 non-null  float64\n",
      " 17  LONG_USU        13502 non-null  float64\n",
      " 18  NIVEL           13502 non-null  float64\n",
      " 19  AREA            13502 non-null  object \n",
      " 20  item_288        13502 non-null  int64  \n",
      " 21  odt             13502 non-null  int64  \n",
      " 22  orden           13502 non-null  int64  \n",
      " 23  PLAN_COMERCIAL  13502 non-null  object \n",
      " 24  Descripcion     13502 non-null  object \n",
      " 25  reincidente     13502 non-null  object \n",
      " 26  Anomalia_conf   13502 non-null  object \n",
      "dtypes: bool(3), float64(3), int64(3), object(18)\n",
      "memory usage: 2.6+ MB\n"
     ]
    }
   ],
   "execution_count": 78
  },
  {
   "metadata": {
    "ExecuteTime": {
     "end_time": "2025-05-03T22:42:08.614422Z",
     "start_time": "2025-05-03T22:42:08.510078Z"
    }
   },
   "cell_type": "code",
   "source": [
    "df_2023_filtrado_py = pd.read_csv(data_processed_dir(\"dataset_limpio_2023.csv\"))\n",
    "df_2023_filtrado_py[df_2023_filtrado_py.ZONA == 'PACIFICO'].info()"
   ],
   "id": "fcb543d0337a8969",
   "outputs": [
    {
     "name": "stdout",
     "output_type": "stream",
     "text": [
      "<class 'pandas.core.frame.DataFrame'>\n",
      "Index: 13502 entries, 5 to 66357\n",
      "Data columns (total 28 columns):\n",
      " #   Column          Non-Null Count  Dtype  \n",
      "---  ------          --------------  -----  \n",
      " 0   item_68         13502 non-null  bool   \n",
      " 1   item_248        13502 non-null  object \n",
      " 2   item_74         13502 non-null  bool   \n",
      " 3   item_597        13502 non-null  object \n",
      " 4   item_602        13502 non-null  object \n",
      " 5   item_108        13502 non-null  object \n",
      " 6   item_43         13502 non-null  object \n",
      " 7   item_603        13502 non-null  object \n",
      " 8   item_599        13502 non-null  object \n",
      " 9   item_35         13502 non-null  object \n",
      " 10  item_598        13502 non-null  object \n",
      " 11  item_33         13502 non-null  object \n",
      " 12  item_601        13502 non-null  object \n",
      " 13  item_24         13502 non-null  object \n",
      " 14  item_23         13502 non-null  object \n",
      " 15  item_237        13502 non-null  bool   \n",
      " 16  LATI_USU        13502 non-null  float64\n",
      " 17  LONG_USU        13502 non-null  float64\n",
      " 18  NIVEL           13502 non-null  float64\n",
      " 19  AREA            13502 non-null  object \n",
      " 20  item_288        13502 non-null  int64  \n",
      " 21  odt             13502 non-null  int64  \n",
      " 22  orden           13502 non-null  int64  \n",
      " 23  PLAN_COMERCIAL  13502 non-null  object \n",
      " 24  Descripcion     2400 non-null   object \n",
      " 25  reincidente     13502 non-null  object \n",
      " 26  Anomalia_conf   13502 non-null  object \n",
      " 27  ZONA            13502 non-null  object \n",
      "dtypes: bool(3), float64(3), int64(3), object(19)\n",
      "memory usage: 2.7+ MB\n"
     ]
    }
   ],
   "execution_count": 86
  },
  {
   "metadata": {
    "ExecuteTime": {
     "end_time": "2025-05-04T01:10:24.312069Z",
     "start_time": "2025-05-04T01:10:24.306787Z"
    }
   },
   "cell_type": "code",
   "source": "df_2023_filtrado_py.head(5)",
   "id": "d53e3d76e63e0b31",
   "outputs": [
    {
     "data": {
      "text/plain": [
       "   item_68                     item_248  item_74 item_597 item_602   item_108  \\\n",
       "0    False                    NO INDICA     True    NOAPL    NOAPL        7.5   \n",
       "1    False                    NO INDICA     True    NOAPL    NOAPL        9.5   \n",
       "2    False                    NO INDICA    False    NOAPL    NOAPL        8.0   \n",
       "3    False                    NO INDICA     True    NOAPL       DA        9.8   \n",
       "4    False  INSTALACION ACOM MONOFASICA    False    NOAPL    NOAPL  NO INDICA   \n",
       "\n",
       "     item_43 item_603 item_599    item_35 item_598    item_33 item_601  \\\n",
       "0   376298.0       RA       AO    1301466       AO  1301465.0       DA   \n",
       "1    96833.0       RA       AO    1301487       AO  1301488.0       DA   \n",
       "2  NO INDICA    NOAPL       VR    3081528       VE  3081527.0    NOAPL   \n",
       "3   678613.0       RA    NOAPL  NO INDICA       BT  1617017.0       DA   \n",
       "4   404213.0       RA       VR     266906       VR   266905.0       DA   \n",
       "\n",
       "  item_24 item_23  item_237  LATI_USU   LONG_USU  NIVEL    AREA  item_288  \\\n",
       "0      NO      SI      True  1.286699 -77.472667    1.0  Urbano    221830   \n",
       "1      NO      SI      True  1.291291 -77.468665    1.0  Urbano    222838   \n",
       "2      NO      SI      True  1.091228 -77.613528    1.0  Urbano    302820   \n",
       "3      SI      SI      True  1.265679 -77.327294    1.0   Rural   8550869   \n",
       "4      NO      SI      True  1.413125 -77.537665    1.0   Rural    442564   \n",
       "\n",
       "       odt     orden      PLAN_COMERCIAL Descripcion reincidente  \\\n",
       "0  1552391  26490040  2-PLAN RESIDENCIAL         NaN          SI   \n",
       "1  1552389  26489993  2-PLAN RESIDENCIAL         NaN          NO   \n",
       "2  2185362  28888135  2-PLAN RESIDENCIAL         NaN          NO   \n",
       "3  1584217  26546298  2-PLAN RESIDENCIAL         NaN          SI   \n",
       "4  1578384  26589317  2-PLAN RESIDENCIAL         NaN          NO   \n",
       "\n",
       "  Anomalia_conf       ZONA  \n",
       "0      Anomalia  OCCIDENTE  \n",
       "1      Anomalia  OCCIDENTE  \n",
       "2      Anomalia        SUR  \n",
       "3      Anomalia  OCCIDENTE  \n",
       "4      Anomalia  OCCIDENTE  "
      ],
      "text/html": [
       "<div>\n",
       "<style scoped>\n",
       "    .dataframe tbody tr th:only-of-type {\n",
       "        vertical-align: middle;\n",
       "    }\n",
       "\n",
       "    .dataframe tbody tr th {\n",
       "        vertical-align: top;\n",
       "    }\n",
       "\n",
       "    .dataframe thead th {\n",
       "        text-align: right;\n",
       "    }\n",
       "</style>\n",
       "<table border=\"1\" class=\"dataframe\">\n",
       "  <thead>\n",
       "    <tr style=\"text-align: right;\">\n",
       "      <th></th>\n",
       "      <th>item_68</th>\n",
       "      <th>item_248</th>\n",
       "      <th>item_74</th>\n",
       "      <th>item_597</th>\n",
       "      <th>item_602</th>\n",
       "      <th>item_108</th>\n",
       "      <th>item_43</th>\n",
       "      <th>item_603</th>\n",
       "      <th>item_599</th>\n",
       "      <th>item_35</th>\n",
       "      <th>item_598</th>\n",
       "      <th>item_33</th>\n",
       "      <th>item_601</th>\n",
       "      <th>item_24</th>\n",
       "      <th>item_23</th>\n",
       "      <th>item_237</th>\n",
       "      <th>LATI_USU</th>\n",
       "      <th>LONG_USU</th>\n",
       "      <th>NIVEL</th>\n",
       "      <th>AREA</th>\n",
       "      <th>item_288</th>\n",
       "      <th>odt</th>\n",
       "      <th>orden</th>\n",
       "      <th>PLAN_COMERCIAL</th>\n",
       "      <th>Descripcion</th>\n",
       "      <th>reincidente</th>\n",
       "      <th>Anomalia_conf</th>\n",
       "      <th>ZONA</th>\n",
       "    </tr>\n",
       "  </thead>\n",
       "  <tbody>\n",
       "    <tr>\n",
       "      <th>0</th>\n",
       "      <td>False</td>\n",
       "      <td>NO INDICA</td>\n",
       "      <td>True</td>\n",
       "      <td>NOAPL</td>\n",
       "      <td>NOAPL</td>\n",
       "      <td>7.5</td>\n",
       "      <td>376298.0</td>\n",
       "      <td>RA</td>\n",
       "      <td>AO</td>\n",
       "      <td>1301466</td>\n",
       "      <td>AO</td>\n",
       "      <td>1301465.0</td>\n",
       "      <td>DA</td>\n",
       "      <td>NO</td>\n",
       "      <td>SI</td>\n",
       "      <td>True</td>\n",
       "      <td>1.286699</td>\n",
       "      <td>-77.472667</td>\n",
       "      <td>1.0</td>\n",
       "      <td>Urbano</td>\n",
       "      <td>221830</td>\n",
       "      <td>1552391</td>\n",
       "      <td>26490040</td>\n",
       "      <td>2-PLAN RESIDENCIAL</td>\n",
       "      <td>NaN</td>\n",
       "      <td>SI</td>\n",
       "      <td>Anomalia</td>\n",
       "      <td>OCCIDENTE</td>\n",
       "    </tr>\n",
       "    <tr>\n",
       "      <th>1</th>\n",
       "      <td>False</td>\n",
       "      <td>NO INDICA</td>\n",
       "      <td>True</td>\n",
       "      <td>NOAPL</td>\n",
       "      <td>NOAPL</td>\n",
       "      <td>9.5</td>\n",
       "      <td>96833.0</td>\n",
       "      <td>RA</td>\n",
       "      <td>AO</td>\n",
       "      <td>1301487</td>\n",
       "      <td>AO</td>\n",
       "      <td>1301488.0</td>\n",
       "      <td>DA</td>\n",
       "      <td>NO</td>\n",
       "      <td>SI</td>\n",
       "      <td>True</td>\n",
       "      <td>1.291291</td>\n",
       "      <td>-77.468665</td>\n",
       "      <td>1.0</td>\n",
       "      <td>Urbano</td>\n",
       "      <td>222838</td>\n",
       "      <td>1552389</td>\n",
       "      <td>26489993</td>\n",
       "      <td>2-PLAN RESIDENCIAL</td>\n",
       "      <td>NaN</td>\n",
       "      <td>NO</td>\n",
       "      <td>Anomalia</td>\n",
       "      <td>OCCIDENTE</td>\n",
       "    </tr>\n",
       "    <tr>\n",
       "      <th>2</th>\n",
       "      <td>False</td>\n",
       "      <td>NO INDICA</td>\n",
       "      <td>False</td>\n",
       "      <td>NOAPL</td>\n",
       "      <td>NOAPL</td>\n",
       "      <td>8.0</td>\n",
       "      <td>NO INDICA</td>\n",
       "      <td>NOAPL</td>\n",
       "      <td>VR</td>\n",
       "      <td>3081528</td>\n",
       "      <td>VE</td>\n",
       "      <td>3081527.0</td>\n",
       "      <td>NOAPL</td>\n",
       "      <td>NO</td>\n",
       "      <td>SI</td>\n",
       "      <td>True</td>\n",
       "      <td>1.091228</td>\n",
       "      <td>-77.613528</td>\n",
       "      <td>1.0</td>\n",
       "      <td>Urbano</td>\n",
       "      <td>302820</td>\n",
       "      <td>2185362</td>\n",
       "      <td>28888135</td>\n",
       "      <td>2-PLAN RESIDENCIAL</td>\n",
       "      <td>NaN</td>\n",
       "      <td>NO</td>\n",
       "      <td>Anomalia</td>\n",
       "      <td>SUR</td>\n",
       "    </tr>\n",
       "    <tr>\n",
       "      <th>3</th>\n",
       "      <td>False</td>\n",
       "      <td>NO INDICA</td>\n",
       "      <td>True</td>\n",
       "      <td>NOAPL</td>\n",
       "      <td>DA</td>\n",
       "      <td>9.8</td>\n",
       "      <td>678613.0</td>\n",
       "      <td>RA</td>\n",
       "      <td>NOAPL</td>\n",
       "      <td>NO INDICA</td>\n",
       "      <td>BT</td>\n",
       "      <td>1617017.0</td>\n",
       "      <td>DA</td>\n",
       "      <td>SI</td>\n",
       "      <td>SI</td>\n",
       "      <td>True</td>\n",
       "      <td>1.265679</td>\n",
       "      <td>-77.327294</td>\n",
       "      <td>1.0</td>\n",
       "      <td>Rural</td>\n",
       "      <td>8550869</td>\n",
       "      <td>1584217</td>\n",
       "      <td>26546298</td>\n",
       "      <td>2-PLAN RESIDENCIAL</td>\n",
       "      <td>NaN</td>\n",
       "      <td>SI</td>\n",
       "      <td>Anomalia</td>\n",
       "      <td>OCCIDENTE</td>\n",
       "    </tr>\n",
       "    <tr>\n",
       "      <th>4</th>\n",
       "      <td>False</td>\n",
       "      <td>INSTALACION ACOM MONOFASICA</td>\n",
       "      <td>False</td>\n",
       "      <td>NOAPL</td>\n",
       "      <td>NOAPL</td>\n",
       "      <td>NO INDICA</td>\n",
       "      <td>404213.0</td>\n",
       "      <td>RA</td>\n",
       "      <td>VR</td>\n",
       "      <td>266906</td>\n",
       "      <td>VR</td>\n",
       "      <td>266905.0</td>\n",
       "      <td>DA</td>\n",
       "      <td>NO</td>\n",
       "      <td>SI</td>\n",
       "      <td>True</td>\n",
       "      <td>1.413125</td>\n",
       "      <td>-77.537665</td>\n",
       "      <td>1.0</td>\n",
       "      <td>Rural</td>\n",
       "      <td>442564</td>\n",
       "      <td>1578384</td>\n",
       "      <td>26589317</td>\n",
       "      <td>2-PLAN RESIDENCIAL</td>\n",
       "      <td>NaN</td>\n",
       "      <td>NO</td>\n",
       "      <td>Anomalia</td>\n",
       "      <td>OCCIDENTE</td>\n",
       "    </tr>\n",
       "  </tbody>\n",
       "</table>\n",
       "</div>"
      ]
     },
     "execution_count": 88,
     "metadata": {},
     "output_type": "execute_result"
    }
   ],
   "execution_count": 88
  },
  {
   "metadata": {},
   "cell_type": "code",
   "outputs": [],
   "execution_count": null,
   "source": "",
   "id": "b562c254b4102fd9"
  }
 ],
 "metadata": {
  "kernelspec": {
   "display_name": "Python [conda env:base] *",
   "language": "python",
   "name": "conda-base-py"
  },
  "language_info": {
   "codemirror_mode": {
    "name": "ipython",
    "version": 3
   },
   "file_extension": ".py",
   "mimetype": "text/x-python",
   "name": "python",
   "nbconvert_exporter": "python",
   "pygments_lexer": "ipython3",
   "version": "3.12.7"
  }
 },
 "nbformat": 4,
 "nbformat_minor": 5
}
