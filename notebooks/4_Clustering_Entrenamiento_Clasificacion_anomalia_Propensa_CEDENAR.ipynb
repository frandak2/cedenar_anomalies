{
 "cells": [
  {
   "cell_type": "code",
   "execution_count": null,
   "metadata": {
    "colab": {
     "base_uri": "https://localhost:8080/"
    },
    "collapsed": true,
    "id": "JnhZpDsS0tpt",
    "outputId": "f1c58e1e-9176-46ec-9423-17b33fd9fd91"
   },
   "outputs": [
    {
     "name": "stdout",
     "output_type": "stream",
     "text": [
      "Collecting fuzzy-c-means\n",
      "  Downloading fuzzy_c_means-1.7.2-py3-none-any.whl.metadata (4.7 kB)\n",
      "Requirement already satisfied: joblib<2.0.0,>=1.2.0 in /usr/local/lib/python3.11/dist-packages (from fuzzy-c-means) (1.4.2)\n",
      "Collecting numpy<2.0.0,>=1.21.1 (from fuzzy-c-means)\n",
      "  Downloading numpy-1.26.4-cp311-cp311-manylinux_2_17_x86_64.manylinux2014_x86_64.whl.metadata (61 kB)\n",
      "\u001b[2K     \u001b[90m━━━━━━━━━━━━━━━━━━━━━━━━━━━━━━━━━━━━━━━━\u001b[0m \u001b[32m61.0/61.0 kB\u001b[0m \u001b[31m2.3 MB/s\u001b[0m eta \u001b[36m0:00:00\u001b[0m\n",
      "\u001b[?25hRequirement already satisfied: pydantic<3.0.0,>=2.6.4 in /usr/local/lib/python3.11/dist-packages (from fuzzy-c-means) (2.11.0)\n",
      "Collecting tabulate<0.9.0,>=0.8.9 (from fuzzy-c-means)\n",
      "  Downloading tabulate-0.8.10-py3-none-any.whl.metadata (25 kB)\n",
      "Requirement already satisfied: tqdm<5.0.0,>=4.64.1 in /usr/local/lib/python3.11/dist-packages (from fuzzy-c-means) (4.67.1)\n",
      "Collecting typer<0.10.0,>=0.9.0 (from fuzzy-c-means)\n",
      "  Downloading typer-0.9.4-py3-none-any.whl.metadata (14 kB)\n",
      "Requirement already satisfied: annotated-types>=0.6.0 in /usr/local/lib/python3.11/dist-packages (from pydantic<3.0.0,>=2.6.4->fuzzy-c-means) (0.7.0)\n",
      "Requirement already satisfied: pydantic-core==2.33.0 in /usr/local/lib/python3.11/dist-packages (from pydantic<3.0.0,>=2.6.4->fuzzy-c-means) (2.33.0)\n",
      "Requirement already satisfied: typing-extensions>=4.12.2 in /usr/local/lib/python3.11/dist-packages (from pydantic<3.0.0,>=2.6.4->fuzzy-c-means) (4.13.0)\n",
      "Requirement already satisfied: typing-inspection>=0.4.0 in /usr/local/lib/python3.11/dist-packages (from pydantic<3.0.0,>=2.6.4->fuzzy-c-means) (0.4.0)\n",
      "Requirement already satisfied: click<9.0.0,>=7.1.1 in /usr/local/lib/python3.11/dist-packages (from typer<0.10.0,>=0.9.0->fuzzy-c-means) (8.1.8)\n",
      "Downloading fuzzy_c_means-1.7.2-py3-none-any.whl (9.1 kB)\n",
      "Downloading numpy-1.26.4-cp311-cp311-manylinux_2_17_x86_64.manylinux2014_x86_64.whl (18.3 MB)\n",
      "\u001b[2K   \u001b[90m━━━━━━━━━━━━━━━━━━━━━━━━━━━━━━━━━━━━━━━━\u001b[0m \u001b[32m18.3/18.3 MB\u001b[0m \u001b[31m12.1 MB/s\u001b[0m eta \u001b[36m0:00:00\u001b[0m\n",
      "\u001b[?25hDownloading tabulate-0.8.10-py3-none-any.whl (29 kB)\n",
      "Downloading typer-0.9.4-py3-none-any.whl (45 kB)\n",
      "\u001b[2K   \u001b[90m━━━━━━━━━━━━━━━━━━━━━━━━━━━━━━━━━━━━━━━━\u001b[0m \u001b[32m46.0/46.0 kB\u001b[0m \u001b[31m2.1 MB/s\u001b[0m eta \u001b[36m0:00:00\u001b[0m\n",
      "\u001b[?25hInstalling collected packages: typer, tabulate, numpy, fuzzy-c-means\n",
      "  Attempting uninstall: typer\n",
      "    Found existing installation: typer 0.15.2\n",
      "    Uninstalling typer-0.15.2:\n",
      "      Successfully uninstalled typer-0.15.2\n",
      "  Attempting uninstall: tabulate\n",
      "    Found existing installation: tabulate 0.9.0\n",
      "    Uninstalling tabulate-0.9.0:\n",
      "      Successfully uninstalled tabulate-0.9.0\n",
      "  Attempting uninstall: numpy\n",
      "    Found existing installation: numpy 2.0.2\n",
      "    Uninstalling numpy-2.0.2:\n",
      "      Successfully uninstalled numpy-2.0.2\n",
      "\u001b[31mERROR: pip's dependency resolver does not currently take into account all the packages that are installed. This behaviour is the source of the following dependency conflicts.\n",
      "bigframes 1.42.0 requires tabulate>=0.9, but you have tabulate 0.8.10 which is incompatible.\u001b[0m\u001b[31m\n",
      "\u001b[0mSuccessfully installed fuzzy-c-means-1.7.2 numpy-1.26.4 tabulate-0.8.10 typer-0.9.4\n"
     ]
    }
   ],
   "source": [
    "# !pip install fuzzy-c-means"
   ]
  },
  {
   "cell_type": "code",
   "execution_count": 1,
   "metadata": {
    "ExecuteTime": {
     "end_time": "2025-04-29T19:59:03.500267Z",
     "start_time": "2025-04-29T19:59:03.498736Z"
    },
    "id": "qDeLB-ThGLsf"
   },
   "outputs": [],
   "source": [
    "import matplotlib.pyplot as plt\n",
    "import numpy as np\n",
    "import pandas as pd\n",
    "import seaborn as sns"
   ]
  },
  {
   "cell_type": "code",
   "execution_count": 2,
   "metadata": {
    "ExecuteTime": {
     "end_time": "2025-04-29T19:59:21.227262Z",
     "start_time": "2025-04-29T19:59:17.836533Z"
    },
    "id": "MbEQjrWjGQQJ"
   },
   "outputs": [],
   "source": []
  },
  {
   "cell_type": "code",
   "execution_count": 3,
   "metadata": {
    "ExecuteTime": {
     "end_time": "2025-04-29T19:59:24.808133Z",
     "start_time": "2025-04-29T19:59:24.578812Z"
    },
    "id": "Nx7HmZwVk1Hr"
   },
   "outputs": [],
   "source": [
    "from fcmeans import FCM"
   ]
  },
  {
   "cell_type": "code",
   "execution_count": 4,
   "metadata": {
    "ExecuteTime": {
     "end_time": "2025-04-29T19:59:25.374062Z",
     "start_time": "2025-04-29T19:59:25.372131Z"
    },
    "id": "vsseXllLF-Ru"
   },
   "outputs": [],
   "source": [
    "pd.set_option(\"display.max_rows\", None)  # Mostrar todas las filas\n",
    "pd.set_option(\"display.max_columns\", None)  # Mostrar todas las columnas"
   ]
  },
  {
   "cell_type": "markdown",
   "metadata": {
    "id": "s4rb8p0IeCX_"
   },
   "source": [
    "### Se ingresa la  sabana de datos limpia"
   ]
  },
  {
   "cell_type": "markdown",
   "metadata": {
    "id": "BRJAdt9bywx5"
   },
   "source": [
    "## Unir a previo a encode"
   ]
  },
  {
   "cell_type": "code",
   "execution_count": null,
   "metadata": {
    "id": "nnCEhIsc0vEp"
   },
   "outputs": [],
   "source": [
    "import pandas as pd"
   ]
  },
  {
   "cell_type": "code",
   "execution_count": null,
   "metadata": {
    "id": "lScFbOnR0nBd"
   },
   "outputs": [],
   "source": [
    "df_anomaly_encoded = pd.read_excel(\"df_anomaly_encoded_limpio.xlsx\")"
   ]
  },
  {
   "cell_type": "code",
   "execution_count": null,
   "metadata": {
    "colab": {
     "base_uri": "https://localhost:8080/"
    },
    "id": "VqUd9nnZ13Oi",
    "outputId": "098ee8e0-38a0-4d2c-affa-7ffc026c07fa"
   },
   "outputs": [
    {
     "name": "stdout",
     "output_type": "stream",
     "text": [
      "<class 'pandas.core.frame.DataFrame'>\n",
      "RangeIndex: 160640 entries, 0 to 160639\n",
      "Data columns (total 7 columns):\n",
      " #   Column          Non-Null Count   Dtype  \n",
      "---  ------          --------------   -----  \n",
      " 0   Usuario         160640 non-null  int64  \n",
      " 1   id              160640 non-null  int64  \n",
      " 2   AREA            160640 non-null  int64  \n",
      " 3   PLAN_COMERCIAL  160640 non-null  int64  \n",
      " 4   LATI_USU        160640 non-null  float64\n",
      " 5   LONG_USU        160640 non-null  float64\n",
      " 6   evaluacion      160640 non-null  int64  \n",
      "dtypes: float64(2), int64(5)\n",
      "memory usage: 8.6 MB\n"
     ]
    }
   ],
   "source": [
    "df_anomaly_encoded.info()"
   ]
  },
  {
   "cell_type": "code",
   "execution_count": null,
   "metadata": {
    "colab": {
     "base_uri": "https://localhost:8080/"
    },
    "id": "LifwK9zZ18qn",
    "outputId": "3f14d132-038e-49d3-b0a2-44fb51ba0344"
   },
   "outputs": [
    {
     "data": {
      "text/plain": [
       "Index(['Orden', 'Usuario', 'Ejecucion', 'Codigo', 'Descripcion', 'Motivo',\n",
       "       'kWh Rec', 'Factor', 'id', 'Nombre', 'Factor.1', 'AREA',\n",
       "       'PLAN_COMERCIAL', 'TRAFO_OPEN', 'FASES', 'KVA', 'LATI_USU', 'LONG_USU',\n",
       "       'puntaje', 'evaluacion', 'fuzzy_cluster'],\n",
       "      dtype='object')"
      ]
     },
     "execution_count": 8,
     "metadata": {},
     "output_type": "execute_result"
    }
   ],
   "source": [
    "df_nuevo_extendido_fzz.columns"
   ]
  },
  {
   "cell_type": "code",
   "execution_count": null,
   "metadata": {
    "id": "nKve3dk02FxI"
   },
   "outputs": [],
   "source": [
    "df_anomaly_encoded[\"Cluster\"] = df_nuevo_extendido_fzz[\"fuzzy_cluster\"]"
   ]
  },
  {
   "cell_type": "code",
   "execution_count": null,
   "metadata": {
    "id": "QnvkqWI84R1o"
   },
   "outputs": [],
   "source": [
    "df_anomaly_encoded_copy = df_anomaly_encoded.copy()"
   ]
  },
  {
   "cell_type": "code",
   "execution_count": null,
   "metadata": {
    "colab": {
     "base_uri": "https://localhost:8080/"
    },
    "id": "Z6qz3zQF2QaE",
    "outputId": "b8ac880f-e104-4d82-85c1-58572e9d71b7"
   },
   "outputs": [
    {
     "name": "stdout",
     "output_type": "stream",
     "text": [
      "<class 'pandas.core.frame.DataFrame'>\n",
      "RangeIndex: 160640 entries, 0 to 160639\n",
      "Data columns (total 8 columns):\n",
      " #   Column          Non-Null Count   Dtype  \n",
      "---  ------          --------------   -----  \n",
      " 0   Usuario         160640 non-null  int64  \n",
      " 1   id              160640 non-null  int64  \n",
      " 2   AREA            160640 non-null  int64  \n",
      " 3   PLAN_COMERCIAL  160640 non-null  int64  \n",
      " 4   LATI_USU        160640 non-null  float64\n",
      " 5   LONG_USU        160640 non-null  float64\n",
      " 6   evaluacion      160640 non-null  int64  \n",
      " 7   Cluster         160640 non-null  int64  \n",
      "dtypes: float64(2), int64(6)\n",
      "memory usage: 9.8 MB\n"
     ]
    }
   ],
   "source": [
    "df_anomaly_encoded_copy.info()"
   ]
  },
  {
   "cell_type": "code",
   "execution_count": null,
   "metadata": {
    "id": "NFvTVQDT3foq"
   },
   "outputs": [],
   "source": [
    "df_anomaly_encoded.to_csv(\"df_anomaly_encoded_fzz_nw.csv\", index=False)"
   ]
  },
  {
   "cell_type": "code",
   "execution_count": null,
   "metadata": {
    "id": "3u3utzNM5AkL"
   },
   "outputs": [],
   "source": [
    "df_anomaly_encoded_original = df_anomaly_encoded.drop(labels=[\"Cluster\"], axis=1).copy()"
   ]
  },
  {
   "cell_type": "code",
   "execution_count": null,
   "metadata": {
    "id": "BHiEYT9z2a4Z"
   },
   "outputs": [],
   "source": [
    "df_anomaly_encoded = df_anomaly_encoded.drop(labels=[\"evaluacion\", \"id\"], axis=1).copy()"
   ]
  },
  {
   "cell_type": "code",
   "execution_count": null,
   "metadata": {
    "id": "kgzw3idf5SSD"
   },
   "outputs": [],
   "source": [
    "df_anomaly_encoded = df_anomaly_encoded.drop(labels=[\"Cluster\"], axis=1).copy()"
   ]
  },
  {
   "cell_type": "code",
   "execution_count": null,
   "metadata": {
    "colab": {
     "base_uri": "https://localhost:8080/"
    },
    "id": "T35LcmNL2tdI",
    "outputId": "a1e592f5-2919-494c-ef4c-bf1535728402"
   },
   "outputs": [
    {
     "data": {
      "text/plain": [
       "Index(['Usuario', 'AREA', 'PLAN_COMERCIAL', 'LATI_USU', 'LONG_USU'], dtype='object')"
      ]
     },
     "execution_count": 41,
     "metadata": {},
     "output_type": "execute_result"
    }
   ],
   "source": [
    "df_anomaly_encoded.columns"
   ]
  },
  {
   "cell_type": "code",
   "execution_count": null,
   "metadata": {
    "id": "L09QIdiQ2q9j"
   },
   "outputs": [],
   "source": [
    "# 1. Preparar los datos\n",
    "data = df_anomaly_encoded[\n",
    "    [\"Usuario\", \"AREA\", \"PLAN_COMERCIAL\", \"LATI_USU\", \"LONG_USU\"]\n",
    "].values"
   ]
  },
  {
   "cell_type": "code",
   "execution_count": null,
   "metadata": {
    "id": "LpuTJUtp2pwR"
   },
   "outputs": [],
   "source": [
    "# # Escalar los datos\n",
    "# scaler = StandardScaler()\n",
    "scaled_data = data.copy()"
   ]
  },
  {
   "cell_type": "code",
   "execution_count": null,
   "metadata": {
    "id": "6n-Gc_P33Fb-"
   },
   "outputs": [],
   "source": [
    "# 2. Aplicar Fuzzy C-means\n",
    "n_clusters = 3  # Define el número de clusters deseado\n",
    "fcm = FCM(n_clusters=n_clusters)\n",
    "fcm.fit(scaled_data)"
   ]
  },
  {
   "cell_type": "code",
   "execution_count": null,
   "metadata": {
    "id": "emC-swG23K1y"
   },
   "outputs": [],
   "source": [
    "# 3. Analizar los resultados\n",
    "# Obtener los grados de pertenencia\n",
    "fcm_centers = fcm.centers\n",
    "fcm_labels = fcm.u.argmax(axis=1)  # Asignación \"hard\" (opcional)\n",
    "fcm_u = fcm.u  # Grados de pertenencia"
   ]
  },
  {
   "cell_type": "code",
   "execution_count": null,
   "metadata": {
    "colab": {
     "base_uri": "https://localhost:8080/"
    },
    "id": "Vzw-SW4m3Pw7",
    "outputId": "36b03a49-b226-4391-bfe7-6c9d17c9afcf"
   },
   "outputs": [
    {
     "name": "stdout",
     "output_type": "stream",
     "text": [
      "Grados de pertenencia:\n",
      "[[7.70210210e-03 9.92256306e-01 4.15914625e-05]\n",
      " [9.99764908e-01 2.33295228e-04 1.79667864e-06]\n",
      " [7.33918700e-03 9.92621038e-01 3.97749518e-05]\n",
      " ...\n",
      " [2.81888983e-02 9.71678149e-01 1.32952477e-04]\n",
      " [2.81888983e-02 9.71678149e-01 1.32952477e-04]\n",
      " [2.81888983e-02 9.71678149e-01 1.32952477e-04]]\n",
      "\n",
      "Centros de los clusters:\n",
      "[[ 1.13233962e+06  1.73072346e+00  4.69129954e+00  1.72697554e+00\n",
      "  -7.86620829e+01]\n",
      " [ 4.92519996e+05  1.70588909e+00  4.73086893e+00  1.72201135e+00\n",
      "  -7.86906195e+01]\n",
      " [ 8.54616721e+06  1.93240463e+00  4.98073460e+00  1.76435402e+00\n",
      "  -7.86561554e+01]]\n"
     ]
    }
   ],
   "source": [
    "# Añadir los resultados al DataFrame original\n",
    "df_anomaly_encoded_original[\"fuzzy_cluster_2\"] = fcm_labels\n",
    "\n",
    "# Mostrar los grados de pertenencia (opcional)\n",
    "print(\"Grados de pertenencia:\")\n",
    "print(fcm_u)\n",
    "\n",
    "# Mostrar los centros de los clusters\n",
    "print(\"\\nCentros de los clusters:\")\n",
    "print(fcm_centers)\n",
    "\n",
    "# # Mostrar el DataFrame con los clusters asignados\n",
    "# print(\"\\nDataFrame con clusters difusos:\")\n",
    "# print(df_label_encoded_cluster_fzz[['id', 'fuzzy_cluster']])"
   ]
  },
  {
   "cell_type": "code",
   "execution_count": null,
   "metadata": {
    "colab": {
     "base_uri": "https://localhost:8080/",
     "height": 210
    },
    "id": "MmYNxb5_55Eb",
    "outputId": "baee1315-c801-4c66-dd20-826597a86896"
   },
   "outputs": [
    {
     "data": {
      "text/html": [
       "<div>\n",
       "<style scoped>\n",
       "    .dataframe tbody tr th:only-of-type {\n",
       "        vertical-align: middle;\n",
       "    }\n",
       "\n",
       "    .dataframe tbody tr th {\n",
       "        vertical-align: top;\n",
       "    }\n",
       "\n",
       "    .dataframe thead th {\n",
       "        text-align: right;\n",
       "    }\n",
       "</style>\n",
       "<table border=\"1\" class=\"dataframe\">\n",
       "  <thead>\n",
       "    <tr style=\"text-align: right;\">\n",
       "      <th></th>\n",
       "      <th>count</th>\n",
       "    </tr>\n",
       "    <tr>\n",
       "      <th>fuzzy_cluster_2</th>\n",
       "      <th></th>\n",
       "    </tr>\n",
       "  </thead>\n",
       "  <tbody>\n",
       "    <tr>\n",
       "      <th>0</th>\n",
       "      <td>107627</td>\n",
       "    </tr>\n",
       "    <tr>\n",
       "      <th>1</th>\n",
       "      <td>46267</td>\n",
       "    </tr>\n",
       "    <tr>\n",
       "      <th>2</th>\n",
       "      <td>6746</td>\n",
       "    </tr>\n",
       "  </tbody>\n",
       "</table>\n",
       "</div><br><label><b>dtype:</b> int64</label>"
      ],
      "text/plain": [
       "fuzzy_cluster_2\n",
       "0    107627\n",
       "1     46267\n",
       "2      6746\n",
       "Name: count, dtype: int64"
      ]
     },
     "execution_count": 48,
     "metadata": {},
     "output_type": "execute_result"
    }
   ],
   "source": [
    "df_anomaly_encoded_original[\"fuzzy_cluster_2\"].value_counts()"
   ]
  },
  {
   "cell_type": "code",
   "execution_count": null,
   "metadata": {
    "colab": {
     "base_uri": "https://localhost:8080/",
     "height": 719
    },
    "id": "lq0qk2Ev6Gsv",
    "outputId": "a50e54f0-50fb-45fe-fe85-a1bda0c19c6f"
   },
   "outputs": [
    {
     "data": {
      "image/png": "[encoded data removed]",
      "text/plain": [
       "<Figure size 1000x800 with 1 Axes>"
      ]
     },
     "metadata": {},
     "output_type": "display_data"
    }
   ],
   "source": [
    "# Asegúrate de que 'Cluster' sea numérico o categórico\n",
    "df_anomaly_encoded_original[\"fuzzy_cluster_2\"] = df_anomaly_encoded_original[\n",
    "    \"fuzzy_cluster_2\"\n",
    "].astype(str)  # O numérico si es apropiado\n",
    "\n",
    "# Crea el gráfico de dispersión con colores basados en 'Cluster'\n",
    "plt.figure(figsize=(10, 8))  # Ajusta el tamaño de la figura si es necesario\n",
    "sns.scatterplot(\n",
    "    x=\"LONG_USU\", y=\"LATI_USU\", hue=\"fuzzy_cluster_2\", data=df_anomaly_encoded_original\n",
    ")\n",
    "\n",
    "# Añade etiquetas y título\n",
    "plt.title(\"Gráfico de Dispersión: LATI_USU vs LONG_USU por Cluster\")\n",
    "plt.xlabel(\"LONGITUD USUARIO\")\n",
    "plt.ylabel(\"LATITUD USUARIO\")\n",
    "\n",
    "# Muestra la leyenda (automática con 'hue')\n",
    "plt.legend(title=\"fuzzy_cluster_2\")\n",
    "\n",
    "# Muestra el gráfico\n",
    "plt.show()"
   ]
  },
  {
   "cell_type": "code",
   "execution_count": null,
   "metadata": {
    "id": "FtM4kRnN_SjX"
   },
   "outputs": [],
   "source": [
    "df_nuevo_extendido[\"Cluster\"] = df_anomaly_encoded_original[\"fuzzy_cluster_2\"]"
   ]
  },
  {
   "cell_type": "code",
   "execution_count": null,
   "metadata": {
    "id": "M34RsYm-E3bl"
   },
   "outputs": [],
   "source": [
    "# import pandas as pd\n",
    "\n",
    "# # Suponiendo que df_nuevo_extendido y df_anomaly_encoded_original ya están definidos\n",
    "\n",
    "# df_nuevo_extendido = pd.concat([df_nuevo_extendido, df_anomaly_encoded_original['fuzzy_cluster_2']], axis=1)"
   ]
  },
  {
   "cell_type": "code",
   "execution_count": null,
   "metadata": {
    "colab": {
     "base_uri": "https://localhost:8080/"
    },
    "id": "oaFPlDMP_e-I",
    "outputId": "7a0bba56-2827-445e-aac7-1797c052a039"
   },
   "outputs": [
    {
     "data": {
      "text/plain": [
       "Index(['Orden', 'Usuario', 'Ejecucion', 'Codigo', 'Descripcion', 'Motivo',\n",
       "       'kWh Rec', 'Factor', 'id', 'Nombre', 'Factor.1', 'AREA',\n",
       "       'PLAN_COMERCIAL', 'TRAFO_OPEN', 'FASES', 'KVA', 'LATI_USU', 'LONG_USU',\n",
       "       'puntaje', 'evaluacion', 'fuzzy_cluster_2'],\n",
       "      dtype='object')"
      ]
     },
     "execution_count": 80,
     "metadata": {},
     "output_type": "execute_result"
    }
   ],
   "source": [
    "df_nuevo_extendido.columns"
   ]
  },
  {
   "cell_type": "code",
   "execution_count": null,
   "metadata": {
    "id": "R2Paf9YW6XCB"
   },
   "outputs": [],
   "source": [
    "df_nuevo_extendido.to_csv(\"df_anomaly_encoded_fzz_2_ind.csv\", index=False)"
   ]
  },
  {
   "cell_type": "code",
   "execution_count": null,
   "metadata": {
    "colab": {
     "base_uri": "https://localhost:8080/"
    },
    "id": "D5Nk3VVqD6Vu",
    "outputId": "c52750df-d37f-4913-e608-7dea6423ae93"
   },
   "outputs": [
    {
     "name": "stdout",
     "output_type": "stream",
     "text": [
      "<class 'pandas.core.frame.DataFrame'>\n",
      "RangeIndex: 160640 entries, 0 to 160639\n",
      "Data columns (total 21 columns):\n",
      " #   Column          Non-Null Count   Dtype  \n",
      "---  ------          --------------   -----  \n",
      " 0   Orden           160640 non-null  int64  \n",
      " 1   Usuario         160640 non-null  int64  \n",
      " 2   Ejecucion       160640 non-null  object \n",
      " 3   Codigo          160640 non-null  object \n",
      " 4   Descripcion     160640 non-null  object \n",
      " 5   Motivo          155299 non-null  object \n",
      " 6   kWh Rec         137436 non-null  float64\n",
      " 7   Factor          41 non-null      float64\n",
      " 8   id              160640 non-null  int64  \n",
      " 9   Nombre          160640 non-null  object \n",
      " 10  Factor.1        41 non-null      float64\n",
      " 11  AREA            160640 non-null  object \n",
      " 12  PLAN_COMERCIAL  160640 non-null  object \n",
      " 13  TRAFO_OPEN      160594 non-null  object \n",
      " 14  FASES           159188 non-null  float64\n",
      " 15  KVA             160640 non-null  float64\n",
      " 16  LATI_USU        160640 non-null  float64\n",
      " 17  LONG_USU        160640 non-null  float64\n",
      " 18  puntaje         160640 non-null  int64  \n",
      " 19  evaluacion      160640 non-null  int64  \n",
      " 20  Cluster         160640 non-null  object \n",
      "dtypes: float64(7), int64(5), object(9)\n",
      "memory usage: 25.7+ MB\n"
     ]
    }
   ],
   "source": [
    "df_nuevo_extendido.info()"
   ]
  },
  {
   "cell_type": "markdown",
   "metadata": {
    "id": "3DuFa3OBgPsq"
   },
   "source": [
    "# Revisión para continuación"
   ]
  },
  {
   "cell_type": "code",
   "execution_count": null,
   "metadata": {
    "id": "q7n1yB6FgORA"
   },
   "outputs": [],
   "source": [
    "# Simulación de aplicación de FCM (reemplaza con tu código real)\n",
    "n_clusters = 3  # Define el número de clústeres\n",
    "fcm = FCM(n_clusters=n_clusters, random_state=42)\n",
    "fcm.fit(df.values)  # Asegúrate de pasar los datos como un array de NumPy\n",
    "\n",
    "# 1. Obtener los grados de pertenencia a cada clúster\n",
    "fcm_u = fcm.u\n",
    "df_u = pd.DataFrame(\n",
    "    fcm_u.T, columns=[f\"Grado_Cluster_{i + 1}\" for i in range(n_clusters)]\n",
    ")\n",
    "# Transponemos fcm.u (.T) para que cada columna represente un clúster\n",
    "# y las filas correspondan a los puntos de datos originales.\n",
    "# Asignamos nombres de columna descriptivos.\n",
    "\n",
    "# 2. Obtener el clúster final de asociación (asignación \"hard\")\n",
    "fcm_labels = np.argmax(fcm_u, axis=0)\n",
    "df_labels = pd.DataFrame(fcm_labels, columns=[\"Cluster_Asignado\"])\n",
    "\n",
    "# 3. Integrar los grados de pertenencia y la asignación final al DataFrame original (opcional)\n",
    "df_con_clusters = pd.concat([df, df_u, df_labels], axis=1)\n",
    "\n",
    "# Mostrar las primeras filas del DataFrame con los resultados\n",
    "print(df_con_clusters.head())\n",
    "\n",
    "# Puedes acceder a los grados de pertenencia a un clúster específico así:\n",
    "print(\"\\nGrados de pertenencia al Clúster 1:\")\n",
    "print(df_con_clusters[\"Grado_Cluster_1\"].head())\n",
    "\n",
    "# Y al clúster asignado a cada punto así:\n",
    "print(\"\\nClúster asignado a cada punto:\")\n",
    "print(df_con_clusters[\"Cluster_Asignado\"].head())"
   ]
  }
 ],
 "metadata": {
  "colab": {
   "provenance": []
  },
  "kernelspec": {
   "display_name": "Python 3",
   "name": "python3"
  },
  "language_info": {
   "name": "python"
  }
 },
 "nbformat": 4,
 "nbformat_minor": 0
}
