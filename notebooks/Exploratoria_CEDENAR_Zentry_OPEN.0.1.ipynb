{
 "cells": [
  {
   "cell_type": "markdown",
   "id": "c54033b8-661e-4cb8-9f75-8f5f7d35cb7f",
   "metadata": {},
   "source": [
    "# Exploración datos Zentry"
   ]
  },
  {
   "cell_type": "code",
   "execution_count": 1,
   "id": "230be1c3-2fa3-4846-824c-df02a147a52b",
   "metadata": {
    "ExecuteTime": {
     "end_time": "2025-05-01T03:05:10.515015Z",
     "start_time": "2025-05-01T03:05:10.217332Z"
    }
   },
   "outputs": [],
   "source": [
    "import os\n",
    "\n",
    "import pandas as pd\n",
    "\n",
    "from cedenar_anomalies.utils.paths import (\n",
    "    data_interim_dir,\n",
    "    data_processed_dir,\n",
    "    data_raw_dir,\n",
    ")"
   ]
  },
  {
   "cell_type": "code",
   "execution_count": 1,
   "id": "86daee0e-0ad5-4fa0-b8fb-a322e9fee389",
   "metadata": {
    "ExecuteTime": {
     "end_time": "2025-05-02T23:21:46.694533Z",
     "start_time": "2025-05-02T23:21:46.626751Z"
    }
   },
   "outputs": [
    {
     "ename": "NameError",
     "evalue": "name 'os' is not defined",
     "output_type": "error",
     "traceback": [
      "\u001b[31m---------------------------------------------------------------------------\u001b[39m",
      "\u001b[31mNameError\u001b[39m                                 Traceback (most recent call last)",
      "\u001b[36mCell\u001b[39m\u001b[36m \u001b[39m\u001b[32mIn[1]\u001b[39m\u001b[32m, line 1\u001b[39m\n\u001b[32m----> \u001b[39m\u001b[32m1\u001b[39m \u001b[43mos\u001b[49m.getcwd()\n",
      "\u001b[31mNameError\u001b[39m: name 'os' is not defined"
     ]
    }
   ],
   "source": [
    "os.getcwd()"
   ]
  },
  {
   "cell_type": "code",
   "execution_count": 3,
   "id": "ce070f35-783a-4c13-af2d-2921ab529c2a",
   "metadata": {
    "ExecuteTime": {
     "end_time": "2025-05-02T23:21:46.711035Z",
     "start_time": "2025-05-01T03:05:11.844340Z"
    }
   },
   "outputs": [],
   "source": [
    "pd.set_option(\"display.max_rows\", None)  # Mostrar todas las filas\n",
    "pd.set_option(\"display.max_columns\", None)  # Mostrar todas las columnas"
   ]
  },
  {
   "cell_type": "markdown",
   "id": "d15bd8bc-a5e8-42db-8398-79cb8d27de69",
   "metadata": {},
   "source": "### Datos 2022"
  },
  {
   "cell_type": "code",
   "execution_count": 23,
   "id": "c7c1064f-a1fd-41ab-96ba-dc5bbc8204ec",
   "metadata": {},
   "outputs": [],
   "source": [
    "# ruta_archivo = 'J:\\\\JESSICA\\\\Jessica\\\\Rafael\\\\igrid\\\\cedenar\\\\python_zentr\\\\zentry\\\\plain4.csv'  # Reemplaza con tu ruta\n",
    "# df_2022 = pd.read_csv(ruta_archivo)"
   ]
  },
  {
   "cell_type": "code",
   "execution_count": 14,
   "id": "3486a6bb-5c78-40d5-bbe1-6e89b54db8c0",
   "metadata": {
    "ExecuteTime": {
     "end_time": "2025-05-01T00:08:53.589810Z",
     "start_time": "2025-05-01T00:08:53.588150Z"
    }
   },
   "outputs": [],
   "source": [
    "# df_2022.info()"
   ]
  },
  {
   "cell_type": "code",
   "execution_count": null,
   "id": "a496fe35-9338-4852-925c-80cfd87475af",
   "metadata": {},
   "outputs": [],
   "source": [
    "# df_2022.info() # Documento enviado inicialmente"
   ]
  },
  {
   "cell_type": "code",
   "execution_count": null,
   "id": "f5b0d033-1494-442a-93a6-8a6f9a5d861c",
   "metadata": {},
   "outputs": [],
   "source": [
    "# valores_unicos_id = df_2022['id'].unique()\n",
    "#\n",
    "# df_unicos_id = pd.DataFrame(valores_unicos_id, columns=['id_2022'])\n",
    "#\n",
    "# df_unicos_id.to_excel('identificadores_unicos2022_.xlsx', index=False)\n",
    "#\n",
    "# print(\"Valores únicos de 'id' exportados a identificadores_unicos2022_.xlsx\")"
   ]
  },
  {
   "cell_type": "code",
   "execution_count": 30,
   "id": "4922c9cf-7283-4004-be14-13bc2de80213",
   "metadata": {},
   "outputs": [
    {
     "name": "stdout",
     "output_type": "stream",
     "text": [
      "Número de filas: 19028473\n",
      "Número de columnas: 5\n"
     ]
    }
   ],
   "source": [
    "# filas, columnas = df_2022.shape\n",
    "#\n",
    "# print(f\"Número de filas: {filas}\")\n",
    "# print(f\"Número de columnas: {columnas}\")"
   ]
  },
  {
   "cell_type": "code",
   "execution_count": null,
   "id": "dd842890-8162-4005-a477-50626395a50e",
   "metadata": {},
   "outputs": [],
   "source": [
    "# filas, columnas = df_2022.shape\n",
    "\n",
    "# print(f\"Número de filas: {filas}\")\n",
    "# print(f\"Número de columnas: {columnas}\")"
   ]
  },
  {
   "cell_type": "markdown",
   "id": "68387de6c87d91b7",
   "metadata": {},
   "source": "### Datos 2023"
  },
  {
   "cell_type": "code",
   "execution_count": 4,
   "id": "3fc63dbc-86c1-480f-ba39-ddf77dcad004",
   "metadata": {
    "ExecuteTime": {
     "end_time": "2025-05-02T23:21:46.727492Z",
     "start_time": "2025-05-01T03:05:15.066939Z"
    }
   },
   "outputs": [
    {
     "name": "stderr",
     "output_type": "stream",
     "text": [
      "/var/folders/pq/cm_j30pd6d5gvwryc4gttm2h0000gn/T/ipykernel_7922/4246414070.py:3: DtypeWarning: Columns (4) have mixed types. Specify dtype option on import or set low_memory=False.\n",
      "  df_2023 = pd.read_csv(ruta_archivo)\n"
     ]
    }
   ],
   "source": [
    "# ruta_archivo = 'J:\\\\JESSICA\\\\Jessica\\\\Rafael\\\\igrid\\\\cedenar\\\\python_zentr\\\\zentry\\\\plain3.csv'  # Reemplaza con tu ruta\n",
    "ruta_archivo = data_raw_dir(\"plain3.csv\")\n",
    "df_2023 = pd.read_csv(ruta_archivo)"
   ]
  },
  {
   "cell_type": "code",
   "execution_count": 5,
   "id": "6be16866-ed30-4f55-b779-943b93ff9afa",
   "metadata": {
    "ExecuteTime": {
     "end_time": "2025-05-02T23:21:46.743567Z",
     "start_time": "2025-05-01T03:05:53.715028Z"
    }
   },
   "outputs": [
    {
     "name": "stdout",
     "output_type": "stream",
     "text": [
      "<class 'pandas.core.frame.DataFrame'>\n",
      "RangeIndex: 16505432 entries, 0 to 16505431\n",
      "Data columns (total 5 columns):\n",
      " #   Column    Dtype \n",
      "---  ------    ----- \n",
      " 0   odt       int64 \n",
      " 1   id        int64 \n",
      " 2   item      object\n",
      " 3   tipodato  object\n",
      " 4   value     object\n",
      "dtypes: int64(2), object(3)\n",
      "memory usage: 629.6+ MB\n"
     ]
    }
   ],
   "source": [
    "df_2023.info()"
   ]
  },
  {
   "cell_type": "code",
   "execution_count": 6,
   "id": "9b1ce722-9141-4b1b-879b-9b6e90448b33",
   "metadata": {
    "ExecuteTime": {
     "end_time": "2025-05-01T03:05:53.916938Z",
     "start_time": "2025-05-01T03:05:53.759274Z"
    }
   },
   "outputs": [
    {
     "name": "stdout",
     "output_type": "stream",
     "text": [
      "Valores únicos de 'id' exportados a identificadores_unicos2023.xlsx\n"
     ]
    }
   ],
   "source": [
    "valores_unicos_id = df_2023[\"id\"].unique()\n",
    "\n",
    "df_unicos_id = pd.DataFrame(valores_unicos_id, columns=[\"id_2023\"])\n",
    "\n",
    "df_unicos_id.to_excel(data_interim_dir(\"identificadores_unicos2023.xlsx\"), index=False)\n",
    "\n",
    "print(\"Valores únicos de 'id' exportados a identificadores_unicos2023.xlsx\")"
   ]
  },
  {
   "cell_type": "code",
   "execution_count": 7,
   "id": "61499dd5-b318-4c81-a6a2-6c7d382b3524",
   "metadata": {
    "ExecuteTime": {
     "end_time": "2025-05-01T03:05:53.925727Z",
     "start_time": "2025-05-01T03:05:53.924032Z"
    }
   },
   "outputs": [
    {
     "name": "stdout",
     "output_type": "stream",
     "text": [
      "Número de filas: 16505432\n",
      "Número de columnas: 5\n"
     ]
    }
   ],
   "source": [
    "filas, columnas = df_2023.shape\n",
    "\n",
    "print(f\"Número de filas: {filas}\")\n",
    "print(f\"Número de columnas: {columnas}\")"
   ]
  },
  {
   "cell_type": "markdown",
   "id": "2da86f2dde38983",
   "metadata": {},
   "source": "### Datos 2024"
  },
  {
   "cell_type": "code",
   "execution_count": 7,
   "id": "c33442b4-c8f0-4506-b1cc-187d0fc7b20b",
   "metadata": {},
   "outputs": [
    {
     "name": "stderr",
     "output_type": "stream",
     "text": [
      "C:\\Users\\User\\AppData\\Local\\Temp\\ipykernel_9532\\55379066.py:2: DtypeWarning: Columns (4) have mixed types. Specify dtype option on import or set low_memory=False.\n",
      "  df_2024 = pd.read_csv(ruta_archivo)\n"
     ]
    }
   ],
   "source": [
    "# ruta_archivo = 'J:\\\\JESSICA\\\\Jessica\\\\Rafael\\\\igrid\\\\cedenar\\\\python_zentr\\\\zentry\\\\plain5.csv'  # Reemplaza con tu ruta\n",
    "# df_2024 = pd.read_csv(ruta_archivo)"
   ]
  },
  {
   "cell_type": "code",
   "execution_count": 9,
   "id": "3c1f54b5-bfcb-4321-8b29-d90202af827b",
   "metadata": {},
   "outputs": [
    {
     "name": "stdout",
     "output_type": "stream",
     "text": [
      "Valores únicos de 'id' exportados a identificadores_unicos2024.xlsx\n"
     ]
    }
   ],
   "source": [
    "# valores_unicos_id = df_2024['id'].unique()\n",
    "#\n",
    "# df_unicos_id = pd.DataFrame(valores_unicos_id, columns=['id_2024'])\n",
    "#\n",
    "# df_unicos_id.to_excel('identificadores_unicos2024.xlsx', index=False)\n",
    "#\n",
    "# print(\"Valores únicos de 'id' exportados a identificadores_unicos2024.xlsx\")"
   ]
  },
  {
   "cell_type": "code",
   "execution_count": 11,
   "id": "4a45ade1-c275-4658-b276-90444668bc0f",
   "metadata": {},
   "outputs": [
    {
     "name": "stdout",
     "output_type": "stream",
     "text": [
      "Número de filas: 14633723\n",
      "Número de columnas: 5\n"
     ]
    }
   ],
   "source": [
    "# filas, columnas = df_2024.shape\n",
    "#\n",
    "# print(f\"Número de filas: {filas}\")\n",
    "# print(f\"Número de columnas: {columnas}\")"
   ]
  },
  {
   "cell_type": "code",
   "execution_count": null,
   "id": "175ee769-22fd-41e2-8f52-51864bb1efb4",
   "metadata": {},
   "outputs": [],
   "source": [
    "valores_nulos_por_columna = df_2022.isnull().sum()\n",
    "print(valores_nulos_por_columna)"
   ]
  },
  {
   "cell_type": "markdown",
   "id": "c4dba3fc-b884-4274-a969-7accddcb2b6c",
   "metadata": {},
   "source": [
    "### Referencia código Exportar niveles del documento"
   ]
  },
  {
   "cell_type": "code",
   "execution_count": 8,
   "id": "825ff5fa-29f0-4595-b120-a38808e30655",
   "metadata": {
    "ExecuteTime": {
     "end_time": "2025-05-01T01:55:21.034050Z",
     "start_time": "2025-05-01T01:55:21.032601Z"
    }
   },
   "outputs": [],
   "source": [
    "# evento2022 = df_2022.copy()\n",
    "# # variable 'id' es de tipo categórico\n",
    "# evento2022['id'] = evento2022['id'].astype('category')\n",
    "\n",
    "# # Obtener los niveles únicos de la variable 'id'\n",
    "# niveles_id = evento2022['id'].cat.categories\n",
    "\n",
    "# # Convertir los niveles a un DataFrame\n",
    "# df_niveles_id = pd.DataFrame(niveles_id, columns=['id_unico'])\n",
    "\n",
    "# # Guardar el DataFrame en un archivo CSV\n",
    "# df_niveles_id.to_csv('niveles_id_unicos_2022.csv', index=False)\n",
    "\n",
    "# print(\"Niveles únicos de 'id' guardados en niveles_id_unicos_2022.csv\")"
   ]
  },
  {
   "cell_type": "code",
   "execution_count": 9,
   "id": "ba8b436c-2cda-48be-85ad-8043d0d467c0",
   "metadata": {
    "ExecuteTime": {
     "end_time": "2025-05-01T01:55:21.049708Z",
     "start_time": "2025-05-01T01:55:21.048220Z"
    }
   },
   "outputs": [],
   "source": [
    "# df_niveles_id.head()"
   ]
  },
  {
   "cell_type": "markdown",
   "id": "26c9a3fb-20ba-426a-87f0-1252ea322709",
   "metadata": {},
   "source": "## Datos únicos odt documentos"
  },
  {
   "cell_type": "markdown",
   "id": "2ed28a96-cde3-4f3d-bd4a-63a4b22f6551",
   "metadata": {},
   "source": [
    "#### 2022"
   ]
  },
  {
   "cell_type": "code",
   "execution_count": 16,
   "id": "a5fc6cd1-8c91-4a38-9ef4-9c20a74a965b",
   "metadata": {},
   "outputs": [
    {
     "name": "stdout",
     "output_type": "stream",
     "text": [
      "Niveles únicos de 'odt' guardados en niveles_odt_unicos_2022.csv\n"
     ]
    }
   ],
   "source": [
    "# evento2022_odt = df_2022.copy()\n",
    "# # variable 'id' es de tipo categórico\n",
    "# evento2022_odt['odt'] = evento2022_odt['odt'].astype('category')\n",
    "#\n",
    "# # Obtener los niveles únicos de la variable 'id'\n",
    "# niveles_odt = evento2022_odt['odt'].cat.categories\n",
    "#\n",
    "# # Convertir los niveles a un DataFrame\n",
    "# df_niveles_odt = pd.DataFrame(niveles_odt, columns=['odt_unico'])\n",
    "#\n",
    "# # Guardar el DataFrame en un archivo CSV\n",
    "# df_niveles_odt.to_csv('niveles_odt_unicos_2022.csv', index=False)\n",
    "#\n",
    "# print(\"Niveles únicos de 'odt' guardados en niveles_odt_unicos_2022.csv\")"
   ]
  },
  {
   "cell_type": "markdown",
   "id": "580c43e64e0d1103",
   "metadata": {},
   "source": "### 2023"
  },
  {
   "cell_type": "code",
   "execution_count": 8,
   "id": "48f7a626-7aff-418d-b2f4-03c560965a00",
   "metadata": {
    "ExecuteTime": {
     "end_time": "2025-05-01T03:05:54.190721Z",
     "start_time": "2025-05-01T03:05:53.961021Z"
    }
   },
   "outputs": [
    {
     "name": "stdout",
     "output_type": "stream",
     "text": [
      "Niveles únicos de 'odt' guardados en niveles_odt_unicos_2023.csv\n"
     ]
    }
   ],
   "source": [
    "evento2023_odt = df_2023.copy()\n",
    "# variable 'id' es de tipo categórico\n",
    "evento2023_odt[\"odt\"] = evento2023_odt[\"odt\"].astype(\"category\")\n",
    "\n",
    "# Obtener los niveles únicos de la variable 'id'\n",
    "niveles_odt = evento2023_odt[\"odt\"].cat.categories\n",
    "\n",
    "# Convertir los niveles a un DataFrame\n",
    "df_niveles_odt = pd.DataFrame(niveles_odt, columns=[\"odt_unico\"])\n",
    "\n",
    "# Guardar el DataFrame en un archivo CSV\n",
    "df_niveles_odt.to_csv(data_interim_dir(\"niveles_odt_unicos_2023.csv\"), index=False)\n",
    "\n",
    "print(\"Niveles únicos de 'odt' guardados en niveles_odt_unicos_2023.csv\")"
   ]
  },
  {
   "cell_type": "markdown",
   "id": "a79a25590ff75b4",
   "metadata": {},
   "source": "### 2024"
  },
  {
   "cell_type": "code",
   "execution_count": 13,
   "id": "254f3cf1-f870-476d-9631-dc67194b185d",
   "metadata": {},
   "outputs": [
    {
     "name": "stdout",
     "output_type": "stream",
     "text": [
      "Niveles únicos de 'odt' guardados en niveles_odt_unicos_2024.csv\n"
     ]
    }
   ],
   "source": [
    "# evento2024_odt = df_2024.copy()\n",
    "# # variable 'id' es de tipo categórico\n",
    "# evento2024_odt['odt'] = evento2024_odt['odt'].astype('category')\n",
    "#\n",
    "# # Obtener los niveles únicos de la variable 'id'\n",
    "# niveles_odt = evento2024_odt['odt'].cat.categories\n",
    "#\n",
    "# # Convertir los niveles a un DataFrame\n",
    "# df_niveles_odt = pd.DataFrame(niveles_odt, columns=['odt_unico'])\n",
    "#\n",
    "# # Guardar el DataFrame en un archivo CSV\n",
    "# df_niveles_odt.to_csv('niveles_odt_unicos_2024.csv', index=False)\n",
    "#\n",
    "# print(\"Niveles únicos de 'odt' guardados en niveles_odt_unicos_2024.csv\")"
   ]
  },
  {
   "cell_type": "markdown",
   "id": "c11cb013-7248-44bd-a206-71faae0bf4cf",
   "metadata": {},
   "source": [
    "## Particiones datasets"
   ]
  },
  {
   "cell_type": "markdown",
   "id": "4d1ddaca-99a1-4d68-8303-e9837ee3194d",
   "metadata": {},
   "source": [
    "### 2022"
   ]
  },
  {
   "cell_type": "code",
   "execution_count": 32,
   "id": "fa897861-04ed-457b-9666-faed0c46e858",
   "metadata": {},
   "outputs": [
    {
     "name": "stdout",
     "output_type": "stream",
     "text": [
      "Proceso completado.\n"
     ]
    }
   ],
   "source": [
    "evento2022 = df_2022.copy()\n",
    "# variable 'id' es de tipo categórico\n",
    "evento2022[\"id\"] = evento2022[\"id\"].astype(\"category\")\n",
    "\n",
    "# Obtener los niveles únicos de la variable 'id'\n",
    "niveles_id = evento2022[\"id\"].cat.categories\n",
    "\n",
    "# Crear un dataset por cada nivel de 'id'\n",
    "for nivel in niveles_id:\n",
    "    # Filtrar el dataset por cada nivel\n",
    "    subset_nivel = evento2022[evento2022[\"id\"] == nivel]\n",
    "\n",
    "    # Guardar el datasets\n",
    "    globals()[f\"evento2022_{nivel}\"] = subset_nivel\n",
    "\n",
    "    subset_nivel.to_csv(f\"evento2022_{nivel}.csv\", index=False)\n",
    "\n",
    "print(\"Proceso completado.\")"
   ]
  },
  {
   "cell_type": "markdown",
   "id": "0ec04d38-fd9b-4900-a4d7-7c006bbda9fb",
   "metadata": {},
   "source": [
    "### 2023"
   ]
  },
  {
   "cell_type": "code",
   "execution_count": 9,
   "id": "8797fe50-9315-4214-b8ac-fef8943e0765",
   "metadata": {
    "ExecuteTime": {
     "end_time": "2025-05-01T03:07:31.860481Z",
     "start_time": "2025-05-01T03:05:55.796316Z"
    }
   },
   "outputs": [
    {
     "name": "stdout",
     "output_type": "stream",
     "text": [
      "Proceso completado.\n"
     ]
    }
   ],
   "source": [
    "evento2023 = df_2023.copy()\n",
    "# variable 'id' es de tipo categórico\n",
    "evento2023[\"id\"] = evento2023[\"id\"].astype(\"category\")\n",
    "\n",
    "# Obtener los niveles únicos de la variable 'id'\n",
    "niveles_id = evento2023[\"id\"].cat.categories\n",
    "\n",
    "# Crear un dataset por cada nivel de 'id'\n",
    "for nivel in niveles_id:\n",
    "    # Filtrar el dataset por cada nivel\n",
    "    subset_nivel = evento2023[evento2023[\"id\"] == nivel]\n",
    "\n",
    "    # Guardar el datasets\n",
    "    globals()[f\"evento2023_{nivel}\"] = subset_nivel\n",
    "\n",
    "    subset_nivel.to_csv(data_interim_dir(f\"evento2023_{nivel}.csv\"), index=False)\n",
    "\n",
    "print(\"Proceso completado.\")"
   ]
  },
  {
   "cell_type": "markdown",
   "id": "14f87b08-e295-4141-abd4-b96119f2beef",
   "metadata": {},
   "source": "### 2024"
  },
  {
   "cell_type": "code",
   "execution_count": 15,
   "id": "385e05c9-8783-4e5a-bca3-4b26573d9c87",
   "metadata": {},
   "outputs": [
    {
     "name": "stdout",
     "output_type": "stream",
     "text": [
      "Proceso completado.\n"
     ]
    }
   ],
   "source": [
    "evento2024 = df_2024.copy()\n",
    "# variable 'id' es de tipo categórico\n",
    "evento2024[\"id\"] = evento2024[\"id\"].astype(\"category\")\n",
    "\n",
    "# Obtener los niveles únicos de la variable 'id'\n",
    "niveles_id = evento2024[\"id\"].cat.categories\n",
    "\n",
    "# Crear un dataset por cada nivel de 'id'\n",
    "for nivel in niveles_id:\n",
    "    # Filtrar el dataset por cada nivel\n",
    "    subset_nivel = evento2024[evento2024[\"id\"] == nivel]\n",
    "\n",
    "    # Guardar el datasets\n",
    "    globals()[f\"evento2024_{nivel}\"] = subset_nivel\n",
    "\n",
    "    subset_nivel.to_csv(f\"evento2024_{nivel}.csv\", index=False)\n",
    "\n",
    "print(\"Proceso completado.\")"
   ]
  },
  {
   "cell_type": "markdown",
   "id": "fefa6009-90d5-4a35-bd63-b5cf34adfc04",
   "metadata": {},
   "source": [
    "### Frecuencias"
   ]
  },
  {
   "cell_type": "markdown",
   "id": "a9dcc1f8-ac97-41c7-9560-a796b104bfe6",
   "metadata": {},
   "source": [
    "### 2022"
   ]
  },
  {
   "cell_type": "code",
   "execution_count": null,
   "id": "80e23f41-3e99-48a6-9771-291352ac36dc",
   "metadata": {},
   "outputs": [],
   "source": [
    "# for nivel in niveles_id:\n",
    "#     subset_nivel = evento2022[evento2022['id'] == nivel]\n",
    "#\n",
    "#     # Calcular las frecuencias de la variable 'item'\n",
    "#     print(f\"Frecuencias para id = {nivel}\")\n",
    "#     print(subset_nivel['item'].value_counts())\n"
   ]
  },
  {
   "cell_type": "code",
   "execution_count": 41,
   "id": "e1458d61-b302-4b85-8dff-16ef46fc0612",
   "metadata": {},
   "outputs": [],
   "source": [
    "# resultados = []\n",
    "#\n",
    "# for nivel in niveles_id:\n",
    "#     subset_nivel = evento2022[evento2022['id'] == nivel]\n",
    "#\n",
    "#     frecuencias = subset_nivel['item'].value_counts().items()\n",
    "#\n",
    "#     for item, frecuencia in frecuencias:\n",
    "#         resultados.append({'id': nivel, 'item': item, 'frecuencia': frecuencia})\n",
    "#\n",
    "# # DataFrame a partir de la lista de resultados\n",
    "# df_resultados_2022 = pd.DataFrame(resultados)"
   ]
  },
  {
   "cell_type": "code",
   "execution_count": 43,
   "id": "fed36114-1730-4998-bf4b-182d3f10d4f5",
   "metadata": {},
   "outputs": [
    {
     "name": "stdout",
     "output_type": "stream",
     "text": [
      "Resultados guardados en frecuencias_id_item_2022.xlsx\n"
     ]
    }
   ],
   "source": [
    "# # archivo Excel\n",
    "# df_resultados_2022.to_excel('frecuencias_id_item_2022.xlsx', index=False)\n",
    "#\n",
    "# print(\"Resultados guardados en frecuencias_id_item_2022.xlsx\")"
   ]
  },
  {
   "cell_type": "code",
   "execution_count": 46,
   "id": "0a12544a-d541-4cf0-acc0-b6a51dd35c9c",
   "metadata": {},
   "outputs": [
    {
     "data": {
      "text/html": [
       "<div>\n",
       "<style scoped>\n",
       "    .dataframe tbody tr th:only-of-type {\n",
       "        vertical-align: middle;\n",
       "    }\n",
       "\n",
       "    .dataframe tbody tr th {\n",
       "        vertical-align: top;\n",
       "    }\n",
       "\n",
       "    .dataframe thead th {\n",
       "        text-align: right;\n",
       "    }\n",
       "</style>\n",
       "<table border=\"1\" class=\"dataframe\">\n",
       "  <thead>\n",
       "    <tr style=\"text-align: right;\">\n",
       "      <th></th>\n",
       "      <th>id</th>\n",
       "      <th>item</th>\n",
       "      <th>frecuencia</th>\n",
       "    </tr>\n",
       "  </thead>\n",
       "  <tbody>\n",
       "    <tr>\n",
       "      <th>0</th>\n",
       "      <td>1</td>\n",
       "      <td>Zona</td>\n",
       "      <td>166633</td>\n",
       "    </tr>\n",
       "    <tr>\n",
       "      <th>1</th>\n",
       "      <td>3</td>\n",
       "      <td>Dirección</td>\n",
       "      <td>169188</td>\n",
       "    </tr>\n",
       "    <tr>\n",
       "      <th>2</th>\n",
       "      <td>4</td>\n",
       "      <td>Municipio</td>\n",
       "      <td>166638</td>\n",
       "    </tr>\n",
       "  </tbody>\n",
       "</table>\n",
       "</div>"
      ],
      "text/plain": [
       "   id       item  frecuencia\n",
       "0   1       Zona      166633\n",
       "1   3  Dirección      169188\n",
       "2   4  Municipio      166638"
      ]
     },
     "execution_count": 46,
     "metadata": {},
     "output_type": "execute_result"
    }
   ],
   "source": [
    "# df_resultados_2022.head(3)"
   ]
  },
  {
   "cell_type": "markdown",
   "id": "3bcfacea-209c-4442-a2b1-adf63ddbfbc9",
   "metadata": {},
   "source": [
    "### 2023"
   ]
  },
  {
   "cell_type": "code",
   "execution_count": 10,
   "id": "72193626-a2cd-4c5e-b70c-ac2c8ebedaf2",
   "metadata": {
    "ExecuteTime": {
     "end_time": "2025-05-01T03:07:35.979078Z",
     "start_time": "2025-05-01T03:07:32.230735Z"
    }
   },
   "outputs": [],
   "source": [
    "resultados = []\n",
    "\n",
    "for nivel in niveles_id:\n",
    "    subset_nivel = evento2023[evento2023[\"id\"] == nivel]\n",
    "\n",
    "    frecuencias = subset_nivel[\"item\"].value_counts().items()\n",
    "\n",
    "    for item, frecuencia in frecuencias:\n",
    "        resultados.append({\"id\": nivel, \"item\": item, \"frecuencia\": frecuencia})\n",
    "\n",
    "# DataFrame a partir de la lista de resultados\n",
    "df_resultados_2023 = pd.DataFrame(resultados)"
   ]
  },
  {
   "cell_type": "code",
   "execution_count": 11,
   "id": "8150525d-a0e0-4bc5-abf0-a62a9e116a45",
   "metadata": {
    "ExecuteTime": {
     "end_time": "2025-05-01T03:07:36.335087Z",
     "start_time": "2025-05-01T03:07:36.312945Z"
    }
   },
   "outputs": [
    {
     "name": "stdout",
     "output_type": "stream",
     "text": [
      "Resultados guardados en frecuencias_id_item_2023.xlsx\n"
     ]
    }
   ],
   "source": [
    "# archivo Excel\n",
    "df_resultados_2023.to_excel(\n",
    "    data_interim_dir(\"frecuencias_id_item_2023.xlsx\"), index=False\n",
    ")\n",
    "\n",
    "print(\"Resultados guardados en frecuencias_id_item_2023.xlsx\")"
   ]
  },
  {
   "cell_type": "code",
   "execution_count": 12,
   "id": "b12ebdd7-8433-43a8-8851-a243d9373eb9",
   "metadata": {
    "ExecuteTime": {
     "end_time": "2025-05-01T03:07:36.691127Z",
     "start_time": "2025-05-01T03:07:36.685915Z"
    }
   },
   "outputs": [
    {
     "data": {
      "text/html": [
       "<div>\n",
       "<style scoped>\n",
       "    .dataframe tbody tr th:only-of-type {\n",
       "        vertical-align: middle;\n",
       "    }\n",
       "\n",
       "    .dataframe tbody tr th {\n",
       "        vertical-align: top;\n",
       "    }\n",
       "\n",
       "    .dataframe thead th {\n",
       "        text-align: right;\n",
       "    }\n",
       "</style>\n",
       "<table border=\"1\" class=\"dataframe\">\n",
       "  <thead>\n",
       "    <tr style=\"text-align: right;\">\n",
       "      <th></th>\n",
       "      <th>id</th>\n",
       "      <th>item</th>\n",
       "      <th>frecuencia</th>\n",
       "    </tr>\n",
       "  </thead>\n",
       "  <tbody>\n",
       "    <tr>\n",
       "      <th>0</th>\n",
       "      <td>1</td>\n",
       "      <td>Zona</td>\n",
       "      <td>144070</td>\n",
       "    </tr>\n",
       "    <tr>\n",
       "      <th>1</th>\n",
       "      <td>2</td>\n",
       "      <td>Nombre Suscriptor</td>\n",
       "      <td>144023</td>\n",
       "    </tr>\n",
       "    <tr>\n",
       "      <th>2</th>\n",
       "      <td>3</td>\n",
       "      <td>Dirección</td>\n",
       "      <td>145299</td>\n",
       "    </tr>\n",
       "  </tbody>\n",
       "</table>\n",
       "</div>"
      ],
      "text/plain": [
       "   id               item  frecuencia\n",
       "0   1               Zona      144070\n",
       "1   2  Nombre Suscriptor      144023\n",
       "2   3          Dirección      145299"
      ]
     },
     "execution_count": 12,
     "metadata": {},
     "output_type": "execute_result"
    }
   ],
   "source": [
    "df_resultados_2023.head(3)"
   ]
  },
  {
   "cell_type": "markdown",
   "id": "3af478a9-3828-44f8-8cff-7375640397db",
   "metadata": {},
   "source": [
    "### 2024"
   ]
  },
  {
   "cell_type": "code",
   "execution_count": 18,
   "id": "7c68c182-8a2f-40ec-8cc0-f583076a026e",
   "metadata": {},
   "outputs": [],
   "source": [
    "# resultados = []\n",
    "#\n",
    "# for nivel in niveles_id:\n",
    "#     subset_nivel = evento2024[evento2024['id'] == nivel]\n",
    "#\n",
    "#     frecuencias = subset_nivel['item'].value_counts().items()\n",
    "#\n",
    "#     for item, frecuencia in frecuencias:\n",
    "#         resultados.append({'id': nivel, 'item': item, 'frecuencia': frecuencia})\n",
    "#\n",
    "# # DataFrame a partir de la lista de resultados\n",
    "# df_resultados_2024 = pd.DataFrame(resultados)"
   ]
  },
  {
   "cell_type": "code",
   "execution_count": 22,
   "id": "b5679b2a-efb2-4915-908f-48fbfec4b2ec",
   "metadata": {},
   "outputs": [
    {
     "name": "stdout",
     "output_type": "stream",
     "text": [
      "Resultados guardados en frecuencias_id_item_2024.xlsx\n"
     ]
    }
   ],
   "source": [
    "# archivo Excel\n",
    "# df_resultados_2024.to_excel('frecuencias_id_item_2024.xlsx', index=False)\n",
    "#\n",
    "# print(\"Resultados guardados en frecuencias_id_item_2024.xlsx\")"
   ]
  },
  {
   "cell_type": "markdown",
   "id": "4bd795ec-a343-45fb-a74a-38a0eaf03cb9",
   "metadata": {},
   "source": [
    "### Leer las particiones sin leer el archivo mayor"
   ]
  },
  {
   "cell_type": "markdown",
   "id": "32994c72-821b-48d4-a65c-472a6065a965",
   "metadata": {},
   "source": [
    "### 2022"
   ]
  },
  {
   "cell_type": "code",
   "execution_count": 7,
   "id": "593f6d3e-8818-4bab-ae48-d4bdc6838e69",
   "metadata": {},
   "outputs": [
    {
     "name": "stdout",
     "output_type": "stream",
     "text": [
      "Todas las particiones han sido cargadas.\n"
     ]
    }
   ],
   "source": [
    "# # Directorio donde están las particiones\n",
    "# directorio = 'J:\\\\JESSICA\\\\Jessica\\\\Rafael\\\\igrid\\\\cedenar\\\\python_zentr'\n",
    "#\n",
    "# # Cargar los niveles únicos desde el CSV\n",
    "# niveles_id = pd.read_excel(os.path.join(directorio, 'identificadores_unicos2022.xlsx'))['id_2022']\n",
    "#\n",
    "# # Leer las particiones y guardarlas en variables dinámicas\n",
    "# for nivel in niveles_id:\n",
    "#     nombre_archivo = f\"evento2022_{nivel}.csv\"\n",
    "#     ruta_archivo = os.path.join(directorio, nombre_archivo)\n",
    "#\n",
    "#     if os.path.exists(ruta_archivo):\n",
    "#         globals()[f\"evento2022_{nivel}\"] = pd.read_csv(ruta_archivo)\n",
    "#         #print(f\"Cargado: {nombre_archivo}\")\n",
    "#     else:\n",
    "#         print(f\"No encontrado: {nombre_archivo}\")\n",
    "#\n",
    "# print(\"Todas las particiones han sido cargadas.\")\n"
   ]
  },
  {
   "cell_type": "code",
   "execution_count": 17,
   "id": "01aba163-0ce6-4b5a-8d4c-f51e01992d18",
   "metadata": {},
   "outputs": [
    {
     "data": {
      "text/html": [
       "<div>\n",
       "<style scoped>\n",
       "    .dataframe tbody tr th:only-of-type {\n",
       "        vertical-align: middle;\n",
       "    }\n",
       "\n",
       "    .dataframe tbody tr th {\n",
       "        vertical-align: top;\n",
       "    }\n",
       "\n",
       "    .dataframe thead th {\n",
       "        text-align: right;\n",
       "    }\n",
       "</style>\n",
       "<table border=\"1\" class=\"dataframe\">\n",
       "  <thead>\n",
       "    <tr style=\"text-align: right;\">\n",
       "      <th></th>\n",
       "      <th>odt</th>\n",
       "      <th>id</th>\n",
       "      <th>item</th>\n",
       "      <th>tipodato</th>\n",
       "      <th>value</th>\n",
       "    </tr>\n",
       "  </thead>\n",
       "  <tbody>\n",
       "    <tr>\n",
       "      <th>0</th>\n",
       "      <td>507429</td>\n",
       "      <td>1</td>\n",
       "      <td>Zona</td>\n",
       "      <td>varchar</td>\n",
       "      <td>NORTE</td>\n",
       "    </tr>\n",
       "    <tr>\n",
       "      <th>1</th>\n",
       "      <td>552285</td>\n",
       "      <td>1</td>\n",
       "      <td>Zona</td>\n",
       "      <td>varchar</td>\n",
       "      <td>PACIFICO</td>\n",
       "    </tr>\n",
       "  </tbody>\n",
       "</table>\n",
       "</div>"
      ],
      "text/plain": [
       "      odt  id  item tipodato     value\n",
       "0  507429   1  Zona  varchar     NORTE\n",
       "1  552285   1  Zona  varchar  PACIFICO"
      ]
     },
     "execution_count": 17,
     "metadata": {},
     "output_type": "execute_result"
    }
   ],
   "source": [
    "evento2022_1.head(2)"
   ]
  },
  {
   "cell_type": "markdown",
   "id": "2ba93a27-06fc-4d96-8a50-8c07a682d6ee",
   "metadata": {},
   "source": [
    "### 2023"
   ]
  },
  {
   "cell_type": "code",
   "execution_count": 13,
   "id": "7a8dc914-123e-4fe9-995a-36fd153c839f",
   "metadata": {
    "ExecuteTime": {
     "end_time": "2025-05-01T03:07:37.409309Z",
     "start_time": "2025-05-01T03:07:37.059816Z"
    }
   },
   "outputs": [
    {
     "name": "stdout",
     "output_type": "stream",
     "text": [
      "Todas las particiones han sido cargadas.\n"
     ]
    }
   ],
   "source": [
    "# Directorio donde están las particiones\n",
    "# directorio = 'J:\\\\JESSICA\\\\Jessica\\\\Rafael\\\\igrid\\\\cedenar\\\\python_zentr'\n",
    "\n",
    "# Cargar los niveles únicos desde el CSV\n",
    "# niveles_id = pd.read_excel(os.path.join(directorio, 'identificadores_unicos2023.xlsx'))['id_2023']\n",
    "niveles_id = [\n",
    "    1,\n",
    "    1442,\n",
    "    288,\n",
    "    8,\n",
    "    237,\n",
    "    23,\n",
    "    24,\n",
    "    33,\n",
    "    598,\n",
    "    601,\n",
    "    43,\n",
    "    99,\n",
    "    35,\n",
    "    111,\n",
    "    599,\n",
    "    108,\n",
    "    603,\n",
    "    190,\n",
    "    192,\n",
    "    588,\n",
    "    248,\n",
    "    591,\n",
    "    602,\n",
    "    41,\n",
    "    211,\n",
    "    74,\n",
    "    1889,\n",
    "    597,\n",
    "    600,\n",
    "    37,\n",
    "    1407,\n",
    "    1410,\n",
    "    68,\n",
    "    1328,\n",
    "    1334,\n",
    "    594,\n",
    "    67,\n",
    "    1408,\n",
    "    1352,\n",
    "    1405,\n",
    "    1283,\n",
    "    1343,\n",
    "    1346,\n",
    "    1292,\n",
    "    1298,\n",
    "    69,\n",
    "    1331,\n",
    "    202,\n",
    "    1349,\n",
    "]\n",
    "\n",
    "# Leer las particiones y guardarlas en variables dinámicas\n",
    "for nivel in niveles_id:\n",
    "    nombre_archivo = f\"evento2023_{nivel}.csv\"\n",
    "    ruta_archivo = data_interim_dir(nombre_archivo)\n",
    "\n",
    "    if os.path.exists(ruta_archivo):\n",
    "        globals()[f\"evento2023_{nivel}\"] = pd.read_csv(ruta_archivo)\n",
    "        # print(f\"Cargado: {nombre_archivo}\")\n",
    "    else:\n",
    "        print(f\"No encontrado: {nombre_archivo}\")\n",
    "\n",
    "print(\"Todas las particiones han sido cargadas.\")"
   ]
  },
  {
   "cell_type": "code",
   "execution_count": 14,
   "id": "f217e2eb-16cd-43fb-82cc-f3c364acfebb",
   "metadata": {
    "ExecuteTime": {
     "end_time": "2025-05-01T03:07:37.776942Z",
     "start_time": "2025-05-01T03:07:37.774283Z"
    }
   },
   "outputs": [
    {
     "data": {
      "text/html": [
       "<div>\n",
       "<style scoped>\n",
       "    .dataframe tbody tr th:only-of-type {\n",
       "        vertical-align: middle;\n",
       "    }\n",
       "\n",
       "    .dataframe tbody tr th {\n",
       "        vertical-align: top;\n",
       "    }\n",
       "\n",
       "    .dataframe thead th {\n",
       "        text-align: right;\n",
       "    }\n",
       "</style>\n",
       "<table border=\"1\" class=\"dataframe\">\n",
       "  <thead>\n",
       "    <tr style=\"text-align: right;\">\n",
       "      <th></th>\n",
       "      <th>odt</th>\n",
       "      <th>id</th>\n",
       "      <th>item</th>\n",
       "      <th>tipodato</th>\n",
       "      <th>value</th>\n",
       "    </tr>\n",
       "  </thead>\n",
       "  <tbody>\n",
       "    <tr>\n",
       "      <th>0</th>\n",
       "      <td>2584979</td>\n",
       "      <td>288</td>\n",
       "      <td>Código Interno</td>\n",
       "      <td>integer</td>\n",
       "      <td>538741</td>\n",
       "    </tr>\n",
       "    <tr>\n",
       "      <th>1</th>\n",
       "      <td>2584978</td>\n",
       "      <td>288</td>\n",
       "      <td>Código Interno</td>\n",
       "      <td>integer</td>\n",
       "      <td>302756</td>\n",
       "    </tr>\n",
       "  </tbody>\n",
       "</table>\n",
       "</div>"
      ],
      "text/plain": [
       "       odt   id            item tipodato   value\n",
       "0  2584979  288  Código Interno  integer  538741\n",
       "1  2584978  288  Código Interno  integer  302756"
      ]
     },
     "execution_count": 14,
     "metadata": {},
     "output_type": "execute_result"
    }
   ],
   "source": [
    "evento2023_288.head(2)"
   ]
  },
  {
   "cell_type": "markdown",
   "id": "b74785f8-f1ce-4670-9a10-ec74a09a7c92",
   "metadata": {},
   "source": [
    "### Filtrar datos solo Zona PACIFICO"
   ]
  },
  {
   "cell_type": "markdown",
   "id": "342c8f4f-f03f-43b8-baf4-494d1a80b676",
   "metadata": {},
   "source": [
    "### 2022"
   ]
  },
  {
   "cell_type": "code",
   "execution_count": 26,
   "id": "2bd5033f-66aa-44c5-a60c-223dd6dbbff1",
   "metadata": {},
   "outputs": [],
   "source": [
    "# ruta_archivo = 'J:\\\\JESSICA\\\\Jessica\\\\Rafael\\\\igrid\\\\cedenar\\\\python_zentr\\\\evento2022_1.csv'  # Reemplaza con tu ruta\n",
    "# evento2022_1 = pd.read_csv(ruta_archivo)"
   ]
  },
  {
   "cell_type": "code",
   "execution_count": 28,
   "id": "7246252c-14e9-4df7-8230-7eac62f70bcf",
   "metadata": {},
   "outputs": [
    {
     "data": {
      "text/plain": [
       "value\n",
       "PACIFICO     42499\n",
       "NORTE        33919\n",
       "SUR          29715\n",
       "CENTRO       28427\n",
       "OCCIDENTE    26916\n",
       "CN            2560\n",
       "CE            1169\n",
       "NO             716\n",
       "SU             671\n",
       "COCANA          22\n",
       "OC              19\n",
       "Name: count, dtype: int64"
      ]
     },
     "execution_count": 28,
     "metadata": {},
     "output_type": "execute_result"
    }
   ],
   "source": [
    "# evento2022_1['value'].value_counts()"
   ]
  },
  {
   "cell_type": "code",
   "execution_count": 31,
   "id": "c27bfe7b-9e1e-4220-a497-51852c6ffaa4",
   "metadata": {},
   "outputs": [
    {
     "name": "stdout",
     "output_type": "stream",
     "text": [
      "Exportación completada: 'odt_pacifico_2022.csv'\n"
     ]
    }
   ],
   "source": [
    "# # Filtrar los casos donde 'value' es \"PACIFICO\"\n",
    "# odt_pacifico = evento2022_1[evento2022_1['value'] == 'PACIFICO']['odt']\n",
    "#\n",
    "# # Exportar el resultado a un CSV\n",
    "# odt_pacifico.to_csv('odt_pacifico_2022.csv', index=False)\n",
    "#\n",
    "# print(\"Exportación completada: 'odt_pacifico_2022.csv'\")\n"
   ]
  },
  {
   "cell_type": "code",
   "execution_count": 35,
   "id": "eb0f16c2-2516-423b-9ccf-1b54ee0c0efa",
   "metadata": {},
   "outputs": [],
   "source": [
    "# odt_pacifico_2022 = pd.read_csv('odt_pacifico_2022.csv')"
   ]
  },
  {
   "cell_type": "code",
   "execution_count": 45,
   "id": "52821e8f-078c-4393-89e6-c52608b79a4d",
   "metadata": {},
   "outputs": [
    {
     "data": {
      "text/plain": [
       "(42499, 1)"
      ]
     },
     "execution_count": 45,
     "metadata": {},
     "output_type": "execute_result"
    }
   ],
   "source": [
    "# odt_pacifico_2022.shape"
   ]
  },
  {
   "cell_type": "code",
   "execution_count": 43,
   "id": "bc5904f1-674a-4691-8c39-aa4b988124d1",
   "metadata": {},
   "outputs": [
    {
     "data": {
      "text/html": [
       "<div>\n",
       "<style scoped>\n",
       "    .dataframe tbody tr th:only-of-type {\n",
       "        vertical-align: middle;\n",
       "    }\n",
       "\n",
       "    .dataframe tbody tr th {\n",
       "        vertical-align: top;\n",
       "    }\n",
       "\n",
       "    .dataframe thead th {\n",
       "        text-align: right;\n",
       "    }\n",
       "</style>\n",
       "<table border=\"1\" class=\"dataframe\">\n",
       "  <thead>\n",
       "    <tr style=\"text-align: right;\">\n",
       "      <th></th>\n",
       "      <th>odt</th>\n",
       "    </tr>\n",
       "  </thead>\n",
       "  <tbody>\n",
       "    <tr>\n",
       "      <th>0</th>\n",
       "      <td>552285</td>\n",
       "    </tr>\n",
       "    <tr>\n",
       "      <th>1</th>\n",
       "      <td>551224</td>\n",
       "    </tr>\n",
       "  </tbody>\n",
       "</table>\n",
       "</div>"
      ],
      "text/plain": [
       "      odt\n",
       "0  552285\n",
       "1  551224"
      ]
     },
     "execution_count": 43,
     "metadata": {},
     "output_type": "execute_result"
    }
   ],
   "source": [
    "# odt_pacifico_2022.head(2)"
   ]
  },
  {
   "cell_type": "markdown",
   "id": "1f20bf12-83bd-4c6f-ae0d-27530d91e2a8",
   "metadata": {},
   "source": [
    "### 2023"
   ]
  },
  {
   "cell_type": "code",
   "execution_count": 15,
   "id": "bf90b659-f142-4f40-ba70-0b9ffa0f3066",
   "metadata": {
    "ExecuteTime": {
     "end_time": "2025-05-01T03:07:38.535372Z",
     "start_time": "2025-05-01T03:07:38.510100Z"
    }
   },
   "outputs": [],
   "source": [
    "# ruta_archivo = 'J:\\\\JESSICA\\\\Jessica\\\\Rafael\\\\igrid\\\\cedenar\\\\python_zentr\\\\evento2023_1.csv'  # Reemplaza con tu ruta\n",
    "ruta_archivo = data_interim_dir(\"evento2023_1.csv\")  # por que es zona\n",
    "evento2023_1 = pd.read_csv(ruta_archivo)"
   ]
  },
  {
   "cell_type": "code",
   "execution_count": 16,
   "id": "502b4cb9-0338-4f0c-821c-c085dc7bf89e",
   "metadata": {
    "ExecuteTime": {
     "end_time": "2025-05-01T03:07:38.901071Z",
     "start_time": "2025-05-01T03:07:38.896233Z"
    }
   },
   "outputs": [
    {
     "data": {
      "text/plain": [
       "value\n",
       "SUR          31438\n",
       "CENTRO       28640\n",
       "NORTE        28085\n",
       "OCCIDENTE    26386\n",
       "PACIFICO     23847\n",
       "CE            3923\n",
       "CN             693\n",
       "NO             509\n",
       "SU             507\n",
       "OC              42\n",
       "Name: count, dtype: int64"
      ]
     },
     "execution_count": 16,
     "metadata": {},
     "output_type": "execute_result"
    }
   ],
   "source": [
    "evento2023_1[\"value\"].value_counts()"
   ]
  },
  {
   "cell_type": "code",
   "execution_count": 17,
   "id": "255d20e8-3d1a-4ab1-a8d2-7b4ea80153ce",
   "metadata": {
    "ExecuteTime": {
     "end_time": "2025-05-01T03:07:39.617435Z",
     "start_time": "2025-05-01T03:07:39.606387Z"
    }
   },
   "outputs": [
    {
     "name": "stdout",
     "output_type": "stream",
     "text": [
      "Exportación completada: 'odt_pacifico_2023.csv'\n"
     ]
    }
   ],
   "source": [
    "# Filtrar los casos donde 'value' es \"PACIFICO\"\n",
    "odt_pacifico = evento2023_1[evento2023_1[\"value\"] == \"PACIFICO\"][\"odt\"]\n",
    "\n",
    "# Exportar el resultado a un CSV\n",
    "odt_pacifico.to_csv(data_interim_dir(\"odt_pacifico_2023.csv\"), index=False)\n",
    "\n",
    "print(\"Exportación completada: 'odt_pacifico_2023.csv'\")"
   ]
  },
  {
   "cell_type": "code",
   "execution_count": 18,
   "id": "d78448d9-137f-4062-a3e0-669770d97ed8",
   "metadata": {
    "ExecuteTime": {
     "end_time": "2025-05-01T03:07:40.344772Z",
     "start_time": "2025-05-01T03:07:40.341862Z"
    }
   },
   "outputs": [],
   "source": [
    "odt_pacifico_2023 = pd.read_csv(data_interim_dir(\"odt_pacifico_2023.csv\"))"
   ]
  },
  {
   "cell_type": "code",
   "execution_count": 19,
   "id": "eaf04c49-6af6-4deb-989b-b3307be1ca9d",
   "metadata": {
    "ExecuteTime": {
     "end_time": "2025-05-01T03:07:40.720329Z",
     "start_time": "2025-05-01T03:07:40.718518Z"
    }
   },
   "outputs": [
    {
     "data": {
      "text/plain": [
       "(23847, 1)"
      ]
     },
     "execution_count": 19,
     "metadata": {},
     "output_type": "execute_result"
    }
   ],
   "source": [
    "odt_pacifico_2023.shape"
   ]
  },
  {
   "cell_type": "code",
   "execution_count": 20,
   "id": "69c375f6-5c68-4df5-96e3-501456fec0bf",
   "metadata": {
    "ExecuteTime": {
     "end_time": "2025-05-01T03:07:41.071862Z",
     "start_time": "2025-05-01T03:07:41.069602Z"
    }
   },
   "outputs": [
    {
     "data": {
      "text/html": [
       "<div>\n",
       "<style scoped>\n",
       "    .dataframe tbody tr th:only-of-type {\n",
       "        vertical-align: middle;\n",
       "    }\n",
       "\n",
       "    .dataframe tbody tr th {\n",
       "        vertical-align: top;\n",
       "    }\n",
       "\n",
       "    .dataframe thead th {\n",
       "        text-align: right;\n",
       "    }\n",
       "</style>\n",
       "<table border=\"1\" class=\"dataframe\">\n",
       "  <thead>\n",
       "    <tr style=\"text-align: right;\">\n",
       "      <th></th>\n",
       "      <th>odt</th>\n",
       "    </tr>\n",
       "  </thead>\n",
       "  <tbody>\n",
       "    <tr>\n",
       "      <th>0</th>\n",
       "      <td>1561972</td>\n",
       "    </tr>\n",
       "    <tr>\n",
       "      <th>1</th>\n",
       "      <td>1813259</td>\n",
       "    </tr>\n",
       "  </tbody>\n",
       "</table>\n",
       "</div>"
      ],
      "text/plain": [
       "       odt\n",
       "0  1561972\n",
       "1  1813259"
      ]
     },
     "execution_count": 20,
     "metadata": {},
     "output_type": "execute_result"
    }
   ],
   "source": [
    "odt_pacifico_2023.head(2)"
   ]
  },
  {
   "cell_type": "markdown",
   "id": "71c046c2-d84a-465a-8008-f60135898c55",
   "metadata": {},
   "source": [
    "### 2024"
   ]
  },
  {
   "cell_type": "code",
   "execution_count": 61,
   "id": "46e1cf66-d7d2-4c49-bc47-1c325fe482ee",
   "metadata": {},
   "outputs": [],
   "source": [
    "# ruta_archivo = 'J:\\\\JESSICA\\\\Jessica\\\\Rafael\\\\igrid\\\\cedenar\\\\python_zentr\\\\evento2024_1.csv'  # Reemplaza con tu ruta\n",
    "# evento2024_1 = pd.read_csv(ruta_archivo)"
   ]
  },
  {
   "cell_type": "code",
   "execution_count": 63,
   "id": "1452e771-8f37-49a2-a3d5-a42c4f2000f3",
   "metadata": {},
   "outputs": [
    {
     "data": {
      "text/plain": [
       "value\n",
       "SUR          31840\n",
       "CENTRO       28349\n",
       "NORTE        24922\n",
       "PACIFICO     18393\n",
       "OCCIDENTE    18337\n",
       "CE            1894\n",
       "SU            1864\n",
       "CN             420\n",
       "NO             344\n",
       "PA             343\n",
       "Name: count, dtype: int64"
      ]
     },
     "execution_count": 63,
     "metadata": {},
     "output_type": "execute_result"
    }
   ],
   "source": [
    "# evento2024_1['value'].value_counts()"
   ]
  },
  {
   "cell_type": "code",
   "execution_count": 65,
   "id": "8c80d9fc-1e96-4057-a6d3-37b5e71bcd26",
   "metadata": {},
   "outputs": [
    {
     "name": "stdout",
     "output_type": "stream",
     "text": [
      "Exportación completada: 'odt_pacifico_2024.csv'\n"
     ]
    }
   ],
   "source": [
    "# # Filtrar los casos donde 'value' es \"PACIFICO\"\n",
    "# odt_pacifico = evento2024_1[evento2024_1['value'] == 'PACIFICO']['odt']\n",
    "#\n",
    "# # Exportar el resultado a un CSV\n",
    "# odt_pacifico.to_csv('odt_pacifico_2024.csv', index=False)\n",
    "#\n",
    "# print(\"Exportación completada: 'odt_pacifico_2024.csv'\")\n"
   ]
  },
  {
   "cell_type": "code",
   "execution_count": 68,
   "id": "45739841-5f08-4cb2-b858-5aa87ed4da11",
   "metadata": {},
   "outputs": [],
   "source": [
    "# odt_pacifico_2024 = pd.read_csv('odt_pacifico_2024.csv')"
   ]
  },
  {
   "cell_type": "code",
   "execution_count": 70,
   "id": "4768f3ca-7bb6-4515-b724-3f91b8ff6dd6",
   "metadata": {},
   "outputs": [
    {
     "data": {
      "text/html": [
       "<div>\n",
       "<style scoped>\n",
       "    .dataframe tbody tr th:only-of-type {\n",
       "        vertical-align: middle;\n",
       "    }\n",
       "\n",
       "    .dataframe tbody tr th {\n",
       "        vertical-align: top;\n",
       "    }\n",
       "\n",
       "    .dataframe thead th {\n",
       "        text-align: right;\n",
       "    }\n",
       "</style>\n",
       "<table border=\"1\" class=\"dataframe\">\n",
       "  <thead>\n",
       "    <tr style=\"text-align: right;\">\n",
       "      <th></th>\n",
       "      <th>odt</th>\n",
       "    </tr>\n",
       "  </thead>\n",
       "  <tbody>\n",
       "    <tr>\n",
       "      <th>0</th>\n",
       "      <td>2795081</td>\n",
       "    </tr>\n",
       "    <tr>\n",
       "      <th>1</th>\n",
       "      <td>2795080</td>\n",
       "    </tr>\n",
       "  </tbody>\n",
       "</table>\n",
       "</div>"
      ],
      "text/plain": [
       "       odt\n",
       "0  2795081\n",
       "1  2795080"
      ]
     },
     "execution_count": 70,
     "metadata": {},
     "output_type": "execute_result"
    }
   ],
   "source": [
    "# odt_pacifico_2024.head(2)"
   ]
  },
  {
   "cell_type": "markdown",
   "id": "92d503b1-e942-46bf-8ce3-214d8e24d3e5",
   "metadata": {},
   "source": [
    "## Extraer 288 de cada dataset y unir a odt de pacifico"
   ]
  },
  {
   "cell_type": "code",
   "execution_count": 21,
   "id": "297b4575-f705-468e-bb4a-84c8bbe69700",
   "metadata": {
    "ExecuteTime": {
     "end_time": "2025-05-01T03:07:41.456403Z",
     "start_time": "2025-05-01T03:07:41.436236Z"
    }
   },
   "outputs": [],
   "source": [
    "# ruta_archivo = 'J:\\\\JESSICA\\\\Jessica\\\\Rafael\\\\igrid\\\\cedenar\\\\python_zentr\\\\evento2022_288.csv'  # Reemplaza con tu ruta\n",
    "# evento2022_288 = pd.read_csv(ruta_archivo)\n",
    "# ruta_archivo = 'J:\\\\JESSICA\\\\Jessica\\\\Rafael\\\\igrid\\\\cedenar\\\\python_zentr\\\\evento2023_288.csv'  # Reemplaza con tu ruta\n",
    "ruta_archivo = data_interim_dir(\"evento2023_288.csv\")\n",
    "evento2023_288 = pd.read_csv(ruta_archivo)\n",
    "# ruta_archivo = 'J:\\\\JESSICA\\\\Jessica\\\\Rafael\\\\igrid\\\\cedenar\\\\python_zentr\\\\evento2024_288.csv'  # Reemplaza con tu ruta\n",
    "# evento2024_288 = pd.read_csv(ruta_archivo)"
   ]
  },
  {
   "cell_type": "code",
   "execution_count": 22,
   "id": "3781fef2-656d-46db-b763-743cc94a8d3c",
   "metadata": {
    "ExecuteTime": {
     "end_time": "2025-05-01T03:07:42.165535Z",
     "start_time": "2025-05-01T03:07:42.163014Z"
    }
   },
   "outputs": [],
   "source": [
    "def procesar_niveles(anio, niveles, nuevo_dataset):\n",
    "    \"\"\"\n",
    "    Función para agregar datos de múltiples datasets a un dataset base usando la columna 'odt'.\n",
    "\n",
    "    Parámetros:\n",
    "    - anio (int): Año de los datasets.\n",
    "    - niveles (list): Lista de IDs de variables a procesar.\n",
    "    - nuevo_dataset (DataFrame): Dataset base al que se le agregarán las columnas.\n",
    "\n",
    "    Retorna:\n",
    "    - DataFrame con las columnas agregadas.\n",
    "    \"\"\"\n",
    "    nuevo_dataset = nuevo_dataset.copy()\n",
    "\n",
    "    for nivel in niveles:\n",
    "        df_actual = globals().get(f\"evento{anio}_{nivel}\")\n",
    "\n",
    "        if df_actual is not None:\n",
    "            if \"odt\" in df_actual.columns and \"value\" in df_actual.columns:\n",
    "                df_actual = df_actual[[\"odt\", \"value\"]].drop_duplicates(subset=\"odt\")\n",
    "                nuevo_dataset[f\"item_{nivel}\"] = nuevo_dataset[\"odt\"].map(\n",
    "                    df_actual.set_index(\"odt\")[\"value\"]\n",
    "                )\n",
    "\n",
    "                # Convertir a enteros si no hay valores nulos\n",
    "                if not nuevo_dataset[f\"item_{nivel}\"].isna().all():\n",
    "                    nuevo_dataset[f\"item_{nivel}\"] = (\n",
    "                        nuevo_dataset[f\"item_{nivel}\"].fillna(0).astype(int)\n",
    "                    )\n",
    "\n",
    "                print(f\"✔️ Procesado: evento{anio}_{nivel}\")\n",
    "            else:\n",
    "                print(f\"⚠️ Columnas faltantes en: evento{anio}_{nivel}\")\n",
    "        else:\n",
    "            print(f\"⚠️ No encontrado: evento{anio}_{nivel}\")\n",
    "\n",
    "    # Guardar el dataset consolidado\n",
    "    # output_path = f\"J:\\\\JESSICA\\\\Jessica\\\\Rafael\\\\igrid\\\\cedenar\\\\python_zentr\\\\nuevo_dataset_{anio}.csv\"\n",
    "    output_path = data_interim_dir(f\"nuevo_dataset_{anio}.csv\")\n",
    "    nuevo_dataset.to_csv(output_path, index=False)\n",
    "    print(f\"✅ Proceso completado. Dataset guardado en {output_path}.\")\n",
    "\n",
    "    return nuevo_dataset"
   ]
  },
  {
   "cell_type": "code",
   "execution_count": 23,
   "id": "6dd26390-417f-48a9-a6c1-51e3668c6b6c",
   "metadata": {
    "ExecuteTime": {
     "end_time": "2025-05-01T03:07:42.513328Z",
     "start_time": "2025-05-01T03:07:42.511948Z"
    }
   },
   "outputs": [],
   "source": [
    "# # Lista de ids de variables\n",
    "# niveles = [288]\n",
    "#\n",
    "# # Base principal (odt_pacifico) ya cargada\n",
    "# nuevo_dataset = odt_pacifico_2022.copy()\n",
    "#\n",
    "# nuevo_dataset_2022 = procesar_niveles(2022, niveles, odt_pacifico_2022)"
   ]
  },
  {
   "cell_type": "code",
   "execution_count": 24,
   "id": "be76d819-8eb3-4b13-98b6-8b15cd32d4bf",
   "metadata": {
    "ExecuteTime": {
     "end_time": "2025-05-01T03:07:42.860708Z",
     "start_time": "2025-05-01T03:07:42.859335Z"
    }
   },
   "outputs": [],
   "source": [
    "# nuevo_dataset_2022.head(2)"
   ]
  },
  {
   "cell_type": "code",
   "execution_count": 25,
   "id": "c51d1791-40b9-44d9-b6ce-aec0514c097f",
   "metadata": {
    "ExecuteTime": {
     "end_time": "2025-05-01T03:07:43.248636Z",
     "start_time": "2025-05-01T03:07:43.236755Z"
    }
   },
   "outputs": [
    {
     "name": "stdout",
     "output_type": "stream",
     "text": [
      "✔️ Procesado: evento2023_288\n",
      "✅ Proceso completado. Dataset guardado en /Users/frandak2/Documents/repos/cedenar_anomalies/data/interim/nuevo_dataset_2023.csv.\n"
     ]
    }
   ],
   "source": [
    "# Lista de ids de variables\n",
    "niveles = [288]\n",
    "\n",
    "# Base principal (odt_pacifico) ya cargada\n",
    "nuevo_dataset = odt_pacifico_2023.copy()\n",
    "\n",
    "nuevo_dataset_2023 = procesar_niveles(2023, niveles, odt_pacifico_2023)"
   ]
  },
  {
   "cell_type": "code",
   "execution_count": 26,
   "id": "e00c99b1-e518-4f2b-858f-8c70702909c4",
   "metadata": {
    "ExecuteTime": {
     "end_time": "2025-05-01T03:07:43.606310Z",
     "start_time": "2025-05-01T03:07:43.604698Z"
    }
   },
   "outputs": [],
   "source": [
    "# # Lista de ids de variables\n",
    "# niveles = [288]\n",
    "#\n",
    "# # Base principal (odt_pacifico) ya cargada\n",
    "# nuevo_dataset = odt_pacifico_2024.copy()\n",
    "#\n",
    "# nuevo_dataset_2024 = procesar_niveles(2024, niveles, odt_pacifico_2024)"
   ]
  },
  {
   "cell_type": "code",
   "execution_count": 27,
   "id": "2a5d98e8-f199-4796-acef-06aec6107eab",
   "metadata": {
    "ExecuteTime": {
     "end_time": "2025-05-01T03:07:43.958609Z",
     "start_time": "2025-05-01T03:07:43.956782Z"
    }
   },
   "outputs": [
    {
     "name": "stdout",
     "output_type": "stream",
     "text": [
      "Dataset Pacifico 2023 - Número de registros: 23847\n"
     ]
    }
   ],
   "source": [
    "# filas, columnas = nuevo_dataset_2022.shape\n",
    "# print(f\"Dataset Pacifico 2022 - Número de registros: {filas}\")\n",
    "\n",
    "filas, columnas = nuevo_dataset_2023.shape\n",
    "print(f\"Dataset Pacifico 2023 - Número de registros: {filas}\")\n",
    "#\n",
    "# filas, columnas = nuevo_dataset_2024.shape\n",
    "# print(f\"Dataset Pacifico 2024 - Número de registros: {filas}\")"
   ]
  },
  {
   "cell_type": "code",
   "execution_count": 28,
   "id": "6d20123b-60e6-49ea-a40a-88d202195379",
   "metadata": {
    "ExecuteTime": {
     "end_time": "2025-05-01T03:07:44.311835Z",
     "start_time": "2025-05-01T03:07:44.310015Z"
    }
   },
   "outputs": [
    {
     "name": "stdout",
     "output_type": "stream",
     "text": [
      "Año 2023 - Número de registros con Código Interno vacío: 4260\n"
     ]
    }
   ],
   "source": [
    "## Vacíos de los datasets por año\n",
    "\n",
    "# # Contar los registros donde item_288 es igual a 0\n",
    "# conteo_ceros = (nuevo_dataset_2022['item_288'] == 0).sum()\n",
    "# print(f\"Año 2022 - Número de registros con Código Interno vacío: {conteo_ceros}\")\n",
    "\n",
    "conteo_ceros = (nuevo_dataset_2023[\"item_288\"] == 0).sum()\n",
    "print(f\"Año 2023 - Número de registros con Código Interno vacío: {conteo_ceros}\")\n",
    "\n",
    "# conteo_ceros = (nuevo_dataset_2024['item_288'] == 0).sum()\n",
    "# print(f\"Año 2024 - Número de registros con Código Interno vacío: {conteo_ceros}\")"
   ]
  },
  {
   "cell_type": "code",
   "execution_count": 29,
   "id": "5491b901-3cbd-499f-961b-563de923689e",
   "metadata": {
    "ExecuteTime": {
     "end_time": "2025-05-01T03:07:44.672022Z",
     "start_time": "2025-05-01T03:07:44.662633Z"
    }
   },
   "outputs": [
    {
     "name": "stdout",
     "output_type": "stream",
     "text": [
      "Año 2023 - Registros eliminados y guardados en: /Users/frandak2/Documents/repos/cedenar_anomalies/data/interim/nuevo_dataset_2023_f.csv\n"
     ]
    }
   ],
   "source": [
    "## Eliminar vacíos por año\n",
    "\n",
    "# # Eliminar los registros donde item_288 es igual a 0\n",
    "# nuevo_dataset_2022_filtrado = nuevo_dataset_2022[nuevo_dataset_2022['item_288'] != 0]\n",
    "# # Guardar el DataFrame filtrado en un archivo CSV\n",
    "# ruta_guardado = 'J:\\\\JESSICA\\\\Jessica\\\\Rafael\\\\igrid\\\\cedenar\\\\python_zentr\\\\nuevo_dataset_2022_f.csv'\n",
    "# nuevo_dataset_2022_filtrado.to_csv(ruta_guardado, index=False)\n",
    "# print(f\"Año 2022 - Registros eliminados y guardados en: {ruta_guardado}\")\n",
    "\n",
    "nuevo_dataset_2023_filtrado = nuevo_dataset_2023[nuevo_dataset_2023[\"item_288\"] != 0]\n",
    "# Guardar el DataFrame filtrado en un archivo CSV\n",
    "# ruta_guardado = 'J:\\\\JESSICA\\\\Jessica\\\\Rafael\\\\igrid\\\\cedenar\\\\python_zentr\\\\nuevo_dataset_2023_f.csv'\n",
    "ruta_guardado = data_interim_dir(\"nuevo_dataset_2023_f.csv\")\n",
    "\n",
    "nuevo_dataset_2023_filtrado.to_csv(ruta_guardado, index=False)\n",
    "print(f\"Año 2023 - Registros eliminados y guardados en: {ruta_guardado}\")\n",
    "\n",
    "# nuevo_dataset_2024_filtrado = nuevo_dataset_2024[nuevo_dataset_2024['item_288'] != 0]\n",
    "# # Guardar el DataFrame filtrado en un archivo CSV\n",
    "# ruta_guardado = 'J:\\\\JESSICA\\\\Jessica\\\\Rafael\\\\igrid\\\\cedenar\\\\python_zentr\\\\nuevo_dataset_2024_f.csv'\n",
    "# nuevo_dataset_2024_filtrado.to_csv(ruta_guardado, index=False)\n",
    "# print(f\"Año 2024 - Registros eliminados y guardados en: {ruta_guardado}\")"
   ]
  },
  {
   "cell_type": "markdown",
   "id": "d0636925-af87-4c94-86c0-79f18f5e8c43",
   "metadata": {},
   "source": [
    "### Usuarios Pacifico"
   ]
  },
  {
   "cell_type": "code",
   "execution_count": 30,
   "id": "3aa46304-ed84-40c6-b541-17e238578bf5",
   "metadata": {
    "ExecuteTime": {
     "end_time": "2025-05-01T03:09:26.410530Z",
     "start_time": "2025-05-01T03:07:45.049705Z"
    }
   },
   "outputs": [],
   "source": [
    "# ruta_archivo = 'J:\\\\JESSICA\\\\Jessica\\\\Rafael\\\\igrid\\\\cedenar\\\\python_zentr\\\\zentry\\\\pacifico_data.xlsx'\n",
    "ruta_archivo = data_raw_dir(\"cedenar_data.xlsx\")\n",
    "usu_pacifico = pd.read_excel(ruta_archivo)\n",
    "usu_pacifico = usu_pacifico[usu_pacifico.ZONA == \"PACIFICO\"]"
   ]
  },
  {
   "cell_type": "code",
   "execution_count": 31,
   "id": "813686d3-cf3d-49f5-9f54-4e7737a90628",
   "metadata": {
    "ExecuteTime": {
     "end_time": "2025-05-01T03:09:26.908973Z",
     "start_time": "2025-05-01T03:09:26.902274Z"
    },
    "scrolled": true
   },
   "outputs": [
    {
     "data": {
      "text/html": [
       "<div>\n",
       "<style scoped>\n",
       "    .dataframe tbody tr th:only-of-type {\n",
       "        vertical-align: middle;\n",
       "    }\n",
       "\n",
       "    .dataframe tbody tr th {\n",
       "        vertical-align: top;\n",
       "    }\n",
       "\n",
       "    .dataframe thead th {\n",
       "        text-align: right;\n",
       "    }\n",
       "</style>\n",
       "<table border=\"1\" class=\"dataframe\">\n",
       "  <thead>\n",
       "    <tr style=\"text-align: right;\">\n",
       "      <th></th>\n",
       "      <th>PRODUCT_ID</th>\n",
       "      <th>PRODUCTO</th>\n",
       "      <th>CONTRATO</th>\n",
       "      <th>CLIENTE</th>\n",
       "      <th>NOMBRE_CLIENTE</th>\n",
       "      <th>APELLIDO_CLIENTE</th>\n",
       "      <th>ZONA</th>\n",
       "      <th>SECCIONAL</th>\n",
       "      <th>DIRECCION_PRODUCTO</th>\n",
       "      <th>MUNICIPIO_PRODUCTO</th>\n",
       "      <th>VEREDA_CENTRO_POBLADO</th>\n",
       "      <th>BARRIO_PRODUCTO</th>\n",
       "      <th>SECTOR_OPERATIVO_PRODUCTO</th>\n",
       "      <th>COD_CICLO_CONSUMO</th>\n",
       "      <th>CICLO_CONSUMO</th>\n",
       "      <th>COD_CICLO_FACTURACION</th>\n",
       "      <th>CICLO_FACTURACION</th>\n",
       "      <th>RUTA</th>\n",
       "      <th>DES_RUTA</th>\n",
       "      <th>ORDEN_PREDIO</th>\n",
       "      <th>AREA</th>\n",
       "      <th>FECHA_INSTALACION_PRODUCTO</th>\n",
       "      <th>ESTADO_DE_CORTE</th>\n",
       "      <th>ESTADO_PRODUCTO</th>\n",
       "      <th>FECHA_RETIRO_PRODUCTO</th>\n",
       "      <th>SERVICIO_PROVISIONAL</th>\n",
       "      <th>PRODUCTO_ACTIVO</th>\n",
       "      <th>CATEGORIA</th>\n",
       "      <th>SUB_CATEGORIA</th>\n",
       "      <th>ZONA_TARIFARIA</th>\n",
       "      <th>PLAN_COMERCIAL</th>\n",
       "      <th>METOD_VARCON</th>\n",
       "      <th>TRAFO_OPEN</th>\n",
       "      <th>FECHA_INGRESO_A_SISTEMA</th>\n",
       "      <th>FECHA_DE_CONEXION</th>\n",
       "      <th>CARTERA_EN_MORA</th>\n",
       "      <th>CARTERA_TOTAL</th>\n",
       "      <th>CARGA_INSTALADA</th>\n",
       "      <th>MODO_ADQUISICION</th>\n",
       "      <th>MEDIDOR</th>\n",
       "      <th>COMPONENTE</th>\n",
       "      <th>CODIGO_MEDIDOR</th>\n",
       "      <th>FECHA_INSTALACION</th>\n",
       "      <th>ESTADO_MEDIDOR</th>\n",
       "      <th>COMPONENT_TYPE_ID</th>\n",
       "      <th>CLASE_SERVICIO</th>\n",
       "      <th>TIPO_MEDIDOR</th>\n",
       "      <th>GAMA</th>\n",
       "      <th>TIPO_ITEM</th>\n",
       "      <th>FASES</th>\n",
       "      <th>TRAFO_SPARD</th>\n",
       "      <th>KVA</th>\n",
       "      <th>CIRCUITO</th>\n",
       "      <th>NIVEL</th>\n",
       "      <th>LATI_USU</th>\n",
       "      <th>LONG_USU</th>\n",
       "      <th>LATI_TRAFO</th>\n",
       "      <th>LONG_TRAFO</th>\n",
       "    </tr>\n",
       "  </thead>\n",
       "  <tbody>\n",
       "    <tr>\n",
       "      <th>146</th>\n",
       "      <td>597102</td>\n",
       "      <td>597102</td>\n",
       "      <td>597102</td>\n",
       "      <td>100706</td>\n",
       "      <td>MARCIAL VICTORIANO_ LOPEZ NARVAEZ</td>\n",
       "      <td>NaN</td>\n",
       "      <td>PACIFICO</td>\n",
       "      <td>PACIFICO</td>\n",
       "      <td>EL ESFURZO I CS 347 DIV 1</td>\n",
       "      <td>TUMACO</td>\n",
       "      <td>SAN ANDRES DE TUMACO  DISTRITO ESPECIAL  INDUS...</td>\n",
       "      <td>EL ESFUERZO</td>\n",
       "      <td>114-TUMACO  URBANO</td>\n",
       "      <td>4</td>\n",
       "      <td>0Y-TARIFA PARA CLAUSURA PACIFI</td>\n",
       "      <td>4</td>\n",
       "      <td>0Y-TARIFA PARA CLAUSURA PACIFI</td>\n",
       "      <td>5.0</td>\n",
       "      <td>2182-RUTA 2182 DE TUMACO</td>\n",
       "      <td>6058.0</td>\n",
       "      <td>Urbano</td>\n",
       "      <td>2000-10-10</td>\n",
       "      <td>92-Retiro definitivo</td>\n",
       "      <td>3-Retirado</td>\n",
       "      <td>2020-07-06</td>\n",
       "      <td>N</td>\n",
       "      <td>N</td>\n",
       "      <td>1-RESIDENCIAL</td>\n",
       "      <td>1-ESTRATO 1</td>\n",
       "      <td>-1-POR DEFECTO</td>\n",
       "      <td>16-RESIDENCIAL - DIRECTO</td>\n",
       "      <td>5013-PRODUCTOS DIRECTOS</td>\n",
       "      <td>TM30006</td>\n",
       "      <td>2000-10-10</td>\n",
       "      <td>2000-10-10</td>\n",
       "      <td>NaN</td>\n",
       "      <td>NaN</td>\n",
       "      <td>1.0</td>\n",
       "      <td>NaN</td>\n",
       "      <td>NaN</td>\n",
       "      <td>NaN</td>\n",
       "      <td>NaN</td>\n",
       "      <td>NaN</td>\n",
       "      <td>NaN</td>\n",
       "      <td>NaN</td>\n",
       "      <td>NaN</td>\n",
       "      <td>NaN</td>\n",
       "      <td>NaN</td>\n",
       "      <td>NaN</td>\n",
       "      <td>NaN</td>\n",
       "      <td>NaN</td>\n",
       "      <td>NaN</td>\n",
       "      <td>NaN</td>\n",
       "      <td>NaN</td>\n",
       "      <td>NaN</td>\n",
       "      <td>NaN</td>\n",
       "      <td>NaN</td>\n",
       "      <td>NaN</td>\n",
       "    </tr>\n",
       "    <tr>\n",
       "      <th>154</th>\n",
       "      <td>1184921</td>\n",
       "      <td>1184921</td>\n",
       "      <td>1184921</td>\n",
       "      <td>100802</td>\n",
       "      <td>ZAIDA JACKELINE</td>\n",
       "      <td>VALVERDE QUIÑONES</td>\n",
       "      <td>PACIFICO</td>\n",
       "      <td>PACIFICO</td>\n",
       "      <td>CS 53 A PRADOMAR DIV 1</td>\n",
       "      <td>TUMACO</td>\n",
       "      <td>SAN ANDRES DE TUMACO  DISTRITO ESPECIAL  INDUS...</td>\n",
       "      <td>PRADOMAR</td>\n",
       "      <td>114-TUMACO  URBANO</td>\n",
       "      <td>54</td>\n",
       "      <td>0G-MEDIDA CENTRALIZADA TUMACO</td>\n",
       "      <td>54</td>\n",
       "      <td>0G-MEDIDA CENTRALIZADA TUMACO</td>\n",
       "      <td>4040.0</td>\n",
       "      <td>7510 - TUMACO VIADUCTO CONVENCIONAL MORRITO TR...</td>\n",
       "      <td>35560.0</td>\n",
       "      <td>Urbano</td>\n",
       "      <td>2016-02-29</td>\n",
       "      <td>1-Conexión</td>\n",
       "      <td>1-Activo</td>\n",
       "      <td>4732-12-31</td>\n",
       "      <td>N</td>\n",
       "      <td>Y</td>\n",
       "      <td>1-RESIDENCIAL</td>\n",
       "      <td>1-ESTRATO 1</td>\n",
       "      <td>-1-POR DEFECTO</td>\n",
       "      <td>31-PLAN RESIDENCIAL TELEMEDIDO</td>\n",
       "      <td>5004-CLIENTES TELEMEDIDOS</td>\n",
       "      <td>60TA030352</td>\n",
       "      <td>2016-02-29</td>\n",
       "      <td>2016-02-29</td>\n",
       "      <td>0.0</td>\n",
       "      <td>47090.0</td>\n",
       "      <td>1.8</td>\n",
       "      <td>C - comodato</td>\n",
       "      <td>MEC-54186</td>\n",
       "      <td>1605850.0</td>\n",
       "      <td>301790.0</td>\n",
       "      <td>2016-02-29</td>\n",
       "      <td>21-Pendiente de Retiro</td>\n",
       "      <td>18.0</td>\n",
       "      <td>3257-MEDIDOR AMI</td>\n",
       "      <td>NaN</td>\n",
       "      <td>NaN</td>\n",
       "      <td>NaN</td>\n",
       "      <td>NaN</td>\n",
       "      <td>60TA030352</td>\n",
       "      <td>45.0</td>\n",
       "      <td>60TM03</td>\n",
       "      <td>1.0</td>\n",
       "      <td>1.819331</td>\n",
       "      <td>-78.749592</td>\n",
       "      <td>1.819363</td>\n",
       "      <td>-78.749388</td>\n",
       "    </tr>\n",
       "  </tbody>\n",
       "</table>\n",
       "</div>"
      ],
      "text/plain": [
       "     PRODUCT_ID  PRODUCTO  CONTRATO  CLIENTE  \\\n",
       "146      597102    597102    597102   100706   \n",
       "154     1184921   1184921   1184921   100802   \n",
       "\n",
       "                        NOMBRE_CLIENTE   APELLIDO_CLIENTE      ZONA SECCIONAL  \\\n",
       "146  MARCIAL VICTORIANO_ LOPEZ NARVAEZ                NaN  PACIFICO  PACIFICO   \n",
       "154                    ZAIDA JACKELINE  VALVERDE QUIÑONES  PACIFICO  PACIFICO   \n",
       "\n",
       "            DIRECCION_PRODUCTO MUNICIPIO_PRODUCTO  \\\n",
       "146  EL ESFURZO I CS 347 DIV 1             TUMACO   \n",
       "154     CS 53 A PRADOMAR DIV 1             TUMACO   \n",
       "\n",
       "                                 VEREDA_CENTRO_POBLADO BARRIO_PRODUCTO  \\\n",
       "146  SAN ANDRES DE TUMACO  DISTRITO ESPECIAL  INDUS...     EL ESFUERZO   \n",
       "154  SAN ANDRES DE TUMACO  DISTRITO ESPECIAL  INDUS...        PRADOMAR   \n",
       "\n",
       "    SECTOR_OPERATIVO_PRODUCTO  COD_CICLO_CONSUMO  \\\n",
       "146        114-TUMACO  URBANO                  4   \n",
       "154        114-TUMACO  URBANO                 54   \n",
       "\n",
       "                      CICLO_CONSUMO  COD_CICLO_FACTURACION  \\\n",
       "146  0Y-TARIFA PARA CLAUSURA PACIFI                      4   \n",
       "154   0G-MEDIDA CENTRALIZADA TUMACO                     54   \n",
       "\n",
       "                  CICLO_FACTURACION    RUTA  \\\n",
       "146  0Y-TARIFA PARA CLAUSURA PACIFI     5.0   \n",
       "154   0G-MEDIDA CENTRALIZADA TUMACO  4040.0   \n",
       "\n",
       "                                              DES_RUTA  ORDEN_PREDIO    AREA  \\\n",
       "146                           2182-RUTA 2182 DE TUMACO        6058.0  Urbano   \n",
       "154  7510 - TUMACO VIADUCTO CONVENCIONAL MORRITO TR...       35560.0  Urbano   \n",
       "\n",
       "    FECHA_INSTALACION_PRODUCTO       ESTADO_DE_CORTE ESTADO_PRODUCTO  \\\n",
       "146                 2000-10-10  92-Retiro definitivo      3-Retirado   \n",
       "154                 2016-02-29            1-Conexión        1-Activo   \n",
       "\n",
       "    FECHA_RETIRO_PRODUCTO SERVICIO_PROVISIONAL PRODUCTO_ACTIVO      CATEGORIA  \\\n",
       "146            2020-07-06                    N               N  1-RESIDENCIAL   \n",
       "154            4732-12-31                    N               Y  1-RESIDENCIAL   \n",
       "\n",
       "    SUB_CATEGORIA  ZONA_TARIFARIA                  PLAN_COMERCIAL  \\\n",
       "146   1-ESTRATO 1  -1-POR DEFECTO        16-RESIDENCIAL - DIRECTO   \n",
       "154   1-ESTRATO 1  -1-POR DEFECTO  31-PLAN RESIDENCIAL TELEMEDIDO   \n",
       "\n",
       "                  METOD_VARCON  TRAFO_OPEN FECHA_INGRESO_A_SISTEMA  \\\n",
       "146    5013-PRODUCTOS DIRECTOS     TM30006              2000-10-10   \n",
       "154  5004-CLIENTES TELEMEDIDOS  60TA030352              2016-02-29   \n",
       "\n",
       "    FECHA_DE_CONEXION  CARTERA_EN_MORA  CARTERA_TOTAL  CARGA_INSTALADA  \\\n",
       "146        2000-10-10              NaN            NaN              1.0   \n",
       "154        2016-02-29              0.0        47090.0              1.8   \n",
       "\n",
       "    MODO_ADQUISICION    MEDIDOR  COMPONENTE  CODIGO_MEDIDOR FECHA_INSTALACION  \\\n",
       "146              NaN        NaN         NaN             NaN               NaN   \n",
       "154     C - comodato  MEC-54186   1605850.0        301790.0        2016-02-29   \n",
       "\n",
       "             ESTADO_MEDIDOR  COMPONENT_TYPE_ID    CLASE_SERVICIO TIPO_MEDIDOR  \\\n",
       "146                     NaN                NaN               NaN          NaN   \n",
       "154  21-Pendiente de Retiro               18.0  3257-MEDIDOR AMI          NaN   \n",
       "\n",
       "    GAMA TIPO_ITEM  FASES TRAFO_SPARD   KVA CIRCUITO  NIVEL  LATI_USU  \\\n",
       "146  NaN       NaN    NaN         NaN   NaN      NaN    NaN       NaN   \n",
       "154  NaN       NaN    NaN  60TA030352  45.0   60TM03    1.0  1.819331   \n",
       "\n",
       "      LONG_USU  LATI_TRAFO  LONG_TRAFO  \n",
       "146        NaN         NaN         NaN  \n",
       "154 -78.749592    1.819363  -78.749388  "
      ]
     },
     "execution_count": 31,
     "metadata": {},
     "output_type": "execute_result"
    }
   ],
   "source": [
    "usu_pacifico.head(2)"
   ]
  },
  {
   "cell_type": "code",
   "execution_count": 32,
   "id": "90029500-e0e0-4853-a7e1-a3ced1b272b8",
   "metadata": {
    "ExecuteTime": {
     "end_time": "2025-05-01T03:09:27.290640Z",
     "start_time": "2025-05-01T03:09:27.289053Z"
    }
   },
   "outputs": [],
   "source": [
    "# Crear una función para verificar la existencia de los usuarios en Base de datos pacifico y devolver \"si\" o \"no\"\n",
    "def verificar_existencia(valor):\n",
    "    if valor in usu_pacifico[\"PRODUCTO\"].values:\n",
    "        return \"si\"\n",
    "    else:\n",
    "        return \"no\""
   ]
  },
  {
   "cell_type": "code",
   "execution_count": 33,
   "id": "1f48fe8e-ffe1-451b-84f5-678d9d75b723",
   "metadata": {
    "ExecuteTime": {
     "end_time": "2025-05-01T03:09:27.660959Z",
     "start_time": "2025-05-01T03:09:27.659457Z"
    }
   },
   "outputs": [],
   "source": [
    "# # Crear una función para verificar la existencia de los usuarios en Base de datos pacifico y devolver \"si\" o \"no\"\n",
    "# def verificar_existencia(valor):\n",
    "#     if valor in usu_pacifico['PRODUCTO'].values:\n",
    "#         return \"si\"\n",
    "#     else:\n",
    "#         return \"no\"\n",
    "#\n",
    "# nuevo_dataset_copia = nuevo_dataset_2022_filtrado.copy()\n",
    "#\n",
    "# # Aplicar la función a la columna item_288 y crear la columna existencia\n",
    "# nuevo_dataset_copia['existencia'] = nuevo_dataset_copia['item_288'].apply(verificar_existencia)\n",
    "#\n",
    "# nuevo_dataset_copia.to_csv(\"nuevo_dataset_comprob_2022_filtrado.csv\", index=False)"
   ]
  },
  {
   "cell_type": "code",
   "execution_count": 35,
   "id": "ff9a076d-04a9-4f31-b4e0-5c514a8935ff",
   "metadata": {
    "ExecuteTime": {
     "end_time": "2025-05-01T03:10:18.968040Z",
     "start_time": "2025-05-01T03:10:18.966250Z"
    }
   },
   "outputs": [],
   "source": [
    "# nuevo_dataset_copia['existencia'].value_counts()"
   ]
  },
  {
   "cell_type": "code",
   "execution_count": 36,
   "id": "00340bca-b28f-4827-93cf-357e9fcb566d",
   "metadata": {
    "ExecuteTime": {
     "end_time": "2025-05-01T03:10:34.202325Z",
     "start_time": "2025-05-01T03:10:33.980557Z"
    }
   },
   "outputs": [],
   "source": [
    "nuevo_dataset_copia = nuevo_dataset_2023_filtrado.copy()\n",
    "\n",
    "# Aplicar la función a la columna item_288 y crear la columna existencia\n",
    "nuevo_dataset_copia[\"existencia\"] = nuevo_dataset_copia[\"item_288\"].apply(\n",
    "    verificar_existencia\n",
    ")\n",
    "\n",
    "nuevo_dataset_copia.to_csv(\n",
    "    data_interim_dir(\"nuevo_dataset_comprob_2023_filtrado.csv\"), index=False\n",
    ")"
   ]
  },
  {
   "cell_type": "code",
   "execution_count": 37,
   "id": "d8c3725a-301b-4d5b-a342-d71ec3050360",
   "metadata": {
    "ExecuteTime": {
     "end_time": "2025-05-01T03:10:36.250426Z",
     "start_time": "2025-05-01T03:10:36.246664Z"
    }
   },
   "outputs": [
    {
     "data": {
      "text/plain": [
       "existencia\n",
       "si    19584\n",
       "no        3\n",
       "Name: count, dtype: int64"
      ]
     },
     "execution_count": 37,
     "metadata": {},
     "output_type": "execute_result"
    }
   ],
   "source": [
    "nuevo_dataset_copia[\"existencia\"].value_counts()"
   ]
  },
  {
   "cell_type": "code",
   "execution_count": 38,
   "id": "79ff25e8-a912-4ecd-a62f-149fe0dcd7ea",
   "metadata": {
    "ExecuteTime": {
     "end_time": "2025-05-01T03:10:37.000097Z",
     "start_time": "2025-05-01T03:10:36.998582Z"
    }
   },
   "outputs": [],
   "source": [
    "# nuevo_dataset_copia = nuevo_dataset_2024_filtrado.copy()\n",
    "#\n",
    "# # Aplicar la función a la columna item_288 y crear la columna existencia\n",
    "# nuevo_dataset_copia['existencia'] = nuevo_dataset_copia['item_288'].apply(verificar_existencia)\n",
    "#\n",
    "# nuevo_dataset_copia.to_csv(\"nuevo_dataset_comprob_2024_filtrado.csv\", index=False)"
   ]
  },
  {
   "cell_type": "code",
   "execution_count": 39,
   "id": "0a2bc327-e69c-4d4a-bc94-c5643a08f46e",
   "metadata": {
    "ExecuteTime": {
     "end_time": "2025-05-01T03:10:41.777432Z",
     "start_time": "2025-05-01T03:10:41.775580Z"
    }
   },
   "outputs": [],
   "source": [
    "# nuevo_dataset_copia['existencia'].value_counts()"
   ]
  },
  {
   "cell_type": "markdown",
   "id": "77ff261c-e2b2-4bde-b4c6-5aff24910703",
   "metadata": {},
   "source": [
    "### Eliminar ODT sin coincidencia en Productos pacifico"
   ]
  },
  {
   "cell_type": "code",
   "execution_count": 40,
   "id": "98b733f3-53cf-47ec-ba4a-be6b10b10c7c",
   "metadata": {
    "ExecuteTime": {
     "end_time": "2025-05-01T03:10:43.716058Z",
     "start_time": "2025-05-01T03:10:43.713283Z"
    }
   },
   "outputs": [],
   "source": [
    "def eliminar_y_exportar(df_original, nombre_archivo_salida):\n",
    "    \"\"\"\n",
    "    Elimina los registros donde 'existencia' es 'no', elimina la columna 'existencia' y guarda el DataFrame en un archivo CSV.\n",
    "\n",
    "    Parámetros:\n",
    "    - df_original (DataFrame): El DataFrame original con la columna 'existencia'.\n",
    "    - nombre_archivo_salida (str): El nombre del archivo CSV de salida.\n",
    "    \"\"\"\n",
    "\n",
    "    # Crear una copia del DataFrame para no modificar el original\n",
    "    df_copia = df_original.copy()\n",
    "\n",
    "    # Eliminar los registros donde 'existencia' es 'no'\n",
    "    df_filtrado = df_copia[df_copia[\"existencia\"] != \"no\"]\n",
    "\n",
    "    # Eliminar la columna 'existencia'\n",
    "    df_filtrado = df_filtrado.drop(columns=[\"existencia\"])\n",
    "\n",
    "    # Guardar el DataFrame filtrado en un archivo CSV\n",
    "    df_filtrado.to_csv(data_interim_dir(nombre_archivo_salida), index=False)\n",
    "\n",
    "    print(\n",
    "        f\"Registros eliminados y guardados en: {data_interim_dir(nombre_archivo_salida)}\"\n",
    "    )"
   ]
  },
  {
   "cell_type": "code",
   "execution_count": 41,
   "id": "29649e56-3d9e-4b05-be9e-2dd647c95d52",
   "metadata": {
    "ExecuteTime": {
     "end_time": "2025-05-01T03:10:44.325180Z",
     "start_time": "2025-05-01T03:10:44.319685Z"
    }
   },
   "outputs": [],
   "source": [
    "# ruta_archivo = 'J:\\\\JESSICA\\\\Jessica\\\\Rafael\\\\igrid\\\\cedenar\\\\python_zentr\\\\nuevo_dataset_comprob_2022_filtrado.csv'  # Reemplaza con tu ruta\n",
    "# df_2022_f_c = pd.read_csv(ruta_archivo)\n",
    "\n",
    "# ruta_archivo = 'J:\\\\JESSICA\\\\Jessica\\\\Rafael\\\\igrid\\\\cedenar\\\\python_zentr\\\\nuevo_dataset_comprob_2023_filtrado.csv'  # Reemplaza con tu ruta\n",
    "ruta_archivo = data_interim_dir(\"nuevo_dataset_comprob_2023_filtrado.csv\")\n",
    "df_2023_f_c = pd.read_csv(ruta_archivo)\n",
    "\n",
    "# ruta_archivo = 'J:\\\\JESSICA\\\\Jessica\\\\Rafael\\\\igrid\\\\cedenar\\\\python_zentr\\\\nuevo_dataset_comprob_2024_filtrado.csv'  # Reemplaza con tu ruta\n",
    "# df_2024_f_c = pd.read_csv(ruta_archivo)"
   ]
  },
  {
   "cell_type": "code",
   "execution_count": 42,
   "id": "879cde65-92ea-4178-a80a-58d99cfb3c03",
   "metadata": {
    "ExecuteTime": {
     "end_time": "2025-05-01T03:10:45.234129Z",
     "start_time": "2025-05-01T03:10:45.232285Z"
    }
   },
   "outputs": [],
   "source": [
    "# eliminar_y_exportar(df_2022_f_c, \"df_odt_prod_2022.csv\")"
   ]
  },
  {
   "cell_type": "code",
   "execution_count": 43,
   "id": "1aae9b70-066a-4e68-a9ab-e461418fed6e",
   "metadata": {
    "ExecuteTime": {
     "end_time": "2025-05-01T03:10:45.819909Z",
     "start_time": "2025-05-01T03:10:45.809089Z"
    }
   },
   "outputs": [
    {
     "name": "stdout",
     "output_type": "stream",
     "text": [
      "Registros eliminados y guardados en: /Users/frandak2/Documents/repos/cedenar_anomalies/data/interim/df_odt_prod_2023.csv\n"
     ]
    }
   ],
   "source": [
    "eliminar_y_exportar(df_2023_f_c, \"df_odt_prod_2023.csv\")"
   ]
  },
  {
   "cell_type": "code",
   "execution_count": 44,
   "id": "9d1366b7-b138-4a5c-bfc7-9c83d0c9b7d0",
   "metadata": {
    "ExecuteTime": {
     "end_time": "2025-05-01T03:10:54.195159Z",
     "start_time": "2025-05-01T03:10:54.193292Z"
    }
   },
   "outputs": [],
   "source": [
    "# eliminar_y_exportar(df_2024_f_c, \"df_odt_prod_2024.csv\")"
   ]
  },
  {
   "cell_type": "markdown",
   "id": "944f1d5d-a285-4188-bb80-aebebb09fc47",
   "metadata": {},
   "source": [
    "### Agregar datos de usuario"
   ]
  },
  {
   "cell_type": "code",
   "execution_count": 45,
   "id": "33011668-d1f3-4a68-adb4-dee30b0f6260",
   "metadata": {
    "ExecuteTime": {
     "end_time": "2025-05-01T03:10:55.733475Z",
     "start_time": "2025-05-01T03:10:55.729397Z"
    }
   },
   "outputs": [],
   "source": [
    "# ruta_archivo = 'J:\\\\JESSICA\\\\Jessica\\\\Rafael\\\\igrid\\\\cedenar\\\\python_zentr\\\\df_odt_prod_2022.csv'  # Reemplaza con tu ruta\n",
    "# df_odt_prod_2022 = pd.read_csv(ruta_archivo)\n",
    "\n",
    "# ruta_archivo = 'J:\\\\JESSICA\\\\Jessica\\\\Rafael\\\\igrid\\\\cedenar\\\\python_zentr\\\\df_odt_prod_2023.csv'\n",
    "ruta_archivo = data_interim_dir(\"df_odt_prod_2023.csv\")\n",
    "df_odt_prod_2023 = pd.read_csv(ruta_archivo)\n",
    "\n",
    "# ruta_archivo = 'J:\\\\JESSICA\\\\Jessica\\\\Rafael\\\\igrid\\\\cedenar\\\\python_zentr\\\\df_odt_prod_2024.csv'  # Reemplaza con tu ruta\n",
    "# df_odt_prod_2024 = pd.read_csv(ruta_archivo)"
   ]
  },
  {
   "cell_type": "code",
   "execution_count": 246,
   "id": "e751cfc6-ab7d-4651-9c6a-f8aea1d3751d",
   "metadata": {},
   "outputs": [
    {
     "data": {
      "text/html": [
       "<div>\n",
       "<style scoped>\n",
       "    .dataframe tbody tr th:only-of-type {\n",
       "        vertical-align: middle;\n",
       "    }\n",
       "\n",
       "    .dataframe tbody tr th {\n",
       "        vertical-align: top;\n",
       "    }\n",
       "\n",
       "    .dataframe thead th {\n",
       "        text-align: right;\n",
       "    }\n",
       "</style>\n",
       "<table border=\"1\" class=\"dataframe\">\n",
       "  <thead>\n",
       "    <tr style=\"text-align: right;\">\n",
       "      <th></th>\n",
       "      <th>odt</th>\n",
       "      <th>item_288</th>\n",
       "    </tr>\n",
       "  </thead>\n",
       "  <tbody>\n",
       "    <tr>\n",
       "      <th>0</th>\n",
       "      <td>552285</td>\n",
       "      <td>1065193</td>\n",
       "    </tr>\n",
       "    <tr>\n",
       "      <th>1</th>\n",
       "      <td>551224</td>\n",
       "      <td>462370</td>\n",
       "    </tr>\n",
       "  </tbody>\n",
       "</table>\n",
       "</div>"
      ],
      "text/plain": [
       "      odt  item_288\n",
       "0  552285   1065193\n",
       "1  551224    462370"
      ]
     },
     "execution_count": 246,
     "metadata": {},
     "output_type": "execute_result"
    }
   ],
   "source": [
    "# df_odt_prod_2022.head(2)"
   ]
  },
  {
   "cell_type": "code",
   "execution_count": 46,
   "id": "dad7b29f-ebe1-45b1-889f-509825a46033",
   "metadata": {
    "ExecuteTime": {
     "end_time": "2025-05-01T03:11:08.936460Z",
     "start_time": "2025-05-01T03:11:08.852044Z"
    }
   },
   "outputs": [],
   "source": [
    "# Crear un diccionario de mapeo para los campos a agregar\n",
    "mapeo_productos = usu_pacifico.set_index(\"PRODUCTO\")[\n",
    "    [\"AREA\", \"PLAN_COMERCIAL\", \"NIVEL\", \"LATI_USU\", \"LONG_USU\"]\n",
    "].to_dict(\"index\")\n",
    "\n",
    "\n",
    "# Función para obtener los valores correspondientes\n",
    "def obtener_datos_usuario(producto):\n",
    "    if producto in mapeo_productos:\n",
    "        return pd.Series(mapeo_productos[producto])\n",
    "    else:\n",
    "        return pd.Series(\n",
    "            [None] * 5, index=[\"AREA\", \"PLAN_COMERCIAL\", \"NIVEL\", \"LATI_USU\", \"LONG_USU\"]\n",
    "        )"
   ]
  },
  {
   "cell_type": "markdown",
   "id": "a2298958a8e0a61f",
   "metadata": {},
   "source": "## 2022"
  },
  {
   "cell_type": "code",
   "execution_count": 47,
   "id": "ea3b66b8-193e-4e24-b46d-4e3ff29ae5cb",
   "metadata": {
    "ExecuteTime": {
     "end_time": "2025-05-01T03:11:10.423604Z",
     "start_time": "2025-05-01T03:11:10.421725Z"
    }
   },
   "outputs": [],
   "source": [
    "# # Aplicar la función a la columna item_288 y agregar las nuevas columnas\n",
    "# df_odt_prod_2022[['AREA', 'PLAN_COMERCIAL', 'NIVEL', 'LATI_USU', 'LONG_USU']] = df_odt_prod_2022['item_288'].apply(obtener_datos_usuario)\n",
    "#\n",
    "# # Mostrar las primeras filas del DataFrame con las nuevas columnas\n",
    "# print(df_odt_prod_2022.info())"
   ]
  },
  {
   "cell_type": "code",
   "execution_count": 48,
   "id": "0148760c-0a11-4ab7-a9a1-05890db0ba77",
   "metadata": {
    "ExecuteTime": {
     "end_time": "2025-05-01T03:11:15.801640Z",
     "start_time": "2025-05-01T03:11:15.799701Z"
    }
   },
   "outputs": [],
   "source": [
    "# df_odt_prod_2022.columns"
   ]
  },
  {
   "cell_type": "code",
   "execution_count": 49,
   "id": "a99ee9de-2486-4382-a636-6cbc8aa29784",
   "metadata": {
    "ExecuteTime": {
     "end_time": "2025-05-01T03:11:16.587606Z",
     "start_time": "2025-05-01T03:11:16.585543Z"
    }
   },
   "outputs": [],
   "source": [
    "# df_odt_prod_2022.to_csv(\"df_odt_prod_2022_f.csv\", index=False)"
   ]
  },
  {
   "cell_type": "code",
   "execution_count": 50,
   "id": "5e2079c8-92f5-432d-b076-c2026c17d284",
   "metadata": {
    "ExecuteTime": {
     "end_time": "2025-05-01T03:11:18.382852Z",
     "start_time": "2025-05-01T03:11:17.616660Z"
    }
   },
   "outputs": [
    {
     "name": "stdout",
     "output_type": "stream",
     "text": [
      "<class 'pandas.core.frame.DataFrame'>\n",
      "RangeIndex: 19584 entries, 0 to 19583\n",
      "Data columns (total 7 columns):\n",
      " #   Column          Non-Null Count  Dtype  \n",
      "---  ------          --------------  -----  \n",
      " 0   odt             19584 non-null  int64  \n",
      " 1   item_288        19584 non-null  int64  \n",
      " 2   AREA            19584 non-null  object \n",
      " 3   PLAN_COMERCIAL  19584 non-null  object \n",
      " 4   NIVEL           19584 non-null  float64\n",
      " 5   LATI_USU        19584 non-null  float64\n",
      " 6   LONG_USU        19584 non-null  float64\n",
      "dtypes: float64(3), int64(2), object(2)\n",
      "memory usage: 1.0+ MB\n",
      "None\n"
     ]
    }
   ],
   "source": [
    "# Aplicar la función a la columna item_288 y agregar las nuevas columnas\n",
    "df_odt_prod_2023[[\"AREA\", \"PLAN_COMERCIAL\", \"NIVEL\", \"LATI_USU\", \"LONG_USU\"]] = (\n",
    "    df_odt_prod_2023[\"item_288\"].apply(obtener_datos_usuario)\n",
    ")\n",
    "\n",
    "# Mostrar las primeras filas del DataFrame con las nuevas columnas\n",
    "print(df_odt_prod_2023.info())"
   ]
  },
  {
   "cell_type": "code",
   "execution_count": 51,
   "id": "556a2efb-17b3-48ab-9f1d-d92e64188c57",
   "metadata": {
    "ExecuteTime": {
     "end_time": "2025-05-01T03:11:18.772729Z",
     "start_time": "2025-05-01T03:11:18.742846Z"
    }
   },
   "outputs": [],
   "source": [
    "df_odt_prod_2023.to_csv(data_interim_dir(\"df_odt_prod_2023_f.csv\"), index=False)"
   ]
  },
  {
   "cell_type": "code",
   "execution_count": 52,
   "id": "9978fcc3-5369-4ecb-85b0-33960a2e1cf8",
   "metadata": {
    "ExecuteTime": {
     "end_time": "2025-05-01T03:11:30.471201Z",
     "start_time": "2025-05-01T03:11:30.469204Z"
    }
   },
   "outputs": [],
   "source": [
    "# # Aplicar la función a la columna item_288 y agregar las nuevas columnas\n",
    "# df_odt_prod_2024[['AREA', 'PLAN_COMERCIAL', 'NIVEL', 'LATI_USU', 'LONG_USU']] = df_odt_prod_2024['item_288'].apply(obtener_datos_usuario)\n",
    "#\n",
    "# # Mostrar las primeras filas del DataFrame con las nuevas columnas\n",
    "# print(df_odt_prod_2024.info())"
   ]
  },
  {
   "cell_type": "code",
   "execution_count": 53,
   "id": "cb587cbf-9c50-4baa-a971-42ef17b5838d",
   "metadata": {
    "ExecuteTime": {
     "end_time": "2025-05-01T03:11:31.497284Z",
     "start_time": "2025-05-01T03:11:31.495419Z"
    }
   },
   "outputs": [],
   "source": [
    "# df_odt_prod_2024.to_csv(\"df_odt_prod_2024_f.csv\", index=False)"
   ]
  },
  {
   "cell_type": "markdown",
   "id": "8e67941c-9f0e-44bd-8542-6f2106747397",
   "metadata": {},
   "source": [
    "### Traducir orden con uid"
   ]
  },
  {
   "cell_type": "code",
   "execution_count": 54,
   "id": "cb8e2911-f9e5-4388-9136-bf09dc5ec885",
   "metadata": {
    "ExecuteTime": {
     "end_time": "2025-05-01T03:11:34.742647Z",
     "start_time": "2025-05-01T03:11:32.764964Z"
    }
   },
   "outputs": [],
   "source": [
    "# ruta_archivo = 'J:\\\\JESSICA\\\\Jessica\\\\Rafael\\\\igrid\\\\cedenar\\\\python_zentr\\\\zentry\\\\conversion uid orden.xlsx'\n",
    "ruta_archivo = data_raw_dir(\"conversion uid orden.xlsx\")\n",
    "odt_a_uid = pd.read_excel(ruta_archivo)"
   ]
  },
  {
   "cell_type": "code",
   "execution_count": 55,
   "id": "eccc62ef-079b-4a15-a367-ed7a5b7ecb37",
   "metadata": {
    "ExecuteTime": {
     "end_time": "2025-05-01T03:11:35.080692Z",
     "start_time": "2025-05-01T03:11:35.078186Z"
    }
   },
   "outputs": [
    {
     "data": {
      "text/html": [
       "<div>\n",
       "<style scoped>\n",
       "    .dataframe tbody tr th:only-of-type {\n",
       "        vertical-align: middle;\n",
       "    }\n",
       "\n",
       "    .dataframe tbody tr th {\n",
       "        vertical-align: top;\n",
       "    }\n",
       "\n",
       "    .dataframe thead th {\n",
       "        text-align: right;\n",
       "    }\n",
       "</style>\n",
       "<table border=\"1\" class=\"dataframe\">\n",
       "  <thead>\n",
       "    <tr style=\"text-align: right;\">\n",
       "      <th></th>\n",
       "      <th>uid</th>\n",
       "      <th>orden</th>\n",
       "    </tr>\n",
       "  </thead>\n",
       "  <tbody>\n",
       "    <tr>\n",
       "      <th>0</th>\n",
       "      <td>1270785</td>\n",
       "      <td>25503591</td>\n",
       "    </tr>\n",
       "    <tr>\n",
       "      <th>1</th>\n",
       "      <td>2041056</td>\n",
       "      <td>28157132</td>\n",
       "    </tr>\n",
       "  </tbody>\n",
       "</table>\n",
       "</div>"
      ],
      "text/plain": [
       "       uid     orden\n",
       "0  1270785  25503591\n",
       "1  2041056  28157132"
      ]
     },
     "execution_count": 55,
     "metadata": {},
     "output_type": "execute_result"
    }
   ],
   "source": [
    "odt_a_uid.head(2)"
   ]
  },
  {
   "cell_type": "code",
   "execution_count": 56,
   "id": "a06a0e09-04b5-4e32-8eb3-4941bef7a846",
   "metadata": {
    "ExecuteTime": {
     "end_time": "2025-05-01T03:11:35.462127Z",
     "start_time": "2025-05-01T03:11:35.438380Z"
    }
   },
   "outputs": [],
   "source": [
    "# Crear un diccionario de mapeo de 'orden' a 'uid'\n",
    "mapeo_orden_uid = odt_a_uid.set_index(\"uid\")[\"orden\"].to_dict()\n",
    "\n",
    "\n",
    "# Función para obtener el uid correspondiente\n",
    "def obtener_uid(orden):\n",
    "    if orden in mapeo_orden_uid:\n",
    "        return mapeo_orden_uid[orden]\n",
    "    else:\n",
    "        return None"
   ]
  },
  {
   "cell_type": "markdown",
   "id": "c98e7a57-8297-4acc-b378-b2f0a0b894a3",
   "metadata": {},
   "source": [
    "#### 2022"
   ]
  },
  {
   "cell_type": "code",
   "execution_count": 57,
   "id": "5fa6ea9c-a9ae-4325-966d-e30eda022a0f",
   "metadata": {
    "ExecuteTime": {
     "end_time": "2025-05-01T03:11:35.831063Z",
     "start_time": "2025-05-01T03:11:35.829753Z"
    }
   },
   "outputs": [],
   "source": [
    "# ruta_archivo = 'J:\\\\JESSICA\\\\Jessica\\\\Rafael\\\\igrid\\\\cedenar\\\\python_zentr\\\\df_odt_prod_2022_f.csv'  # Reemplaza con tu ruta\n",
    "# df_odt_prod_2022 = pd.read_csv(ruta_archivo)"
   ]
  },
  {
   "cell_type": "code",
   "execution_count": 58,
   "id": "9deab8de-384c-492c-8d9a-3d99f1ab132c",
   "metadata": {
    "ExecuteTime": {
     "end_time": "2025-05-01T03:11:36.544215Z",
     "start_time": "2025-05-01T03:11:36.542827Z"
    }
   },
   "outputs": [],
   "source": [
    "# df_odt_prod_2022['orden'] = df_odt_prod_2022['odt'].apply(obtener_uid)"
   ]
  },
  {
   "cell_type": "code",
   "execution_count": 59,
   "id": "bb8a8b9c-6271-4053-8e75-6e15b27167b6",
   "metadata": {
    "ExecuteTime": {
     "end_time": "2025-05-01T03:11:36.904894Z",
     "start_time": "2025-05-01T03:11:36.903388Z"
    }
   },
   "outputs": [],
   "source": [
    "# df_odt_prod_2022.info()"
   ]
  },
  {
   "cell_type": "code",
   "execution_count": 60,
   "id": "20858c6a-0871-48f4-81ad-d399eb48279e",
   "metadata": {
    "ExecuteTime": {
     "end_time": "2025-05-01T03:11:37.459781Z",
     "start_time": "2025-05-01T03:11:37.458164Z"
    }
   },
   "outputs": [],
   "source": [
    "# df_odt_prod_2022.head(2)"
   ]
  },
  {
   "cell_type": "code",
   "execution_count": 61,
   "id": "7251019f-dc97-4cbd-af51-faf489d51a20",
   "metadata": {
    "ExecuteTime": {
     "end_time": "2025-05-01T03:11:38.268266Z",
     "start_time": "2025-05-01T03:11:38.266208Z"
    }
   },
   "outputs": [],
   "source": [
    "# df_odt_prod_2022.to_csv(\"J:\\\\JESSICA\\\\Jessica\\\\Rafael\\\\igrid\\\\cedenar\\\\python_zentr\\\\df_odt_prod_2022_uid.csv\", index=False)"
   ]
  },
  {
   "cell_type": "markdown",
   "id": "d3fbe27d-784e-4dcf-987f-8e726478d40b",
   "metadata": {},
   "source": [
    "#### 2023"
   ]
  },
  {
   "cell_type": "code",
   "execution_count": 62,
   "id": "f9300f90-8265-4e6e-ba19-cb6c022f36a2",
   "metadata": {
    "ExecuteTime": {
     "end_time": "2025-05-01T03:11:39.830192Z",
     "start_time": "2025-05-01T03:11:39.820459Z"
    }
   },
   "outputs": [],
   "source": [
    "# ruta_archivo = 'J:\\\\JESSICA\\\\Jessica\\\\Rafael\\\\igrid\\\\cedenar\\\\python_zentr\\\\df_odt_prod_2023_f.csv'  # Reemplaza con tu ruta\n",
    "ruta_archivo = data_interim_dir(\"df_odt_prod_2023_f.csv\")\n",
    "df_odt_prod_2023 = pd.read_csv(ruta_archivo)"
   ]
  },
  {
   "cell_type": "code",
   "execution_count": 63,
   "id": "2c53074a-3adf-4893-a645-97f0bc36ffa2",
   "metadata": {
    "ExecuteTime": {
     "end_time": "2025-05-01T03:11:40.613800Z",
     "start_time": "2025-05-01T03:11:40.605090Z"
    }
   },
   "outputs": [],
   "source": [
    "df_odt_prod_2023[\"orden\"] = df_odt_prod_2023[\"odt\"].apply(obtener_uid)"
   ]
  },
  {
   "cell_type": "code",
   "execution_count": 64,
   "id": "7940946b-beaf-4975-9af6-2a64e56e7950",
   "metadata": {
    "ExecuteTime": {
     "end_time": "2025-05-01T03:11:41.790263Z",
     "start_time": "2025-05-01T03:11:41.785409Z"
    }
   },
   "outputs": [
    {
     "name": "stdout",
     "output_type": "stream",
     "text": [
      "<class 'pandas.core.frame.DataFrame'>\n",
      "RangeIndex: 19584 entries, 0 to 19583\n",
      "Data columns (total 8 columns):\n",
      " #   Column          Non-Null Count  Dtype  \n",
      "---  ------          --------------  -----  \n",
      " 0   odt             19584 non-null  int64  \n",
      " 1   item_288        19584 non-null  int64  \n",
      " 2   AREA            19584 non-null  object \n",
      " 3   PLAN_COMERCIAL  19584 non-null  object \n",
      " 4   NIVEL           19584 non-null  float64\n",
      " 5   LATI_USU        19584 non-null  float64\n",
      " 6   LONG_USU        19584 non-null  float64\n",
      " 7   orden           19584 non-null  int64  \n",
      "dtypes: float64(3), int64(3), object(2)\n",
      "memory usage: 1.2+ MB\n"
     ]
    }
   ],
   "source": [
    "df_odt_prod_2023.info()"
   ]
  },
  {
   "cell_type": "code",
   "execution_count": 65,
   "id": "5459fb3c-ded5-4855-898f-39afee59c36b",
   "metadata": {
    "ExecuteTime": {
     "end_time": "2025-05-01T03:11:42.856638Z",
     "start_time": "2025-05-01T03:11:42.852298Z"
    }
   },
   "outputs": [
    {
     "data": {
      "text/html": [
       "<div>\n",
       "<style scoped>\n",
       "    .dataframe tbody tr th:only-of-type {\n",
       "        vertical-align: middle;\n",
       "    }\n",
       "\n",
       "    .dataframe tbody tr th {\n",
       "        vertical-align: top;\n",
       "    }\n",
       "\n",
       "    .dataframe thead th {\n",
       "        text-align: right;\n",
       "    }\n",
       "</style>\n",
       "<table border=\"1\" class=\"dataframe\">\n",
       "  <thead>\n",
       "    <tr style=\"text-align: right;\">\n",
       "      <th></th>\n",
       "      <th>odt</th>\n",
       "      <th>item_288</th>\n",
       "      <th>AREA</th>\n",
       "      <th>PLAN_COMERCIAL</th>\n",
       "      <th>NIVEL</th>\n",
       "      <th>LATI_USU</th>\n",
       "      <th>LONG_USU</th>\n",
       "      <th>orden</th>\n",
       "    </tr>\n",
       "  </thead>\n",
       "  <tbody>\n",
       "    <tr>\n",
       "      <th>0</th>\n",
       "      <td>1561972</td>\n",
       "      <td>1234558</td>\n",
       "      <td>Urbano</td>\n",
       "      <td>31-PLAN RESIDENCIAL TELEMEDIDO</td>\n",
       "      <td>1.0</td>\n",
       "      <td>1.779928</td>\n",
       "      <td>-78.787850</td>\n",
       "      <td>26200906</td>\n",
       "    </tr>\n",
       "    <tr>\n",
       "      <th>1</th>\n",
       "      <td>1813259</td>\n",
       "      <td>1042646</td>\n",
       "      <td>Urbano</td>\n",
       "      <td>31-PLAN RESIDENCIAL TELEMEDIDO</td>\n",
       "      <td>1.0</td>\n",
       "      <td>1.819217</td>\n",
       "      <td>-78.735098</td>\n",
       "      <td>27383608</td>\n",
       "    </tr>\n",
       "  </tbody>\n",
       "</table>\n",
       "</div>"
      ],
      "text/plain": [
       "       odt  item_288    AREA                  PLAN_COMERCIAL  NIVEL  LATI_USU  \\\n",
       "0  1561972   1234558  Urbano  31-PLAN RESIDENCIAL TELEMEDIDO    1.0  1.779928   \n",
       "1  1813259   1042646  Urbano  31-PLAN RESIDENCIAL TELEMEDIDO    1.0  1.819217   \n",
       "\n",
       "    LONG_USU     orden  \n",
       "0 -78.787850  26200906  \n",
       "1 -78.735098  27383608  "
      ]
     },
     "execution_count": 65,
     "metadata": {},
     "output_type": "execute_result"
    }
   ],
   "source": [
    "df_odt_prod_2023.head(2)"
   ]
  },
  {
   "cell_type": "code",
   "execution_count": 66,
   "id": "171ae790-f776-49e4-93d7-01b006e26d59",
   "metadata": {
    "ExecuteTime": {
     "end_time": "2025-05-01T03:11:43.880260Z",
     "start_time": "2025-05-01T03:11:43.839470Z"
    }
   },
   "outputs": [],
   "source": [
    "df_odt_prod_2023.to_csv(data_interim_dir(\"df_odt_prod_2023_uid.csv\"), index=False)"
   ]
  },
  {
   "cell_type": "markdown",
   "id": "37a56831-626a-4b69-97ac-a5f8f335e9e5",
   "metadata": {},
   "source": [
    "#### 2024"
   ]
  },
  {
   "cell_type": "code",
   "execution_count": 151,
   "id": "8bb0d7e3-bc7d-4b3d-917d-ecabbb1b20c8",
   "metadata": {},
   "outputs": [],
   "source": [
    "# ruta_archivo = 'J:\\\\JESSICA\\\\Jessica\\\\Rafael\\\\igrid\\\\cedenar\\\\python_zentr\\\\df_odt_prod_2024_f.csv'  # Reemplaza con tu ruta\n",
    "# df_odt_prod_2024 = pd.read_csv(ruta_archivo)"
   ]
  },
  {
   "cell_type": "code",
   "execution_count": 153,
   "id": "adc62f17-3054-4753-9af7-3cdf7e6c6012",
   "metadata": {},
   "outputs": [],
   "source": [
    "# df_odt_prod_2024['orden'] = df_odt_prod_2024['odt'].apply(obtener_uid)"
   ]
  },
  {
   "cell_type": "code",
   "execution_count": 155,
   "id": "172e93c7-f426-49f9-98ca-befc0aff8901",
   "metadata": {},
   "outputs": [
    {
     "name": "stdout",
     "output_type": "stream",
     "text": [
      "<class 'pandas.core.frame.DataFrame'>\n",
      "RangeIndex: 14179 entries, 0 to 14178\n",
      "Data columns (total 8 columns):\n",
      " #   Column          Non-Null Count  Dtype  \n",
      "---  ------          --------------  -----  \n",
      " 0   odt             14179 non-null  int64  \n",
      " 1   item_288        14179 non-null  int64  \n",
      " 2   AREA            14173 non-null  object \n",
      " 3   PLAN_COMERCIAL  14179 non-null  object \n",
      " 4   NIVEL           14179 non-null  float64\n",
      " 5   LATI_USU        14179 non-null  float64\n",
      " 6   LONG_USU        14179 non-null  float64\n",
      " 7   orden           14179 non-null  int64  \n",
      "dtypes: float64(3), int64(3), object(2)\n",
      "memory usage: 886.3+ KB\n"
     ]
    }
   ],
   "source": [
    "# df_odt_prod_2024.info()"
   ]
  },
  {
   "cell_type": "code",
   "execution_count": 157,
   "id": "7634b6d5-d250-48a8-9d56-f9f7f9b60a33",
   "metadata": {},
   "outputs": [
    {
     "data": {
      "text/html": [
       "<div>\n",
       "<style scoped>\n",
       "    .dataframe tbody tr th:only-of-type {\n",
       "        vertical-align: middle;\n",
       "    }\n",
       "\n",
       "    .dataframe tbody tr th {\n",
       "        vertical-align: top;\n",
       "    }\n",
       "\n",
       "    .dataframe thead th {\n",
       "        text-align: right;\n",
       "    }\n",
       "</style>\n",
       "<table border=\"1\" class=\"dataframe\">\n",
       "  <thead>\n",
       "    <tr style=\"text-align: right;\">\n",
       "      <th></th>\n",
       "      <th>odt</th>\n",
       "      <th>item_288</th>\n",
       "      <th>AREA</th>\n",
       "      <th>PLAN_COMERCIAL</th>\n",
       "      <th>NIVEL</th>\n",
       "      <th>LATI_USU</th>\n",
       "      <th>LONG_USU</th>\n",
       "      <th>orden</th>\n",
       "    </tr>\n",
       "  </thead>\n",
       "  <tbody>\n",
       "    <tr>\n",
       "      <th>0</th>\n",
       "      <td>2791267</td>\n",
       "      <td>1232289</td>\n",
       "      <td>Urbano</td>\n",
       "      <td>31-PLAN RESIDENCIAL TELEMEDIDO</td>\n",
       "      <td>1.0</td>\n",
       "      <td>1.818847</td>\n",
       "      <td>-78.749438</td>\n",
       "      <td>32532195</td>\n",
       "    </tr>\n",
       "    <tr>\n",
       "      <th>1</th>\n",
       "      <td>2795084</td>\n",
       "      <td>1219432</td>\n",
       "      <td>Urbano</td>\n",
       "      <td>31-PLAN RESIDENCIAL TELEMEDIDO</td>\n",
       "      <td>1.0</td>\n",
       "      <td>1.816395</td>\n",
       "      <td>-78.763251</td>\n",
       "      <td>32735045</td>\n",
       "    </tr>\n",
       "  </tbody>\n",
       "</table>\n",
       "</div>"
      ],
      "text/plain": [
       "       odt  item_288    AREA                  PLAN_COMERCIAL  NIVEL  LATI_USU  \\\n",
       "0  2791267   1232289  Urbano  31-PLAN RESIDENCIAL TELEMEDIDO    1.0  1.818847   \n",
       "1  2795084   1219432  Urbano  31-PLAN RESIDENCIAL TELEMEDIDO    1.0  1.816395   \n",
       "\n",
       "    LONG_USU     orden  \n",
       "0 -78.749438  32532195  \n",
       "1 -78.763251  32735045  "
      ]
     },
     "execution_count": 157,
     "metadata": {},
     "output_type": "execute_result"
    }
   ],
   "source": [
    "# df_odt_prod_2024.head(2)"
   ]
  },
  {
   "cell_type": "code",
   "execution_count": 159,
   "id": "b6663d90-0973-4f28-b94c-248e3add3efa",
   "metadata": {},
   "outputs": [],
   "source": [
    "# df_odt_prod_2024.to_csv(\"J:\\\\JESSICA\\\\Jessica\\\\Rafael\\\\igrid\\\\cedenar\\\\python_zentr\\\\df_odt_prod_2024_uid.csv\", index=False)"
   ]
  },
  {
   "cell_type": "markdown",
   "id": "58a5c4e6-ed3b-4007-97ea-c6e652aa44ee",
   "metadata": {},
   "source": [
    "### Unir a \"anomalias 2023\""
   ]
  },
  {
   "cell_type": "code",
   "execution_count": 67,
   "id": "61fd17c9-cf8a-4096-90a1-0263fa18e66e",
   "metadata": {
    "ExecuteTime": {
     "end_time": "2025-05-01T03:11:50.129836Z",
     "start_time": "2025-05-01T03:11:47.771745Z"
    }
   },
   "outputs": [],
   "source": [
    "# ruta_archivo = 'J:\\\\JESSICA\\\\Jessica\\\\Rafael\\\\igrid\\\\cedenar\\\\python_zentr\\\\zentry\\\\anomalias 2023.xlsx'\n",
    "ruta_archivo = data_raw_dir(\"anomalias 2022 23 y 24.xlsx\")\n",
    "anom_a_2023 = pd.read_excel(ruta_archivo)"
   ]
  },
  {
   "cell_type": "code",
   "execution_count": 68,
   "id": "f8adf5ca-782f-4f79-abd2-5deecf7485ab",
   "metadata": {
    "ExecuteTime": {
     "end_time": "2025-05-01T03:11:50.492078Z",
     "start_time": "2025-05-01T03:11:50.487128Z"
    }
   },
   "outputs": [
    {
     "data": {
      "text/html": [
       "<div>\n",
       "<style scoped>\n",
       "    .dataframe tbody tr th:only-of-type {\n",
       "        vertical-align: middle;\n",
       "    }\n",
       "\n",
       "    .dataframe tbody tr th {\n",
       "        vertical-align: top;\n",
       "    }\n",
       "\n",
       "    .dataframe thead th {\n",
       "        text-align: right;\n",
       "    }\n",
       "</style>\n",
       "<table border=\"1\" class=\"dataframe\">\n",
       "  <thead>\n",
       "    <tr style=\"text-align: right;\">\n",
       "      <th></th>\n",
       "      <th>Zona</th>\n",
       "      <th>Contrato</th>\n",
       "      <th>Orden</th>\n",
       "      <th>Usuario</th>\n",
       "      <th>Estado</th>\n",
       "      <th>Ejecucion</th>\n",
       "      <th>Revision</th>\n",
       "      <th>Codigo</th>\n",
       "      <th>Anomalia</th>\n",
       "      <th>N. Unidad</th>\n",
       "      <th>Unidad</th>\n",
       "      <th>N. Causa</th>\n",
       "      <th>Causa</th>\n",
       "      <th>U. Genera</th>\n",
       "      <th>Descripcion</th>\n",
       "      <th>Motivo</th>\n",
       "      <th>Cuadrilla</th>\n",
       "      <th>kWh Rec</th>\n",
       "      <th>Factor</th>\n",
       "    </tr>\n",
       "  </thead>\n",
       "  <tbody>\n",
       "    <tr>\n",
       "      <th>16971</th>\n",
       "      <td>PA</td>\n",
       "      <td>P Y 242.2023</td>\n",
       "      <td>25069770</td>\n",
       "      <td>1097040</td>\n",
       "      <td>Aprobada</td>\n",
       "      <td>2023-05-08 15:28:16-05</td>\n",
       "      <td>2023-05-10 01:40:50.50676-05</td>\n",
       "      <td>82 / 1 / 82</td>\n",
       "      <td>Linea Directa / ACOMETIDA O DERIVACIÓN NO AUTO...</td>\n",
       "      <td>0</td>\n",
       "      <td>CONTROL PERDIDAS</td>\n",
       "      <td>0</td>\n",
       "      <td>CAUSA NO DETERMINADA</td>\n",
       "      <td>GSANDOVAL</td>\n",
       "      <td>Anomalia verificada y aprobada</td>\n",
       "      <td>Creacion Sello Tapa Principal #4</td>\n",
       "      <td>ZTY1452</td>\n",
       "      <td>549.0</td>\n",
       "      <td>NaN</td>\n",
       "    </tr>\n",
       "    <tr>\n",
       "      <th>18712</th>\n",
       "      <td>PA</td>\n",
       "      <td>MEC 231.2023</td>\n",
       "      <td>26244390</td>\n",
       "      <td>1141561</td>\n",
       "      <td>Rechazada</td>\n",
       "      <td>2023-06-14 10:44:46-05</td>\n",
       "      <td>2023-06-23 09:13:17.266492-05</td>\n",
       "      <td>BPQ</td>\n",
       "      <td>Bornera Perforada/Quemada</td>\n",
       "      <td>0</td>\n",
       "      <td>FACTURACION</td>\n",
       "      <td>0</td>\n",
       "      <td>CAUSA NO DETERMINADA</td>\n",
       "      <td>KMONTANO</td>\n",
       "      <td>Anomalia verificada con acta digital</td>\n",
       "      <td>No Procede Pare</td>\n",
       "      <td>ZTY1365</td>\n",
       "      <td>0.0</td>\n",
       "      <td>NaN</td>\n",
       "    </tr>\n",
       "    <tr>\n",
       "      <th>1770</th>\n",
       "      <td>SU</td>\n",
       "      <td>UNI 179.2022</td>\n",
       "      <td>17010315</td>\n",
       "      <td>1200812</td>\n",
       "      <td>Pendiente</td>\n",
       "      <td>2022-02-05 13:26:16-05</td>\n",
       "      <td>NaN</td>\n",
       "      <td>NaN</td>\n",
       "      <td>medidor no conforme</td>\n",
       "      <td>0</td>\n",
       "      <td>GES. ENERGETICA</td>\n",
       "      <td>0</td>\n",
       "      <td>CAUSA NO DETERMINADA</td>\n",
       "      <td>MARIMEJIACH</td>\n",
       "      <td>Posible anomalia</td>\n",
       "      <td>Disponible</td>\n",
       "      <td>ZTY1148</td>\n",
       "      <td>NaN</td>\n",
       "      <td>NaN</td>\n",
       "    </tr>\n",
       "    <tr>\n",
       "      <th>26686</th>\n",
       "      <td>OC</td>\n",
       "      <td>UNI 402.2024</td>\n",
       "      <td>32645637</td>\n",
       "      <td>1249511</td>\n",
       "      <td>Rechazada</td>\n",
       "      <td>2024-05-20 14:14:31-05</td>\n",
       "      <td>2024-06-19 16:13:37.762878-05</td>\n",
       "      <td>BPQ / N/A</td>\n",
       "      <td>Bornera Perforada/Quemada  / medidor no conforme</td>\n",
       "      <td>0</td>\n",
       "      <td>FACTURACION</td>\n",
       "      <td>0</td>\n",
       "      <td>CAUSA NO DETERMINADA</td>\n",
       "      <td>YPAJOY</td>\n",
       "      <td>Anomalia verificada con acta digital</td>\n",
       "      <td>No Procede Pare</td>\n",
       "      <td>ZTY1744</td>\n",
       "      <td>0.0</td>\n",
       "      <td>NaN</td>\n",
       "    </tr>\n",
       "    <tr>\n",
       "      <th>14717</th>\n",
       "      <td>PA</td>\n",
       "      <td>MEC 495.2022</td>\n",
       "      <td>23066562</td>\n",
       "      <td>1170802</td>\n",
       "      <td>Aprobada</td>\n",
       "      <td>2022-12-13 14:28:27-05</td>\n",
       "      <td>2022-12-14 01:44:58.260882-05</td>\n",
       "      <td>1 / 38 / 82 / 82</td>\n",
       "      <td>ACOMETIDA O DERIVACIÓN NO AUTORIZADA HACIA CAR...</td>\n",
       "      <td>0</td>\n",
       "      <td>GES. ENERGETICA</td>\n",
       "      <td>0</td>\n",
       "      <td>CAUSA NO DETERMINADA</td>\n",
       "      <td>JSAAVEDRA</td>\n",
       "      <td>Anomalia verificada y aprobada</td>\n",
       "      <td>Creacion Sello Tapa Principal #4</td>\n",
       "      <td>ZTY1314</td>\n",
       "      <td>217.0</td>\n",
       "      <td>NaN</td>\n",
       "    </tr>\n",
       "    <tr>\n",
       "      <th>18733</th>\n",
       "      <td>NO</td>\n",
       "      <td>R Y 211.2023</td>\n",
       "      <td>26246677</td>\n",
       "      <td>462864</td>\n",
       "      <td>Aprobada</td>\n",
       "      <td>2023-05-24 16:02:16-05</td>\n",
       "      <td>2023-05-25 01:37:25.911431-05</td>\n",
       "      <td>1 / 38 / 38 / 82</td>\n",
       "      <td>ACOMETIDA O DERIVACIÓN NO AUTORIZADA HACIA CAR...</td>\n",
       "      <td>0</td>\n",
       "      <td>CONTROL PERDIDAS</td>\n",
       "      <td>0</td>\n",
       "      <td>CAUSA NO DETERMINADA</td>\n",
       "      <td>EOVIEDO123</td>\n",
       "      <td>Anomalia verificada y aprobada</td>\n",
       "      <td>Creacion Sello Tapa Principal #4</td>\n",
       "      <td>ZTY1356</td>\n",
       "      <td>1251.0</td>\n",
       "      <td>NaN</td>\n",
       "    </tr>\n",
       "    <tr>\n",
       "      <th>24936</th>\n",
       "      <td>NO</td>\n",
       "      <td>R Y 211.2023</td>\n",
       "      <td>30634857</td>\n",
       "      <td>1080672</td>\n",
       "      <td>Aprobada</td>\n",
       "      <td>2024-01-04 09:37:26-05</td>\n",
       "      <td>2024-01-24 17:07:06.848642-05</td>\n",
       "      <td>82 / 82 / 82 / 1 / 1 / 1</td>\n",
       "      <td>Se Corrige Anomalía / Se Corrige Anomalía / Se...</td>\n",
       "      <td>0</td>\n",
       "      <td>FACTURACION</td>\n",
       "      <td>0</td>\n",
       "      <td>CAUSA NO DETERMINADA</td>\n",
       "      <td>JDDELGADO</td>\n",
       "      <td>Anomalia verificada y aprobada</td>\n",
       "      <td>Creacion Sello Tapa Principal #4</td>\n",
       "      <td>ZTY1353</td>\n",
       "      <td>0.0</td>\n",
       "      <td>NaN</td>\n",
       "    </tr>\n",
       "    <tr>\n",
       "      <th>10116</th>\n",
       "      <td>CE</td>\n",
       "      <td>ING 175.2022</td>\n",
       "      <td>20981673</td>\n",
       "      <td>1113812</td>\n",
       "      <td>Pendiente</td>\n",
       "      <td>2022-08-29 08:15:45-05</td>\n",
       "      <td>NaN</td>\n",
       "      <td>NaN</td>\n",
       "      <td>medidor no conforme</td>\n",
       "      <td>0</td>\n",
       "      <td>FACTURACION</td>\n",
       "      <td>0</td>\n",
       "      <td>CAUSA NO DETERMINADA</td>\n",
       "      <td>EROMO123</td>\n",
       "      <td>Posible anomalia</td>\n",
       "      <td>Disponible</td>\n",
       "      <td>ZTY1126</td>\n",
       "      <td>0.0</td>\n",
       "      <td>NaN</td>\n",
       "    </tr>\n",
       "    <tr>\n",
       "      <th>19983</th>\n",
       "      <td>PA</td>\n",
       "      <td>P Y 242.2023</td>\n",
       "      <td>27075763</td>\n",
       "      <td>1075147</td>\n",
       "      <td>Rechazada</td>\n",
       "      <td>2023-07-07 09:32:56-05</td>\n",
       "      <td>2023-07-12 10:15:50.164893-05</td>\n",
       "      <td>38</td>\n",
       "      <td>Inspección Técnica Conforme</td>\n",
       "      <td>0</td>\n",
       "      <td>GES. ENERGETICA</td>\n",
       "      <td>0</td>\n",
       "      <td>CAUSA NO DETERMINADA</td>\n",
       "      <td>EGUSTIN123</td>\n",
       "      <td>Anomalia verificada con acta digital</td>\n",
       "      <td>No Existe Anomalía En El Acta</td>\n",
       "      <td>ZTY1453</td>\n",
       "      <td>NaN</td>\n",
       "      <td>NaN</td>\n",
       "    </tr>\n",
       "    <tr>\n",
       "      <th>20011</th>\n",
       "      <td>SU</td>\n",
       "      <td>PRI 232.2023</td>\n",
       "      <td>27081921</td>\n",
       "      <td>1244946</td>\n",
       "      <td>Pendiente</td>\n",
       "      <td>2023-07-08 09:15:15-05</td>\n",
       "      <td>NaN</td>\n",
       "      <td>NaN</td>\n",
       "      <td>medidor no conforme</td>\n",
       "      <td>0</td>\n",
       "      <td>FACTURACION</td>\n",
       "      <td>0</td>\n",
       "      <td>CAUSA NO DETERMINADA</td>\n",
       "      <td>ECUASPUD</td>\n",
       "      <td>Posible anomalia</td>\n",
       "      <td>Disponible</td>\n",
       "      <td>ZTY1415</td>\n",
       "      <td>0.0</td>\n",
       "      <td>NaN</td>\n",
       "    </tr>\n",
       "  </tbody>\n",
       "</table>\n",
       "</div>"
      ],
      "text/plain": [
       "      Zona      Contrato     Orden  Usuario     Estado  \\\n",
       "16971   PA  P Y 242.2023  25069770  1097040   Aprobada   \n",
       "18712   PA  MEC 231.2023  26244390  1141561  Rechazada   \n",
       "1770    SU  UNI 179.2022  17010315  1200812  Pendiente   \n",
       "26686   OC  UNI 402.2024  32645637  1249511  Rechazada   \n",
       "14717   PA  MEC 495.2022  23066562  1170802   Aprobada   \n",
       "18733   NO  R Y 211.2023  26246677   462864   Aprobada   \n",
       "24936   NO  R Y 211.2023  30634857  1080672   Aprobada   \n",
       "10116   CE  ING 175.2022  20981673  1113812  Pendiente   \n",
       "19983   PA  P Y 242.2023  27075763  1075147  Rechazada   \n",
       "20011   SU  PRI 232.2023  27081921  1244946  Pendiente   \n",
       "\n",
       "                    Ejecucion                       Revision  \\\n",
       "16971  2023-05-08 15:28:16-05   2023-05-10 01:40:50.50676-05   \n",
       "18712  2023-06-14 10:44:46-05  2023-06-23 09:13:17.266492-05   \n",
       "1770   2022-02-05 13:26:16-05                            NaN   \n",
       "26686  2024-05-20 14:14:31-05  2024-06-19 16:13:37.762878-05   \n",
       "14717  2022-12-13 14:28:27-05  2022-12-14 01:44:58.260882-05   \n",
       "18733  2023-05-24 16:02:16-05  2023-05-25 01:37:25.911431-05   \n",
       "24936  2024-01-04 09:37:26-05  2024-01-24 17:07:06.848642-05   \n",
       "10116  2022-08-29 08:15:45-05                            NaN   \n",
       "19983  2023-07-07 09:32:56-05  2023-07-12 10:15:50.164893-05   \n",
       "20011  2023-07-08 09:15:15-05                            NaN   \n",
       "\n",
       "                         Codigo  \\\n",
       "16971               82 / 1 / 82   \n",
       "18712                       BPQ   \n",
       "1770                        NaN   \n",
       "26686                 BPQ / N/A   \n",
       "14717          1 / 38 / 82 / 82   \n",
       "18733          1 / 38 / 38 / 82   \n",
       "24936  82 / 82 / 82 / 1 / 1 / 1   \n",
       "10116                       NaN   \n",
       "19983                        38   \n",
       "20011                       NaN   \n",
       "\n",
       "                                                Anomalia  N. Unidad  \\\n",
       "16971  Linea Directa / ACOMETIDA O DERIVACIÓN NO AUTO...          0   \n",
       "18712                          Bornera Perforada/Quemada          0   \n",
       "1770                                 medidor no conforme          0   \n",
       "26686   Bornera Perforada/Quemada  / medidor no conforme          0   \n",
       "14717  ACOMETIDA O DERIVACIÓN NO AUTORIZADA HACIA CAR...          0   \n",
       "18733  ACOMETIDA O DERIVACIÓN NO AUTORIZADA HACIA CAR...          0   \n",
       "24936  Se Corrige Anomalía / Se Corrige Anomalía / Se...          0   \n",
       "10116                                medidor no conforme          0   \n",
       "19983                        Inspección Técnica Conforme          0   \n",
       "20011                                medidor no conforme          0   \n",
       "\n",
       "                 Unidad  N. Causa                 Causa    U. Genera  \\\n",
       "16971  CONTROL PERDIDAS         0  CAUSA NO DETERMINADA    GSANDOVAL   \n",
       "18712       FACTURACION         0  CAUSA NO DETERMINADA     KMONTANO   \n",
       "1770    GES. ENERGETICA         0  CAUSA NO DETERMINADA  MARIMEJIACH   \n",
       "26686       FACTURACION         0  CAUSA NO DETERMINADA       YPAJOY   \n",
       "14717   GES. ENERGETICA         0  CAUSA NO DETERMINADA    JSAAVEDRA   \n",
       "18733  CONTROL PERDIDAS         0  CAUSA NO DETERMINADA   EOVIEDO123   \n",
       "24936       FACTURACION         0  CAUSA NO DETERMINADA    JDDELGADO   \n",
       "10116       FACTURACION         0  CAUSA NO DETERMINADA     EROMO123   \n",
       "19983   GES. ENERGETICA         0  CAUSA NO DETERMINADA   EGUSTIN123   \n",
       "20011       FACTURACION         0  CAUSA NO DETERMINADA     ECUASPUD   \n",
       "\n",
       "                                Descripcion                            Motivo  \\\n",
       "16971        Anomalia verificada y aprobada  Creacion Sello Tapa Principal #4   \n",
       "18712  Anomalia verificada con acta digital                   No Procede Pare   \n",
       "1770                       Posible anomalia                        Disponible   \n",
       "26686  Anomalia verificada con acta digital                   No Procede Pare   \n",
       "14717        Anomalia verificada y aprobada  Creacion Sello Tapa Principal #4   \n",
       "18733        Anomalia verificada y aprobada  Creacion Sello Tapa Principal #4   \n",
       "24936        Anomalia verificada y aprobada  Creacion Sello Tapa Principal #4   \n",
       "10116                      Posible anomalia                        Disponible   \n",
       "19983  Anomalia verificada con acta digital     No Existe Anomalía En El Acta   \n",
       "20011                      Posible anomalia                        Disponible   \n",
       "\n",
       "      Cuadrilla  kWh Rec  Factor  \n",
       "16971   ZTY1452    549.0     NaN  \n",
       "18712   ZTY1365      0.0     NaN  \n",
       "1770    ZTY1148      NaN     NaN  \n",
       "26686   ZTY1744      0.0     NaN  \n",
       "14717   ZTY1314    217.0     NaN  \n",
       "18733   ZTY1356   1251.0     NaN  \n",
       "24936   ZTY1353      0.0     NaN  \n",
       "10116   ZTY1126      0.0     NaN  \n",
       "19983   ZTY1453      NaN     NaN  \n",
       "20011   ZTY1415      0.0     NaN  "
      ]
     },
     "execution_count": 68,
     "metadata": {},
     "output_type": "execute_result"
    }
   ],
   "source": [
    "anom_a_2023.sample(10)"
   ]
  },
  {
   "cell_type": "code",
   "execution_count": 69,
   "id": "57b6f8c75e621891",
   "metadata": {
    "ExecuteTime": {
     "end_time": "2025-05-01T03:11:50.967904Z",
     "start_time": "2025-05-01T03:11:50.897840Z"
    }
   },
   "outputs": [
    {
     "data": {
      "text/plain": [
       "año\n",
       "2022    14480\n",
       "2024     9845\n",
       "2023     9490\n",
       "2021      864\n",
       "2020        4\n",
       "Name: count, dtype: int64"
      ]
     },
     "execution_count": 69,
     "metadata": {},
     "output_type": "execute_result"
    }
   ],
   "source": [
    "# Si la columna es de tipo datetime\n",
    "if pd.api.types.is_datetime64_any_dtype(anom_a_2023[\"Ejecucion\"]):\n",
    "    # Extraer el año directamente\n",
    "    anom_a_2023[\"año\"] = anom_a_2023[\"Ejecucion\"].dt.year\n",
    "else:\n",
    "    # Si es un string, primero intentamos convertirla a datetime\n",
    "    try:\n",
    "        # Convertir a datetime y extraer el año\n",
    "        anom_a_2023[\"año\"] = pd.to_datetime(anom_a_2023[\"Ejecucion\"]).dt.year\n",
    "    except:\n",
    "        # Si no se puede convertir a datetime, extraer usando regex o string slicing\n",
    "        # Método con regex (suponiendo que el año está en formato YYYY en alguna parte del string)\n",
    "        anom_a_2023[\"año\"] = (\n",
    "            anom_a_2023[\"Ejecucion\"].str.extract(r\"(\\d{4})\", expand=False).astype(float)\n",
    "        )\n",
    "\n",
    "anom_a_2023.año.value_counts()"
   ]
  },
  {
   "cell_type": "code",
   "execution_count": 70,
   "id": "3b0fb37cc99c4cba",
   "metadata": {
    "ExecuteTime": {
     "end_time": "2025-05-01T03:11:51.365533Z",
     "start_time": "2025-05-01T03:11:51.362022Z"
    }
   },
   "outputs": [],
   "source": [
    "anom_a_2023 = anom_a_2023[anom_a_2023.año == 2023]"
   ]
  },
  {
   "cell_type": "code",
   "execution_count": 71,
   "id": "5a3f50a6-382d-4d8a-a5d3-e01a0968e028",
   "metadata": {
    "ExecuteTime": {
     "end_time": "2025-05-01T03:11:52.460816Z",
     "start_time": "2025-05-01T03:11:52.459456Z"
    }
   },
   "outputs": [],
   "source": [
    "# anom_a_2023_filtrado['Orden'].value_counts()"
   ]
  },
  {
   "cell_type": "code",
   "execution_count": 72,
   "id": "93bad201-fc22-41a2-9741-fb5eef4731ec",
   "metadata": {
    "ExecuteTime": {
     "end_time": "2025-05-01T03:13:19.297686Z",
     "start_time": "2025-05-01T03:13:19.249154Z"
    }
   },
   "outputs": [],
   "source": [
    "# Identificar registros duplicados en 'Orden' y donde 'Codigo' es 'N/A'\n",
    "anom_a_2023[\"Codigo\"] = anom_a_2023[\"Codigo\"].astype(str)\n",
    "anom_a_2023[\"Revision\"] = anom_a_2023[\"Revision\"].astype(str)\n",
    "duplicados_con_na = anom_a_2023[\n",
    "    (anom_a_2023.duplicated(subset=\"Orden\", keep=False))\n",
    "    & (anom_a_2023[\"Revision\"] == \"nan\")\n",
    "]\n",
    "\n",
    "# Obtener los índices de los registros a eliminar\n",
    "indices_a_eliminar = duplicados_con_na.index\n",
    "\n",
    "# Eliminar los registros\n",
    "anom_a_2023_filtrado = anom_a_2023.drop(indices_a_eliminar)\n",
    "\n",
    "# Guardar el nuevo dataframe en un archivo csv\n",
    "anom_a_2023_filtrado.to_csv(\"anom_a_2023_filtrado.csv\", index=False)"
   ]
  },
  {
   "cell_type": "code",
   "execution_count": 73,
   "id": "62222db0-9096-4765-ac11-7f328cea1fa5",
   "metadata": {
    "ExecuteTime": {
     "end_time": "2025-05-01T03:13:28.368353Z",
     "start_time": "2025-05-01T03:13:28.352314Z"
    }
   },
   "outputs": [],
   "source": [
    "# Crear un diccionario de mapeo para los campos a agregar\n",
    "mapeo_productos = anom_a_2023_filtrado.set_index(\"Orden\")[[\"Descripcion\"]].to_dict(\n",
    "    \"index\"\n",
    ")\n",
    "\n",
    "\n",
    "# Función para obtener los valores correspondientes\n",
    "def obtener_datos_usuario(producto):\n",
    "    if producto in mapeo_productos:\n",
    "        return pd.Series(mapeo_productos[producto])\n",
    "    else:\n",
    "        return pd.Series([None] * 1, index=[\"Descripcion\"])"
   ]
  },
  {
   "cell_type": "markdown",
   "id": "c9ec6a95-4ccd-42d2-9183-18bf074a6e19",
   "metadata": {},
   "source": [
    "### 2022"
   ]
  },
  {
   "cell_type": "code",
   "execution_count": 74,
   "id": "e547eae9-ca4d-4a55-9012-823f01f6971b",
   "metadata": {
    "ExecuteTime": {
     "end_time": "2025-05-01T03:21:46.937571Z",
     "start_time": "2025-05-01T03:21:46.935599Z"
    }
   },
   "outputs": [],
   "source": [
    "# df_odt_prod_2022[['Descripcion']] = df_odt_prod_2022['orden'].apply(obtener_datos_usuario)\n",
    "#\n",
    "# # Mostrar las primeras filas del DataFrame con las nuevas columnas\n",
    "# print(df_odt_prod_2022.info())"
   ]
  },
  {
   "cell_type": "code",
   "execution_count": 75,
   "id": "5378a7e3-4f3a-4949-86ca-fbbd15046d7b",
   "metadata": {
    "ExecuteTime": {
     "end_time": "2025-05-01T03:21:49.575658Z",
     "start_time": "2025-05-01T03:21:49.573808Z"
    }
   },
   "outputs": [],
   "source": [
    "# df_odt_prod_2022.to_csv(\"J:\\\\JESSICA\\\\Jessica\\\\Rafael\\\\igrid\\\\cedenar\\\\python_zentr\\\\df_odt_prod_2022_dscr.csv\", index=False)"
   ]
  },
  {
   "cell_type": "markdown",
   "id": "04d73288-2443-4566-b8a6-dacc47d9e5f3",
   "metadata": {},
   "source": [
    "### 2023"
   ]
  },
  {
   "cell_type": "code",
   "execution_count": 76,
   "id": "75c54895-f557-416f-b431-3cf3a0b0850e",
   "metadata": {
    "ExecuteTime": {
     "end_time": "2025-05-01T03:21:54.862673Z",
     "start_time": "2025-05-01T03:21:54.089485Z"
    }
   },
   "outputs": [
    {
     "name": "stdout",
     "output_type": "stream",
     "text": [
      "<class 'pandas.core.frame.DataFrame'>\n",
      "RangeIndex: 19584 entries, 0 to 19583\n",
      "Data columns (total 9 columns):\n",
      " #   Column          Non-Null Count  Dtype  \n",
      "---  ------          --------------  -----  \n",
      " 0   odt             19584 non-null  int64  \n",
      " 1   item_288        19584 non-null  int64  \n",
      " 2   AREA            19584 non-null  object \n",
      " 3   PLAN_COMERCIAL  19584 non-null  object \n",
      " 4   NIVEL           19584 non-null  float64\n",
      " 5   LATI_USU        19584 non-null  float64\n",
      " 6   LONG_USU        19584 non-null  float64\n",
      " 7   orden           19584 non-null  int64  \n",
      " 8   Descripcion     3344 non-null   object \n",
      "dtypes: float64(3), int64(3), object(3)\n",
      "memory usage: 1.3+ MB\n",
      "None\n"
     ]
    }
   ],
   "source": [
    "df_odt_prod_2023[[\"Descripcion\"]] = df_odt_prod_2023[\"orden\"].apply(obtener_datos_usuario)\n",
    "\n",
    "# Mostrar las primeras filas del DataFrame con las nuevas columnas\n",
    "print(df_odt_prod_2023.info())"
   ]
  },
  {
   "cell_type": "code",
   "execution_count": 78,
   "id": "006092f4-bc56-4313-a54b-972a2364f0a2",
   "metadata": {
    "ExecuteTime": {
     "end_time": "2025-05-01T03:24:59.937899Z",
     "start_time": "2025-05-01T03:24:59.895630Z"
    }
   },
   "outputs": [],
   "source": [
    "ruta_archivo = data_interim_dir(\"df_odt_prod_2023_dscr.csv\")\n",
    "df_odt_prod_2023.to_csv(ruta_archivo, index=False)"
   ]
  },
  {
   "cell_type": "markdown",
   "id": "40c73c02-a23e-4160-8a56-49516ba8f5de",
   "metadata": {},
   "source": [
    "### 2024"
   ]
  },
  {
   "cell_type": "code",
   "execution_count": 161,
   "id": "13ca8327-4133-44bb-b7e3-360c8c0f64d4",
   "metadata": {},
   "outputs": [
    {
     "name": "stdout",
     "output_type": "stream",
     "text": [
      "<class 'pandas.core.frame.DataFrame'>\n",
      "RangeIndex: 14179 entries, 0 to 14178\n",
      "Data columns (total 9 columns):\n",
      " #   Column          Non-Null Count  Dtype  \n",
      "---  ------          --------------  -----  \n",
      " 0   odt             14179 non-null  int64  \n",
      " 1   item_288        14179 non-null  int64  \n",
      " 2   AREA            14173 non-null  object \n",
      " 3   PLAN_COMERCIAL  14179 non-null  object \n",
      " 4   NIVEL           14179 non-null  float64\n",
      " 5   LATI_USU        14179 non-null  float64\n",
      " 6   LONG_USU        14179 non-null  float64\n",
      " 7   orden           14179 non-null  int64  \n",
      " 8   Descripcion     0 non-null      object \n",
      "dtypes: float64(3), int64(3), object(3)\n",
      "memory usage: 997.1+ KB\n",
      "None\n"
     ]
    }
   ],
   "source": [
    "# df_odt_prod_2024[['Descripcion']] = df_odt_prod_2024['orden'].apply(obtener_datos_usuario)\n",
    "#\n",
    "# # Mostrar las primeras filas del DataFrame con las nuevas columnas\n",
    "# print(df_odt_prod_2024.info())"
   ]
  },
  {
   "cell_type": "code",
   "execution_count": 163,
   "id": "5a99846d-0bd9-47f9-9d3b-596d4b3dc2cf",
   "metadata": {},
   "outputs": [],
   "source": [
    "# df_odt_prod_2024.to_csv(\"J:\\\\JESSICA\\\\Jessica\\\\Rafael\\\\igrid\\\\cedenar\\\\python_zentr\\\\df_odt_prod_2024_dscr.csv\", index=False)"
   ]
  },
  {
   "cell_type": "markdown",
   "id": "70d4466f-3aef-4237-b7a7-ddad6c5d24c3",
   "metadata": {},
   "source": [
    "### Unión items por odt"
   ]
  },
  {
   "cell_type": "code",
   "execution_count": 79,
   "id": "e2e8ba9f-29fa-4ecd-bc80-9326c2720096",
   "metadata": {
    "ExecuteTime": {
     "end_time": "2025-05-01T03:31:49.478513Z",
     "start_time": "2025-05-01T03:31:49.474468Z"
    }
   },
   "outputs": [],
   "source": [
    "def unir_niveles(anio, niveles, nuevo_dataset):\n",
    "    \"\"\"\n",
    "    Función para agregar datos de múltiples datasets a un dataset base usando la columna 'odt'.\n",
    "\n",
    "    Parámetros:\n",
    "    - anio (int): Año de los datasets.\n",
    "    - niveles (list): Lista de IDs de variables a procesar.\n",
    "    - nuevo_dataset (DataFrame): Dataset base al que se le agregarán las columnas.\n",
    "\n",
    "    Retorna:\n",
    "    - DataFrame con las columnas agregadas.\n",
    "    \"\"\"\n",
    "    nuevo_dataset = nuevo_dataset.copy()\n",
    "\n",
    "    # Conservar las columnas 'existencia' y 'item_288' al inicio\n",
    "    columnas_conservadas = []\n",
    "    if \"item_288\" in nuevo_dataset.columns:\n",
    "        columnas_conservadas.append(\"item_288\")\n",
    "    if \"PLAN_COMERCIAL\" in nuevo_dataset.columns:\n",
    "        columnas_conservadas.append(\"PLAN_COMERCIAL\")\n",
    "    if \"NIVEL\" in nuevo_dataset.columns:\n",
    "        columnas_conservadas.append(\"NIVEL\")\n",
    "    if \"LATI_USU\" in nuevo_dataset.columns:\n",
    "        columnas_conservadas.append(\"LATI_USU\")\n",
    "    if \"LONG_USU\" in nuevo_dataset.columns:\n",
    "        columnas_conservadas.append(\"LONG_USU\")\n",
    "    if \"AREA\" in nuevo_dataset.columns:\n",
    "        columnas_conservadas.append(\"AREA\")\n",
    "    if \"Descripcion\" in nuevo_dataset.columns:\n",
    "        columnas_conservadas.append(\"Descripcion\")\n",
    "\n",
    "    for nivel in niveles:\n",
    "        df_actual = globals().get(f\"evento{anio}_{nivel}\")\n",
    "\n",
    "        if df_actual is not None:\n",
    "            if \"odt\" in df_actual.columns and \"value\" in df_actual.columns:\n",
    "                df_actual = df_actual[[\"odt\", \"value\"]].drop_duplicates(subset=\"odt\")\n",
    "                nuevo_dataset[f\"item_{nivel}\"] = nuevo_dataset[\"odt\"].map(\n",
    "                    df_actual.set_index(\"odt\")[\"value\"]\n",
    "                )\n",
    "\n",
    "                print(f\"✔️ Procesado: evento{anio}_{nivel}\")\n",
    "            else:\n",
    "                print(f\"⚠️ Columnas faltantes en: evento{anio}_{nivel}\")\n",
    "        else:\n",
    "            print(f\"⚠️ No encontrado: evento{anio}_{nivel}\")\n",
    "\n",
    "    # Reorganizar las columnas para que 'existencia' y 'item_288' estén al inicio\n",
    "    columnas_restantes = [\n",
    "        col for col in nuevo_dataset.columns if col not in columnas_conservadas\n",
    "    ]\n",
    "    nuevo_dataset = nuevo_dataset[columnas_conservadas + columnas_restantes]\n",
    "\n",
    "    # Guardar el dataset consolidado\n",
    "    output_path = data_processed_dir(f\"dataset_decantado_{anio}.csv\")\n",
    "    nuevo_dataset.to_csv(output_path, index=False)\n",
    "    print(f\"✅ Proceso completado. Dataset guardado en {output_path}.\")\n",
    "\n",
    "    return nuevo_dataset"
   ]
  },
  {
   "cell_type": "code",
   "execution_count": 80,
   "id": "99a5b3db-1ea5-4f20-9cf0-9f2ddb919394",
   "metadata": {
    "ExecuteTime": {
     "end_time": "2025-05-01T03:32:35.687867Z",
     "start_time": "2025-05-01T03:32:35.686035Z"
    }
   },
   "outputs": [],
   "source": [
    "# ruta_archivo = 'J:\\\\JESSICA\\\\Jessica\\\\Rafael\\\\igrid\\\\cedenar\\\\python_zentr\\\\nuevo_dataset_comprob_2022_filtrado.csv'  # Reemplaza con tu ruta\n",
    "# df_2022_f_c = pd.read_csv(ruta_archivo)\n",
    "\n",
    "# ruta_archivo = 'J:\\\\JESSICA\\\\Jessica\\\\Rafael\\\\igrid\\\\cedenar\\\\python_zentr\\\\nuevo_dataset_comprob_2023_filtrado.csv'  # Reemplaza con tu ruta\n",
    "# df_2023_f_c = pd.read_csv(ruta_archivo)\n",
    "\n",
    "# ruta_archivo = 'J:\\\\JESSICA\\\\Jessica\\\\Rafael\\\\igrid\\\\cedenar\\\\python_zentr\\\\nuevo_dataset_comprob_2024_filtrado.csv'  # Reemplaza con tu ruta\n",
    "# df_2024_f_c = pd.read_csv(ruta_archivo)"
   ]
  },
  {
   "cell_type": "markdown",
   "id": "c85bb8b0-4053-4d01-a907-dcd448621402",
   "metadata": {},
   "source": [
    "### 2022"
   ]
  },
  {
   "cell_type": "code",
   "execution_count": 168,
   "id": "44429c63-4919-4850-a6ed-e8cf3c944482",
   "metadata": {},
   "outputs": [
    {
     "name": "stdout",
     "output_type": "stream",
     "text": [
      "✔️ Procesado: evento2022_1442\n",
      "✔️ Procesado: evento2022_8\n",
      "✔️ Procesado: evento2022_237\n",
      "✔️ Procesado: evento2022_23\n",
      "✔️ Procesado: evento2022_24\n",
      "✔️ Procesado: evento2022_33\n",
      "✔️ Procesado: evento2022_598\n",
      "✔️ Procesado: evento2022_601\n",
      "✔️ Procesado: evento2022_43\n",
      "✔️ Procesado: evento2022_99\n",
      "✔️ Procesado: evento2022_35\n",
      "✔️ Procesado: evento2022_111\n",
      "✔️ Procesado: evento2022_599\n",
      "✔️ Procesado: evento2022_108\n",
      "✔️ Procesado: evento2022_603\n",
      "✔️ Procesado: evento2022_190\n",
      "✔️ Procesado: evento2022_192\n",
      "✔️ Procesado: evento2022_588\n",
      "✔️ Procesado: evento2022_248\n",
      "✔️ Procesado: evento2022_591\n",
      "✔️ Procesado: evento2022_602\n",
      "✔️ Procesado: evento2022_41\n",
      "✔️ Procesado: evento2022_211\n",
      "✔️ Procesado: evento2022_74\n",
      "✔️ Procesado: evento2022_1889\n",
      "✔️ Procesado: evento2022_597\n",
      "✔️ Procesado: evento2022_600\n",
      "✔️ Procesado: evento2022_37\n",
      "✔️ Procesado: evento2022_1407\n",
      "✔️ Procesado: evento2022_1410\n",
      "✔️ Procesado: evento2022_68\n",
      "✔️ Procesado: evento2022_1328\n",
      "✔️ Procesado: evento2022_1334\n",
      "✔️ Procesado: evento2022_594\n",
      "✔️ Procesado: evento2022_67\n",
      "✔️ Procesado: evento2022_1408\n",
      "✔️ Procesado: evento2022_1352\n",
      "✔️ Procesado: evento2022_1405\n",
      "✔️ Procesado: evento2022_1283\n",
      "✔️ Procesado: evento2022_1343\n",
      "✔️ Procesado: evento2022_1346\n",
      "✔️ Procesado: evento2022_1292\n",
      "✔️ Procesado: evento2022_1298\n",
      "✔️ Procesado: evento2022_69\n",
      "✔️ Procesado: evento2022_1331\n",
      "✔️ Procesado: evento2022_202\n",
      "✔️ Procesado: evento2022_1349\n",
      "✅ Proceso completado. Dataset guardado en J:\\JESSICA\\Jessica\\Rafael\\igrid\\cedenar\\python_zentr\\dataset_decantado_2022.csv.\n"
     ]
    }
   ],
   "source": [
    "# # Lista de ids de variables\n",
    "# niveles = [1442, 8, 237, 23, 24, 33, 598, 601, 43, 99, 35, 111, 599, 108, 603, 190, 192, 588, 248, 591, 602, 41, 211, 74, 1889, 597, 600, 37, 1407, 1410, 68, 1328, 1334, 594, 67, 1408, 1352, 1405, 1283, 1343, 1346, 1292, 1298, 69, 1331, 202, 1349]\n",
    "#\n",
    "# dataset_decan_2022 = unir_niveles(2022, niveles, df_odt_prod_2022)"
   ]
  },
  {
   "cell_type": "code",
   "execution_count": 174,
   "id": "fbba3c1a-0da7-4da9-a669-87c01e5ee32f",
   "metadata": {},
   "outputs": [
    {
     "data": {
      "text/html": [
       "<div>\n",
       "<style scoped>\n",
       "    .dataframe tbody tr th:only-of-type {\n",
       "        vertical-align: middle;\n",
       "    }\n",
       "\n",
       "    .dataframe tbody tr th {\n",
       "        vertical-align: top;\n",
       "    }\n",
       "\n",
       "    .dataframe thead th {\n",
       "        text-align: right;\n",
       "    }\n",
       "</style>\n",
       "<table border=\"1\" class=\"dataframe\">\n",
       "  <thead>\n",
       "    <tr style=\"text-align: right;\">\n",
       "      <th></th>\n",
       "      <th>item_288</th>\n",
       "      <th>PLAN_COMERCIAL</th>\n",
       "      <th>NIVEL</th>\n",
       "      <th>LATI_USU</th>\n",
       "      <th>LONG_USU</th>\n",
       "      <th>AREA</th>\n",
       "      <th>Descripcion</th>\n",
       "      <th>odt</th>\n",
       "      <th>orden</th>\n",
       "      <th>item_1442</th>\n",
       "      <th>item_8</th>\n",
       "      <th>item_237</th>\n",
       "      <th>item_23</th>\n",
       "      <th>item_24</th>\n",
       "      <th>item_33</th>\n",
       "      <th>item_598</th>\n",
       "      <th>item_601</th>\n",
       "      <th>item_43</th>\n",
       "      <th>item_99</th>\n",
       "      <th>item_35</th>\n",
       "      <th>item_111</th>\n",
       "      <th>item_599</th>\n",
       "      <th>item_108</th>\n",
       "      <th>item_603</th>\n",
       "      <th>item_190</th>\n",
       "      <th>item_192</th>\n",
       "      <th>item_588</th>\n",
       "      <th>item_248</th>\n",
       "      <th>item_591</th>\n",
       "      <th>item_602</th>\n",
       "      <th>item_41</th>\n",
       "      <th>item_211</th>\n",
       "      <th>item_74</th>\n",
       "      <th>item_1889</th>\n",
       "      <th>item_597</th>\n",
       "      <th>item_600</th>\n",
       "      <th>item_37</th>\n",
       "      <th>item_1407</th>\n",
       "      <th>item_1410</th>\n",
       "      <th>item_68</th>\n",
       "      <th>item_1328</th>\n",
       "      <th>item_1334</th>\n",
       "      <th>item_594</th>\n",
       "      <th>item_67</th>\n",
       "      <th>item_1408</th>\n",
       "      <th>item_1352</th>\n",
       "      <th>item_1405</th>\n",
       "      <th>item_1283</th>\n",
       "      <th>item_1343</th>\n",
       "      <th>item_1346</th>\n",
       "      <th>item_1292</th>\n",
       "      <th>item_1298</th>\n",
       "      <th>item_69</th>\n",
       "      <th>item_1331</th>\n",
       "      <th>item_202</th>\n",
       "      <th>item_1349</th>\n",
       "    </tr>\n",
       "  </thead>\n",
       "  <tbody>\n",
       "    <tr>\n",
       "      <th>0</th>\n",
       "      <td>1065193</td>\n",
       "      <td>31-PLAN RESIDENCIAL TELEMEDIDO</td>\n",
       "      <td>1.0</td>\n",
       "      <td>1.811442</td>\n",
       "      <td>-78.769160</td>\n",
       "      <td>Urbano</td>\n",
       "      <td>None</td>\n",
       "      <td>552285</td>\n",
       "      <td>21286266</td>\n",
       "      <td>0.0</td>\n",
       "      <td>VIVIENDA</td>\n",
       "      <td>True</td>\n",
       "      <td>SI</td>\n",
       "      <td>SI</td>\n",
       "      <td>64284</td>\n",
       "      <td>DT</td>\n",
       "      <td>DA</td>\n",
       "      <td>636289.0</td>\n",
       "      <td>124.0</td>\n",
       "      <td>NaN</td>\n",
       "      <td>0.08</td>\n",
       "      <td>NaN</td>\n",
       "      <td>9.23</td>\n",
       "      <td>RA</td>\n",
       "      <td>NaN</td>\n",
       "      <td>NaN</td>\n",
       "      <td>NaN</td>\n",
       "      <td>NaN</td>\n",
       "      <td>NaN</td>\n",
       "      <td>NaN</td>\n",
       "      <td>NaN</td>\n",
       "      <td>NaN</td>\n",
       "      <td>NaN</td>\n",
       "      <td>NaN</td>\n",
       "      <td>NaN</td>\n",
       "      <td>NaN</td>\n",
       "      <td>NaN</td>\n",
       "      <td>NaN</td>\n",
       "      <td>NaN</td>\n",
       "      <td>NaN</td>\n",
       "      <td>NaN</td>\n",
       "      <td>NaN</td>\n",
       "      <td>NaN</td>\n",
       "      <td>NaN</td>\n",
       "      <td>NaN</td>\n",
       "      <td>NaN</td>\n",
       "      <td>NaN</td>\n",
       "      <td>NaN</td>\n",
       "      <td>NaN</td>\n",
       "      <td>NaN</td>\n",
       "      <td>NaN</td>\n",
       "      <td>NaN</td>\n",
       "      <td>NaN</td>\n",
       "      <td>NaN</td>\n",
       "      <td>NaN</td>\n",
       "      <td>NaN</td>\n",
       "    </tr>\n",
       "    <tr>\n",
       "      <th>1</th>\n",
       "      <td>462370</td>\n",
       "      <td>31-PLAN RESIDENCIAL TELEMEDIDO</td>\n",
       "      <td>1.0</td>\n",
       "      <td>1.805372</td>\n",
       "      <td>-78.771186</td>\n",
       "      <td>Urbano</td>\n",
       "      <td>None</td>\n",
       "      <td>551224</td>\n",
       "      <td>21270629</td>\n",
       "      <td>0.0</td>\n",
       "      <td>VIVIENDA</td>\n",
       "      <td>True</td>\n",
       "      <td>NaN</td>\n",
       "      <td>NaN</td>\n",
       "      <td>501249</td>\n",
       "      <td>VE</td>\n",
       "      <td>DA</td>\n",
       "      <td>NaN</td>\n",
       "      <td>NaN</td>\n",
       "      <td>501250.0</td>\n",
       "      <td>NaN</td>\n",
       "      <td>VE</td>\n",
       "      <td>NaN</td>\n",
       "      <td>NaN</td>\n",
       "      <td>2.0</td>\n",
       "      <td>1.0</td>\n",
       "      <td>634949.0</td>\n",
       "      <td>NaN</td>\n",
       "      <td>634950.0</td>\n",
       "      <td>NaN</td>\n",
       "      <td>NaN</td>\n",
       "      <td>NaN</td>\n",
       "      <td>NaN</td>\n",
       "      <td>NaN</td>\n",
       "      <td>NaN</td>\n",
       "      <td>NaN</td>\n",
       "      <td>NaN</td>\n",
       "      <td>NaN</td>\n",
       "      <td>NaN</td>\n",
       "      <td>NaN</td>\n",
       "      <td>NaN</td>\n",
       "      <td>NaN</td>\n",
       "      <td>NaN</td>\n",
       "      <td>NaN</td>\n",
       "      <td>NaN</td>\n",
       "      <td>NaN</td>\n",
       "      <td>NaN</td>\n",
       "      <td>NaN</td>\n",
       "      <td>NaN</td>\n",
       "      <td>NaN</td>\n",
       "      <td>NaN</td>\n",
       "      <td>NaN</td>\n",
       "      <td>NaN</td>\n",
       "      <td>NaN</td>\n",
       "      <td>NaN</td>\n",
       "      <td>NaN</td>\n",
       "    </tr>\n",
       "  </tbody>\n",
       "</table>\n",
       "</div>"
      ],
      "text/plain": [
       "   item_288                  PLAN_COMERCIAL  NIVEL  LATI_USU   LONG_USU  \\\n",
       "0   1065193  31-PLAN RESIDENCIAL TELEMEDIDO    1.0  1.811442 -78.769160   \n",
       "1    462370  31-PLAN RESIDENCIAL TELEMEDIDO    1.0  1.805372 -78.771186   \n",
       "\n",
       "     AREA Descripcion     odt     orden  item_1442    item_8 item_237 item_23  \\\n",
       "0  Urbano        None  552285  21286266        0.0  VIVIENDA     True      SI   \n",
       "1  Urbano        None  551224  21270629        0.0  VIVIENDA     True     NaN   \n",
       "\n",
       "  item_24 item_33 item_598 item_601   item_43  item_99   item_35  item_111  \\\n",
       "0      SI   64284       DT       DA  636289.0    124.0       NaN      0.08   \n",
       "1     NaN  501249       VE       DA       NaN      NaN  501250.0       NaN   \n",
       "\n",
       "  item_599  item_108 item_603  item_190  item_192  item_588 item_248  \\\n",
       "0      NaN      9.23       RA       NaN       NaN       NaN      NaN   \n",
       "1       VE       NaN      NaN       2.0       1.0  634949.0      NaN   \n",
       "\n",
       "   item_591 item_602 item_41  item_211 item_74  item_1889 item_597 item_600  \\\n",
       "0       NaN      NaN     NaN       NaN     NaN        NaN      NaN      NaN   \n",
       "1  634950.0      NaN     NaN       NaN     NaN        NaN      NaN      NaN   \n",
       "\n",
       "   item_37 item_1407 item_1410 item_68  item_1328 item_1334  item_594 item_67  \\\n",
       "0      NaN       NaN       NaN     NaN        NaN       NaN       NaN     NaN   \n",
       "1      NaN       NaN       NaN     NaN        NaN       NaN       NaN     NaN   \n",
       "\n",
       "  item_1408  item_1352 item_1405  item_1283 item_1343 item_1346 item_1292  \\\n",
       "0       NaN        NaN       NaN        NaN       NaN       NaN       NaN   \n",
       "1       NaN        NaN       NaN        NaN       NaN       NaN       NaN   \n",
       "\n",
       "  item_1298 item_69  item_1331  item_202 item_1349  \n",
       "0       NaN     NaN        NaN       NaN       NaN  \n",
       "1       NaN     NaN        NaN       NaN       NaN  "
      ]
     },
     "execution_count": 174,
     "metadata": {},
     "output_type": "execute_result"
    }
   ],
   "source": [
    "# dataset_decan_2022.head(2)"
   ]
  },
  {
   "cell_type": "code",
   "execution_count": 176,
   "id": "cec6d7f8-4361-4ec2-b64b-ecacf82f4faa",
   "metadata": {},
   "outputs": [
    {
     "name": "stdout",
     "output_type": "stream",
     "text": [
      "<class 'pandas.core.frame.DataFrame'>\n",
      "RangeIndex: 33461 entries, 0 to 33460\n",
      "Data columns (total 56 columns):\n",
      " #   Column          Non-Null Count  Dtype  \n",
      "---  ------          --------------  -----  \n",
      " 0   item_288        33461 non-null  int64  \n",
      " 1   PLAN_COMERCIAL  33461 non-null  object \n",
      " 2   NIVEL           33451 non-null  float64\n",
      " 3   LATI_USU        33451 non-null  float64\n",
      " 4   LONG_USU        33451 non-null  float64\n",
      " 5   AREA            33461 non-null  object \n",
      " 6   Descripcion     107 non-null    object \n",
      " 7   odt             33461 non-null  int64  \n",
      " 8   orden           33461 non-null  int64  \n",
      " 9   item_1442       33410 non-null  float64\n",
      " 10  item_8          29392 non-null  object \n",
      " 11  item_237        29409 non-null  object \n",
      " 12  item_23         26481 non-null  object \n",
      " 13  item_24         26478 non-null  object \n",
      " 14  item_33         23562 non-null  object \n",
      " 15  item_598        23446 non-null  object \n",
      " 16  item_601        25882 non-null  object \n",
      " 17  item_43         19023 non-null  object \n",
      " 18  item_99         22951 non-null  float64\n",
      " 19  item_35         19908 non-null  float64\n",
      " 20  item_111        15488 non-null  float64\n",
      " 21  item_599        19803 non-null  object \n",
      " 22  item_108        16214 non-null  float64\n",
      " 23  item_603        19075 non-null  object \n",
      " 24  item_190        5757 non-null   float64\n",
      " 25  item_192        5702 non-null   float64\n",
      " 26  item_588        5480 non-null   float64\n",
      " 27  item_248        2592 non-null   object \n",
      " 28  item_591        5465 non-null   float64\n",
      " 29  item_602        9509 non-null   object \n",
      " 30  item_41         9427 non-null   object \n",
      " 31  item_211        2369 non-null   float64\n",
      " 32  item_74         4520 non-null   object \n",
      " 33  item_1889       2406 non-null   float64\n",
      " 34  item_597        5685 non-null   object \n",
      " 35  item_600        694 non-null    object \n",
      " 36  item_37         676 non-null    float64\n",
      " 37  item_1407       34 non-null     object \n",
      " 38  item_1410       7 non-null      object \n",
      " 39  item_68         383 non-null    object \n",
      " 40  item_1328       7 non-null      float64\n",
      " 41  item_1334       0 non-null      object \n",
      " 42  item_594        67 non-null     float64\n",
      " 43  item_67         16 non-null     object \n",
      " 44  item_1408       27 non-null     object \n",
      " 45  item_1352       4 non-null      float64\n",
      " 46  item_1405       7 non-null      object \n",
      " 47  item_1283       6 non-null      float64\n",
      " 48  item_1343       0 non-null      object \n",
      " 49  item_1346       0 non-null      object \n",
      " 50  item_1292       6 non-null      object \n",
      " 51  item_1298       6 non-null      object \n",
      " 52  item_69         4 non-null      object \n",
      " 53  item_1331       0 non-null      float64\n",
      " 54  item_202        15 non-null     float64\n",
      " 55  item_1349       0 non-null      object \n",
      "dtypes: float64(21), int64(3), object(32)\n",
      "memory usage: 14.3+ MB\n"
     ]
    }
   ],
   "source": [
    "# dataset_decan_2022.info()"
   ]
  },
  {
   "cell_type": "markdown",
   "id": "8c77d9dc-0083-4778-8097-3258025a34bf",
   "metadata": {},
   "source": [
    "### 2023"
   ]
  },
  {
   "cell_type": "code",
   "execution_count": 81,
   "id": "ffa2ec44-60b9-45bd-ab92-1c8b7452997e",
   "metadata": {
    "ExecuteTime": {
     "end_time": "2025-05-01T03:32:41.712451Z",
     "start_time": "2025-05-01T03:32:41.518022Z"
    }
   },
   "outputs": [
    {
     "name": "stdout",
     "output_type": "stream",
     "text": [
      "✔️ Procesado: evento2023_1442\n",
      "✔️ Procesado: evento2023_8\n",
      "✔️ Procesado: evento2023_237\n",
      "✔️ Procesado: evento2023_23\n",
      "✔️ Procesado: evento2023_24\n",
      "✔️ Procesado: evento2023_33\n",
      "✔️ Procesado: evento2023_598\n",
      "✔️ Procesado: evento2023_601\n",
      "✔️ Procesado: evento2023_43\n",
      "✔️ Procesado: evento2023_99\n",
      "✔️ Procesado: evento2023_35\n",
      "✔️ Procesado: evento2023_111\n",
      "✔️ Procesado: evento2023_599\n",
      "✔️ Procesado: evento2023_108\n",
      "✔️ Procesado: evento2023_603\n",
      "✔️ Procesado: evento2023_190\n",
      "✔️ Procesado: evento2023_192\n",
      "✔️ Procesado: evento2023_588\n",
      "✔️ Procesado: evento2023_248\n",
      "✔️ Procesado: evento2023_591\n",
      "✔️ Procesado: evento2023_602\n",
      "✔️ Procesado: evento2023_41\n",
      "✔️ Procesado: evento2023_211\n",
      "✔️ Procesado: evento2023_74\n",
      "✔️ Procesado: evento2023_1889\n",
      "✔️ Procesado: evento2023_597\n",
      "✔️ Procesado: evento2023_600\n",
      "✔️ Procesado: evento2023_37\n",
      "✔️ Procesado: evento2023_1407\n",
      "✔️ Procesado: evento2023_1410\n",
      "✔️ Procesado: evento2023_68\n",
      "✔️ Procesado: evento2023_1328\n",
      "✔️ Procesado: evento2023_1334\n",
      "✔️ Procesado: evento2023_594\n",
      "✔️ Procesado: evento2023_67\n",
      "✔️ Procesado: evento2023_1408\n",
      "✔️ Procesado: evento2023_1352\n",
      "✔️ Procesado: evento2023_1405\n",
      "✔️ Procesado: evento2023_1283\n",
      "✔️ Procesado: evento2023_1343\n",
      "✔️ Procesado: evento2023_1346\n",
      "✔️ Procesado: evento2023_1292\n",
      "✔️ Procesado: evento2023_1298\n",
      "✔️ Procesado: evento2023_69\n",
      "✔️ Procesado: evento2023_1331\n",
      "✔️ Procesado: evento2023_202\n",
      "✔️ Procesado: evento2023_1349\n",
      "✅ Proceso completado. Dataset guardado en /Users/frandak2/Documents/repos/cedenar_anomalies/data/processed/dataset_decantado_2023.csv.\n"
     ]
    }
   ],
   "source": [
    "# Lista de ids de variables\n",
    "niveles = [\n",
    "    1442,\n",
    "    8,\n",
    "    237,\n",
    "    23,\n",
    "    24,\n",
    "    33,\n",
    "    598,\n",
    "    601,\n",
    "    43,\n",
    "    99,\n",
    "    35,\n",
    "    111,\n",
    "    599,\n",
    "    108,\n",
    "    603,\n",
    "    190,\n",
    "    192,\n",
    "    588,\n",
    "    248,\n",
    "    591,\n",
    "    602,\n",
    "    41,\n",
    "    211,\n",
    "    74,\n",
    "    1889,\n",
    "    597,\n",
    "    600,\n",
    "    37,\n",
    "    1407,\n",
    "    1410,\n",
    "    68,\n",
    "    1328,\n",
    "    1334,\n",
    "    594,\n",
    "    67,\n",
    "    1408,\n",
    "    1352,\n",
    "    1405,\n",
    "    1283,\n",
    "    1343,\n",
    "    1346,\n",
    "    1292,\n",
    "    1298,\n",
    "    69,\n",
    "    1331,\n",
    "    202,\n",
    "    1349,\n",
    "]\n",
    "\n",
    "dataset_decan_2023 = unir_niveles(2023, niveles, df_odt_prod_2023)"
   ]
  },
  {
   "cell_type": "code",
   "execution_count": 82,
   "id": "f6b53dfa-e083-4bbc-99b6-19584b8a9e5c",
   "metadata": {
    "ExecuteTime": {
     "end_time": "2025-05-01T03:33:24.790748Z",
     "start_time": "2025-05-01T03:33:24.783636Z"
    }
   },
   "outputs": [
    {
     "data": {
      "text/html": [
       "<div>\n",
       "<style scoped>\n",
       "    .dataframe tbody tr th:only-of-type {\n",
       "        vertical-align: middle;\n",
       "    }\n",
       "\n",
       "    .dataframe tbody tr th {\n",
       "        vertical-align: top;\n",
       "    }\n",
       "\n",
       "    .dataframe thead th {\n",
       "        text-align: right;\n",
       "    }\n",
       "</style>\n",
       "<table border=\"1\" class=\"dataframe\">\n",
       "  <thead>\n",
       "    <tr style=\"text-align: right;\">\n",
       "      <th></th>\n",
       "      <th>item_288</th>\n",
       "      <th>PLAN_COMERCIAL</th>\n",
       "      <th>NIVEL</th>\n",
       "      <th>LATI_USU</th>\n",
       "      <th>LONG_USU</th>\n",
       "      <th>AREA</th>\n",
       "      <th>Descripcion</th>\n",
       "      <th>odt</th>\n",
       "      <th>orden</th>\n",
       "      <th>item_1442</th>\n",
       "      <th>item_8</th>\n",
       "      <th>item_237</th>\n",
       "      <th>item_23</th>\n",
       "      <th>item_24</th>\n",
       "      <th>item_33</th>\n",
       "      <th>item_598</th>\n",
       "      <th>item_601</th>\n",
       "      <th>item_43</th>\n",
       "      <th>item_99</th>\n",
       "      <th>item_35</th>\n",
       "      <th>item_111</th>\n",
       "      <th>item_599</th>\n",
       "      <th>item_108</th>\n",
       "      <th>item_603</th>\n",
       "      <th>item_190</th>\n",
       "      <th>item_192</th>\n",
       "      <th>item_588</th>\n",
       "      <th>item_248</th>\n",
       "      <th>item_591</th>\n",
       "      <th>item_602</th>\n",
       "      <th>item_41</th>\n",
       "      <th>item_211</th>\n",
       "      <th>item_74</th>\n",
       "      <th>item_1889</th>\n",
       "      <th>item_597</th>\n",
       "      <th>item_600</th>\n",
       "      <th>item_37</th>\n",
       "      <th>item_1407</th>\n",
       "      <th>item_1410</th>\n",
       "      <th>item_68</th>\n",
       "      <th>item_1328</th>\n",
       "      <th>item_1334</th>\n",
       "      <th>item_594</th>\n",
       "      <th>item_67</th>\n",
       "      <th>item_1408</th>\n",
       "      <th>item_1352</th>\n",
       "      <th>item_1405</th>\n",
       "      <th>item_1283</th>\n",
       "      <th>item_1343</th>\n",
       "      <th>item_1346</th>\n",
       "      <th>item_1292</th>\n",
       "      <th>item_1298</th>\n",
       "      <th>item_69</th>\n",
       "      <th>item_1331</th>\n",
       "      <th>item_202</th>\n",
       "      <th>item_1349</th>\n",
       "    </tr>\n",
       "  </thead>\n",
       "  <tbody>\n",
       "    <tr>\n",
       "      <th>0</th>\n",
       "      <td>1234558</td>\n",
       "      <td>31-PLAN RESIDENCIAL TELEMEDIDO</td>\n",
       "      <td>1.0</td>\n",
       "      <td>1.779928</td>\n",
       "      <td>-78.787850</td>\n",
       "      <td>Urbano</td>\n",
       "      <td>None</td>\n",
       "      <td>1561972</td>\n",
       "      <td>26200906</td>\n",
       "      <td>0.0</td>\n",
       "      <td>VIVIENDA</td>\n",
       "      <td>TRUE</td>\n",
       "      <td>SI</td>\n",
       "      <td>NO</td>\n",
       "      <td>NaN</td>\n",
       "      <td>NaN</td>\n",
       "      <td>DA</td>\n",
       "      <td>NaN</td>\n",
       "      <td>122.8</td>\n",
       "      <td>NaN</td>\n",
       "      <td>0.06</td>\n",
       "      <td>NaN</td>\n",
       "      <td>9.18</td>\n",
       "      <td>NaN</td>\n",
       "      <td>NaN</td>\n",
       "      <td>NaN</td>\n",
       "      <td>NaN</td>\n",
       "      <td>NaN</td>\n",
       "      <td>NaN</td>\n",
       "      <td>NaN</td>\n",
       "      <td>NaN</td>\n",
       "      <td>NaN</td>\n",
       "      <td>NaN</td>\n",
       "      <td>NaN</td>\n",
       "      <td>GR</td>\n",
       "      <td>NaN</td>\n",
       "      <td>NaN</td>\n",
       "      <td>NaN</td>\n",
       "      <td>NaN</td>\n",
       "      <td>NaN</td>\n",
       "      <td>NaN</td>\n",
       "      <td>NaN</td>\n",
       "      <td>NaN</td>\n",
       "      <td>NaN</td>\n",
       "      <td>NaN</td>\n",
       "      <td>NaN</td>\n",
       "      <td>NaN</td>\n",
       "      <td>NaN</td>\n",
       "      <td>NaN</td>\n",
       "      <td>NaN</td>\n",
       "      <td>NaN</td>\n",
       "      <td>NaN</td>\n",
       "      <td>NaN</td>\n",
       "      <td>NaN</td>\n",
       "      <td>NaN</td>\n",
       "      <td>NaN</td>\n",
       "    </tr>\n",
       "    <tr>\n",
       "      <th>1</th>\n",
       "      <td>1042646</td>\n",
       "      <td>31-PLAN RESIDENCIAL TELEMEDIDO</td>\n",
       "      <td>1.0</td>\n",
       "      <td>1.819217</td>\n",
       "      <td>-78.735098</td>\n",
       "      <td>Urbano</td>\n",
       "      <td>None</td>\n",
       "      <td>1813259</td>\n",
       "      <td>27383608</td>\n",
       "      <td>0.0</td>\n",
       "      <td>VIVIENDA</td>\n",
       "      <td>TRUE</td>\n",
       "      <td>NaN</td>\n",
       "      <td>NaN</td>\n",
       "      <td>NaN</td>\n",
       "      <td>NaN</td>\n",
       "      <td>NaN</td>\n",
       "      <td>NaN</td>\n",
       "      <td>NaN</td>\n",
       "      <td>NaN</td>\n",
       "      <td>NaN</td>\n",
       "      <td>NaN</td>\n",
       "      <td>NaN</td>\n",
       "      <td>NaN</td>\n",
       "      <td>16763.0</td>\n",
       "      <td>NaN</td>\n",
       "      <td>NaN</td>\n",
       "      <td>NaN</td>\n",
       "      <td>NaN</td>\n",
       "      <td>NaN</td>\n",
       "      <td>NaN</td>\n",
       "      <td>NaN</td>\n",
       "      <td>NaN</td>\n",
       "      <td>NaN</td>\n",
       "      <td>GR</td>\n",
       "      <td>NaN</td>\n",
       "      <td>NaN</td>\n",
       "      <td>NaN</td>\n",
       "      <td>NaN</td>\n",
       "      <td>NaN</td>\n",
       "      <td>NaN</td>\n",
       "      <td>NaN</td>\n",
       "      <td>NaN</td>\n",
       "      <td>NaN</td>\n",
       "      <td>NaN</td>\n",
       "      <td>NaN</td>\n",
       "      <td>NaN</td>\n",
       "      <td>NaN</td>\n",
       "      <td>NaN</td>\n",
       "      <td>NaN</td>\n",
       "      <td>NaN</td>\n",
       "      <td>NaN</td>\n",
       "      <td>NaN</td>\n",
       "      <td>NaN</td>\n",
       "      <td>NaN</td>\n",
       "      <td>NaN</td>\n",
       "    </tr>\n",
       "  </tbody>\n",
       "</table>\n",
       "</div>"
      ],
      "text/plain": [
       "   item_288                  PLAN_COMERCIAL  NIVEL  LATI_USU   LONG_USU  \\\n",
       "0   1234558  31-PLAN RESIDENCIAL TELEMEDIDO    1.0  1.779928 -78.787850   \n",
       "1   1042646  31-PLAN RESIDENCIAL TELEMEDIDO    1.0  1.819217 -78.735098   \n",
       "\n",
       "     AREA Descripcion      odt     orden  item_1442     item_8 item_237  \\\n",
       "0  Urbano        None  1561972  26200906        0.0  VIVIENDA      TRUE   \n",
       "1  Urbano        None  1813259  27383608        0.0   VIVIENDA     TRUE   \n",
       "\n",
       "  item_23 item_24 item_33 item_598 item_601  item_43  item_99 item_35  \\\n",
       "0      SI      NO     NaN      NaN       DA      NaN    122.8     NaN   \n",
       "1     NaN     NaN     NaN      NaN      NaN      NaN      NaN     NaN   \n",
       "\n",
       "   item_111 item_599  item_108 item_603  item_190 item_192 item_588 item_248  \\\n",
       "0      0.06      NaN      9.18      NaN       NaN      NaN      NaN      NaN   \n",
       "1       NaN      NaN       NaN      NaN   16763.0      NaN      NaN      NaN   \n",
       "\n",
       "  item_591 item_602  item_41  item_211 item_74  item_1889 item_597 item_600  \\\n",
       "0      NaN      NaN      NaN       NaN     NaN        NaN       GR      NaN   \n",
       "1      NaN      NaN      NaN       NaN     NaN        NaN       GR      NaN   \n",
       "\n",
       "   item_37 item_1407 item_1410 item_68  item_1328 item_1334 item_594 item_67  \\\n",
       "0      NaN       NaN       NaN     NaN        NaN       NaN      NaN     NaN   \n",
       "1      NaN       NaN       NaN     NaN        NaN       NaN      NaN     NaN   \n",
       "\n",
       "  item_1408  item_1352 item_1405  item_1283  item_1343  item_1346  item_1292  \\\n",
       "0       NaN        NaN       NaN        NaN        NaN        NaN        NaN   \n",
       "1       NaN        NaN       NaN        NaN        NaN        NaN        NaN   \n",
       "\n",
       "   item_1298 item_69 item_1331  item_202  item_1349  \n",
       "0        NaN     NaN       NaN       NaN        NaN  \n",
       "1        NaN     NaN       NaN       NaN        NaN  "
      ]
     },
     "execution_count": 82,
     "metadata": {},
     "output_type": "execute_result"
    }
   ],
   "source": [
    "dataset_decan_2023.head(2)"
   ]
  },
  {
   "cell_type": "code",
   "execution_count": 83,
   "id": "7c0b17f4-efc7-47b5-a20d-47650746b149",
   "metadata": {
    "ExecuteTime": {
     "end_time": "2025-05-01T03:33:38.739915Z",
     "start_time": "2025-05-01T03:33:38.726236Z"
    }
   },
   "outputs": [
    {
     "name": "stdout",
     "output_type": "stream",
     "text": [
      "<class 'pandas.core.frame.DataFrame'>\n",
      "RangeIndex: 19584 entries, 0 to 19583\n",
      "Data columns (total 56 columns):\n",
      " #   Column          Non-Null Count  Dtype  \n",
      "---  ------          --------------  -----  \n",
      " 0   item_288        19584 non-null  int64  \n",
      " 1   PLAN_COMERCIAL  19584 non-null  object \n",
      " 2   NIVEL           19584 non-null  float64\n",
      " 3   LATI_USU        19584 non-null  float64\n",
      " 4   LONG_USU        19584 non-null  float64\n",
      " 5   AREA            19584 non-null  object \n",
      " 6   Descripcion     3344 non-null   object \n",
      " 7   odt             19584 non-null  int64  \n",
      " 8   orden           19584 non-null  int64  \n",
      " 9   item_1442       19521 non-null  float64\n",
      " 10  item_8          18762 non-null  object \n",
      " 11  item_237        16911 non-null  object \n",
      " 12  item_23         13367 non-null  object \n",
      " 13  item_24         13365 non-null  object \n",
      " 14  item_33         12781 non-null  object \n",
      " 15  item_598        12848 non-null  object \n",
      " 16  item_601        14316 non-null  object \n",
      " 17  item_43         10245 non-null  float64\n",
      " 18  item_99         10969 non-null  float64\n",
      " 19  item_35         10973 non-null  object \n",
      " 20  item_111        9299 non-null   float64\n",
      " 21  item_599        10957 non-null  object \n",
      " 22  item_108        9319 non-null   float64\n",
      " 23  item_603        10325 non-null  object \n",
      " 24  item_190        4118 non-null   float64\n",
      " 25  item_192        2236 non-null   object \n",
      " 26  item_588        2012 non-null   object \n",
      " 27  item_248        1064 non-null   object \n",
      " 28  item_591        2004 non-null   object \n",
      " 29  item_602        6138 non-null   object \n",
      " 30  item_41         6456 non-null   float64\n",
      " 31  item_211        2106 non-null   float64\n",
      " 32  item_74         2146 non-null   object \n",
      " 33  item_1889       0 non-null      float64\n",
      " 34  item_597        3925 non-null   object \n",
      " 35  item_600        343 non-null    object \n",
      " 36  item_37         340 non-null    float64\n",
      " 37  item_1407       14 non-null     object \n",
      " 38  item_1410       41 non-null     object \n",
      " 39  item_68         15 non-null     object \n",
      " 40  item_1328       41 non-null     float64\n",
      " 41  item_1334       1 non-null      object \n",
      " 42  item_594        11 non-null     object \n",
      " 43  item_67         3 non-null      object \n",
      " 44  item_1408       8 non-null      object \n",
      " 45  item_1352       2 non-null      float64\n",
      " 46  item_1405       2 non-null      object \n",
      " 47  item_1283       0 non-null      float64\n",
      " 48  item_1343       1 non-null      float64\n",
      " 49  item_1346       0 non-null      float64\n",
      " 50  item_1292       0 non-null      float64\n",
      " 51  item_1298       0 non-null      float64\n",
      " 52  item_69         3 non-null      object \n",
      " 53  item_1331       0 non-null      object \n",
      " 54  item_202        2 non-null      float64\n",
      " 55  item_1349       1 non-null      float64\n",
      "dtypes: float64(22), int64(3), object(31)\n",
      "memory usage: 8.4+ MB\n"
     ]
    }
   ],
   "source": [
    "dataset_decan_2023.info()"
   ]
  },
  {
   "cell_type": "markdown",
   "id": "351f386c-8a7c-4261-9ffe-eb68b57d7f6d",
   "metadata": {},
   "source": [
    "#### 2024"
   ]
  },
  {
   "cell_type": "code",
   "execution_count": 84,
   "id": "5d0cd902-89bd-4a1e-b951-44bec37b8e97",
   "metadata": {
    "ExecuteTime": {
     "end_time": "2025-05-01T03:34:20.688137Z",
     "start_time": "2025-05-01T03:34:20.686193Z"
    }
   },
   "outputs": [],
   "source": [
    "# # Lista de ids de variables\n",
    "# niveles = [1442, 8, 237, 23, 24, 33, 598, 601, 43, 99, 35, 111, 599, 108, 603, 190, 192, 588, 248, 591, 602, 41, 211, 74, 1889, 597, 600, 37, 1407, 1410, 68, 1328, 1334, 594, 67, 1408, 1352, 1405, 1283, 1343, 1346, 1292, 1298, 69, 1331, 202, 1349]\n",
    "#\n",
    "# dataset_decan_2024 = unir_niveles(2024, niveles, df_odt_prod_2024)"
   ]
  },
  {
   "cell_type": "code",
   "execution_count": 85,
   "id": "5c490449-a5f9-4d74-ab28-54bf1008ece3",
   "metadata": {
    "ExecuteTime": {
     "end_time": "2025-05-01T03:34:21.834492Z",
     "start_time": "2025-05-01T03:34:21.832886Z"
    }
   },
   "outputs": [],
   "source": [
    "# dataset_decan_2024.info()"
   ]
  },
  {
   "cell_type": "code",
   "execution_count": 89,
   "id": "9056c5de-443e-4e64-8b38-4701be531bbb",
   "metadata": {
    "ExecuteTime": {
     "end_time": "2025-05-01T03:43:59.272226Z",
     "start_time": "2025-05-01T03:43:59.268890Z"
    }
   },
   "outputs": [],
   "source": [
    "# Función para generar el informe detallado\n",
    "def generar_informe(dataset, output_file):\n",
    "    resumen = []\n",
    "\n",
    "    for columna in dataset.columns:\n",
    "        # Información básica\n",
    "        total_registros = len(dataset)\n",
    "        vacios = dataset[columna].isnull().sum()\n",
    "        tipo = dataset[columna].dtype\n",
    "\n",
    "        # Resumen por tipo de dato\n",
    "        if pd.api.types.is_numeric_dtype(dataset[columna]):\n",
    "            estadisticas = dataset[columna].describe(percentiles=[0.25, 0.5, 0.75])\n",
    "            resumen.append(\n",
    "                {\n",
    "                    \"Variable\": columna,\n",
    "                    \"Tipo\": \"Numérica\",\n",
    "                    \"Total Registros\": total_registros,\n",
    "                    \"Vacios\": vacios,\n",
    "                    \"Mínimo\": estadisticas[\"min\"],\n",
    "                    \"1er Cuartil (25%)\": estadisticas[\"25%\"],\n",
    "                    \"Mediana (50%)\": estadisticas[\"50%\"],\n",
    "                    \"3er Cuartil (75%)\": estadisticas[\"75%\"],\n",
    "                    \"Máximo\": estadisticas[\"max\"],\n",
    "                    \"Media\": estadisticas[\"mean\"],\n",
    "                }\n",
    "            )\n",
    "\n",
    "        elif pd.api.types.is_object_dtype(dataset[columna]):\n",
    "            moda = (\n",
    "                dataset[columna].mode()[0]\n",
    "                if not dataset[columna].mode().empty\n",
    "                else \"Sin Moda\"\n",
    "            )\n",
    "            frecuencias = dataset[columna].value_counts().to_dict()\n",
    "\n",
    "            resumen.append(\n",
    "                {\n",
    "                    \"Variable\": columna,\n",
    "                    \"Tipo\": \"Categoría\",\n",
    "                    \"Total Registros\": total_registros,\n",
    "                    \"Vacios\": vacios,\n",
    "                    \"Moda\": moda,\n",
    "                    \"Frecuencias\": frecuencias,\n",
    "                }\n",
    "            )\n",
    "\n",
    "    # Crear DataFrame con el resumen\n",
    "    informe_df = pd.DataFrame(resumen)\n",
    "\n",
    "    # Guardar el informe en un archivo CSV\n",
    "    informe_df.to_csv(data_processed_dir(output_file), index=False)\n",
    "\n",
    "    print(f\"Informe generado y guardado en: {output_file}\")"
   ]
  },
  {
   "cell_type": "code",
   "execution_count": 90,
   "id": "c64b8986-4e2a-4673-8e02-c9da207f694b",
   "metadata": {
    "ExecuteTime": {
     "end_time": "2025-05-01T03:43:59.652402Z",
     "start_time": "2025-05-01T03:43:59.651038Z"
    }
   },
   "outputs": [],
   "source": [
    "# nuevo_dataset = pd.read_csv(\"J:\\\\JESSICA\\\\Jessica\\\\Rafael\\\\igrid\\\\cedenar\\\\python_zentr\\\\dataset_decantado_2022.csv\")\n",
    "# generar_informe(nuevo_dataset, \"informe_dataset_2022.csv\")"
   ]
  },
  {
   "cell_type": "code",
   "execution_count": 91,
   "id": "4ab3ede4-8a2c-41b8-9564-9dfabdb36f4a",
   "metadata": {
    "ExecuteTime": {
     "end_time": "2025-05-01T03:44:00.085686Z",
     "start_time": "2025-05-01T03:44:00.007149Z"
    }
   },
   "outputs": [
    {
     "name": "stdout",
     "output_type": "stream",
     "text": [
      "Informe generado y guardado en: informe_dataset_2023.csv\n"
     ]
    },
    {
     "name": "stderr",
     "output_type": "stream",
     "text": [
      "/var/folders/pq/cm_j30pd6d5gvwryc4gttm2h0000gn/T/ipykernel_7922/3050476619.py:2: DtypeWarning: Columns (14,43,46,52) have mixed types. Specify dtype option on import or set low_memory=False.\n",
      "  nuevo_dataset = pd.read_csv(ruta_archivo)\n"
     ]
    }
   ],
   "source": [
    "ruta_archivo = data_processed_dir(\"dataset_decantado_2023.csv\")\n",
    "nuevo_dataset = pd.read_csv(ruta_archivo)\n",
    "generar_informe(nuevo_dataset, \"informe_dataset_2023.csv\")"
   ]
  },
  {
   "cell_type": "code",
   "execution_count": 418,
   "id": "17853737-2c14-486e-afcd-fff058165c7c",
   "metadata": {},
   "outputs": [
    {
     "name": "stdout",
     "output_type": "stream",
     "text": [
      "Informe generado y guardado en: informe_dataset_2024.csv\n"
     ]
    }
   ],
   "source": [
    "# nuevo_dataset = pd.read_csv(\"J:\\\\JESSICA\\\\Jessica\\\\Rafael\\\\igrid\\\\cedenar\\\\python_zentr\\\\dataset_decantado_2024.csv\")\n",
    "# generar_informe(nuevo_dataset, \"informe_dataset_2024.csv\")"
   ]
  },
  {
   "cell_type": "markdown",
   "id": "6cf3cabb-bc02-4483-8ad2-a47723710524",
   "metadata": {},
   "source": [
    "### Pruebas código"
   ]
  },
  {
   "cell_type": "code",
   "execution_count": null,
   "id": "050b9166-b67e-4f19-a20c-b51c64565034",
   "metadata": {},
   "outputs": [],
   "source": [
    "# Lista de ids de variables tenidas en cuenta\n",
    "niveles = [\n",
    "    1442,\n",
    "    8,\n",
    "    237,\n",
    "    23,\n",
    "    24,\n",
    "    33,\n",
    "    598,\n",
    "    601,\n",
    "    43,\n",
    "    99,\n",
    "    35,\n",
    "    111,\n",
    "    599,\n",
    "    108,\n",
    "    603,\n",
    "    190,\n",
    "    192,\n",
    "    588,\n",
    "    248,\n",
    "    591,\n",
    "    602,\n",
    "    41,\n",
    "    211,\n",
    "    74,\n",
    "    1889,\n",
    "    597,\n",
    "    600,\n",
    "    37,\n",
    "    1407,\n",
    "    1410,\n",
    "    68,\n",
    "    1328,\n",
    "    1334,\n",
    "    594,\n",
    "    67,\n",
    "    1408,\n",
    "    1352,\n",
    "    1405,\n",
    "    1283,\n",
    "    1343,\n",
    "    1346,\n",
    "    1292,\n",
    "    1298,\n",
    "    69,\n",
    "    1331,\n",
    "    202,\n",
    "    1349,\n",
    "]\n",
    "\n",
    "# Base principal (odt_pacifico) ya cargada\n",
    "nuevo_dataset = odt_pacifico.copy()\n",
    "\n",
    "# Iterar sobre cada nivel y agregar la columna correspondiente\n",
    "for nivel in niveles:\n",
    "    # Obtener dinámicamente el DataFrame\n",
    "    df_actual = globals().get(f\"evento2022_{nivel}\")\n",
    "\n",
    "    if df_actual is not None:\n",
    "        # Asegurar que 'odt' y 'value' existen en el DataFrame\n",
    "        if \"odt\" in df_actual.columns and \"value\" in df_actual.columns:\n",
    "            # Eliminar duplicados en 'odt' para evitar el error\n",
    "            df_actual = df_actual[[\"odt\", \"value\"]].drop_duplicates(subset=\"odt\")\n",
    "\n",
    "            # Agregar columna con map()\n",
    "            nuevo_dataset[f\"item_{nivel}\"] = nuevo_dataset[\"odt\"].map(\n",
    "                df_actual.set_index(\"odt\")[\"value\"]\n",
    "            )\n",
    "\n",
    "            print(f\"✔️ Procesado: evento2022_{nivel}\")\n",
    "        else:\n",
    "            print(f\"⚠️ Columnas faltantes en: evento2022_{nivel}\")\n",
    "    else:\n",
    "        print(f\"⚠️ No encontrado: evento2022_{nivel}\")\n",
    "\n",
    "# Guardar el nuevo dataset consolidado\n",
    "nuevo_dataset.to_csv(\n",
    "    \"J:\\\\JESSICA\\\\Jessica\\\\Rafael\\\\igrid\\\\cedenar\\\\python_zentr\\\\nuevo_dataset.csv\",\n",
    "    index=False,\n",
    ")\n",
    "\n",
    "print(\"✅ Proceso completado. Dataset guardado.\")"
   ]
  },
  {
   "cell_type": "code",
   "execution_count": null,
   "id": "8cc9a4e9-a9e3-4386-9430-da5c64909ac0",
   "metadata": {},
   "outputs": [],
   "source": [
    "nuevo_dataset.info()"
   ]
  },
  {
   "cell_type": "code",
   "execution_count": null,
   "id": "1613cca2-8de8-4d0a-bda0-a79c89f63bd3",
   "metadata": {},
   "outputs": [],
   "source": [
    "# Función para generar el informe detallado\n",
    "def generar_informe(dataset, output_file):\n",
    "    resumen = []\n",
    "\n",
    "    for columna in dataset.columns:\n",
    "        # Información básica\n",
    "        total_registros = len(dataset)\n",
    "        vacios = dataset[columna].isnull().sum()\n",
    "        tipo = dataset[columna].dtype\n",
    "\n",
    "        # Resumen por tipo de dato\n",
    "        if pd.api.types.is_numeric_dtype(dataset[columna]):\n",
    "            estadisticas = dataset[columna].describe(percentiles=[0.25, 0.5, 0.75])\n",
    "            resumen.append(\n",
    "                {\n",
    "                    \"Variable\": columna,\n",
    "                    \"Tipo\": \"Numérica\",\n",
    "                    \"Total Registros\": total_registros,\n",
    "                    \"Vacios\": vacios,\n",
    "                    \"Mínimo\": estadisticas[\"min\"],\n",
    "                    \"1er Cuartil (25%)\": estadisticas[\"25%\"],\n",
    "                    \"Mediana (50%)\": estadisticas[\"50%\"],\n",
    "                    \"3er Cuartil (75%)\": estadisticas[\"75%\"],\n",
    "                    \"Máximo\": estadisticas[\"max\"],\n",
    "                    \"Media\": estadisticas[\"mean\"],\n",
    "                }\n",
    "            )\n",
    "\n",
    "        elif pd.api.types.is_object_dtype(dataset[columna]):\n",
    "            moda = (\n",
    "                dataset[columna].mode()[0]\n",
    "                if not dataset[columna].mode().empty\n",
    "                else \"Sin Moda\"\n",
    "            )\n",
    "            frecuencias = dataset[columna].value_counts().to_dict()\n",
    "\n",
    "            resumen.append(\n",
    "                {\n",
    "                    \"Variable\": columna,\n",
    "                    \"Tipo\": \"Categoría\",\n",
    "                    \"Total Registros\": total_registros,\n",
    "                    \"Vacios\": vacios,\n",
    "                    \"Moda\": moda,\n",
    "                    \"Frecuencias\": frecuencias,\n",
    "                }\n",
    "            )\n",
    "\n",
    "    # Crear DataFrame con el resumen\n",
    "    informe_df = pd.DataFrame(resumen)\n",
    "\n",
    "    # Guardar el informe en un archivo CSV\n",
    "    informe_df.to_csv(output_file, index=False)\n",
    "\n",
    "    print(f\"Informe generado y guardado en: {output_file}\")\n",
    "\n",
    "\n",
    "# Usar la función con tu dataset\n",
    "nuevo_dataset = pd.read_csv(\n",
    "    \"J:\\\\JESSICA\\\\Jessica\\\\Rafael\\\\igrid\\\\cedenar\\\\python_zentr\\\\nuevo_dataset.csv\"\n",
    ")\n",
    "generar_informe(nuevo_dataset, \"informe_dataset.csv\")"
   ]
  },
  {
   "cell_type": "code",
   "execution_count": null,
   "id": "f0429026-8e4e-4430-a5aa-51d59f8fefd5",
   "metadata": {},
   "outputs": [],
   "source": [
    "informe_dataset = pd.read_csv(\"informe_dataset.csv\")"
   ]
  },
  {
   "cell_type": "code",
   "execution_count": null,
   "id": "dfd79eb9-a18d-448a-86bf-0e26595d7733",
   "metadata": {},
   "outputs": [],
   "source": [
    "informe_dataset"
   ]
  }
 ],
 "metadata": {
  "kernelspec": {
   "display_name": "Python 3 (ipykernel)",
   "language": "python",
   "name": "python3"
  },
  "language_info": {
   "codemirror_mode": {
    "name": "ipython",
    "version": 3
   },
   "file_extension": ".py",
   "mimetype": "text/x-python",
   "name": "python",
   "nbconvert_exporter": "python",
   "pygments_lexer": "ipython3",
   "version": "3.12.7"
  }
 },
 "nbformat": 4,
 "nbformat_minor": 5
}
