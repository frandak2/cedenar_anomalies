{
 "cells": [
  {
   "cell_type": "code",
   "id": "initial_id",
   "metadata": {
    "collapsed": true,
    "ExecuteTime": {
     "end_time": "2025-05-16T01:23:05.731685Z",
     "start_time": "2025-05-16T01:23:05.448967Z"
    }
   },
   "source": [
    "import json\n",
    "import numpy as np\n",
    "import pandas as pd\n",
    "\n",
    "from cedenar_anomalies.utils.paths import (\n",
    "    data_processed_dir,\n",
    "    data_raw_dir,\n",
    "    reports_dir\n",
    ")"
   ],
   "outputs": [],
   "execution_count": 1
  },
  {
   "metadata": {
    "ExecuteTime": {
     "end_time": "2025-05-16T01:26:42.231592Z",
     "start_time": "2025-05-16T01:26:42.224612Z"
    }
   },
   "cell_type": "code",
   "source": [
    "# === Archivos de entrada ===\n",
    "API_JSON_PATH = data_raw_dir(\"api_result.json\")\n",
    "MAPPING_JSON_PATH = data_raw_dir(\"category_mappings_anomaly_ext.json\")\n",
    "OUTPUT_CSV_PATH = data_processed_dir(\"output_datos_filtrados.csv\")\n",
    "\n",
    "# === Columnas requeridas ===\n",
    "columns_to_keep = [\n",
    "    \"AREA\", \"item_288\", \"odt\", \"orden\", \"PLAN_COMERCIAL\", \"Descripcion\",\n",
    "    \"reincidente\", \"Anomalia_conf\", \"ZONA\", \"año\", \"LATI_USU\", \"LONG_USU\", \"NIVEL\",\n",
    "    \"item_68\", \"item_74\", \"item_237\", \"item_248\", \"item_597\", \"item_602\", \"item_108\",\n",
    "    \"item_43\", \"item_603\", \"item_599\", \"item_35\", \"item_598\", \"item_33\", \"item_601\",\n",
    "    \"item_24\", \"item_23\"\n",
    "]\n"
   ],
   "id": "86e56b88b15a5482",
   "outputs": [],
   "execution_count": 2
  },
  {
   "metadata": {
    "ExecuteTime": {
     "end_time": "2025-05-16T01:26:45.350581Z",
     "start_time": "2025-05-16T01:26:45.334960Z"
    }
   },
   "cell_type": "code",
   "source": [
    "# === Cargar datos ===\n",
    "with open(API_JSON_PATH, \"r\", encoding=\"utf-8\") as f:\n",
    "    raw_data = json.load(f)\n",
    "\n",
    "with open(MAPPING_JSON_PATH, \"r\", encoding=\"utf-8\") as f:\n",
    "    mappings = json.load(f)"
   ],
   "id": "4c5518a4981f4e7b",
   "outputs": [],
   "execution_count": 3
  },
  {
   "metadata": {
    "ExecuteTime": {
     "end_time": "2025-05-16T01:23:02.118027Z",
     "start_time": "2025-05-16T01:23:02.116748Z"
    }
   },
   "cell_type": "code",
   "source": [
    "# === Procesamiento ===\n",
    "data = []\n",
    "\n",
    "for record in raw_data:\n",
    "    new_record = {}\n",
    "\n",
    "    # Renombrar claves numéricas a formato item_xxx\n",
    "    for k, v in record.items():\n",
    "        if k.isdigit():\n",
    "            new_record[f\"item_{k}\"] = v\n",
    "        else:\n",
    "            new_record[k] = v\n",
    "\n",
    "    # === Extraer latitud y longitud si existe item_118 ===\n",
    "    if \"item_118\" in new_record and isinstance(new_record[\"item_118\"], str):\n",
    "        parts = new_record[\"item_118\"].split(\",\")\n",
    "        if len(parts) == 2:\n",
    "            new_record[\"LATI_USU\"] = parts[0].strip()\n",
    "            new_record[\"LONG_USU\"] = parts[1].strip()\n",
    "        else:\n",
    "            new_record[\"LATI_USU\"] = None\n",
    "            new_record[\"LONG_USU\"] = None\n",
    "    else:\n",
    "        new_record[\"LATI_USU\"] = None\n",
    "        new_record[\"LONG_USU\"] = None\n",
    "\n",
    "    # === Extraer año de item_293 si posible ===\n",
    "    if \"item_293\" in new_record:\n",
    "        try:\n",
    "            new_record[\"año\"] = pd.to_datetime(new_record[\"item_293\"], dayfirst=True).year\n",
    "        except Exception:\n",
    "            new_record[\"año\"] = None\n",
    "    else:\n",
    "        new_record[\"año\"] = None\n",
    "\n",
    "    # === Asignar campos personalizados ===\n",
    "    new_record[\"odt\"] = record.get(\"288\", None)\n",
    "    new_record[\"orden\"] = record.get(\"287\", None)\n",
    "    new_record[\"Descripcion\"] = record.get(\"62\", None)\n",
    "    new_record[\"ZONA\"] = record.get(\"1\", None)\n",
    "    new_record[\"AREA\"] = record.get(\"169\", None)  # sin mapeo por ahora\n",
    "\n",
    "    # PLAN_COMERCIAL con mapeo\n",
    "    new_record[\"PLAN_COMERCIAL\"] = mappings.get(\"PLAN_COMERCIAL\", {}).get(record.get(\"14\", \"\"), None)\n",
    "\n",
    "    # Otros campos no mapeados aún\n",
    "    new_record[\"reincidente\"] = None\n",
    "    new_record[\"Anomalia_conf\"] = None\n",
    "    # new_record[\"NIVEL\"] = new_record.get(\"item_132\", None)\n",
    "\n",
    "    data.append(new_record)\n"
   ],
   "id": "61e00624b22bfd5c",
   "outputs": [],
   "execution_count": null
  },
  {
   "metadata": {
    "ExecuteTime": {
     "end_time": "2025-05-16T01:23:03.313786Z",
     "start_time": "2025-05-16T01:23:03.312445Z"
    }
   },
   "cell_type": "code",
   "source": [
    "# === Crear DataFrame y filtrar columnas ===\n",
    "df = pd.DataFrame(data)\n",
    "\n",
    "# Agregar columnas faltantes con valores None\n",
    "for col in columns_to_keep:\n",
    "    if col not in df.columns:\n",
    "        df[col] = None\n",
    "\n",
    "df_final = df[columns_to_keep]\n"
   ],
   "id": "7cb8c6d2bc1f9b13",
   "outputs": [],
   "execution_count": null
  },
  {
   "metadata": {},
   "cell_type": "code",
   "outputs": [],
   "execution_count": null,
   "source": [
    "# === Guardar CSV ===\n",
    "df_final.to_csv(OUTPUT_CSV_PATH, index=False, encoding=\"utf-8\")\n",
    "print(f\"CSV generado: {OUTPUT_CSV_PATH}\")"
   ],
   "id": "110949a366a012eb"
  }
 ],
 "metadata": {
  "kernelspec": {
   "display_name": "Python 3",
   "language": "python",
   "name": "python3"
  },
  "language_info": {
   "codemirror_mode": {
    "name": "ipython",
    "version": 2
   },
   "file_extension": ".py",
   "mimetype": "text/x-python",
   "name": "python",
   "nbconvert_exporter": "python",
   "pygments_lexer": "ipython2",
   "version": "2.7.6"
  }
 },
 "nbformat": 4,
 "nbformat_minor": 5
}
