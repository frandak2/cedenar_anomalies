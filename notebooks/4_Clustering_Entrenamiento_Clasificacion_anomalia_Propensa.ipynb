{
 "cells": [
  {
   "cell_type": "code",
   "metadata": {
    "id": "qDeLB-ThGLsf",
    "ExecuteTime": {
     "end_time": "2025-05-14T00:18:28.329689Z",
     "start_time": "2025-05-14T00:18:28.327135Z"
    }
   },
   "source": [
    "import pandas as pd\n",
    "from pathlib import Path\n",
    "from sklearn.pipeline import Pipeline\n",
    "from sklearn.preprocessing import StandardScaler, OrdinalEncoder, FunctionTransformer\n",
    "from sklearn.impute import SimpleImputer\n",
    "from sklearn.compose import ColumnTransformer\n",
    "from sklearn.base import BaseEstimator, ClusterMixin\n",
    "from fcmeans import FCM\n",
    "from sklearn.metrics import silhouette_score\n",
    "import joblib\n",
    "# Importar utilidades para gestión de rutas\n",
    "from cedenar_anomalies.utils.paths import (\n",
    "    data_processed_dir,\n",
    "    data_raw_dir,\n",
    "    data_interim_dir,\n",
    "    models_dir\n",
    ")"
   ],
   "outputs": [],
   "execution_count": 2
  },
  {
   "metadata": {
    "ExecuteTime": {
     "end_time": "2025-05-14T00:18:28.473312Z",
     "start_time": "2025-05-14T00:18:28.470103Z"
    }
   },
   "cell_type": "code",
   "source": "models_dir()",
   "outputs": [
    {
     "data": {
      "text/plain": [
       "PosixPath('/Users/frandak2/Documents/repos/cedenar_anomalies/models')"
      ]
     },
     "execution_count": 3,
     "metadata": {},
     "output_type": "execute_result"
    }
   ],
   "execution_count": 3
  },
  {
   "cell_type": "code",
   "metadata": {
    "id": "Nx7HmZwVk1Hr",
    "ExecuteTime": {
     "end_time": "2025-05-14T00:18:28.652196Z",
     "start_time": "2025-05-14T00:18:28.650485Z"
    }
   },
   "source": "# from fcmeans import FCM",
   "outputs": [],
   "execution_count": 4
  },
  {
   "cell_type": "code",
   "metadata": {
    "id": "vsseXllLF-Ru",
    "ExecuteTime": {
     "end_time": "2025-05-14T00:18:28.943004Z",
     "start_time": "2025-05-14T00:18:28.941277Z"
    }
   },
   "source": [
    "pd.set_option(\"display.max_rows\", None)  # Mostrar todas las filas\n",
    "pd.set_option(\"display.max_columns\", None)  # Mostrar todas las columnas"
   ],
   "outputs": [],
   "execution_count": 5
  },
  {
   "cell_type": "markdown",
   "metadata": {
    "id": "s4rb8p0IeCX_"
   },
   "source": [
    "### Se ingresa la  sabana de datos limpia"
   ]
  },
  {
   "cell_type": "markdown",
   "metadata": {
    "id": "BRJAdt9bywx5"
   },
   "source": [
    "## Unir a previo a encode"
   ]
  },
  {
   "cell_type": "code",
   "metadata": {
    "id": "nnCEhIsc0vEp",
    "ExecuteTime": {
     "end_time": "2025-05-14T00:18:30.749714Z",
     "start_time": "2025-05-14T00:18:30.747470Z"
    }
   },
   "source": "import pandas as pd",
   "outputs": [],
   "execution_count": 6
  },
  {
   "cell_type": "code",
   "metadata": {
    "id": "lScFbOnR0nBd",
    "ExecuteTime": {
     "end_time": "2025-05-14T00:18:32.277810Z",
     "start_time": "2025-05-14T00:18:32.028547Z"
    }
   },
   "source": "df_anomaly_encoded = pd.read_csv(data_processed_dir(\"dataset_train_clean.csv\"))",
   "outputs": [],
   "execution_count": 7
  },
  {
   "cell_type": "code",
   "metadata": {
    "colab": {
     "base_uri": "https://localhost:8080/"
    },
    "id": "VqUd9nnZ13Oi",
    "outputId": "098ee8e0-38a0-4d2c-affa-7ffc026c07fa",
    "ExecuteTime": {
     "end_time": "2025-05-14T00:18:32.343985Z",
     "start_time": "2025-05-14T00:18:32.309738Z"
    }
   },
   "source": [
    "df_anomaly_encoded.info()"
   ],
   "outputs": [
    {
     "name": "stdout",
     "output_type": "stream",
     "text": [
      "<class 'pandas.core.frame.DataFrame'>\n",
      "RangeIndex: 260800 entries, 0 to 260799\n",
      "Data columns (total 21 columns):\n",
      " #   Column          Non-Null Count   Dtype  \n",
      "---  ------          --------------   -----  \n",
      " 0   Orden           260800 non-null  int64  \n",
      " 1   Usuario         260800 non-null  int64  \n",
      " 2   Ejecucion       260800 non-null  object \n",
      " 3   Codigo          256136 non-null  object \n",
      " 4   Descripcion     260800 non-null  object \n",
      " 5   Motivo          255439 non-null  object \n",
      " 6   kWh Rec         209785 non-null  float64\n",
      " 7   Factor          3112 non-null    float64\n",
      " 8   id              250692 non-null  float64\n",
      " 9   Nombre          250692 non-null  object \n",
      " 10  Factor.1        3112 non-null    float64\n",
      " 11  AREA            260789 non-null  object \n",
      " 12  PLAN_COMERCIAL  260789 non-null  object \n",
      " 13  TRAFO_OPEN      260658 non-null  object \n",
      " 14  FASES           258909 non-null  float64\n",
      " 15  KVA             260557 non-null  float64\n",
      " 16  LATI_USU        260557 non-null  float64\n",
      " 17  LONG_USU        260557 non-null  float64\n",
      " 18  puntaje         250692 non-null  float64\n",
      " 19  evaluacion      250692 non-null  float64\n",
      " 20  Zona            260800 non-null  object \n",
      "dtypes: float64(10), int64(2), object(9)\n",
      "memory usage: 41.8+ MB\n"
     ]
    }
   ],
   "execution_count": 8
  },
  {
   "cell_type": "code",
   "metadata": {
    "colab": {
     "base_uri": "https://localhost:8080/"
    },
    "id": "T35LcmNL2tdI",
    "outputId": "a1e592f5-2919-494c-ef4c-bf1535728402",
    "ExecuteTime": {
     "end_time": "2025-05-14T00:18:33.010550Z",
     "start_time": "2025-05-14T00:18:33.007541Z"
    }
   },
   "source": [
    "df_anomaly_encoded.columns"
   ],
   "outputs": [
    {
     "data": {
      "text/plain": [
       "Index(['Orden', 'Usuario', 'Ejecucion', 'Codigo', 'Descripcion', 'Motivo',\n",
       "       'kWh Rec', 'Factor', 'id', 'Nombre', 'Factor.1', 'AREA',\n",
       "       'PLAN_COMERCIAL', 'TRAFO_OPEN', 'FASES', 'KVA', 'LATI_USU', 'LONG_USU',\n",
       "       'puntaje', 'evaluacion', 'Zona'],\n",
       "      dtype='object')"
      ]
     },
     "execution_count": 9,
     "metadata": {},
     "output_type": "execute_result"
    }
   ],
   "execution_count": 9
  },
  {
   "metadata": {
    "ExecuteTime": {
     "end_time": "2025-05-09T23:24:21.751396Z",
     "start_time": "2025-05-09T23:24:21.749281Z"
    }
   },
   "cell_type": "code",
   "source": [
    "columnas_deseadas = [\n",
    "    \"Usuario\", \"AREA\", \"PLAN_COMERCIAL\", \"LATI_USU\", \"LONG_USU\"\n",
    "]"
   ],
   "outputs": [],
   "execution_count": 85
  },
  {
   "metadata": {
    "ExecuteTime": {
     "end_time": "2025-05-14T00:59:19.870279Z",
     "start_time": "2025-05-14T00:59:19.858166Z"
    }
   },
   "cell_type": "code",
   "source": [
    "import logging\n",
    "from typing import Dict, Optional\n",
    "import pandas as pd\n",
    "import joblib\n",
    "from pathlib import Path\n",
    "from sklearn.base import BaseEstimator, ClusterMixin\n",
    "from sklearn.pipeline import Pipeline\n",
    "from sklearn.impute import SimpleImputer\n",
    "from sklearn.preprocessing import StandardScaler, OrdinalEncoder\n",
    "from sklearn.compose import ColumnTransformer\n",
    "from sklearn.metrics import silhouette_score\n",
    "from fcmeans import FCM\n",
    "from skfda.ml.clustering import FuzzyCMeans\n",
    "\n",
    "# Importar utilidades para gestión de rutas\n",
    "from cedenar_anomalies.utils.paths import models_dir\n",
    "\n",
    "class SklearnFCMWrapper(BaseEstimator, ClusterMixin):\n",
    "    def __init__(self, n_clusters=3, m=2.0, random_state=42, distance = 'euclidean', logger: Optional[logging.Logger] = None):\n",
    "        self.n_clusters = n_clusters\n",
    "        self.m = m\n",
    "        self.random_state = random_state\n",
    "        self.distance = distance\n",
    "        self.logger = logger or logging.getLogger(self.__class__.__name__)\n",
    "\n",
    "    def fit(self, X, y=None):\n",
    "        self.logger.info(f\"Entrenando FCM con {self.n_clusters} clusters y m={self.m}\")\n",
    "        self.model_ = FCM(n_clusters=self.n_clusters,\n",
    "                          m=self.m,\n",
    "                          random_state = self.random_state,\n",
    "                          distance = self.distance)\n",
    "        self.model_.fit(X)\n",
    "        self.labels_ = self.model_.predict(X)\n",
    "        self.centers_ = self.model_.centers\n",
    "        self.u_ = self.model_.u\n",
    "        self.pc_ = self.model_.partition_coefficient\n",
    "        self.pec_ = self.model_.partition_entropy_coefficient\n",
    "        self.logger.info(\"Entrenamiento FCM completo.\")\n",
    "        return self\n",
    "\n",
    "    def predict(self, X):\n",
    "        self.logger.info(\"Realizando predicción con FCM.\")\n",
    "        return self.model_.predict(X)\n",
    "\n",
    "    def soft_predict(self, X):\n",
    "        self.logger.info(\"Realizando soft predicción con FCM.\")\n",
    "        return self.model_.soft_predict(X)\n",
    "\n",
    "\n",
    "class PipelineClusterFzz:\n",
    "    def __init__(self, n_clusters=3, m=2, distance= 'euclidean', model_dir=models_dir(), scores_path=\"silhouette_scores.csv\",  logger: Optional[logging.Logger] = None):\n",
    "        self.n_clusters = n_clusters\n",
    "        self.model_dir = model_dir\n",
    "        self.distance = distance\n",
    "        self.m = m\n",
    "        self.scores_path = models_dir(f'{distance}_{scores_path}')\n",
    "        self.model_dir.mkdir(parents=True, exist_ok=True)\n",
    "        self.scores = []\n",
    "        self.numerical_cols = [\"Usuario\", \"LATI_USU\", \"LONG_USU\"]\n",
    "        self.categorical_cols = [\"AREA\", \"PLAN_COMERCIAL\"]\n",
    "        self.logger = logging.getLogger(self.__class__.__name__)\n",
    "        self.logger.info(\"Inicializando PipelineClusterFzz\")\n",
    "\n",
    "    def build_pipeline(self):\n",
    "        self.logger.info(\"Construyendo pipeline de preprocesamiento y clustering.\")\n",
    "\n",
    "        # self.numerical_cols = [\"kWh Rec\", \"FASES\", \"KVA\", \"LATI_USU\", \"LONG_USU\", \"puntaje\", \"evaluacion\"]\n",
    "        # self.categorical_cols = [\"AREA\", \"PLAN_COMERCIAL\", \"TRAFO_OPEN\"]\n",
    "\n",
    "\n",
    "        numeric_pipeline = Pipeline([\n",
    "            (\"imputer\", SimpleImputer(strategy=\"mean\")),\n",
    "            (\"scaler\", StandardScaler())\n",
    "        ])\n",
    "\n",
    "        categorical_pipeline = Pipeline([\n",
    "            (\"imputer\", SimpleImputer(strategy=\"most_frequent\")),\n",
    "            (\"labelenc\", OrdinalEncoder(handle_unknown=\"use_encoded_value\", unknown_value=-1))\n",
    "        ])\n",
    "\n",
    "        preprocessor = ColumnTransformer([\n",
    "            (\"num\", numeric_pipeline, self.numerical_cols),\n",
    "            (\"cat\", categorical_pipeline, self.categorical_cols)\n",
    "        ])\n",
    "\n",
    "        pipeline = Pipeline([\n",
    "            (\"preprocess\", preprocessor),\n",
    "            (\"cluster\", SklearnFCMWrapper(n_clusters=self.n_clusters,\n",
    "                                          m=self.m,\n",
    "                                          random_state=42,\n",
    "                                          distance= self.distance,\n",
    "                                          logger=self.logger))\n",
    "            # (\"cluster\", FuzzyCMeans(n_clusters=self.n_clusters, random_state=42))  #m=2.0\n",
    "        ])\n",
    "\n",
    "        return pipeline\n",
    "\n",
    "    def fit(self, df: pd.DataFrame, zona: str) -> Pipeline:\n",
    "        self.logger.info(f\"Iniciando entrenamiento para zona: {zona}\")\n",
    "        df_zone = df[df[\"Zona\"] == zona].copy()\n",
    "        pipeline = self.build_pipeline()\n",
    "        pipeline.fit(df_zone)\n",
    "        self.logger.info(f\"Entrenamiento completado para zona: {zona}\")\n",
    "        return pipeline\n",
    "\n",
    "    def predict(self, pipeline: Pipeline, df: pd.DataFrame) -> pd.DataFrame:\n",
    "        self.logger.info(\"Iniciando predicción con pipeline entrenado.\")\n",
    "        df = df.copy()\n",
    "\n",
    "        # Transformar los datos con el preprocesador\n",
    "        X_transformed = pipeline.named_steps[\"preprocess\"].transform(\n",
    "            df[self.categorical_cols + self.numerical_cols]\n",
    "        )\n",
    "\n",
    "        # Obtener cluster duro\n",
    "        labels = pipeline.named_steps[\"cluster\"].predict(X_transformed)\n",
    "        df[\"cluster_id\"] = labels\n",
    "\n",
    "        # Obtener cluster suave\n",
    "        matrix_pertenencia = pipeline.named_steps[\"cluster\"].soft_predict(X_transformed)\n",
    "        cluster_columns = [f\"cluster_{i}\" for i in range(matrix_pertenencia.shape[1])]\n",
    "        matrix_pertenencia_df = pd.DataFrame(matrix_pertenencia, columns=cluster_columns)\n",
    "\n",
    "        # Unir con el dataframe original\n",
    "        df = pd.concat([df.reset_index(drop=True), matrix_pertenencia_df.reset_index(drop=True)], axis=1)\n",
    "        return df\n",
    "\n",
    "\n",
    "    def train_by_zone(self, df: pd.DataFrame) -> dict:\n",
    "        pipelines = {}\n",
    "        silhouette_scores = []\n",
    "\n",
    "        self.logger.info(\"Entrenando pipelines por zona.\")\n",
    "        for zona in df[\"Zona\"].unique():\n",
    "            self.logger.info(f\"Procesando zona: {zona}\")\n",
    "            df_zone = df[df[\"Zona\"] == zona].copy()\n",
    "            pipeline = self.fit(df, zona)\n",
    "            df_with_clusters = self.predict(pipeline, df_zone)\n",
    "\n",
    "            X_transformed = pipeline.named_steps[\"preprocess\"].transform(\n",
    "                df_zone[self.categorical_cols + self.numerical_cols]\n",
    "            )\n",
    "            score = silhouette_score(X_transformed, df_with_clusters[\"cluster_id\"])\n",
    "            self.logger.info(f\"Índice de silueta para zona {zona}: {score:.4f}\")\n",
    "\n",
    "            pc = pipeline.named_steps[\"cluster\"].pc_\n",
    "            pec = pipeline.named_steps[\"cluster\"].pec_\n",
    "\n",
    "            joblib.dump(pipeline, self.model_dir / f\"pipeline_{zona}.pkl\")\n",
    "            self.logger.info(f\"Pipeline guardado para zona {zona}\")\n",
    "\n",
    "            silhouette_scores.append({\"zona\": zona, \"silhouette_score\": score, \"PC\":pc , \"PEC\": pec})\n",
    "            pipelines[zona] = pipeline\n",
    "\n",
    "        pd.DataFrame(silhouette_scores).to_csv(self.scores_path, index=False)\n",
    "        self.logger.info(f\"Scores de silueta guardados en: {self.scores_path}\")\n",
    "        return pipelines\n",
    "\n",
    "    def predict_all_zones(self, df: pd.DataFrame, pipelines: dict) -> pd.DataFrame:\n",
    "        self.logger.info(\"Iniciando predicción en todas las zonas.\")\n",
    "        df_all = []\n",
    "        for zona, pipeline in pipelines.items():\n",
    "            self.logger.info(f\"Prediciendo zona: {zona}\")\n",
    "            df_zone = df[df[\"Zona\"] == zona].copy()\n",
    "            df_clustered = self.predict(pipeline, df_zone)\n",
    "            df_all.append(df_clustered)\n",
    "        return pd.concat(df_all, ignore_index=True)\n",
    "\n",
    "    def load_pipelines(self) -> dict:\n",
    "        self.logger.info(\"Cargando pipelines guardados desde disco.\")\n",
    "        pipelines = {}\n",
    "        for model_file in self.model_dir.glob(\"pipeline_*.pkl\"):\n",
    "            zona = model_file.stem.replace(\"pipeline_\", \"\")\n",
    "            pipelines[zona] = joblib.load(model_file)\n",
    "            self.logger.info(f\"Pipeline cargado para zona: {zona}\")\n",
    "        return pipelines\n"
   ],
   "outputs": [],
   "execution_count": 32
  },
  {
   "metadata": {
    "ExecuteTime": {
     "end_time": "2025-05-14T00:19:08.656893Z",
     "start_time": "2025-05-14T00:19:08.655336Z"
    }
   },
   "cell_type": "code",
   "source": [
    "# Configurar logging\n",
    "logging.basicConfig(\n",
    "    level=logging.INFO, format=\"%(asctime)s - %(levelname)s - %(message)s\"\n",
    ")\n",
    "logger = logging.getLogger(__name__)"
   ],
   "outputs": [],
   "execution_count": 12
  },
  {
   "metadata": {
    "ExecuteTime": {
     "end_time": "2025-05-14T00:21:19.872823Z",
     "start_time": "2025-05-14T00:19:08.983416Z"
    }
   },
   "cell_type": "code",
   "source": [
    "pipe = PipelineClusterFzz(m = 1.5, logger=logger)\n",
    "list_pipe = pipe.train_by_zone(df=df_anomaly_encoded)"
   ],
   "outputs": [
    {
     "name": "stderr",
     "output_type": "stream",
     "text": [
      "2025-05-13 19:19:08,985 - INFO - Inicializando PipelineClusterFzz\n",
      "2025-05-13 19:19:08,985 - INFO - Entrenando pipelines por zona.\n",
      "2025-05-13 19:19:08,991 - INFO - Procesando zona: CE\n",
      "2025-05-13 19:19:09,006 - INFO - Iniciando entrenamiento para zona: CE\n",
      "2025-05-13 19:19:09,019 - INFO - Construyendo pipeline de preprocesamiento y clustering.\n",
      "2025-05-13 19:19:09,034 - INFO - Entrenando FCM con 3 clusters y m=1.5\n",
      "2025-05-13 19:19:09,309 - INFO - Entrenamiento FCM completo.\n",
      "2025-05-13 19:19:09,310 - INFO - Entrenamiento completado para zona: CE\n",
      "2025-05-13 19:19:09,313 - INFO - Iniciando predicción con pipeline entrenado.\n",
      "2025-05-13 19:19:09,330 - INFO - Realizando predicción con FCM.\n",
      "2025-05-13 19:19:09,338 - INFO - Realizando predicción con FCM.\n",
      "2025-05-13 19:19:15,244 - INFO - Índice de silueta para zona CE: 0.7566\n",
      "2025-05-13 19:19:15,246 - INFO - Pipeline guardado para zona CE\n",
      "2025-05-13 19:19:15,246 - INFO - Procesando zona: OC\n",
      "2025-05-13 19:19:15,257 - INFO - Iniciando entrenamiento para zona: OC\n",
      "2025-05-13 19:19:15,266 - INFO - Construyendo pipeline de preprocesamiento y clustering.\n",
      "2025-05-13 19:19:15,275 - INFO - Entrenando FCM con 3 clusters y m=1.5\n",
      "2025-05-13 19:19:15,411 - INFO - Entrenamiento FCM completo.\n",
      "2025-05-13 19:19:15,411 - INFO - Entrenamiento completado para zona: OC\n",
      "2025-05-13 19:19:15,412 - INFO - Iniciando predicción con pipeline entrenado.\n",
      "2025-05-13 19:19:15,419 - INFO - Realizando predicción con FCM.\n",
      "2025-05-13 19:19:15,422 - INFO - Realizando predicción con FCM.\n",
      "2025-05-13 19:19:17,667 - INFO - Índice de silueta para zona OC: 0.2845\n",
      "2025-05-13 19:19:17,669 - INFO - Pipeline guardado para zona OC\n",
      "2025-05-13 19:19:17,669 - INFO - Procesando zona: SU\n",
      "2025-05-13 19:19:17,679 - INFO - Iniciando entrenamiento para zona: SU\n",
      "2025-05-13 19:19:17,688 - INFO - Construyendo pipeline de preprocesamiento y clustering.\n",
      "2025-05-13 19:19:17,696 - INFO - Entrenando FCM con 3 clusters y m=1.5\n",
      "2025-05-13 19:19:17,831 - INFO - Entrenamiento FCM completo.\n",
      "2025-05-13 19:19:17,831 - INFO - Entrenamiento completado para zona: SU\n",
      "2025-05-13 19:19:17,832 - INFO - Iniciando predicción con pipeline entrenado.\n",
      "2025-05-13 19:19:17,839 - INFO - Realizando predicción con FCM.\n",
      "2025-05-13 19:19:17,841 - INFO - Realizando predicción con FCM.\n",
      "2025-05-13 19:19:19,992 - INFO - Índice de silueta para zona SU: 0.3061\n",
      "2025-05-13 19:19:19,994 - INFO - Pipeline guardado para zona SU\n",
      "2025-05-13 19:19:19,994 - INFO - Procesando zona: NO\n",
      "2025-05-13 19:19:20,010 - INFO - Iniciando entrenamiento para zona: NO\n",
      "2025-05-13 19:19:20,024 - INFO - Construyendo pipeline de preprocesamiento y clustering.\n",
      "2025-05-13 19:19:20,048 - INFO - Entrenando FCM con 3 clusters y m=1.5\n",
      "2025-05-13 19:19:20,306 - INFO - Entrenamiento FCM completo.\n",
      "2025-05-13 19:19:20,307 - INFO - Entrenamiento completado para zona: NO\n",
      "2025-05-13 19:19:20,309 - INFO - Iniciando predicción con pipeline entrenado.\n",
      "2025-05-13 19:19:20,327 - INFO - Realizando predicción con FCM.\n",
      "2025-05-13 19:19:20,335 - INFO - Realizando predicción con FCM.\n",
      "2025-05-13 19:19:59,026 - INFO - Índice de silueta para zona NO: 0.4544\n",
      "2025-05-13 19:19:59,035 - INFO - Pipeline guardado para zona NO\n",
      "2025-05-13 19:19:59,042 - INFO - Procesando zona: PA\n",
      "2025-05-13 19:19:59,080 - INFO - Iniciando entrenamiento para zona: PA\n",
      "2025-05-13 19:19:59,109 - INFO - Construyendo pipeline de preprocesamiento y clustering.\n",
      "2025-05-13 19:19:59,178 - INFO - Entrenando FCM con 3 clusters y m=1.5\n",
      "2025-05-13 19:20:00,395 - INFO - Entrenamiento FCM completo.\n",
      "2025-05-13 19:20:00,396 - INFO - Entrenamiento completado para zona: PA\n",
      "2025-05-13 19:20:00,399 - INFO - Iniciando predicción con pipeline entrenado.\n",
      "2025-05-13 19:20:00,425 - INFO - Realizando predicción con FCM.\n",
      "2025-05-13 19:20:00,437 - INFO - Realizando predicción con FCM.\n",
      "2025-05-13 19:21:19,858 - INFO - Índice de silueta para zona PA: 0.5672\n",
      "2025-05-13 19:21:19,861 - INFO - Pipeline guardado para zona PA\n",
      "2025-05-13 19:21:19,866 - INFO - Scores de silueta guardados en: /Users/frandak2/Documents/repos/cedenar_anomalies/models/euclidean_silhouette_scores.csv\n"
     ]
    }
   ],
   "execution_count": 13
  },
  {
   "metadata": {
    "ExecuteTime": {
     "end_time": "2025-05-14T00:21:19.922711Z",
     "start_time": "2025-05-14T00:21:19.908533Z"
    }
   },
   "cell_type": "code",
   "source": [
    "pipeline_pa = list_pipe[\"PA\"]\n",
    "pipeline_pa"
   ],
   "outputs": [
    {
     "data": {
      "text/plain": [
       "Pipeline(steps=[('preprocess',\n",
       "                 ColumnTransformer(transformers=[('num',\n",
       "                                                  Pipeline(steps=[('imputer',\n",
       "                                                                   SimpleImputer()),\n",
       "                                                                  ('scaler',\n",
       "                                                                   StandardScaler())]),\n",
       "                                                  ['Usuario', 'LATI_USU',\n",
       "                                                   'LONG_USU']),\n",
       "                                                 ('cat',\n",
       "                                                  Pipeline(steps=[('imputer',\n",
       "                                                                   SimpleImputer(strategy='most_frequent')),\n",
       "                                                                  ('labelenc',\n",
       "                                                                   OrdinalEncoder(handle_unknown='use_encoded_value',\n",
       "                                                                                  unknown_value=-1))]),\n",
       "                                                  ['AREA',\n",
       "                                                   'PLAN_COMERCIAL'])])),\n",
       "                ('cluster',\n",
       "                 SklearnFCMWrapper(logger=<Logger PipelineClusterFzz (INFO)>,\n",
       "                                   m=1.5))])"
      ],
      "text/html": [
       "<style>#sk-container-id-1 {\n",
       "  /* Definition of color scheme common for light and dark mode */\n",
       "  --sklearn-color-text: #000;\n",
       "  --sklearn-color-text-muted: #666;\n",
       "  --sklearn-color-line: gray;\n",
       "  /* Definition of color scheme for unfitted estimators */\n",
       "  --sklearn-color-unfitted-level-0: #fff5e6;\n",
       "  --sklearn-color-unfitted-level-1: #f6e4d2;\n",
       "  --sklearn-color-unfitted-level-2: #ffe0b3;\n",
       "  --sklearn-color-unfitted-level-3: chocolate;\n",
       "  /* Definition of color scheme for fitted estimators */\n",
       "  --sklearn-color-fitted-level-0: #f0f8ff;\n",
       "  --sklearn-color-fitted-level-1: #d4ebff;\n",
       "  --sklearn-color-fitted-level-2: #b3dbfd;\n",
       "  --sklearn-color-fitted-level-3: cornflowerblue;\n",
       "\n",
       "  /* Specific color for light theme */\n",
       "  --sklearn-color-text-on-default-background: var(--sg-text-color, var(--theme-code-foreground, var(--jp-content-font-color1, black)));\n",
       "  --sklearn-color-background: var(--sg-background-color, var(--theme-background, var(--jp-layout-color0, white)));\n",
       "  --sklearn-color-border-box: var(--sg-text-color, var(--theme-code-foreground, var(--jp-content-font-color1, black)));\n",
       "  --sklearn-color-icon: #696969;\n",
       "\n",
       "  @media (prefers-color-scheme: dark) {\n",
       "    /* Redefinition of color scheme for dark theme */\n",
       "    --sklearn-color-text-on-default-background: var(--sg-text-color, var(--theme-code-foreground, var(--jp-content-font-color1, white)));\n",
       "    --sklearn-color-background: var(--sg-background-color, var(--theme-background, var(--jp-layout-color0, #111)));\n",
       "    --sklearn-color-border-box: var(--sg-text-color, var(--theme-code-foreground, var(--jp-content-font-color1, white)));\n",
       "    --sklearn-color-icon: #878787;\n",
       "  }\n",
       "}\n",
       "\n",
       "#sk-container-id-1 {\n",
       "  color: var(--sklearn-color-text);\n",
       "}\n",
       "\n",
       "#sk-container-id-1 pre {\n",
       "  padding: 0;\n",
       "}\n",
       "\n",
       "#sk-container-id-1 input.sk-hidden--visually {\n",
       "  border: 0;\n",
       "  clip: rect(1px 1px 1px 1px);\n",
       "  clip: rect(1px, 1px, 1px, 1px);\n",
       "  height: 1px;\n",
       "  margin: -1px;\n",
       "  overflow: hidden;\n",
       "  padding: 0;\n",
       "  position: absolute;\n",
       "  width: 1px;\n",
       "}\n",
       "\n",
       "#sk-container-id-1 div.sk-dashed-wrapped {\n",
       "  border: 1px dashed var(--sklearn-color-line);\n",
       "  margin: 0 0.4em 0.5em 0.4em;\n",
       "  box-sizing: border-box;\n",
       "  padding-bottom: 0.4em;\n",
       "  background-color: var(--sklearn-color-background);\n",
       "}\n",
       "\n",
       "#sk-container-id-1 div.sk-container {\n",
       "  /* jupyter's `normalize.less` sets `[hidden] { display: none; }`\n",
       "     but bootstrap.min.css set `[hidden] { display: none !important; }`\n",
       "     so we also need the `!important` here to be able to override the\n",
       "     default hidden behavior on the sphinx rendered scikit-learn.org.\n",
       "     See: https://github.com/scikit-learn/scikit-learn/issues/21755 */\n",
       "  display: inline-block !important;\n",
       "  position: relative;\n",
       "}\n",
       "\n",
       "#sk-container-id-1 div.sk-text-repr-fallback {\n",
       "  display: none;\n",
       "}\n",
       "\n",
       "div.sk-parallel-item,\n",
       "div.sk-serial,\n",
       "div.sk-item {\n",
       "  /* draw centered vertical line to link estimators */\n",
       "  background-image: linear-gradient(var(--sklearn-color-text-on-default-background), var(--sklearn-color-text-on-default-background));\n",
       "  background-size: 2px 100%;\n",
       "  background-repeat: no-repeat;\n",
       "  background-position: center center;\n",
       "}\n",
       "\n",
       "/* Parallel-specific style estimator block */\n",
       "\n",
       "#sk-container-id-1 div.sk-parallel-item::after {\n",
       "  content: \"\";\n",
       "  width: 100%;\n",
       "  border-bottom: 2px solid var(--sklearn-color-text-on-default-background);\n",
       "  flex-grow: 1;\n",
       "}\n",
       "\n",
       "#sk-container-id-1 div.sk-parallel {\n",
       "  display: flex;\n",
       "  align-items: stretch;\n",
       "  justify-content: center;\n",
       "  background-color: var(--sklearn-color-background);\n",
       "  position: relative;\n",
       "}\n",
       "\n",
       "#sk-container-id-1 div.sk-parallel-item {\n",
       "  display: flex;\n",
       "  flex-direction: column;\n",
       "}\n",
       "\n",
       "#sk-container-id-1 div.sk-parallel-item:first-child::after {\n",
       "  align-self: flex-end;\n",
       "  width: 50%;\n",
       "}\n",
       "\n",
       "#sk-container-id-1 div.sk-parallel-item:last-child::after {\n",
       "  align-self: flex-start;\n",
       "  width: 50%;\n",
       "}\n",
       "\n",
       "#sk-container-id-1 div.sk-parallel-item:only-child::after {\n",
       "  width: 0;\n",
       "}\n",
       "\n",
       "/* Serial-specific style estimator block */\n",
       "\n",
       "#sk-container-id-1 div.sk-serial {\n",
       "  display: flex;\n",
       "  flex-direction: column;\n",
       "  align-items: center;\n",
       "  background-color: var(--sklearn-color-background);\n",
       "  padding-right: 1em;\n",
       "  padding-left: 1em;\n",
       "}\n",
       "\n",
       "\n",
       "/* Toggleable style: style used for estimator/Pipeline/ColumnTransformer box that is\n",
       "clickable and can be expanded/collapsed.\n",
       "- Pipeline and ColumnTransformer use this feature and define the default style\n",
       "- Estimators will overwrite some part of the style using the `sk-estimator` class\n",
       "*/\n",
       "\n",
       "/* Pipeline and ColumnTransformer style (default) */\n",
       "\n",
       "#sk-container-id-1 div.sk-toggleable {\n",
       "  /* Default theme specific background. It is overwritten whether we have a\n",
       "  specific estimator or a Pipeline/ColumnTransformer */\n",
       "  background-color: var(--sklearn-color-background);\n",
       "}\n",
       "\n",
       "/* Toggleable label */\n",
       "#sk-container-id-1 label.sk-toggleable__label {\n",
       "  cursor: pointer;\n",
       "  display: flex;\n",
       "  width: 100%;\n",
       "  margin-bottom: 0;\n",
       "  padding: 0.5em;\n",
       "  box-sizing: border-box;\n",
       "  text-align: center;\n",
       "  align-items: start;\n",
       "  justify-content: space-between;\n",
       "  gap: 0.5em;\n",
       "}\n",
       "\n",
       "#sk-container-id-1 label.sk-toggleable__label .caption {\n",
       "  font-size: 0.6rem;\n",
       "  font-weight: lighter;\n",
       "  color: var(--sklearn-color-text-muted);\n",
       "}\n",
       "\n",
       "#sk-container-id-1 label.sk-toggleable__label-arrow:before {\n",
       "  /* Arrow on the left of the label */\n",
       "  content: \"▸\";\n",
       "  float: left;\n",
       "  margin-right: 0.25em;\n",
       "  color: var(--sklearn-color-icon);\n",
       "}\n",
       "\n",
       "#sk-container-id-1 label.sk-toggleable__label-arrow:hover:before {\n",
       "  color: var(--sklearn-color-text);\n",
       "}\n",
       "\n",
       "/* Toggleable content - dropdown */\n",
       "\n",
       "#sk-container-id-1 div.sk-toggleable__content {\n",
       "  max-height: 0;\n",
       "  max-width: 0;\n",
       "  overflow: hidden;\n",
       "  text-align: left;\n",
       "  /* unfitted */\n",
       "  background-color: var(--sklearn-color-unfitted-level-0);\n",
       "}\n",
       "\n",
       "#sk-container-id-1 div.sk-toggleable__content.fitted {\n",
       "  /* fitted */\n",
       "  background-color: var(--sklearn-color-fitted-level-0);\n",
       "}\n",
       "\n",
       "#sk-container-id-1 div.sk-toggleable__content pre {\n",
       "  margin: 0.2em;\n",
       "  border-radius: 0.25em;\n",
       "  color: var(--sklearn-color-text);\n",
       "  /* unfitted */\n",
       "  background-color: var(--sklearn-color-unfitted-level-0);\n",
       "}\n",
       "\n",
       "#sk-container-id-1 div.sk-toggleable__content.fitted pre {\n",
       "  /* unfitted */\n",
       "  background-color: var(--sklearn-color-fitted-level-0);\n",
       "}\n",
       "\n",
       "#sk-container-id-1 input.sk-toggleable__control:checked~div.sk-toggleable__content {\n",
       "  /* Expand drop-down */\n",
       "  max-height: 200px;\n",
       "  max-width: 100%;\n",
       "  overflow: auto;\n",
       "}\n",
       "\n",
       "#sk-container-id-1 input.sk-toggleable__control:checked~label.sk-toggleable__label-arrow:before {\n",
       "  content: \"▾\";\n",
       "}\n",
       "\n",
       "/* Pipeline/ColumnTransformer-specific style */\n",
       "\n",
       "#sk-container-id-1 div.sk-label input.sk-toggleable__control:checked~label.sk-toggleable__label {\n",
       "  color: var(--sklearn-color-text);\n",
       "  background-color: var(--sklearn-color-unfitted-level-2);\n",
       "}\n",
       "\n",
       "#sk-container-id-1 div.sk-label.fitted input.sk-toggleable__control:checked~label.sk-toggleable__label {\n",
       "  background-color: var(--sklearn-color-fitted-level-2);\n",
       "}\n",
       "\n",
       "/* Estimator-specific style */\n",
       "\n",
       "/* Colorize estimator box */\n",
       "#sk-container-id-1 div.sk-estimator input.sk-toggleable__control:checked~label.sk-toggleable__label {\n",
       "  /* unfitted */\n",
       "  background-color: var(--sklearn-color-unfitted-level-2);\n",
       "}\n",
       "\n",
       "#sk-container-id-1 div.sk-estimator.fitted input.sk-toggleable__control:checked~label.sk-toggleable__label {\n",
       "  /* fitted */\n",
       "  background-color: var(--sklearn-color-fitted-level-2);\n",
       "}\n",
       "\n",
       "#sk-container-id-1 div.sk-label label.sk-toggleable__label,\n",
       "#sk-container-id-1 div.sk-label label {\n",
       "  /* The background is the default theme color */\n",
       "  color: var(--sklearn-color-text-on-default-background);\n",
       "}\n",
       "\n",
       "/* On hover, darken the color of the background */\n",
       "#sk-container-id-1 div.sk-label:hover label.sk-toggleable__label {\n",
       "  color: var(--sklearn-color-text);\n",
       "  background-color: var(--sklearn-color-unfitted-level-2);\n",
       "}\n",
       "\n",
       "/* Label box, darken color on hover, fitted */\n",
       "#sk-container-id-1 div.sk-label.fitted:hover label.sk-toggleable__label.fitted {\n",
       "  color: var(--sklearn-color-text);\n",
       "  background-color: var(--sklearn-color-fitted-level-2);\n",
       "}\n",
       "\n",
       "/* Estimator label */\n",
       "\n",
       "#sk-container-id-1 div.sk-label label {\n",
       "  font-family: monospace;\n",
       "  font-weight: bold;\n",
       "  display: inline-block;\n",
       "  line-height: 1.2em;\n",
       "}\n",
       "\n",
       "#sk-container-id-1 div.sk-label-container {\n",
       "  text-align: center;\n",
       "}\n",
       "\n",
       "/* Estimator-specific */\n",
       "#sk-container-id-1 div.sk-estimator {\n",
       "  font-family: monospace;\n",
       "  border: 1px dotted var(--sklearn-color-border-box);\n",
       "  border-radius: 0.25em;\n",
       "  box-sizing: border-box;\n",
       "  margin-bottom: 0.5em;\n",
       "  /* unfitted */\n",
       "  background-color: var(--sklearn-color-unfitted-level-0);\n",
       "}\n",
       "\n",
       "#sk-container-id-1 div.sk-estimator.fitted {\n",
       "  /* fitted */\n",
       "  background-color: var(--sklearn-color-fitted-level-0);\n",
       "}\n",
       "\n",
       "/* on hover */\n",
       "#sk-container-id-1 div.sk-estimator:hover {\n",
       "  /* unfitted */\n",
       "  background-color: var(--sklearn-color-unfitted-level-2);\n",
       "}\n",
       "\n",
       "#sk-container-id-1 div.sk-estimator.fitted:hover {\n",
       "  /* fitted */\n",
       "  background-color: var(--sklearn-color-fitted-level-2);\n",
       "}\n",
       "\n",
       "/* Specification for estimator info (e.g. \"i\" and \"?\") */\n",
       "\n",
       "/* Common style for \"i\" and \"?\" */\n",
       "\n",
       ".sk-estimator-doc-link,\n",
       "a:link.sk-estimator-doc-link,\n",
       "a:visited.sk-estimator-doc-link {\n",
       "  float: right;\n",
       "  font-size: smaller;\n",
       "  line-height: 1em;\n",
       "  font-family: monospace;\n",
       "  background-color: var(--sklearn-color-background);\n",
       "  border-radius: 1em;\n",
       "  height: 1em;\n",
       "  width: 1em;\n",
       "  text-decoration: none !important;\n",
       "  margin-left: 0.5em;\n",
       "  text-align: center;\n",
       "  /* unfitted */\n",
       "  border: var(--sklearn-color-unfitted-level-1) 1pt solid;\n",
       "  color: var(--sklearn-color-unfitted-level-1);\n",
       "}\n",
       "\n",
       ".sk-estimator-doc-link.fitted,\n",
       "a:link.sk-estimator-doc-link.fitted,\n",
       "a:visited.sk-estimator-doc-link.fitted {\n",
       "  /* fitted */\n",
       "  border: var(--sklearn-color-fitted-level-1) 1pt solid;\n",
       "  color: var(--sklearn-color-fitted-level-1);\n",
       "}\n",
       "\n",
       "/* On hover */\n",
       "div.sk-estimator:hover .sk-estimator-doc-link:hover,\n",
       ".sk-estimator-doc-link:hover,\n",
       "div.sk-label-container:hover .sk-estimator-doc-link:hover,\n",
       ".sk-estimator-doc-link:hover {\n",
       "  /* unfitted */\n",
       "  background-color: var(--sklearn-color-unfitted-level-3);\n",
       "  color: var(--sklearn-color-background);\n",
       "  text-decoration: none;\n",
       "}\n",
       "\n",
       "div.sk-estimator.fitted:hover .sk-estimator-doc-link.fitted:hover,\n",
       ".sk-estimator-doc-link.fitted:hover,\n",
       "div.sk-label-container:hover .sk-estimator-doc-link.fitted:hover,\n",
       ".sk-estimator-doc-link.fitted:hover {\n",
       "  /* fitted */\n",
       "  background-color: var(--sklearn-color-fitted-level-3);\n",
       "  color: var(--sklearn-color-background);\n",
       "  text-decoration: none;\n",
       "}\n",
       "\n",
       "/* Span, style for the box shown on hovering the info icon */\n",
       ".sk-estimator-doc-link span {\n",
       "  display: none;\n",
       "  z-index: 9999;\n",
       "  position: relative;\n",
       "  font-weight: normal;\n",
       "  right: .2ex;\n",
       "  padding: .5ex;\n",
       "  margin: .5ex;\n",
       "  width: min-content;\n",
       "  min-width: 20ex;\n",
       "  max-width: 50ex;\n",
       "  color: var(--sklearn-color-text);\n",
       "  box-shadow: 2pt 2pt 4pt #999;\n",
       "  /* unfitted */\n",
       "  background: var(--sklearn-color-unfitted-level-0);\n",
       "  border: .5pt solid var(--sklearn-color-unfitted-level-3);\n",
       "}\n",
       "\n",
       ".sk-estimator-doc-link.fitted span {\n",
       "  /* fitted */\n",
       "  background: var(--sklearn-color-fitted-level-0);\n",
       "  border: var(--sklearn-color-fitted-level-3);\n",
       "}\n",
       "\n",
       ".sk-estimator-doc-link:hover span {\n",
       "  display: block;\n",
       "}\n",
       "\n",
       "/* \"?\"-specific style due to the `<a>` HTML tag */\n",
       "\n",
       "#sk-container-id-1 a.estimator_doc_link {\n",
       "  float: right;\n",
       "  font-size: 1rem;\n",
       "  line-height: 1em;\n",
       "  font-family: monospace;\n",
       "  background-color: var(--sklearn-color-background);\n",
       "  border-radius: 1rem;\n",
       "  height: 1rem;\n",
       "  width: 1rem;\n",
       "  text-decoration: none;\n",
       "  /* unfitted */\n",
       "  color: var(--sklearn-color-unfitted-level-1);\n",
       "  border: var(--sklearn-color-unfitted-level-1) 1pt solid;\n",
       "}\n",
       "\n",
       "#sk-container-id-1 a.estimator_doc_link.fitted {\n",
       "  /* fitted */\n",
       "  border: var(--sklearn-color-fitted-level-1) 1pt solid;\n",
       "  color: var(--sklearn-color-fitted-level-1);\n",
       "}\n",
       "\n",
       "/* On hover */\n",
       "#sk-container-id-1 a.estimator_doc_link:hover {\n",
       "  /* unfitted */\n",
       "  background-color: var(--sklearn-color-unfitted-level-3);\n",
       "  color: var(--sklearn-color-background);\n",
       "  text-decoration: none;\n",
       "}\n",
       "\n",
       "#sk-container-id-1 a.estimator_doc_link.fitted:hover {\n",
       "  /* fitted */\n",
       "  background-color: var(--sklearn-color-fitted-level-3);\n",
       "}\n",
       "</style><div id=\"sk-container-id-1\" class=\"sk-top-container\"><div class=\"sk-text-repr-fallback\"><pre>Pipeline(steps=[(&#x27;preprocess&#x27;,\n",
       "                 ColumnTransformer(transformers=[(&#x27;num&#x27;,\n",
       "                                                  Pipeline(steps=[(&#x27;imputer&#x27;,\n",
       "                                                                   SimpleImputer()),\n",
       "                                                                  (&#x27;scaler&#x27;,\n",
       "                                                                   StandardScaler())]),\n",
       "                                                  [&#x27;Usuario&#x27;, &#x27;LATI_USU&#x27;,\n",
       "                                                   &#x27;LONG_USU&#x27;]),\n",
       "                                                 (&#x27;cat&#x27;,\n",
       "                                                  Pipeline(steps=[(&#x27;imputer&#x27;,\n",
       "                                                                   SimpleImputer(strategy=&#x27;most_frequent&#x27;)),\n",
       "                                                                  (&#x27;labelenc&#x27;,\n",
       "                                                                   OrdinalEncoder(handle_unknown=&#x27;use_encoded_value&#x27;,\n",
       "                                                                                  unknown_value=-1))]),\n",
       "                                                  [&#x27;AREA&#x27;,\n",
       "                                                   &#x27;PLAN_COMERCIAL&#x27;])])),\n",
       "                (&#x27;cluster&#x27;,\n",
       "                 SklearnFCMWrapper(logger=&lt;Logger PipelineClusterFzz (INFO)&gt;,\n",
       "                                   m=1.5))])</pre><b>In a Jupyter environment, please rerun this cell to show the HTML representation or trust the notebook. <br />On GitHub, the HTML representation is unable to render, please try loading this page with nbviewer.org.</b></div><div class=\"sk-container\" hidden><div class=\"sk-item sk-dashed-wrapped\"><div class=\"sk-label-container\"><div class=\"sk-label fitted sk-toggleable\"><input class=\"sk-toggleable__control sk-hidden--visually\" id=\"sk-estimator-id-1\" type=\"checkbox\" ><label for=\"sk-estimator-id-1\" class=\"sk-toggleable__label fitted sk-toggleable__label-arrow\"><div><div>Pipeline</div></div><div><a class=\"sk-estimator-doc-link fitted\" rel=\"noreferrer\" target=\"_blank\" href=\"https://scikit-learn.org/1.6/modules/generated/sklearn.pipeline.Pipeline.html\">?<span>Documentation for Pipeline</span></a><span class=\"sk-estimator-doc-link fitted\">i<span>Fitted</span></span></div></label><div class=\"sk-toggleable__content fitted\"><pre>Pipeline(steps=[(&#x27;preprocess&#x27;,\n",
       "                 ColumnTransformer(transformers=[(&#x27;num&#x27;,\n",
       "                                                  Pipeline(steps=[(&#x27;imputer&#x27;,\n",
       "                                                                   SimpleImputer()),\n",
       "                                                                  (&#x27;scaler&#x27;,\n",
       "                                                                   StandardScaler())]),\n",
       "                                                  [&#x27;Usuario&#x27;, &#x27;LATI_USU&#x27;,\n",
       "                                                   &#x27;LONG_USU&#x27;]),\n",
       "                                                 (&#x27;cat&#x27;,\n",
       "                                                  Pipeline(steps=[(&#x27;imputer&#x27;,\n",
       "                                                                   SimpleImputer(strategy=&#x27;most_frequent&#x27;)),\n",
       "                                                                  (&#x27;labelenc&#x27;,\n",
       "                                                                   OrdinalEncoder(handle_unknown=&#x27;use_encoded_value&#x27;,\n",
       "                                                                                  unknown_value=-1))]),\n",
       "                                                  [&#x27;AREA&#x27;,\n",
       "                                                   &#x27;PLAN_COMERCIAL&#x27;])])),\n",
       "                (&#x27;cluster&#x27;,\n",
       "                 SklearnFCMWrapper(logger=&lt;Logger PipelineClusterFzz (INFO)&gt;,\n",
       "                                   m=1.5))])</pre></div> </div></div><div class=\"sk-serial\"><div class=\"sk-item sk-dashed-wrapped\"><div class=\"sk-label-container\"><div class=\"sk-label fitted sk-toggleable\"><input class=\"sk-toggleable__control sk-hidden--visually\" id=\"sk-estimator-id-2\" type=\"checkbox\" ><label for=\"sk-estimator-id-2\" class=\"sk-toggleable__label fitted sk-toggleable__label-arrow\"><div><div>preprocess: ColumnTransformer</div></div><div><a class=\"sk-estimator-doc-link fitted\" rel=\"noreferrer\" target=\"_blank\" href=\"https://scikit-learn.org/1.6/modules/generated/sklearn.compose.ColumnTransformer.html\">?<span>Documentation for preprocess: ColumnTransformer</span></a></div></label><div class=\"sk-toggleable__content fitted\"><pre>ColumnTransformer(transformers=[(&#x27;num&#x27;,\n",
       "                                 Pipeline(steps=[(&#x27;imputer&#x27;, SimpleImputer()),\n",
       "                                                 (&#x27;scaler&#x27;, StandardScaler())]),\n",
       "                                 [&#x27;Usuario&#x27;, &#x27;LATI_USU&#x27;, &#x27;LONG_USU&#x27;]),\n",
       "                                (&#x27;cat&#x27;,\n",
       "                                 Pipeline(steps=[(&#x27;imputer&#x27;,\n",
       "                                                  SimpleImputer(strategy=&#x27;most_frequent&#x27;)),\n",
       "                                                 (&#x27;labelenc&#x27;,\n",
       "                                                  OrdinalEncoder(handle_unknown=&#x27;use_encoded_value&#x27;,\n",
       "                                                                 unknown_value=-1))]),\n",
       "                                 [&#x27;AREA&#x27;, &#x27;PLAN_COMERCIAL&#x27;])])</pre></div> </div></div><div class=\"sk-parallel\"><div class=\"sk-parallel-item\"><div class=\"sk-item\"><div class=\"sk-label-container\"><div class=\"sk-label fitted sk-toggleable\"><input class=\"sk-toggleable__control sk-hidden--visually\" id=\"sk-estimator-id-3\" type=\"checkbox\" ><label for=\"sk-estimator-id-3\" class=\"sk-toggleable__label fitted sk-toggleable__label-arrow\"><div><div>num</div></div></label><div class=\"sk-toggleable__content fitted\"><pre>[&#x27;Usuario&#x27;, &#x27;LATI_USU&#x27;, &#x27;LONG_USU&#x27;]</pre></div> </div></div><div class=\"sk-serial\"><div class=\"sk-item\"><div class=\"sk-serial\"><div class=\"sk-item\"><div class=\"sk-estimator fitted sk-toggleable\"><input class=\"sk-toggleable__control sk-hidden--visually\" id=\"sk-estimator-id-4\" type=\"checkbox\" ><label for=\"sk-estimator-id-4\" class=\"sk-toggleable__label fitted sk-toggleable__label-arrow\"><div><div>SimpleImputer</div></div><div><a class=\"sk-estimator-doc-link fitted\" rel=\"noreferrer\" target=\"_blank\" href=\"https://scikit-learn.org/1.6/modules/generated/sklearn.impute.SimpleImputer.html\">?<span>Documentation for SimpleImputer</span></a></div></label><div class=\"sk-toggleable__content fitted\"><pre>SimpleImputer()</pre></div> </div></div><div class=\"sk-item\"><div class=\"sk-estimator fitted sk-toggleable\"><input class=\"sk-toggleable__control sk-hidden--visually\" id=\"sk-estimator-id-5\" type=\"checkbox\" ><label for=\"sk-estimator-id-5\" class=\"sk-toggleable__label fitted sk-toggleable__label-arrow\"><div><div>StandardScaler</div></div><div><a class=\"sk-estimator-doc-link fitted\" rel=\"noreferrer\" target=\"_blank\" href=\"https://scikit-learn.org/1.6/modules/generated/sklearn.preprocessing.StandardScaler.html\">?<span>Documentation for StandardScaler</span></a></div></label><div class=\"sk-toggleable__content fitted\"><pre>StandardScaler()</pre></div> </div></div></div></div></div></div></div><div class=\"sk-parallel-item\"><div class=\"sk-item\"><div class=\"sk-label-container\"><div class=\"sk-label fitted sk-toggleable\"><input class=\"sk-toggleable__control sk-hidden--visually\" id=\"sk-estimator-id-6\" type=\"checkbox\" ><label for=\"sk-estimator-id-6\" class=\"sk-toggleable__label fitted sk-toggleable__label-arrow\"><div><div>cat</div></div></label><div class=\"sk-toggleable__content fitted\"><pre>[&#x27;AREA&#x27;, &#x27;PLAN_COMERCIAL&#x27;]</pre></div> </div></div><div class=\"sk-serial\"><div class=\"sk-item\"><div class=\"sk-serial\"><div class=\"sk-item\"><div class=\"sk-estimator fitted sk-toggleable\"><input class=\"sk-toggleable__control sk-hidden--visually\" id=\"sk-estimator-id-7\" type=\"checkbox\" ><label for=\"sk-estimator-id-7\" class=\"sk-toggleable__label fitted sk-toggleable__label-arrow\"><div><div>SimpleImputer</div></div><div><a class=\"sk-estimator-doc-link fitted\" rel=\"noreferrer\" target=\"_blank\" href=\"https://scikit-learn.org/1.6/modules/generated/sklearn.impute.SimpleImputer.html\">?<span>Documentation for SimpleImputer</span></a></div></label><div class=\"sk-toggleable__content fitted\"><pre>SimpleImputer(strategy=&#x27;most_frequent&#x27;)</pre></div> </div></div><div class=\"sk-item\"><div class=\"sk-estimator fitted sk-toggleable\"><input class=\"sk-toggleable__control sk-hidden--visually\" id=\"sk-estimator-id-8\" type=\"checkbox\" ><label for=\"sk-estimator-id-8\" class=\"sk-toggleable__label fitted sk-toggleable__label-arrow\"><div><div>OrdinalEncoder</div></div><div><a class=\"sk-estimator-doc-link fitted\" rel=\"noreferrer\" target=\"_blank\" href=\"https://scikit-learn.org/1.6/modules/generated/sklearn.preprocessing.OrdinalEncoder.html\">?<span>Documentation for OrdinalEncoder</span></a></div></label><div class=\"sk-toggleable__content fitted\"><pre>OrdinalEncoder(handle_unknown=&#x27;use_encoded_value&#x27;, unknown_value=-1)</pre></div> </div></div></div></div></div></div></div></div></div><div class=\"sk-item\"><div class=\"sk-estimator fitted sk-toggleable\"><input class=\"sk-toggleable__control sk-hidden--visually\" id=\"sk-estimator-id-9\" type=\"checkbox\" ><label for=\"sk-estimator-id-9\" class=\"sk-toggleable__label fitted sk-toggleable__label-arrow\"><div><div>SklearnFCMWrapper</div></div></label><div class=\"sk-toggleable__content fitted\"><pre>SklearnFCMWrapper(logger=&lt;Logger PipelineClusterFzz (INFO)&gt;, m=1.5)</pre></div> </div></div></div></div></div></div>"
      ]
     },
     "execution_count": 14,
     "metadata": {},
     "output_type": "execute_result"
    }
   ],
   "execution_count": 14
  },
  {
   "metadata": {
    "ExecuteTime": {
     "end_time": "2025-05-14T00:46:31.657608Z",
     "start_time": "2025-05-14T00:46:31.655067Z"
    }
   },
   "cell_type": "code",
   "source": [
    "fcm_centers_pipe = pipeline_pa.named_steps[\"cluster\"].centers_\n",
    "fcm_labels_pipe = pipeline_pa.named_steps[\"cluster\"].labels_\n",
    "fcm_u_pipe = pipeline_pa.named_steps[\"cluster\"].u_"
   ],
   "outputs": [],
   "execution_count": 15
  },
  {
   "metadata": {
    "ExecuteTime": {
     "end_time": "2025-05-14T00:46:38.464757Z",
     "start_time": "2025-05-14T00:46:38.419041Z"
    }
   },
   "cell_type": "code",
   "source": [
    "data_pa = df_anomaly_encoded[df_anomaly_encoded.Zona=='PA']\n",
    "df_selected = pipeline_pa.named_steps[\"preprocess\"].transform(data_pa)"
   ],
   "outputs": [],
   "execution_count": 16
  },
  {
   "metadata": {
    "ExecuteTime": {
     "end_time": "2025-05-14T00:47:00.638939Z",
     "start_time": "2025-05-14T00:47:00.597713Z"
    }
   },
   "cell_type": "code",
   "source": "pipeline_pa.predict(data_pa)",
   "outputs": [
    {
     "name": "stderr",
     "output_type": "stream",
     "text": [
      "2025-05-13 19:47:00,624 - INFO - Realizando predicción con FCM.\n"
     ]
    },
    {
     "data": {
      "text/plain": [
       "array([0, 1, 1, ..., 0, 0, 0])"
      ]
     },
     "execution_count": 18,
     "metadata": {},
     "output_type": "execute_result"
    }
   ],
   "execution_count": 18
  },
  {
   "metadata": {
    "ExecuteTime": {
     "end_time": "2025-05-14T00:48:53.669658Z",
     "start_time": "2025-05-14T00:48:53.649594Z"
    }
   },
   "cell_type": "code",
   "source": "pipeline_pa.named_steps[\"cluster\"].soft_predict(df_selected)",
   "outputs": [
    {
     "name": "stderr",
     "output_type": "stream",
     "text": [
      "2025-05-13 19:48:53,650 - INFO - Realizando predicción con FCM.\n"
     ]
    },
    {
     "data": {
      "text/plain": [
       "array([[9.98192333e-01, 1.19003898e-03, 6.17627745e-04],\n",
       "       [3.69242285e-02, 9.55824154e-01, 7.25161736e-03],\n",
       "       [3.05184913e-02, 9.63543635e-01, 5.93787373e-03],\n",
       "       ...,\n",
       "       [9.56826840e-01, 3.78365994e-02, 5.33656040e-03],\n",
       "       [9.56826840e-01, 3.78365994e-02, 5.33656040e-03],\n",
       "       [9.56826840e-01, 3.78365994e-02, 5.33656040e-03]])"
      ]
     },
     "execution_count": 21,
     "metadata": {},
     "output_type": "execute_result"
    }
   ],
   "execution_count": 21
  },
  {
   "metadata": {
    "ExecuteTime": {
     "end_time": "2025-05-14T00:51:53.796051Z",
     "start_time": "2025-05-14T00:51:53.711525Z"
    }
   },
   "cell_type": "code",
   "source": [
    "data_pa = pipe.predict(df=data_pa.copy(), pipeline=pipeline_pa)\n",
    "data_pa.head(2)"
   ],
   "outputs": [
    {
     "name": "stderr",
     "output_type": "stream",
     "text": [
      "2025-05-13 19:51:53,717 - INFO - Iniciando predicción con pipeline entrenado.\n",
      "2025-05-13 19:51:53,754 - INFO - Realizando predicción con FCM.\n",
      "2025-05-13 19:51:53,767 - INFO - Realizando predicción con FCM.\n"
     ]
    },
    {
     "data": {
      "text/plain": [
       "      Orden  Usuario               Ejecucion Codigo  \\\n",
       "0  10699622  1149695  2022-01-04 10:22:40-05    EEM   \n",
       "1  11168065   544326  2021-03-27 08:04:44-05  30004   \n",
       "\n",
       "                      Descripcion           Motivo  kWh Rec  Factor    id  \\\n",
       "0                Posible anomalia              NaN      0.0     NaN  27.0   \n",
       "1  Anomalia verificada y aprobada  Otras Anomalias      NaN     NaN  40.0   \n",
       "\n",
       "                             Nombre  Factor.1    AREA      PLAN_COMERCIAL  \\\n",
       "0           ELEMENTO EXTRANO DENTRO       NaN  Urbano  2-PLAN RESIDENCIAL   \n",
       "1  OTRAS ANOMALÍAS REINCIDENTE PARE       NaN  Urbano  2-PLAN RESIDENCIAL   \n",
       "\n",
       "   TRAFO_OPEN  FASES   KVA  LATI_USU   LONG_USU  puntaje  evaluacion Zona  \\\n",
       "0  60TA011002    1.0  75.0  1.805776 -78.776637      5.0         3.0   PA   \n",
       "1  05TN000137    2.0  45.0  1.672157 -78.142107      1.0         1.0   PA   \n",
       "\n",
       "   cluster_id  cluster_0  cluster_1  cluster_2  \n",
       "0           0   0.998192   0.001190   0.000618  \n",
       "1           1   0.036924   0.955824   0.007252  "
      ],
      "text/html": [
       "<div>\n",
       "<style scoped>\n",
       "    .dataframe tbody tr th:only-of-type {\n",
       "        vertical-align: middle;\n",
       "    }\n",
       "\n",
       "    .dataframe tbody tr th {\n",
       "        vertical-align: top;\n",
       "    }\n",
       "\n",
       "    .dataframe thead th {\n",
       "        text-align: right;\n",
       "    }\n",
       "</style>\n",
       "<table border=\"1\" class=\"dataframe\">\n",
       "  <thead>\n",
       "    <tr style=\"text-align: right;\">\n",
       "      <th></th>\n",
       "      <th>Orden</th>\n",
       "      <th>Usuario</th>\n",
       "      <th>Ejecucion</th>\n",
       "      <th>Codigo</th>\n",
       "      <th>Descripcion</th>\n",
       "      <th>Motivo</th>\n",
       "      <th>kWh Rec</th>\n",
       "      <th>Factor</th>\n",
       "      <th>id</th>\n",
       "      <th>Nombre</th>\n",
       "      <th>Factor.1</th>\n",
       "      <th>AREA</th>\n",
       "      <th>PLAN_COMERCIAL</th>\n",
       "      <th>TRAFO_OPEN</th>\n",
       "      <th>FASES</th>\n",
       "      <th>KVA</th>\n",
       "      <th>LATI_USU</th>\n",
       "      <th>LONG_USU</th>\n",
       "      <th>puntaje</th>\n",
       "      <th>evaluacion</th>\n",
       "      <th>Zona</th>\n",
       "      <th>cluster_id</th>\n",
       "      <th>cluster_0</th>\n",
       "      <th>cluster_1</th>\n",
       "      <th>cluster_2</th>\n",
       "    </tr>\n",
       "  </thead>\n",
       "  <tbody>\n",
       "    <tr>\n",
       "      <th>0</th>\n",
       "      <td>10699622</td>\n",
       "      <td>1149695</td>\n",
       "      <td>2022-01-04 10:22:40-05</td>\n",
       "      <td>EEM</td>\n",
       "      <td>Posible anomalia</td>\n",
       "      <td>NaN</td>\n",
       "      <td>0.0</td>\n",
       "      <td>NaN</td>\n",
       "      <td>27.0</td>\n",
       "      <td>ELEMENTO EXTRANO DENTRO</td>\n",
       "      <td>NaN</td>\n",
       "      <td>Urbano</td>\n",
       "      <td>2-PLAN RESIDENCIAL</td>\n",
       "      <td>60TA011002</td>\n",
       "      <td>1.0</td>\n",
       "      <td>75.0</td>\n",
       "      <td>1.805776</td>\n",
       "      <td>-78.776637</td>\n",
       "      <td>5.0</td>\n",
       "      <td>3.0</td>\n",
       "      <td>PA</td>\n",
       "      <td>0</td>\n",
       "      <td>0.998192</td>\n",
       "      <td>0.001190</td>\n",
       "      <td>0.000618</td>\n",
       "    </tr>\n",
       "    <tr>\n",
       "      <th>1</th>\n",
       "      <td>11168065</td>\n",
       "      <td>544326</td>\n",
       "      <td>2021-03-27 08:04:44-05</td>\n",
       "      <td>30004</td>\n",
       "      <td>Anomalia verificada y aprobada</td>\n",
       "      <td>Otras Anomalias</td>\n",
       "      <td>NaN</td>\n",
       "      <td>NaN</td>\n",
       "      <td>40.0</td>\n",
       "      <td>OTRAS ANOMALÍAS REINCIDENTE PARE</td>\n",
       "      <td>NaN</td>\n",
       "      <td>Urbano</td>\n",
       "      <td>2-PLAN RESIDENCIAL</td>\n",
       "      <td>05TN000137</td>\n",
       "      <td>2.0</td>\n",
       "      <td>45.0</td>\n",
       "      <td>1.672157</td>\n",
       "      <td>-78.142107</td>\n",
       "      <td>1.0</td>\n",
       "      <td>1.0</td>\n",
       "      <td>PA</td>\n",
       "      <td>1</td>\n",
       "      <td>0.036924</td>\n",
       "      <td>0.955824</td>\n",
       "      <td>0.007252</td>\n",
       "    </tr>\n",
       "  </tbody>\n",
       "</table>\n",
       "</div>"
      ]
     },
     "execution_count": 23,
     "metadata": {},
     "output_type": "execute_result"
    }
   ],
   "execution_count": 23
  },
  {
   "cell_type": "code",
   "metadata": {
    "colab": {
     "base_uri": "https://localhost:8080/",
     "height": 210
    },
    "id": "MmYNxb5_55Eb",
    "outputId": "baee1315-c801-4c66-dd20-826597a86896",
    "ExecuteTime": {
     "end_time": "2025-05-14T00:53:07.359237Z",
     "start_time": "2025-05-14T00:53:07.356674Z"
    }
   },
   "source": "data_pa[\"cluster_id\"].value_counts()",
   "outputs": [
    {
     "data": {
      "text/plain": [
       "cluster_id\n",
       "0    44684\n",
       "2    39399\n",
       "1    29936\n",
       "Name: count, dtype: int64"
      ]
     },
     "execution_count": 24,
     "metadata": {},
     "output_type": "execute_result"
    }
   ],
   "execution_count": 24
  },
  {
   "cell_type": "code",
   "metadata": {
    "colab": {
     "base_uri": "https://localhost:8080/",
     "height": 719
    },
    "id": "lq0qk2Ev6Gsv",
    "outputId": "a50e54f0-50fb-45fe-fe85-a1bda0c19c6f",
    "ExecuteTime": {
     "end_time": "2025-05-14T00:54:17.399755Z",
     "start_time": "2025-05-14T00:54:16.434491Z"
    }
   },
   "source": [
    "import matplotlib.pyplot as plt\n",
    "import seaborn as sns\n",
    "# Asegúrate de que 'Cluster' sea numérico o categórico\n",
    "data_pa[\"cluster_id\"] = data_pa[\n",
    "    \"cluster_id\"\n",
    "].astype(str)  # O numérico si es apropiado\n",
    "\n",
    "# Crea el gráfico de dispersión con colores basados en 'Cluster'\n",
    "plt.figure(figsize=(10, 8))  # Ajusta el tamaño de la figura si es necesario\n",
    "sns.scatterplot(\n",
    "    x=\"LONG_USU\", y=\"LATI_USU\", hue=\"cluster_id\", data=data_pa\n",
    ")\n",
    "\n",
    "# Añade etiquetas y título\n",
    "plt.title(\"Gráfico de Dispersión: LATI_USU vs LONG_USU por Cluster\")\n",
    "plt.xlabel(\"LONGITUD USUARIO\")\n",
    "plt.ylabel(\"LATITUD USUARIO\")\n",
    "\n",
    "# Muestra la leyenda (automática con 'hue')\n",
    "plt.legend(title=\"cluster_id\")\n",
    "\n",
    "# Muestra el gráfico\n",
    "plt.show()"
   ],
   "outputs": [
    {
     "data": {
      "text/plain": [
       "<Figure size 1000x800 with 1 Axes>"
      ],
      "image/png": "[encoded data removed]"
     },
     "metadata": {},
     "output_type": "display_data"
    }
   ],
   "execution_count": 25
  },
  {
   "metadata": {
    "ExecuteTime": {
     "end_time": "2025-05-14T00:58:29.441324Z",
     "start_time": "2025-05-14T00:58:29.433504Z"
    }
   },
   "cell_type": "code",
   "source": [
    "df = df_anomaly_encoded.copy()\n",
    "output_path = \"dataset_con_clusters.csv\""
   ],
   "outputs": [],
   "execution_count": 30
  },
  {
   "metadata": {
    "ExecuteTime": {
     "end_time": "2025-05-14T00:59:35.391998Z",
     "start_time": "2025-05-14T00:59:33.848322Z"
    }
   },
   "cell_type": "code",
   "source": [
    "try:\n",
    "    pipe = PipelineClusterFzz(logger=logger)\n",
    "    pipelines = pipe.load_pipelines()\n",
    "\n",
    "    if not pipelines:\n",
    "        logger.error(\"No se encontraron modelos entrenados para predecir.\")\n",
    "\n",
    "    df_predicted = pipe.predict_all_zones(df, pipelines)\n",
    "\n",
    "    if df_predicted.empty:\n",
    "        logger.error(\"La predicción no generó resultados.\")\n",
    "\n",
    "    df_predicted.to_csv(output_path, index=False)\n",
    "    logger.info(f\"Predicción completada y guardada en: {output_path}\")\n",
    "\n",
    "except Exception as e:\n",
    "    logger.exception(f\"Error durante el proceso de predicción: {e}\")"
   ],
   "outputs": [
    {
     "name": "stderr",
     "output_type": "stream",
     "text": [
      "2025-05-13 19:59:33,850 - INFO - Inicializando PipelineClusterFzz\n",
      "2025-05-13 19:59:33,851 - INFO - Cargando pipelines guardados desde disco.\n",
      "2025-05-13 19:59:33,854 - INFO - Pipeline cargado para zona: PA\n",
      "2025-05-13 19:59:33,856 - INFO - Pipeline cargado para zona: OC\n",
      "2025-05-13 19:59:33,857 - INFO - Pipeline cargado para zona: CE\n",
      "2025-05-13 19:59:33,860 - INFO - Pipeline cargado para zona: NO\n",
      "2025-05-13 19:59:33,861 - INFO - Pipeline cargado para zona: SU\n",
      "2025-05-13 19:59:33,862 - INFO - Iniciando predicción en todas las zonas.\n",
      "2025-05-13 19:59:33,863 - INFO - Prediciendo zona: PA\n",
      "2025-05-13 19:59:33,885 - INFO - Iniciando predicción con pipeline entrenado.\n",
      "2025-05-13 19:59:33,912 - INFO - Realizando predicción con FCM.\n",
      "2025-05-13 19:59:33,924 - INFO - Realizando soft predicción con FCM.\n",
      "2025-05-13 19:59:33,947 - INFO - Prediciendo zona: OC\n",
      "2025-05-13 19:59:33,959 - INFO - Iniciando predicción con pipeline entrenado.\n",
      "2025-05-13 19:59:33,964 - INFO - Realizando predicción con FCM.\n",
      "2025-05-13 19:59:33,967 - INFO - Realizando soft predicción con FCM.\n",
      "2025-05-13 19:59:33,971 - INFO - Prediciendo zona: CE\n",
      "2025-05-13 19:59:33,982 - INFO - Iniciando predicción con pipeline entrenado.\n",
      "2025-05-13 19:59:33,990 - INFO - Realizando predicción con FCM.\n",
      "2025-05-13 19:59:33,994 - INFO - Realizando soft predicción con FCM.\n",
      "2025-05-13 19:59:34,001 - INFO - Prediciendo zona: NO\n",
      "2025-05-13 19:59:34,016 - INFO - Iniciando predicción con pipeline entrenado.\n",
      "2025-05-13 19:59:34,034 - INFO - Realizando predicción con FCM.\n",
      "2025-05-13 19:59:34,042 - INFO - Realizando soft predicción con FCM.\n",
      "2025-05-13 19:59:34,057 - INFO - Prediciendo zona: SU\n",
      "2025-05-13 19:59:34,068 - INFO - Iniciando predicción con pipeline entrenado.\n",
      "2025-05-13 19:59:34,075 - INFO - Realizando predicción con FCM.\n",
      "2025-05-13 19:59:34,078 - INFO - Realizando soft predicción con FCM.\n",
      "2025-05-13 19:59:35,390 - INFO - Predicción completada y guardada en: dataset_con_clusters.csv\n"
     ]
    }
   ],
   "execution_count": 33
  },
  {
   "metadata": {
    "ExecuteTime": {
     "end_time": "2025-05-14T01:09:26.876382Z",
     "start_time": "2025-05-14T01:09:26.836751Z"
    }
   },
   "cell_type": "code",
   "source": "df_predicted.info()",
   "outputs": [
    {
     "name": "stdout",
     "output_type": "stream",
     "text": [
      "<class 'pandas.core.frame.DataFrame'>\n",
      "RangeIndex: 260800 entries, 0 to 260799\n",
      "Data columns (total 25 columns):\n",
      " #   Column          Non-Null Count   Dtype  \n",
      "---  ------          --------------   -----  \n",
      " 0   Orden           260800 non-null  int64  \n",
      " 1   Usuario         260800 non-null  int64  \n",
      " 2   Ejecucion       260800 non-null  object \n",
      " 3   Codigo          256136 non-null  object \n",
      " 4   Descripcion     260800 non-null  object \n",
      " 5   Motivo          255439 non-null  object \n",
      " 6   kWh Rec         209785 non-null  float64\n",
      " 7   Factor          3112 non-null    float64\n",
      " 8   id              250692 non-null  float64\n",
      " 9   Nombre          250692 non-null  object \n",
      " 10  Factor.1        3112 non-null    float64\n",
      " 11  AREA            260789 non-null  object \n",
      " 12  PLAN_COMERCIAL  260789 non-null  object \n",
      " 13  TRAFO_OPEN      260658 non-null  object \n",
      " 14  FASES           258909 non-null  float64\n",
      " 15  KVA             260557 non-null  float64\n",
      " 16  LATI_USU        260557 non-null  float64\n",
      " 17  LONG_USU        260557 non-null  float64\n",
      " 18  puntaje         250692 non-null  float64\n",
      " 19  evaluacion      250692 non-null  float64\n",
      " 20  Zona            260800 non-null  object \n",
      " 21  cluster_id      260800 non-null  int64  \n",
      " 22  cluster_0       260800 non-null  float64\n",
      " 23  cluster_1       260800 non-null  float64\n",
      " 24  cluster_2       260800 non-null  float64\n",
      "dtypes: float64(13), int64(3), object(9)\n",
      "memory usage: 49.7+ MB\n"
     ]
    }
   ],
   "execution_count": 34
  },
  {
   "metadata": {},
   "cell_type": "code",
   "outputs": [],
   "execution_count": null,
   "source": ""
  }
 ],
 "metadata": {
  "colab": {
   "provenance": []
  },
  "kernelspec": {
   "display_name": "Python 3",
   "name": "python3"
  },
  "language_info": {
   "name": "python"
  }
 },
 "nbformat": 4,
 "nbformat_minor": 0
}
