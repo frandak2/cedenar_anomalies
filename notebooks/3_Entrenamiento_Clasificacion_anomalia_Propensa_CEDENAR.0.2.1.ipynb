{
 "cells": [
  {
   "cell_type": "code",
   "id": "1b0a9b9f-e953-4977-b913-cf7bb5b0f283",
   "metadata": {
    "ExecuteTime": {
     "end_time": "2025-06-11T22:46:43.757838Z",
     "start_time": "2025-06-11T22:46:43.754590Z"
    }
   },
   "source": [
    "import os\n",
    "\n",
    "import matplotlib.pyplot as plt\n",
    "import numpy as np\n",
    "import pandas as pd\n",
    "import seaborn as sns\n",
    "from cedenar_anomalies.utils.paths import (\n",
    "    data_processed_dir,\n",
    "    data_raw_dir,\n",
    "    data_interim_dir\n",
    ")"
   ],
   "outputs": [],
   "execution_count": 1
  },
  {
   "cell_type": "code",
   "id": "1caff42d-083d-456a-907e-f34f8391aaf2",
   "metadata": {
    "ExecuteTime": {
     "end_time": "2025-06-11T22:46:48.172724Z",
     "start_time": "2025-06-11T22:46:48.170899Z"
    }
   },
   "source": [
    "# !pip uninstall matplotlib\n",
    "# !pip cache purge #Clean cache\n",
    "# !pip install matplotlib"
   ],
   "outputs": [],
   "execution_count": 2
  },
  {
   "cell_type": "code",
   "id": "e825f3e6-73d7-4c07-a18b-4afbea2dbbd8",
   "metadata": {
    "ExecuteTime": {
     "end_time": "2025-06-11T22:46:48.469799Z",
     "start_time": "2025-06-11T22:46:48.465739Z"
    }
   },
   "source": [
    "os.getcwd()"
   ],
   "outputs": [
    {
     "data": {
      "text/plain": [
       "'/Users/frandak2/Documents/repos/cedenar_anomalies/notebooks'"
      ]
     },
     "execution_count": 3,
     "metadata": {},
     "output_type": "execute_result"
    }
   ],
   "execution_count": 3
  },
  {
   "cell_type": "code",
   "id": "00f8eeaf-09ce-4e84-9aaa-5fcdd78f0fc1",
   "metadata": {
    "ExecuteTime": {
     "end_time": "2025-06-11T22:46:48.966776Z",
     "start_time": "2025-06-11T22:46:48.965082Z"
    }
   },
   "source": [
    "pd.set_option(\"display.max_rows\", None)  # Mostrar todas las filas\n",
    "pd.set_option(\"display.max_columns\", None)  # Mostrar todas las columnas"
   ],
   "outputs": [],
   "execution_count": 4
  },
  {
   "cell_type": "code",
   "id": "d2a26093-898c-494c-950e-c85284597f22",
   "metadata": {
    "ExecuteTime": {
     "end_time": "2025-06-11T22:46:53.501391Z",
     "start_time": "2025-06-11T22:46:51.130874Z"
    }
   },
   "source": [
    "import pandas as pd\n",
    "ruta_archivo = data_raw_dir(\"anomalias 2022 23 y 24.xlsx\")\n",
    "df = pd.read_excel(ruta_archivo)"
   ],
   "outputs": [],
   "execution_count": 5
  },
  {
   "metadata": {
    "ExecuteTime": {
     "end_time": "2025-06-11T22:47:08.975802Z",
     "start_time": "2025-06-11T22:47:08.953959Z"
    }
   },
   "cell_type": "code",
   "source": "df.info()",
   "id": "50ff581c00f9509",
   "outputs": [
    {
     "name": "stdout",
     "output_type": "stream",
     "text": [
      "<class 'pandas.core.frame.DataFrame'>\n",
      "RangeIndex: 34683 entries, 0 to 34682\n",
      "Data columns (total 19 columns):\n",
      " #   Column       Non-Null Count  Dtype  \n",
      "---  ------       --------------  -----  \n",
      " 0   Zona         34683 non-null  object \n",
      " 1   Contrato     34683 non-null  object \n",
      " 2   Orden        34683 non-null  int64  \n",
      " 3   Usuario      34683 non-null  int64  \n",
      " 4   Estado       34683 non-null  object \n",
      " 5   Ejecucion    34683 non-null  object \n",
      " 6   Revision     29324 non-null  object \n",
      " 7   Codigo       30019 non-null  object \n",
      " 8   Anomalia     34683 non-null  object \n",
      " 9   N. Unidad    34683 non-null  int64  \n",
      " 10  Unidad       34682 non-null  object \n",
      " 11  N. Causa     34683 non-null  int64  \n",
      " 12  Causa        34682 non-null  object \n",
      " 13  U. Genera    34683 non-null  object \n",
      " 14  Descripcion  34683 non-null  object \n",
      " 15  Motivo       33671 non-null  object \n",
      " 16  Cuadrilla    34683 non-null  object \n",
      " 17  kWh Rec      23088 non-null  float64\n",
      " 18  Factor       775 non-null    float64\n",
      "dtypes: float64(2), int64(4), object(13)\n",
      "memory usage: 5.0+ MB\n"
     ]
    }
   ],
   "execution_count": 6
  },
  {
   "metadata": {
    "ExecuteTime": {
     "end_time": "2025-05-07T23:12:35.311043Z",
     "start_time": "2025-05-07T23:12:35.307966Z"
    }
   },
   "cell_type": "code",
   "source": "df[\"Zona\"].value_counts()",
   "id": "7d10efae0b93e5ec",
   "outputs": [
    {
     "data": {
      "text/plain": [
       "Zona\n",
       "PA    12045\n",
       "NO     8908\n",
       "CE     7381\n",
       "SU     3764\n",
       "OC     2585\n",
       "Name: count, dtype: int64"
      ]
     },
     "execution_count": 6,
     "metadata": {},
     "output_type": "execute_result"
    }
   ],
   "execution_count": 6
  },
  {
   "cell_type": "code",
   "id": "ef6a115b-59e4-40a8-8ddf-aec07156ce7e",
   "metadata": {
    "ExecuteTime": {
     "end_time": "2025-05-07T23:12:35.338449Z",
     "start_time": "2025-05-07T23:12:35.333461Z"
    }
   },
   "source": [
    "# Filtrar por la variable Zona igual a \"PA\"\n",
    "df_pa = df[df[\"Zona\"] == \"PA\"].copy()"
   ],
   "outputs": [],
   "execution_count": 7
  },
  {
   "cell_type": "code",
   "id": "6313c10a-7ada-4abc-82e9-d79ae661af4d",
   "metadata": {
    "ExecuteTime": {
     "end_time": "2025-05-07T23:12:35.359195Z",
     "start_time": "2025-05-07T23:12:35.356216Z"
    }
   },
   "source": [
    "# Crear un nuevo dataset con las columnas especificadas\n",
    "columnas_deseadas = [\n",
    "    \"Orden\",\n",
    "    \"Usuario\",\n",
    "    \"Ejecucion\",\n",
    "    \"Estado\",\n",
    "    \"Codigo\",\n",
    "    \"Anomalia\",\n",
    "    \"Causa\",\n",
    "    \"Descripcion\",\n",
    "    \"Motivo\",\n",
    "    \"kWh Rec\",\n",
    "    \"Factor\",\n",
    "]\n",
    "df_nuevo = df_pa[columnas_deseadas].copy()"
   ],
   "outputs": [],
   "execution_count": 8
  },
  {
   "cell_type": "code",
   "id": "d4d2b545-5311-4cdb-b499-6509b48e8d3a",
   "metadata": {
    "ExecuteTime": {
     "end_time": "2025-05-07T23:12:35.375092Z",
     "start_time": "2025-05-07T23:12:35.371225Z"
    }
   },
   "source": [
    "# Identificar columnas problemáticas\n",
    "columnas_problema = df_nuevo.select_dtypes(include=[\"object\"]).columns\n",
    "\n",
    "# Convertir columnas problemáticas a cadenas de texto\n",
    "for col in columnas_problema:\n",
    "    df_nuevo[col] = df_nuevo[col].astype(str)"
   ],
   "outputs": [],
   "execution_count": 9
  },
  {
   "cell_type": "code",
   "id": "10cb907e-17f7-4eda-8ec1-7a411bc14de9",
   "metadata": {
    "ExecuteTime": {
     "end_time": "2025-05-07T23:12:36.894921Z",
     "start_time": "2025-05-07T23:12:35.388984Z"
    }
   },
   "source": [
    "import pandas as pd\n",
    "\n",
    "# Suponiendo que df_nuevo ya está definido\n",
    "\n",
    "# Crear una copia del DataFrame para evitar modificar el original\n",
    "df_nuevo_copia = df_nuevo.copy()\n",
    "\n",
    "\n",
    "# Función para expandir los registros con múltiples códigos\n",
    "def expandir_codigos(row):\n",
    "    codigos = str(row[\"Codigo\"]).split(\"/\")\n",
    "    nuevas_filas = []\n",
    "    for codigo in codigos:\n",
    "        nueva_fila = row.copy()\n",
    "        nueva_fila[\"Codigo\"] = (\n",
    "            codigo.strip()\n",
    "        )  # Eliminar espacios en blanco alrededor del código\n",
    "        nuevas_filas.append(nueva_fila)\n",
    "    return pd.DataFrame(nuevas_filas)\n",
    "\n",
    "\n",
    "# Aplicar la función a las filas con \"/\" en la columna \"Codigo\"\n",
    "filas_a_expandir = df_nuevo_copia[df_nuevo_copia[\"Codigo\"].str.contains(\"/\")]\n",
    "nuevos_registros = pd.concat(\n",
    "    filas_a_expandir.apply(expandir_codigos, axis=1).tolist(), ignore_index=True\n",
    ")\n",
    "\n",
    "# Eliminar los registros originales con \"/\" en la columna \"Codigo\"\n",
    "df_nuevo_copia = df_nuevo_copia[~df_nuevo_copia[\"Codigo\"].str.contains(\"/\")]\n",
    "\n",
    "# Concatenar los nuevos registros con el DataFrame original\n",
    "df_nuevo_copia = pd.concat([df_nuevo_copia, nuevos_registros], ignore_index=True)\n",
    "\n",
    "# Guardar el DataFrame modificado en un archivo Excel (opcional)\n",
    "# df_nuevo_copia.to_csv(data_interim_dir(\"df_nuevo_codigos_separados.csv\"), index=False)"
   ],
   "outputs": [],
   "execution_count": 10
  },
  {
   "cell_type": "code",
   "id": "c248a67b-347e-484d-b3da-d82bef5acd3f",
   "metadata": {
    "ExecuteTime": {
     "end_time": "2025-05-07T23:12:36.907721Z",
     "start_time": "2025-05-07T23:12:36.904222Z"
    }
   },
   "source": [
    "columnas_deseadas = [\n",
    "    \"Orden\",\n",
    "    \"Usuario\",\n",
    "    \"Ejecucion\",\n",
    "    \"Codigo\",\n",
    "    \"Descripcion\",\n",
    "    \"Motivo\",\n",
    "    \"kWh Rec\",\n",
    "    \"Factor\",\n",
    "]\n",
    "df_anom_sep = df_nuevo_copia[columnas_deseadas].copy()"
   ],
   "outputs": [],
   "execution_count": 11
  },
  {
   "cell_type": "code",
   "id": "7e815e07-c90b-4605-9ad1-060bd71a2df2",
   "metadata": {
    "ExecuteTime": {
     "end_time": "2025-05-07T23:12:36.922773Z",
     "start_time": "2025-05-07T23:12:36.916756Z"
    }
   },
   "source": [
    "df_anom_sep.info()"
   ],
   "outputs": [
    {
     "name": "stdout",
     "output_type": "stream",
     "text": [
      "<class 'pandas.core.frame.DataFrame'>\n",
      "RangeIndex: 37767 entries, 0 to 37766\n",
      "Data columns (total 8 columns):\n",
      " #   Column       Non-Null Count  Dtype  \n",
      "---  ------       --------------  -----  \n",
      " 0   Orden        37767 non-null  int64  \n",
      " 1   Usuario      37767 non-null  int64  \n",
      " 2   Ejecucion    37767 non-null  object \n",
      " 3   Codigo       37767 non-null  object \n",
      " 4   Descripcion  37767 non-null  object \n",
      " 5   Motivo       37767 non-null  object \n",
      " 6   kWh Rec      31475 non-null  float64\n",
      " 7   Factor       11 non-null     float64\n",
      "dtypes: float64(2), int64(2), object(4)\n",
      "memory usage: 2.3+ MB\n"
     ]
    }
   ],
   "execution_count": 12
  },
  {
   "cell_type": "code",
   "id": "218b1f7f-d2de-43b8-9e71-3adfa81be336",
   "metadata": {
    "ExecuteTime": {
     "end_time": "2025-05-07T23:12:36.934571Z",
     "start_time": "2025-05-07T23:12:36.931602Z"
    }
   },
   "source": [
    "df_anom_sep.head(2)"
   ],
   "outputs": [
    {
     "data": {
      "text/plain": [
       "      Orden  Usuario               Ejecucion Codigo  \\\n",
       "0  11168065   544326  2021-03-27 08:04:44-05  30004   \n",
       "1  11232649  1142265  2021-04-09 10:56:34-05  30004   \n",
       "\n",
       "                      Descripcion           Motivo  kWh Rec  Factor  \n",
       "0  Anomalia verificada y aprobada  Otras Anomalias      NaN     NaN  \n",
       "1                Posible anomalia              nan      NaN     NaN  "
      ],
      "text/html": [
       "<div>\n",
       "<style scoped>\n",
       "    .dataframe tbody tr th:only-of-type {\n",
       "        vertical-align: middle;\n",
       "    }\n",
       "\n",
       "    .dataframe tbody tr th {\n",
       "        vertical-align: top;\n",
       "    }\n",
       "\n",
       "    .dataframe thead th {\n",
       "        text-align: right;\n",
       "    }\n",
       "</style>\n",
       "<table border=\"1\" class=\"dataframe\">\n",
       "  <thead>\n",
       "    <tr style=\"text-align: right;\">\n",
       "      <th></th>\n",
       "      <th>Orden</th>\n",
       "      <th>Usuario</th>\n",
       "      <th>Ejecucion</th>\n",
       "      <th>Codigo</th>\n",
       "      <th>Descripcion</th>\n",
       "      <th>Motivo</th>\n",
       "      <th>kWh Rec</th>\n",
       "      <th>Factor</th>\n",
       "    </tr>\n",
       "  </thead>\n",
       "  <tbody>\n",
       "    <tr>\n",
       "      <th>0</th>\n",
       "      <td>11168065</td>\n",
       "      <td>544326</td>\n",
       "      <td>2021-03-27 08:04:44-05</td>\n",
       "      <td>30004</td>\n",
       "      <td>Anomalia verificada y aprobada</td>\n",
       "      <td>Otras Anomalias</td>\n",
       "      <td>NaN</td>\n",
       "      <td>NaN</td>\n",
       "    </tr>\n",
       "    <tr>\n",
       "      <th>1</th>\n",
       "      <td>11232649</td>\n",
       "      <td>1142265</td>\n",
       "      <td>2021-04-09 10:56:34-05</td>\n",
       "      <td>30004</td>\n",
       "      <td>Posible anomalia</td>\n",
       "      <td>nan</td>\n",
       "      <td>NaN</td>\n",
       "      <td>NaN</td>\n",
       "    </tr>\n",
       "  </tbody>\n",
       "</table>\n",
       "</div>"
      ]
     },
     "execution_count": 13,
     "metadata": {},
     "output_type": "execute_result"
    }
   ],
   "execution_count": 13
  },
  {
   "cell_type": "code",
   "id": "5293340b-14a6-45fd-8902-275d2f08241a",
   "metadata": {
    "ExecuteTime": {
     "end_time": "2025-06-11T22:47:41.509335Z",
     "start_time": "2025-06-11T22:47:41.497341Z"
    }
   },
   "source": [
    "ruta_archivo = data_raw_dir(\"items anomalia ponderado.xlsx\")\n",
    "df_ponderado = pd.read_excel(ruta_archivo)"
   ],
   "outputs": [],
   "execution_count": 7
  },
  {
   "cell_type": "code",
   "id": "fdeeddfb-4ae2-4a37-be8e-7e6e4ed98723",
   "metadata": {
    "ExecuteTime": {
     "end_time": "2025-06-11T22:47:44.816613Z",
     "start_time": "2025-06-11T22:47:44.811759Z"
    }
   },
   "source": [
    "df_ponderado.info()"
   ],
   "outputs": [
    {
     "name": "stdout",
     "output_type": "stream",
     "text": [
      "<class 'pandas.core.frame.DataFrame'>\n",
      "RangeIndex: 63 entries, 0 to 62\n",
      "Data columns (total 9 columns):\n",
      " #   Column      Non-Null Count  Dtype \n",
      "---  ------      --------------  ----- \n",
      " 0   id          63 non-null     int64 \n",
      " 1   Sigla       63 non-null     object\n",
      " 2   Movil       63 non-null     int64 \n",
      " 3   Item        62 non-null     object\n",
      " 4   Creado      63 non-null     object\n",
      " 5   Nombre      63 non-null     object\n",
      " 6   Activo      62 non-null     object\n",
      " 7   puntaje     63 non-null     int64 \n",
      " 8   evaluacion  63 non-null     int64 \n",
      "dtypes: int64(4), object(5)\n",
      "memory usage: 4.6+ KB\n"
     ]
    }
   ],
   "execution_count": 8
  },
  {
   "cell_type": "code",
   "id": "d58c57ac-0a75-44cc-a439-8a89920bc295",
   "metadata": {
    "ExecuteTime": {
     "end_time": "2025-05-07T23:12:37.028223Z",
     "start_time": "2025-05-07T23:12:37.002100Z"
    }
   },
   "source": [
    "df_anom_sep_copia = df_anom_sep.copy()\n",
    "\n",
    "# Realizar la combinación (merge) de los DataFrames\n",
    "df_anom_sep_copia = pd.merge(\n",
    "    df_anom_sep_copia, df_ponderado, left_on=\"Codigo\", right_on=\"Item\", how=\"left\"\n",
    ")\n",
    "\n",
    "# Seleccionar solo las columnas deseadas\n",
    "columnas_deseadas = list(df_anom_sep.columns) + [\"id\", \"Nombre\", \"puntaje\", \"evaluacion\"]\n",
    "df_anom_sep_copia = df_anom_sep_copia[columnas_deseadas]\n",
    "\n",
    "# Guardar el DataFrame modificado en un archivo Excel (opcional)\n",
    "# df_anom_sep_copia.to_csv(data_interim_dir(\"df_anom_sep_extendido.csv\"), index=False)"
   ],
   "outputs": [],
   "execution_count": 16
  },
  {
   "cell_type": "code",
   "id": "32247305-bdd3-440d-a53d-c0d2e0cf4b53",
   "metadata": {
    "ExecuteTime": {
     "end_time": "2025-05-07T23:12:37.041954Z",
     "start_time": "2025-05-07T23:12:37.038595Z"
    }
   },
   "source": [
    "df_anom_sep_copia.head(3)"
   ],
   "outputs": [
    {
     "data": {
      "text/plain": [
       "      Orden  Usuario               Ejecucion Codigo  \\\n",
       "0  11168065   544326  2021-03-27 08:04:44-05  30004   \n",
       "1  11232649  1142265  2021-04-09 10:56:34-05  30004   \n",
       "2  11353009   543180  2021-04-06 09:30:10-05  30004   \n",
       "\n",
       "                      Descripcion           Motivo  kWh Rec  Factor    id  \\\n",
       "0  Anomalia verificada y aprobada  Otras Anomalias      NaN     NaN  40.0   \n",
       "1                Posible anomalia              nan      NaN     NaN  40.0   \n",
       "2  Anomalia verificada y aprobada  Otras Anomalias      NaN     NaN  40.0   \n",
       "\n",
       "                             Nombre  puntaje  evaluacion  \n",
       "0  OTRAS ANOMALÍAS REINCIDENTE PARE      1.0         1.0  \n",
       "1  OTRAS ANOMALÍAS REINCIDENTE PARE      1.0         1.0  \n",
       "2  OTRAS ANOMALÍAS REINCIDENTE PARE      1.0         1.0  "
      ],
      "text/html": [
       "<div>\n",
       "<style scoped>\n",
       "    .dataframe tbody tr th:only-of-type {\n",
       "        vertical-align: middle;\n",
       "    }\n",
       "\n",
       "    .dataframe tbody tr th {\n",
       "        vertical-align: top;\n",
       "    }\n",
       "\n",
       "    .dataframe thead th {\n",
       "        text-align: right;\n",
       "    }\n",
       "</style>\n",
       "<table border=\"1\" class=\"dataframe\">\n",
       "  <thead>\n",
       "    <tr style=\"text-align: right;\">\n",
       "      <th></th>\n",
       "      <th>Orden</th>\n",
       "      <th>Usuario</th>\n",
       "      <th>Ejecucion</th>\n",
       "      <th>Codigo</th>\n",
       "      <th>Descripcion</th>\n",
       "      <th>Motivo</th>\n",
       "      <th>kWh Rec</th>\n",
       "      <th>Factor</th>\n",
       "      <th>id</th>\n",
       "      <th>Nombre</th>\n",
       "      <th>puntaje</th>\n",
       "      <th>evaluacion</th>\n",
       "    </tr>\n",
       "  </thead>\n",
       "  <tbody>\n",
       "    <tr>\n",
       "      <th>0</th>\n",
       "      <td>11168065</td>\n",
       "      <td>544326</td>\n",
       "      <td>2021-03-27 08:04:44-05</td>\n",
       "      <td>30004</td>\n",
       "      <td>Anomalia verificada y aprobada</td>\n",
       "      <td>Otras Anomalias</td>\n",
       "      <td>NaN</td>\n",
       "      <td>NaN</td>\n",
       "      <td>40.0</td>\n",
       "      <td>OTRAS ANOMALÍAS REINCIDENTE PARE</td>\n",
       "      <td>1.0</td>\n",
       "      <td>1.0</td>\n",
       "    </tr>\n",
       "    <tr>\n",
       "      <th>1</th>\n",
       "      <td>11232649</td>\n",
       "      <td>1142265</td>\n",
       "      <td>2021-04-09 10:56:34-05</td>\n",
       "      <td>30004</td>\n",
       "      <td>Posible anomalia</td>\n",
       "      <td>nan</td>\n",
       "      <td>NaN</td>\n",
       "      <td>NaN</td>\n",
       "      <td>40.0</td>\n",
       "      <td>OTRAS ANOMALÍAS REINCIDENTE PARE</td>\n",
       "      <td>1.0</td>\n",
       "      <td>1.0</td>\n",
       "    </tr>\n",
       "    <tr>\n",
       "      <th>2</th>\n",
       "      <td>11353009</td>\n",
       "      <td>543180</td>\n",
       "      <td>2021-04-06 09:30:10-05</td>\n",
       "      <td>30004</td>\n",
       "      <td>Anomalia verificada y aprobada</td>\n",
       "      <td>Otras Anomalias</td>\n",
       "      <td>NaN</td>\n",
       "      <td>NaN</td>\n",
       "      <td>40.0</td>\n",
       "      <td>OTRAS ANOMALÍAS REINCIDENTE PARE</td>\n",
       "      <td>1.0</td>\n",
       "      <td>1.0</td>\n",
       "    </tr>\n",
       "  </tbody>\n",
       "</table>\n",
       "</div>"
      ]
     },
     "execution_count": 17,
     "metadata": {},
     "output_type": "execute_result"
    }
   ],
   "execution_count": 17
  },
  {
   "cell_type": "code",
   "id": "8bdb322e-d525-4b47-9aeb-585a0b02b267",
   "metadata": {
    "ExecuteTime": {
     "end_time": "2025-05-07T23:12:37.067004Z",
     "start_time": "2025-05-07T23:12:37.064182Z"
    }
   },
   "source": [
    "df_anom_sep_copia[\"evaluacion\"].value_counts()"
   ],
   "outputs": [
    {
     "data": {
      "text/plain": [
       "evaluacion\n",
       "3.0    77584\n",
       "1.0    41973\n",
       "2.0    41476\n",
       "Name: count, dtype: int64"
      ]
     },
     "execution_count": 18,
     "metadata": {},
     "output_type": "execute_result"
    }
   ],
   "execution_count": 18
  },
  {
   "cell_type": "code",
   "id": "4f559859-7d35-47d6-bbc2-f2e24775f27c",
   "metadata": {
    "ExecuteTime": {
     "end_time": "2025-05-07T23:12:37.101383Z",
     "start_time": "2025-05-07T23:12:37.099653Z"
    }
   },
   "source": [
    "df_anom_sep_copia.columns"
   ],
   "outputs": [
    {
     "data": {
      "text/plain": [
       "Index(['Orden', 'Usuario', 'Ejecucion', 'Codigo', 'Descripcion', 'Motivo',\n",
       "       'kWh Rec', 'Factor', 'id', 'Nombre', 'puntaje', 'evaluacion'],\n",
       "      dtype='object')"
      ]
     },
     "execution_count": 19,
     "metadata": {},
     "output_type": "execute_result"
    }
   ],
   "execution_count": 19
  },
  {
   "cell_type": "code",
   "id": "97bdbc4c-2119-4743-8a67-f1efa0ab66b8",
   "metadata": {
    "ExecuteTime": {
     "end_time": "2025-06-11T22:49:42.184214Z",
     "start_time": "2025-06-11T22:48:00.486763Z"
    }
   },
   "source": [
    "ruta_archivo = data_raw_dir(\"cedenar_data.xlsx\")\n",
    "usu_pacifico = pd.read_excel(ruta_archivo)\n",
    "df_usuarios = usu_pacifico[usu_pacifico.ZONA == \"PACIFICO\"].copy()"
   ],
   "outputs": [],
   "execution_count": 9
  },
  {
   "metadata": {
    "ExecuteTime": {
     "end_time": "2025-06-11T22:49:42.677870Z",
     "start_time": "2025-06-11T22:49:42.342878Z"
    }
   },
   "cell_type": "code",
   "source": "usu_pacifico.info()",
   "id": "f4f11f8f84dabc12",
   "outputs": [
    {
     "name": "stdout",
     "output_type": "stream",
     "text": [
      "<class 'pandas.core.frame.DataFrame'>\n",
      "RangeIndex: 622450 entries, 0 to 622449\n",
      "Data columns (total 58 columns):\n",
      " #   Column                      Non-Null Count   Dtype  \n",
      "---  ------                      --------------   -----  \n",
      " 0   PRODUCT_ID                  622450 non-null  int64  \n",
      " 1   PRODUCTO                    622450 non-null  int64  \n",
      " 2   CONTRATO                    622450 non-null  int64  \n",
      " 3   CLIENTE                     622450 non-null  int64  \n",
      " 4   NOMBRE_CLIENTE              622450 non-null  object \n",
      " 5   APELLIDO_CLIENTE            111432 non-null  object \n",
      " 6   ZONA                        622286 non-null  object \n",
      " 7   SECCIONAL                   622286 non-null  object \n",
      " 8   DIRECCION_PRODUCTO          622450 non-null  object \n",
      " 9   MUNICIPIO_PRODUCTO          622450 non-null  object \n",
      " 10  VEREDA_CENTRO_POBLADO       600815 non-null  object \n",
      " 11  BARRIO_PRODUCTO             600815 non-null  object \n",
      " 12  SECTOR_OPERATIVO_PRODUCTO   622450 non-null  object \n",
      " 13  COD_CICLO_CONSUMO           622450 non-null  int64  \n",
      " 14  CICLO_CONSUMO               622371 non-null  object \n",
      " 15  COD_CICLO_FACTURACION       622450 non-null  int64  \n",
      " 16  CICLO_FACTURACION           622450 non-null  object \n",
      " 17  RUTA                        593188 non-null  float64\n",
      " 18  DES_RUTA                    593188 non-null  object \n",
      " 19  ORDEN_PREDIO                592941 non-null  float64\n",
      " 20  AREA                        621701 non-null  object \n",
      " 21  FECHA_INSTALACION_PRODUCTO  622450 non-null  object \n",
      " 22  ESTADO_DE_CORTE             622450 non-null  object \n",
      " 23  ESTADO_PRODUCTO             622450 non-null  object \n",
      " 24  FECHA_RETIRO_PRODUCTO       554690 non-null  object \n",
      " 25  SERVICIO_PROVISIONAL        622450 non-null  object \n",
      " 26  PRODUCTO_ACTIVO             622450 non-null  object \n",
      " 27  CATEGORIA                   622450 non-null  object \n",
      " 28  SUB_CATEGORIA               622450 non-null  object \n",
      " 29  ZONA_TARIFARIA              622450 non-null  object \n",
      " 30  PLAN_COMERCIAL              622450 non-null  object \n",
      " 31  METOD_VARCON                609830 non-null  object \n",
      " 32  TRAFO_OPEN                  603353 non-null  object \n",
      " 33  FECHA_INGRESO_A_SISTEMA     615564 non-null  object \n",
      " 34  FECHA_DE_CONEXION           615564 non-null  object \n",
      " 35  CARTERA_EN_MORA             302707 non-null  float64\n",
      " 36  CARTERA_TOTAL               302707 non-null  float64\n",
      " 37  CARGA_INSTALADA             609469 non-null  float64\n",
      " 38  MODO_ADQUISICION            539362 non-null  object \n",
      " 39  MEDIDOR                     539362 non-null  object \n",
      " 40  COMPONENTE                  539362 non-null  float64\n",
      " 41  CODIGO_MEDIDOR              539365 non-null  float64\n",
      " 42  FECHA_INSTALACION           539362 non-null  object \n",
      " 43  ESTADO_MEDIDOR              539362 non-null  object \n",
      " 44  COMPONENT_TYPE_ID           539362 non-null  float64\n",
      " 45  CLASE_SERVICIO              539362 non-null  object \n",
      " 46  TIPO_MEDIDOR                538439 non-null  object \n",
      " 47  GAMA                        538439 non-null  object \n",
      " 48  TIPO_ITEM                   538439 non-null  object \n",
      " 49  FASES                       538439 non-null  float64\n",
      " 50  TRAFO_SPARD                 561780 non-null  object \n",
      " 51  KVA                         561780 non-null  float64\n",
      " 52  CIRCUITO                    561780 non-null  object \n",
      " 53  NIVEL                       561780 non-null  float64\n",
      " 54  LATI_USU                    561780 non-null  float64\n",
      " 55  LONG_USU                    561780 non-null  float64\n",
      " 56  LATI_TRAFO                  561780 non-null  float64\n",
      " 57  LONG_TRAFO                  561780 non-null  float64\n",
      "dtypes: float64(15), int64(6), object(37)\n",
      "memory usage: 275.4+ MB\n"
     ]
    }
   ],
   "execution_count": 10
  },
  {
   "cell_type": "code",
   "id": "45a64e55-0a5e-4396-888b-03b7cd6dd685",
   "metadata": {
    "scrolled": true,
    "ExecuteTime": {
     "end_time": "2025-05-07T23:14:16.540598Z",
     "start_time": "2025-05-07T23:14:16.534103Z"
    }
   },
   "source": [
    "df_usuarios.head(2)"
   ],
   "outputs": [
    {
     "data": {
      "text/plain": [
       "     PRODUCT_ID  PRODUCTO  CONTRATO  CLIENTE  \\\n",
       "146      597102    597102    597102   100706   \n",
       "154     1184921   1184921   1184921   100802   \n",
       "\n",
       "                        NOMBRE_CLIENTE   APELLIDO_CLIENTE      ZONA SECCIONAL  \\\n",
       "146  MARCIAL VICTORIANO_ LOPEZ NARVAEZ                NaN  PACIFICO  PACIFICO   \n",
       "154                    ZAIDA JACKELINE  VALVERDE QUIÑONES  PACIFICO  PACIFICO   \n",
       "\n",
       "            DIRECCION_PRODUCTO MUNICIPIO_PRODUCTO  \\\n",
       "146  EL ESFURZO I CS 347 DIV 1             TUMACO   \n",
       "154     CS 53 A PRADOMAR DIV 1             TUMACO   \n",
       "\n",
       "                                 VEREDA_CENTRO_POBLADO BARRIO_PRODUCTO  \\\n",
       "146  SAN ANDRES DE TUMACO  DISTRITO ESPECIAL  INDUS...     EL ESFUERZO   \n",
       "154  SAN ANDRES DE TUMACO  DISTRITO ESPECIAL  INDUS...        PRADOMAR   \n",
       "\n",
       "    SECTOR_OPERATIVO_PRODUCTO  COD_CICLO_CONSUMO  \\\n",
       "146        114-TUMACO  URBANO                  4   \n",
       "154        114-TUMACO  URBANO                 54   \n",
       "\n",
       "                      CICLO_CONSUMO  COD_CICLO_FACTURACION  \\\n",
       "146  0Y-TARIFA PARA CLAUSURA PACIFI                      4   \n",
       "154   0G-MEDIDA CENTRALIZADA TUMACO                     54   \n",
       "\n",
       "                  CICLO_FACTURACION    RUTA  \\\n",
       "146  0Y-TARIFA PARA CLAUSURA PACIFI     5.0   \n",
       "154   0G-MEDIDA CENTRALIZADA TUMACO  4040.0   \n",
       "\n",
       "                                              DES_RUTA  ORDEN_PREDIO    AREA  \\\n",
       "146                           2182-RUTA 2182 DE TUMACO        6058.0  Urbano   \n",
       "154  7510 - TUMACO VIADUCTO CONVENCIONAL MORRITO TR...       35560.0  Urbano   \n",
       "\n",
       "    FECHA_INSTALACION_PRODUCTO       ESTADO_DE_CORTE ESTADO_PRODUCTO  \\\n",
       "146                 2000-10-10  92-Retiro definitivo      3-Retirado   \n",
       "154                 2016-02-29            1-Conexión        1-Activo   \n",
       "\n",
       "    FECHA_RETIRO_PRODUCTO SERVICIO_PROVISIONAL PRODUCTO_ACTIVO      CATEGORIA  \\\n",
       "146            2020-07-06                    N               N  1-RESIDENCIAL   \n",
       "154            4732-12-31                    N               Y  1-RESIDENCIAL   \n",
       "\n",
       "    SUB_CATEGORIA  ZONA_TARIFARIA                  PLAN_COMERCIAL  \\\n",
       "146   1-ESTRATO 1  -1-POR DEFECTO        16-RESIDENCIAL - DIRECTO   \n",
       "154   1-ESTRATO 1  -1-POR DEFECTO  31-PLAN RESIDENCIAL TELEMEDIDO   \n",
       "\n",
       "                  METOD_VARCON  TRAFO_OPEN FECHA_INGRESO_A_SISTEMA  \\\n",
       "146    5013-PRODUCTOS DIRECTOS     TM30006              2000-10-10   \n",
       "154  5004-CLIENTES TELEMEDIDOS  60TA030352              2016-02-29   \n",
       "\n",
       "    FECHA_DE_CONEXION  CARTERA_EN_MORA  CARTERA_TOTAL  CARGA_INSTALADA  \\\n",
       "146        2000-10-10              NaN            NaN              1.0   \n",
       "154        2016-02-29              0.0        47090.0              1.8   \n",
       "\n",
       "    MODO_ADQUISICION    MEDIDOR  COMPONENTE  CODIGO_MEDIDOR FECHA_INSTALACION  \\\n",
       "146              NaN        NaN         NaN             NaN               NaN   \n",
       "154     C - comodato  MEC-54186   1605850.0        301790.0        2016-02-29   \n",
       "\n",
       "             ESTADO_MEDIDOR  COMPONENT_TYPE_ID    CLASE_SERVICIO TIPO_MEDIDOR  \\\n",
       "146                     NaN                NaN               NaN          NaN   \n",
       "154  21-Pendiente de Retiro               18.0  3257-MEDIDOR AMI          NaN   \n",
       "\n",
       "    GAMA TIPO_ITEM  FASES TRAFO_SPARD   KVA CIRCUITO  NIVEL  LATI_USU  \\\n",
       "146  NaN       NaN    NaN         NaN   NaN      NaN    NaN       NaN   \n",
       "154  NaN       NaN    NaN  60TA030352  45.0   60TM03    1.0  1.819331   \n",
       "\n",
       "      LONG_USU  LATI_TRAFO  LONG_TRAFO  \n",
       "146        NaN         NaN         NaN  \n",
       "154 -78.749592    1.819363  -78.749388  "
      ],
      "text/html": [
       "<div>\n",
       "<style scoped>\n",
       "    .dataframe tbody tr th:only-of-type {\n",
       "        vertical-align: middle;\n",
       "    }\n",
       "\n",
       "    .dataframe tbody tr th {\n",
       "        vertical-align: top;\n",
       "    }\n",
       "\n",
       "    .dataframe thead th {\n",
       "        text-align: right;\n",
       "    }\n",
       "</style>\n",
       "<table border=\"1\" class=\"dataframe\">\n",
       "  <thead>\n",
       "    <tr style=\"text-align: right;\">\n",
       "      <th></th>\n",
       "      <th>PRODUCT_ID</th>\n",
       "      <th>PRODUCTO</th>\n",
       "      <th>CONTRATO</th>\n",
       "      <th>CLIENTE</th>\n",
       "      <th>NOMBRE_CLIENTE</th>\n",
       "      <th>APELLIDO_CLIENTE</th>\n",
       "      <th>ZONA</th>\n",
       "      <th>SECCIONAL</th>\n",
       "      <th>DIRECCION_PRODUCTO</th>\n",
       "      <th>MUNICIPIO_PRODUCTO</th>\n",
       "      <th>VEREDA_CENTRO_POBLADO</th>\n",
       "      <th>BARRIO_PRODUCTO</th>\n",
       "      <th>SECTOR_OPERATIVO_PRODUCTO</th>\n",
       "      <th>COD_CICLO_CONSUMO</th>\n",
       "      <th>CICLO_CONSUMO</th>\n",
       "      <th>COD_CICLO_FACTURACION</th>\n",
       "      <th>CICLO_FACTURACION</th>\n",
       "      <th>RUTA</th>\n",
       "      <th>DES_RUTA</th>\n",
       "      <th>ORDEN_PREDIO</th>\n",
       "      <th>AREA</th>\n",
       "      <th>FECHA_INSTALACION_PRODUCTO</th>\n",
       "      <th>ESTADO_DE_CORTE</th>\n",
       "      <th>ESTADO_PRODUCTO</th>\n",
       "      <th>FECHA_RETIRO_PRODUCTO</th>\n",
       "      <th>SERVICIO_PROVISIONAL</th>\n",
       "      <th>PRODUCTO_ACTIVO</th>\n",
       "      <th>CATEGORIA</th>\n",
       "      <th>SUB_CATEGORIA</th>\n",
       "      <th>ZONA_TARIFARIA</th>\n",
       "      <th>PLAN_COMERCIAL</th>\n",
       "      <th>METOD_VARCON</th>\n",
       "      <th>TRAFO_OPEN</th>\n",
       "      <th>FECHA_INGRESO_A_SISTEMA</th>\n",
       "      <th>FECHA_DE_CONEXION</th>\n",
       "      <th>CARTERA_EN_MORA</th>\n",
       "      <th>CARTERA_TOTAL</th>\n",
       "      <th>CARGA_INSTALADA</th>\n",
       "      <th>MODO_ADQUISICION</th>\n",
       "      <th>MEDIDOR</th>\n",
       "      <th>COMPONENTE</th>\n",
       "      <th>CODIGO_MEDIDOR</th>\n",
       "      <th>FECHA_INSTALACION</th>\n",
       "      <th>ESTADO_MEDIDOR</th>\n",
       "      <th>COMPONENT_TYPE_ID</th>\n",
       "      <th>CLASE_SERVICIO</th>\n",
       "      <th>TIPO_MEDIDOR</th>\n",
       "      <th>GAMA</th>\n",
       "      <th>TIPO_ITEM</th>\n",
       "      <th>FASES</th>\n",
       "      <th>TRAFO_SPARD</th>\n",
       "      <th>KVA</th>\n",
       "      <th>CIRCUITO</th>\n",
       "      <th>NIVEL</th>\n",
       "      <th>LATI_USU</th>\n",
       "      <th>LONG_USU</th>\n",
       "      <th>LATI_TRAFO</th>\n",
       "      <th>LONG_TRAFO</th>\n",
       "    </tr>\n",
       "  </thead>\n",
       "  <tbody>\n",
       "    <tr>\n",
       "      <th>146</th>\n",
       "      <td>597102</td>\n",
       "      <td>597102</td>\n",
       "      <td>597102</td>\n",
       "      <td>100706</td>\n",
       "      <td>MARCIAL VICTORIANO_ LOPEZ NARVAEZ</td>\n",
       "      <td>NaN</td>\n",
       "      <td>PACIFICO</td>\n",
       "      <td>PACIFICO</td>\n",
       "      <td>EL ESFURZO I CS 347 DIV 1</td>\n",
       "      <td>TUMACO</td>\n",
       "      <td>SAN ANDRES DE TUMACO  DISTRITO ESPECIAL  INDUS...</td>\n",
       "      <td>EL ESFUERZO</td>\n",
       "      <td>114-TUMACO  URBANO</td>\n",
       "      <td>4</td>\n",
       "      <td>0Y-TARIFA PARA CLAUSURA PACIFI</td>\n",
       "      <td>4</td>\n",
       "      <td>0Y-TARIFA PARA CLAUSURA PACIFI</td>\n",
       "      <td>5.0</td>\n",
       "      <td>2182-RUTA 2182 DE TUMACO</td>\n",
       "      <td>6058.0</td>\n",
       "      <td>Urbano</td>\n",
       "      <td>2000-10-10</td>\n",
       "      <td>92-Retiro definitivo</td>\n",
       "      <td>3-Retirado</td>\n",
       "      <td>2020-07-06</td>\n",
       "      <td>N</td>\n",
       "      <td>N</td>\n",
       "      <td>1-RESIDENCIAL</td>\n",
       "      <td>1-ESTRATO 1</td>\n",
       "      <td>-1-POR DEFECTO</td>\n",
       "      <td>16-RESIDENCIAL - DIRECTO</td>\n",
       "      <td>5013-PRODUCTOS DIRECTOS</td>\n",
       "      <td>TM30006</td>\n",
       "      <td>2000-10-10</td>\n",
       "      <td>2000-10-10</td>\n",
       "      <td>NaN</td>\n",
       "      <td>NaN</td>\n",
       "      <td>1.0</td>\n",
       "      <td>NaN</td>\n",
       "      <td>NaN</td>\n",
       "      <td>NaN</td>\n",
       "      <td>NaN</td>\n",
       "      <td>NaN</td>\n",
       "      <td>NaN</td>\n",
       "      <td>NaN</td>\n",
       "      <td>NaN</td>\n",
       "      <td>NaN</td>\n",
       "      <td>NaN</td>\n",
       "      <td>NaN</td>\n",
       "      <td>NaN</td>\n",
       "      <td>NaN</td>\n",
       "      <td>NaN</td>\n",
       "      <td>NaN</td>\n",
       "      <td>NaN</td>\n",
       "      <td>NaN</td>\n",
       "      <td>NaN</td>\n",
       "      <td>NaN</td>\n",
       "      <td>NaN</td>\n",
       "    </tr>\n",
       "    <tr>\n",
       "      <th>154</th>\n",
       "      <td>1184921</td>\n",
       "      <td>1184921</td>\n",
       "      <td>1184921</td>\n",
       "      <td>100802</td>\n",
       "      <td>ZAIDA JACKELINE</td>\n",
       "      <td>VALVERDE QUIÑONES</td>\n",
       "      <td>PACIFICO</td>\n",
       "      <td>PACIFICO</td>\n",
       "      <td>CS 53 A PRADOMAR DIV 1</td>\n",
       "      <td>TUMACO</td>\n",
       "      <td>SAN ANDRES DE TUMACO  DISTRITO ESPECIAL  INDUS...</td>\n",
       "      <td>PRADOMAR</td>\n",
       "      <td>114-TUMACO  URBANO</td>\n",
       "      <td>54</td>\n",
       "      <td>0G-MEDIDA CENTRALIZADA TUMACO</td>\n",
       "      <td>54</td>\n",
       "      <td>0G-MEDIDA CENTRALIZADA TUMACO</td>\n",
       "      <td>4040.0</td>\n",
       "      <td>7510 - TUMACO VIADUCTO CONVENCIONAL MORRITO TR...</td>\n",
       "      <td>35560.0</td>\n",
       "      <td>Urbano</td>\n",
       "      <td>2016-02-29</td>\n",
       "      <td>1-Conexión</td>\n",
       "      <td>1-Activo</td>\n",
       "      <td>4732-12-31</td>\n",
       "      <td>N</td>\n",
       "      <td>Y</td>\n",
       "      <td>1-RESIDENCIAL</td>\n",
       "      <td>1-ESTRATO 1</td>\n",
       "      <td>-1-POR DEFECTO</td>\n",
       "      <td>31-PLAN RESIDENCIAL TELEMEDIDO</td>\n",
       "      <td>5004-CLIENTES TELEMEDIDOS</td>\n",
       "      <td>60TA030352</td>\n",
       "      <td>2016-02-29</td>\n",
       "      <td>2016-02-29</td>\n",
       "      <td>0.0</td>\n",
       "      <td>47090.0</td>\n",
       "      <td>1.8</td>\n",
       "      <td>C - comodato</td>\n",
       "      <td>MEC-54186</td>\n",
       "      <td>1605850.0</td>\n",
       "      <td>301790.0</td>\n",
       "      <td>2016-02-29</td>\n",
       "      <td>21-Pendiente de Retiro</td>\n",
       "      <td>18.0</td>\n",
       "      <td>3257-MEDIDOR AMI</td>\n",
       "      <td>NaN</td>\n",
       "      <td>NaN</td>\n",
       "      <td>NaN</td>\n",
       "      <td>NaN</td>\n",
       "      <td>60TA030352</td>\n",
       "      <td>45.0</td>\n",
       "      <td>60TM03</td>\n",
       "      <td>1.0</td>\n",
       "      <td>1.819331</td>\n",
       "      <td>-78.749592</td>\n",
       "      <td>1.819363</td>\n",
       "      <td>-78.749388</td>\n",
       "    </tr>\n",
       "  </tbody>\n",
       "</table>\n",
       "</div>"
      ]
     },
     "execution_count": 21,
     "metadata": {},
     "output_type": "execute_result"
    }
   ],
   "execution_count": 21
  },
  {
   "cell_type": "code",
   "id": "6361b717-3e54-46fc-b078-59e2d2532f99",
   "metadata": {
    "ExecuteTime": {
     "end_time": "2025-05-07T23:14:16.574543Z",
     "start_time": "2025-05-07T23:14:16.570385Z"
    }
   },
   "source": [
    "columnas_deseadas = [\n",
    "    \"PRODUCTO\",\n",
    "    \"AREA\",\n",
    "    \"PLAN_COMERCIAL\",\n",
    "    \"TRAFO_OPEN\",\n",
    "    \"FASES\",\n",
    "    \"KVA\",\n",
    "    \"LATI_USU\",\n",
    "    \"LONG_USU\",\n",
    "]\n",
    "df_usuarios_f = df_usuarios[columnas_deseadas].copy()"
   ],
   "outputs": [],
   "execution_count": 22
  },
  {
   "cell_type": "code",
   "id": "72588929-6bb9-4f02-8837-4642c8221ba7",
   "metadata": {
    "ExecuteTime": {
     "end_time": "2025-05-07T23:14:16.608940Z",
     "start_time": "2025-05-07T23:14:16.602001Z"
    }
   },
   "source": [
    "df_usuarios_f.info()"
   ],
   "outputs": [
    {
     "name": "stdout",
     "output_type": "stream",
     "text": [
      "<class 'pandas.core.frame.DataFrame'>\n",
      "Index: 86423 entries, 146 to 622449\n",
      "Data columns (total 8 columns):\n",
      " #   Column          Non-Null Count  Dtype  \n",
      "---  ------          --------------  -----  \n",
      " 0   PRODUCTO        86423 non-null  int64  \n",
      " 1   AREA            86409 non-null  object \n",
      " 2   PLAN_COMERCIAL  86423 non-null  object \n",
      " 3   TRAFO_OPEN      84291 non-null  object \n",
      " 4   FASES           67434 non-null  float64\n",
      " 5   KVA             73318 non-null  float64\n",
      " 6   LATI_USU        73318 non-null  float64\n",
      " 7   LONG_USU        73318 non-null  float64\n",
      "dtypes: float64(4), int64(1), object(3)\n",
      "memory usage: 5.9+ MB\n"
     ]
    }
   ],
   "execution_count": 23
  },
  {
   "cell_type": "code",
   "id": "e585ec1a-5b47-4726-8cc2-498cb576347a",
   "metadata": {
    "ExecuteTime": {
     "end_time": "2025-05-07T23:14:34.057105Z",
     "start_time": "2025-05-07T23:14:16.637084Z"
    }
   },
   "source": [
    "usuarios_unicos = pd.DataFrame(df_anom_sep_copia[\"Usuario\"].unique(), columns=[\"Usuario\"])\n",
    "# usuarios_unicos.to_excel(\"usuarios_unicos_anomal.xlsx\", index=False)\n",
    "\n",
    "print(\"Valores únicos de 'Usuario' guardados en usuarios_unicos_anomal.xlsx\")\n",
    "\n",
    "# 2. Crear un nuevo dataset comparando y agregando columnas\n",
    "df_nuevo_extendido = pd.merge(\n",
    "    df_anom_sep_copia, df_usuarios_f, left_on=\"Usuario\", right_on=\"PRODUCTO\", how=\"left\"\n",
    ")\n",
    "\n",
    "# Seleccionar solo las columnas deseadas\n",
    "columnas_deseadas = [\n",
    "    \"Orden\",\n",
    "    \"Usuario\",\n",
    "    \"Ejecucion\",\n",
    "    \"Codigo\",\n",
    "    \"Descripcion\",\n",
    "    \"Motivo\",\n",
    "    \"kWh Rec\",\n",
    "    \"Factor\",\n",
    "    \"id\",\n",
    "    \"Nombre\",\n",
    "    \"Factor\",\n",
    "    \"AREA\",\n",
    "    \"PLAN_COMERCIAL\",\n",
    "    \"TRAFO_OPEN\",\n",
    "    \"FASES\",\n",
    "    \"KVA\",\n",
    "    \"LATI_USU\",\n",
    "    \"LONG_USU\",\n",
    "    \"puntaje\",\n",
    "    \"evaluacion\",\n",
    "]\n",
    "df_nuevo_extendido = df_nuevo_extendido[columnas_deseadas]\n",
    "\n",
    "# Mostrar las primeras filas del nuevo dataset extendido\n",
    "print(\"\\nNuevo dataset extendido (df_nuevo_extendido):\")\n",
    "\n",
    "# Guardar el nuevo dataset extendido en un archivo Excel (opcional)\n",
    "# df_nuevo_extendido.to_excel(\"df_nuevo_extendido.xlsx\", index=False)"
   ],
   "outputs": [
    {
     "name": "stdout",
     "output_type": "stream",
     "text": [
      "Valores únicos de 'Usuario' guardados en usuarios_unicos_anomal.xlsx\n",
      "\n",
      "Nuevo dataset extendido (df_nuevo_extendido):\n"
     ]
    }
   ],
   "execution_count": 24
  },
  {
   "cell_type": "code",
   "id": "1857468c-639e-4200-af6f-db41cd533407",
   "metadata": {
    "ExecuteTime": {
     "end_time": "2025-05-07T23:14:34.077755Z",
     "start_time": "2025-05-07T23:14:34.073602Z"
    }
   },
   "source": [
    "df_nuevo_extendido.head(2)"
   ],
   "outputs": [
    {
     "data": {
      "text/plain": [
       "      Orden  Usuario               Ejecucion Codigo  \\\n",
       "0  11168065   544326  2021-03-27 08:04:44-05  30004   \n",
       "1  11232649  1142265  2021-04-09 10:56:34-05  30004   \n",
       "\n",
       "                      Descripcion           Motivo  kWh Rec  Factor    id  \\\n",
       "0  Anomalia verificada y aprobada  Otras Anomalias      NaN     NaN  40.0   \n",
       "1                Posible anomalia              nan      NaN     NaN  40.0   \n",
       "\n",
       "                             Nombre  Factor    AREA      PLAN_COMERCIAL  \\\n",
       "0  OTRAS ANOMALÍAS REINCIDENTE PARE     NaN  Urbano  2-PLAN RESIDENCIAL   \n",
       "1  OTRAS ANOMALÍAS REINCIDENTE PARE     NaN  Urbano  2-PLAN RESIDENCIAL   \n",
       "\n",
       "   TRAFO_OPEN  FASES   KVA  LATI_USU   LONG_USU  puntaje  evaluacion  \n",
       "0  05TN000137    2.0  45.0  1.672157 -78.142107      1.0         1.0  \n",
       "1  05TN000114    1.0  45.0  1.673809 -78.140233      1.0         1.0  "
      ],
      "text/html": [
       "<div>\n",
       "<style scoped>\n",
       "    .dataframe tbody tr th:only-of-type {\n",
       "        vertical-align: middle;\n",
       "    }\n",
       "\n",
       "    .dataframe tbody tr th {\n",
       "        vertical-align: top;\n",
       "    }\n",
       "\n",
       "    .dataframe thead th {\n",
       "        text-align: right;\n",
       "    }\n",
       "</style>\n",
       "<table border=\"1\" class=\"dataframe\">\n",
       "  <thead>\n",
       "    <tr style=\"text-align: right;\">\n",
       "      <th></th>\n",
       "      <th>Orden</th>\n",
       "      <th>Usuario</th>\n",
       "      <th>Ejecucion</th>\n",
       "      <th>Codigo</th>\n",
       "      <th>Descripcion</th>\n",
       "      <th>Motivo</th>\n",
       "      <th>kWh Rec</th>\n",
       "      <th>Factor</th>\n",
       "      <th>id</th>\n",
       "      <th>Nombre</th>\n",
       "      <th>Factor</th>\n",
       "      <th>AREA</th>\n",
       "      <th>PLAN_COMERCIAL</th>\n",
       "      <th>TRAFO_OPEN</th>\n",
       "      <th>FASES</th>\n",
       "      <th>KVA</th>\n",
       "      <th>LATI_USU</th>\n",
       "      <th>LONG_USU</th>\n",
       "      <th>puntaje</th>\n",
       "      <th>evaluacion</th>\n",
       "    </tr>\n",
       "  </thead>\n",
       "  <tbody>\n",
       "    <tr>\n",
       "      <th>0</th>\n",
       "      <td>11168065</td>\n",
       "      <td>544326</td>\n",
       "      <td>2021-03-27 08:04:44-05</td>\n",
       "      <td>30004</td>\n",
       "      <td>Anomalia verificada y aprobada</td>\n",
       "      <td>Otras Anomalias</td>\n",
       "      <td>NaN</td>\n",
       "      <td>NaN</td>\n",
       "      <td>40.0</td>\n",
       "      <td>OTRAS ANOMALÍAS REINCIDENTE PARE</td>\n",
       "      <td>NaN</td>\n",
       "      <td>Urbano</td>\n",
       "      <td>2-PLAN RESIDENCIAL</td>\n",
       "      <td>05TN000137</td>\n",
       "      <td>2.0</td>\n",
       "      <td>45.0</td>\n",
       "      <td>1.672157</td>\n",
       "      <td>-78.142107</td>\n",
       "      <td>1.0</td>\n",
       "      <td>1.0</td>\n",
       "    </tr>\n",
       "    <tr>\n",
       "      <th>1</th>\n",
       "      <td>11232649</td>\n",
       "      <td>1142265</td>\n",
       "      <td>2021-04-09 10:56:34-05</td>\n",
       "      <td>30004</td>\n",
       "      <td>Posible anomalia</td>\n",
       "      <td>nan</td>\n",
       "      <td>NaN</td>\n",
       "      <td>NaN</td>\n",
       "      <td>40.0</td>\n",
       "      <td>OTRAS ANOMALÍAS REINCIDENTE PARE</td>\n",
       "      <td>NaN</td>\n",
       "      <td>Urbano</td>\n",
       "      <td>2-PLAN RESIDENCIAL</td>\n",
       "      <td>05TN000114</td>\n",
       "      <td>1.0</td>\n",
       "      <td>45.0</td>\n",
       "      <td>1.673809</td>\n",
       "      <td>-78.140233</td>\n",
       "      <td>1.0</td>\n",
       "      <td>1.0</td>\n",
       "    </tr>\n",
       "  </tbody>\n",
       "</table>\n",
       "</div>"
      ]
     },
     "execution_count": 25,
     "metadata": {},
     "output_type": "execute_result"
    }
   ],
   "execution_count": 25
  },
  {
   "metadata": {
    "ExecuteTime": {
     "end_time": "2025-05-07T23:14:34.110259Z",
     "start_time": "2025-05-07T23:14:34.108835Z"
    }
   },
   "cell_type": "code",
   "source": "# df_nuevo_extendido.to_csv(data_interim_dir(\"df_nuevo_extendido.csv\"), index=False)",
   "id": "d28316fbc4467b4c",
   "outputs": [],
   "execution_count": 26
  },
  {
   "cell_type": "code",
   "id": "669c36a0-bc61-4346-986e-892a7fd94764",
   "metadata": {
    "ExecuteTime": {
     "end_time": "2025-05-07T23:14:34.163692Z",
     "start_time": "2025-05-07T23:14:34.136632Z"
    }
   },
   "source": [
    "# Crear una copia del DataFrame original\n",
    "df_label_encoded_cluster = df_nuevo_extendido.copy()\n",
    "\n",
    "# Lista para almacenar los mapeos de niveles originales y sus códigos\n",
    "category_mappings = {}\n",
    "\n",
    "# Columnas a codificar\n",
    "columns_to_encode = [\"id\", \"AREA\", \"PLAN_COMERCIAL\"]  # Ajusta a tus columnas\n",
    "\n",
    "# Aplicar Label Encoding a cada columna\n",
    "for col in columns_to_encode:\n",
    "    # Convertir a tipo categoría\n",
    "    df_label_encoded_cluster[col] = df_label_encoded_cluster[col].astype(\"category\")\n",
    "\n",
    "    # Guardar el mapeo de niveles\n",
    "    category_mappings[col] = dict(enumerate(df_label_encoded_cluster[col].cat.categories))\n",
    "\n",
    "    # Reemplazar los valores por sus códigos numéricos\n",
    "    df_label_encoded_cluster[col] = df_label_encoded_cluster[col].cat.codes"
   ],
   "outputs": [],
   "execution_count": 27
  },
  {
   "cell_type": "code",
   "id": "6110ebe8-b51e-4192-a997-b47e582ffc48",
   "metadata": {
    "ExecuteTime": {
     "end_time": "2025-05-07T23:14:34.197001Z",
     "start_time": "2025-05-07T23:14:34.195050Z"
    }
   },
   "source": [
    "import json\n",
    "\n",
    "# Guardar en archivo JSON\n",
    "with open(\"category_mappings_anomaly_ext.json\", \"w\") as f:\n",
    "    json.dump(category_mappings, f)\n",
    "\n",
    "# Cargar desde archivo JSON\n",
    "with open(\"category_mappings_anomaly_ext.json\", \"r\") as f:\n",
    "    loaded_mappings = json.load(f)"
   ],
   "outputs": [],
   "execution_count": 28
  },
  {
   "cell_type": "code",
   "id": "58bbb20f-d823-4441-87d0-11c3500c2e8c",
   "metadata": {
    "ExecuteTime": {
     "end_time": "2025-05-07T23:14:34.768119Z",
     "start_time": "2025-05-07T23:14:34.214Z"
    }
   },
   "source": "df_label_encoded_cluster.to_csv(data_interim_dir(\"df_anomaly_limpio_train.csv\"), index=False)",
   "outputs": [],
   "execution_count": 29
  },
  {
   "cell_type": "code",
   "id": "6bbebbf7-7866-4f16-aff7-db3dc0bc4832",
   "metadata": {
    "ExecuteTime": {
     "end_time": "2025-05-07T23:14:34.788045Z",
     "start_time": "2025-05-07T23:14:34.785237Z"
    }
   },
   "source": [
    "columnas_deseadas = [\n",
    "    \"Usuario\",\n",
    "    \"id\",\n",
    "    \"AREA\",\n",
    "    \"PLAN_COMERCIAL\",\n",
    "    \"LATI_USU\",\n",
    "    \"LONG_USU\",\n",
    "    \"puntaje\",\n",
    "    \"evaluacion\",\n",
    "]\n",
    "df_label_encoded_extendido = df_label_encoded_cluster[columnas_deseadas]"
   ],
   "outputs": [],
   "execution_count": 30
  },
  {
   "cell_type": "code",
   "id": "32187969-c7e1-4ff5-96d3-51de6d0639df",
   "metadata": {
    "ExecuteTime": {
     "end_time": "2025-05-07T23:14:34.809196Z",
     "start_time": "2025-05-07T23:14:34.805752Z"
    }
   },
   "source": [
    "df_label_encoded_extendido.info()"
   ],
   "outputs": [
    {
     "name": "stdout",
     "output_type": "stream",
     "text": [
      "<class 'pandas.core.frame.DataFrame'>\n",
      "RangeIndex: 161685 entries, 0 to 161684\n",
      "Data columns (total 8 columns):\n",
      " #   Column          Non-Null Count   Dtype  \n",
      "---  ------          --------------   -----  \n",
      " 0   Usuario         161685 non-null  int64  \n",
      " 1   id              161685 non-null  int8   \n",
      " 2   AREA            161685 non-null  int8   \n",
      " 3   PLAN_COMERCIAL  161685 non-null  int8   \n",
      " 4   LATI_USU        161328 non-null  float64\n",
      " 5   LONG_USU        161328 non-null  float64\n",
      " 6   puntaje         161033 non-null  float64\n",
      " 7   evaluacion      161033 non-null  float64\n",
      "dtypes: float64(4), int64(1), int8(3)\n",
      "memory usage: 6.6 MB\n"
     ]
    }
   ],
   "execution_count": 31
  },
  {
   "cell_type": "code",
   "id": "11c01182-0c06-424c-8908-1b59d8919a7b",
   "metadata": {
    "ExecuteTime": {
     "end_time": "2025-05-07T23:14:34.836032Z",
     "start_time": "2025-05-07T23:14:34.832785Z"
    }
   },
   "source": [
    "df_label_encoded_extendido.head()"
   ],
   "outputs": [
    {
     "data": {
      "text/plain": [
       "   Usuario  id  AREA  PLAN_COMERCIAL  LATI_USU   LONG_USU  puntaje  evaluacion\n",
       "0   544326  22     2               4  1.672157 -78.142107      1.0         1.0\n",
       "1  1142265  22     2               4  1.673809 -78.140233      1.0         1.0\n",
       "2   543180  22     2               4  1.671898 -78.140568      1.0         1.0\n",
       "3   543302  22     2               4  1.672003 -78.141612      1.0         1.0\n",
       "4   544763  22     2               4  1.675486 -78.137020      1.0         1.0"
      ],
      "text/html": [
       "<div>\n",
       "<style scoped>\n",
       "    .dataframe tbody tr th:only-of-type {\n",
       "        vertical-align: middle;\n",
       "    }\n",
       "\n",
       "    .dataframe tbody tr th {\n",
       "        vertical-align: top;\n",
       "    }\n",
       "\n",
       "    .dataframe thead th {\n",
       "        text-align: right;\n",
       "    }\n",
       "</style>\n",
       "<table border=\"1\" class=\"dataframe\">\n",
       "  <thead>\n",
       "    <tr style=\"text-align: right;\">\n",
       "      <th></th>\n",
       "      <th>Usuario</th>\n",
       "      <th>id</th>\n",
       "      <th>AREA</th>\n",
       "      <th>PLAN_COMERCIAL</th>\n",
       "      <th>LATI_USU</th>\n",
       "      <th>LONG_USU</th>\n",
       "      <th>puntaje</th>\n",
       "      <th>evaluacion</th>\n",
       "    </tr>\n",
       "  </thead>\n",
       "  <tbody>\n",
       "    <tr>\n",
       "      <th>0</th>\n",
       "      <td>544326</td>\n",
       "      <td>22</td>\n",
       "      <td>2</td>\n",
       "      <td>4</td>\n",
       "      <td>1.672157</td>\n",
       "      <td>-78.142107</td>\n",
       "      <td>1.0</td>\n",
       "      <td>1.0</td>\n",
       "    </tr>\n",
       "    <tr>\n",
       "      <th>1</th>\n",
       "      <td>1142265</td>\n",
       "      <td>22</td>\n",
       "      <td>2</td>\n",
       "      <td>4</td>\n",
       "      <td>1.673809</td>\n",
       "      <td>-78.140233</td>\n",
       "      <td>1.0</td>\n",
       "      <td>1.0</td>\n",
       "    </tr>\n",
       "    <tr>\n",
       "      <th>2</th>\n",
       "      <td>543180</td>\n",
       "      <td>22</td>\n",
       "      <td>2</td>\n",
       "      <td>4</td>\n",
       "      <td>1.671898</td>\n",
       "      <td>-78.140568</td>\n",
       "      <td>1.0</td>\n",
       "      <td>1.0</td>\n",
       "    </tr>\n",
       "    <tr>\n",
       "      <th>3</th>\n",
       "      <td>543302</td>\n",
       "      <td>22</td>\n",
       "      <td>2</td>\n",
       "      <td>4</td>\n",
       "      <td>1.672003</td>\n",
       "      <td>-78.141612</td>\n",
       "      <td>1.0</td>\n",
       "      <td>1.0</td>\n",
       "    </tr>\n",
       "    <tr>\n",
       "      <th>4</th>\n",
       "      <td>544763</td>\n",
       "      <td>22</td>\n",
       "      <td>2</td>\n",
       "      <td>4</td>\n",
       "      <td>1.675486</td>\n",
       "      <td>-78.137020</td>\n",
       "      <td>1.0</td>\n",
       "      <td>1.0</td>\n",
       "    </tr>\n",
       "  </tbody>\n",
       "</table>\n",
       "</div>"
      ]
     },
     "execution_count": 32,
     "metadata": {},
     "output_type": "execute_result"
    }
   ],
   "execution_count": 32
  },
  {
   "cell_type": "code",
   "id": "a94ca2e7-d424-4203-93b0-12b52740e2a2",
   "metadata": {
    "ExecuteTime": {
     "end_time": "2025-05-07T23:14:35.073229Z",
     "start_time": "2025-05-07T23:14:34.865810Z"
    }
   },
   "source": "df_label_encoded_extendido.to_csv(data_interim_dir(\"df_anomaly_encoded_limpio_train.csv\"), index=False)",
   "outputs": [],
   "execution_count": 33
  },
  {
   "metadata": {},
   "cell_type": "markdown",
   "source": "# Resumen del notebook",
   "id": "54223a39037acd62"
  },
  {
   "metadata": {
    "ExecuteTime": {
     "end_time": "2025-05-08T03:12:17.193387Z",
     "start_time": "2025-05-08T03:10:33.852869Z"
    }
   },
   "cell_type": "code",
   "source": [
    "df_anomalies = pd.read_excel(data_raw_dir(\"anomalias 2022 23 y 24.xlsx\"))\n",
    "df_anomalies_pa = df_anomalies[df_anomalies[\"Zona\"] == \"PA\"].copy()\n",
    "df_ponderado = pd.read_excel(data_raw_dir(\"items anomalia ponderado.xlsx\"))\n",
    "df_usuarios = pd.read_excel(data_raw_dir(\"cedenar_data.xlsx\"))\n",
    "df_usuarios_pa = df_usuarios[usu_pacifico.ZONA == \"PACIFICO\"].copy()"
   ],
   "id": "a25588d6f4a94651",
   "outputs": [],
   "execution_count": 85
  },
  {
   "metadata": {
    "ExecuteTime": {
     "end_time": "2025-05-08T02:10:54.015115Z",
     "start_time": "2025-05-08T02:10:53.822056Z"
    }
   },
   "cell_type": "code",
   "source": [
    "cols_anomalies = [\"Orden\", \"Usuario\",\"Ejecucion\", \"Codigo\",\"Descripcion\", \"Motivo\", \"kWh Rec\", \"Factor\", \"Zona\"]\n",
    "df_anomalies_pa = df_anomalies_pa[cols_anomalies].copy()\n",
    "df_expanded = df_anomalies.assign(Codigo=df_anomalies['Codigo'].astype(str).str.split(\"/\")).explode(\"Codigo\")\n",
    "df_expanded['Codigo'] = df_expanded['Codigo'].str.strip()\n",
    "\n",
    "df_merged = pd.merge(df_expanded, df_ponderado[[\"Item\",'id','Nombre','puntaje', 'evaluacion']].copy(), how=\"left\", left_on=\"Codigo\", right_on=\"Item\")\n",
    "df_merged.drop(columns=['Item'], inplace=True)\n",
    "columnas_deseadas = [\"PRODUCTO\", \"AREA\", \"PLAN_COMERCIAL\",\"TRAFO_OPEN\", \"FASES\", \"KVA\", \"LATI_USU\", \"LONG_USU\"]\n",
    "df_usuarios = df_usuarios[columnas_deseadas].copy()\n",
    "\n",
    "# 2. Crear un nuevo dataset comparando y agregando columnas\n",
    "df_nuevo_extendido = pd.merge(df_merged, df_usuarios, left_on='Usuario', right_on='PRODUCTO', how='left')\n",
    "\n",
    "# Seleccionar solo las columnas deseadas\n",
    "columnas_deseadas = ['Orden', 'Usuario', \"Ejecucion\", 'Codigo', 'Descripcion', 'Motivo', 'kWh Rec','Factor', 'id','Nombre','Factor','AREA', 'PLAN_COMERCIAL', 'TRAFO_OPEN', 'FASES', 'KVA', 'LATI_USU', 'LONG_USU','puntaje', 'evaluacion', \"Zona\"]\n",
    "df_nuevo_extendido = df_nuevo_extendido[columnas_deseadas]"
   ],
   "id": "f9bc0ac6e1058128",
   "outputs": [],
   "execution_count": 67
  },
  {
   "metadata": {
    "ExecuteTime": {
     "end_time": "2025-05-08T02:10:54.600295Z",
     "start_time": "2025-05-08T02:10:54.593976Z"
    }
   },
   "cell_type": "code",
   "source": "df_expanded.head(2)",
   "id": "1da84b611e891f93",
   "outputs": [
    {
     "data": {
      "text/plain": [
       "  Zona      Contrato     Orden  Usuario     Estado               Ejecucion  \\\n",
       "0   CE  DES 100.2018  10141926  1154748  Pendiente  2021-02-22 12:54:26-05   \n",
       "0   CE  DES 100.2018  10141926  1154748  Pendiente  2021-02-22 12:54:26-05   \n",
       "\n",
       "  Revision Codigo                                           Anomalia  \\\n",
       "0      NaN      2  ACOMETIDA O DERIVACIÓN NO AUTORIZADA HACIA CAR...   \n",
       "0      NaN      1  ACOMETIDA O DERIVACIÓN NO AUTORIZADA HACIA CAR...   \n",
       "\n",
       "   N. Unidad           Unidad  N. Causa                 Causa   U. Genera  \\\n",
       "0          0  GES. ENERGETICA         0  CAUSA NO DETERMINADA  LPATINO123   \n",
       "0          0  GES. ENERGETICA         0  CAUSA NO DETERMINADA  LPATINO123   \n",
       "\n",
       "        Descripcion Motivo Cuadrilla  kWh Rec  Factor  \n",
       "0  Posible anomalia    NaN    ZTY143      NaN     NaN  \n",
       "0  Posible anomalia    NaN    ZTY143      NaN     NaN  "
      ],
      "text/html": [
       "<div>\n",
       "<style scoped>\n",
       "    .dataframe tbody tr th:only-of-type {\n",
       "        vertical-align: middle;\n",
       "    }\n",
       "\n",
       "    .dataframe tbody tr th {\n",
       "        vertical-align: top;\n",
       "    }\n",
       "\n",
       "    .dataframe thead th {\n",
       "        text-align: right;\n",
       "    }\n",
       "</style>\n",
       "<table border=\"1\" class=\"dataframe\">\n",
       "  <thead>\n",
       "    <tr style=\"text-align: right;\">\n",
       "      <th></th>\n",
       "      <th>Zona</th>\n",
       "      <th>Contrato</th>\n",
       "      <th>Orden</th>\n",
       "      <th>Usuario</th>\n",
       "      <th>Estado</th>\n",
       "      <th>Ejecucion</th>\n",
       "      <th>Revision</th>\n",
       "      <th>Codigo</th>\n",
       "      <th>Anomalia</th>\n",
       "      <th>N. Unidad</th>\n",
       "      <th>Unidad</th>\n",
       "      <th>N. Causa</th>\n",
       "      <th>Causa</th>\n",
       "      <th>U. Genera</th>\n",
       "      <th>Descripcion</th>\n",
       "      <th>Motivo</th>\n",
       "      <th>Cuadrilla</th>\n",
       "      <th>kWh Rec</th>\n",
       "      <th>Factor</th>\n",
       "    </tr>\n",
       "  </thead>\n",
       "  <tbody>\n",
       "    <tr>\n",
       "      <th>0</th>\n",
       "      <td>CE</td>\n",
       "      <td>DES 100.2018</td>\n",
       "      <td>10141926</td>\n",
       "      <td>1154748</td>\n",
       "      <td>Pendiente</td>\n",
       "      <td>2021-02-22 12:54:26-05</td>\n",
       "      <td>NaN</td>\n",
       "      <td>2</td>\n",
       "      <td>ACOMETIDA O DERIVACIÓN NO AUTORIZADA HACIA CAR...</td>\n",
       "      <td>0</td>\n",
       "      <td>GES. ENERGETICA</td>\n",
       "      <td>0</td>\n",
       "      <td>CAUSA NO DETERMINADA</td>\n",
       "      <td>LPATINO123</td>\n",
       "      <td>Posible anomalia</td>\n",
       "      <td>NaN</td>\n",
       "      <td>ZTY143</td>\n",
       "      <td>NaN</td>\n",
       "      <td>NaN</td>\n",
       "    </tr>\n",
       "    <tr>\n",
       "      <th>0</th>\n",
       "      <td>CE</td>\n",
       "      <td>DES 100.2018</td>\n",
       "      <td>10141926</td>\n",
       "      <td>1154748</td>\n",
       "      <td>Pendiente</td>\n",
       "      <td>2021-02-22 12:54:26-05</td>\n",
       "      <td>NaN</td>\n",
       "      <td>1</td>\n",
       "      <td>ACOMETIDA O DERIVACIÓN NO AUTORIZADA HACIA CAR...</td>\n",
       "      <td>0</td>\n",
       "      <td>GES. ENERGETICA</td>\n",
       "      <td>0</td>\n",
       "      <td>CAUSA NO DETERMINADA</td>\n",
       "      <td>LPATINO123</td>\n",
       "      <td>Posible anomalia</td>\n",
       "      <td>NaN</td>\n",
       "      <td>ZTY143</td>\n",
       "      <td>NaN</td>\n",
       "      <td>NaN</td>\n",
       "    </tr>\n",
       "  </tbody>\n",
       "</table>\n",
       "</div>"
      ]
     },
     "execution_count": 68,
     "metadata": {},
     "output_type": "execute_result"
    }
   ],
   "execution_count": 68
  },
  {
   "metadata": {
    "ExecuteTime": {
     "end_time": "2025-05-08T02:10:55.616511Z",
     "start_time": "2025-05-08T02:10:55.611041Z"
    }
   },
   "cell_type": "code",
   "source": "df_ponderado.head(2)",
   "id": "ced0a884b2baf77c",
   "outputs": [
    {
     "data": {
      "text/plain": [
       "   id Sigla  Movil Item      Creado                Nombre Activo  puntaje  \\\n",
       "0   6    LD    143   82  2018-09-18         LINEA DIRECTA     SI        5   \n",
       "1  23    AI    144   38  2018-09-18  ACOMETIDA INTERVENID     SI        5   \n",
       "\n",
       "   evaluacion  \n",
       "0           3  \n",
       "1           3  "
      ],
      "text/html": [
       "<div>\n",
       "<style scoped>\n",
       "    .dataframe tbody tr th:only-of-type {\n",
       "        vertical-align: middle;\n",
       "    }\n",
       "\n",
       "    .dataframe tbody tr th {\n",
       "        vertical-align: top;\n",
       "    }\n",
       "\n",
       "    .dataframe thead th {\n",
       "        text-align: right;\n",
       "    }\n",
       "</style>\n",
       "<table border=\"1\" class=\"dataframe\">\n",
       "  <thead>\n",
       "    <tr style=\"text-align: right;\">\n",
       "      <th></th>\n",
       "      <th>id</th>\n",
       "      <th>Sigla</th>\n",
       "      <th>Movil</th>\n",
       "      <th>Item</th>\n",
       "      <th>Creado</th>\n",
       "      <th>Nombre</th>\n",
       "      <th>Activo</th>\n",
       "      <th>puntaje</th>\n",
       "      <th>evaluacion</th>\n",
       "    </tr>\n",
       "  </thead>\n",
       "  <tbody>\n",
       "    <tr>\n",
       "      <th>0</th>\n",
       "      <td>6</td>\n",
       "      <td>LD</td>\n",
       "      <td>143</td>\n",
       "      <td>82</td>\n",
       "      <td>2018-09-18</td>\n",
       "      <td>LINEA DIRECTA</td>\n",
       "      <td>SI</td>\n",
       "      <td>5</td>\n",
       "      <td>3</td>\n",
       "    </tr>\n",
       "    <tr>\n",
       "      <th>1</th>\n",
       "      <td>23</td>\n",
       "      <td>AI</td>\n",
       "      <td>144</td>\n",
       "      <td>38</td>\n",
       "      <td>2018-09-18</td>\n",
       "      <td>ACOMETIDA INTERVENID</td>\n",
       "      <td>SI</td>\n",
       "      <td>5</td>\n",
       "      <td>3</td>\n",
       "    </tr>\n",
       "  </tbody>\n",
       "</table>\n",
       "</div>"
      ]
     },
     "execution_count": 69,
     "metadata": {},
     "output_type": "execute_result"
    }
   ],
   "execution_count": 69
  },
  {
   "metadata": {
    "ExecuteTime": {
     "end_time": "2025-05-08T02:10:58.210813Z",
     "start_time": "2025-05-08T02:10:58.050471Z"
    }
   },
   "cell_type": "code",
   "source": [
    "df_merged = pd.merge(df_expanded, df_ponderado[[\"Item\",'id','Nombre','puntaje', 'evaluacion']].copy(), how=\"left\", left_on=\"Codigo\", right_on=\"Item\")\n",
    "\n",
    "df_merged.drop(columns=['Item'], inplace=True)"
   ],
   "id": "bf304cc1dab16702",
   "outputs": [],
   "execution_count": 70
  },
  {
   "metadata": {
    "ExecuteTime": {
     "end_time": "2025-05-08T02:11:03.026185Z",
     "start_time": "2025-05-08T02:11:03.019166Z"
    }
   },
   "cell_type": "code",
   "source": "df_merged.head(2)",
   "id": "79a9b31058d4e51d",
   "outputs": [
    {
     "data": {
      "text/plain": [
       "  Zona      Contrato     Orden  Usuario     Estado               Ejecucion  \\\n",
       "0   CE  DES 100.2018  10141926  1154748  Pendiente  2021-02-22 12:54:26-05   \n",
       "1   CE  DES 100.2018  10141926  1154748  Pendiente  2021-02-22 12:54:26-05   \n",
       "\n",
       "  Revision Codigo                                           Anomalia  \\\n",
       "0      NaN      2  ACOMETIDA O DERIVACIÓN NO AUTORIZADA HACIA CAR...   \n",
       "1      NaN      1  ACOMETIDA O DERIVACIÓN NO AUTORIZADA HACIA CAR...   \n",
       "\n",
       "   N. Unidad           Unidad  N. Causa                 Causa   U. Genera  \\\n",
       "0          0  GES. ENERGETICA         0  CAUSA NO DETERMINADA  LPATINO123   \n",
       "1          0  GES. ENERGETICA         0  CAUSA NO DETERMINADA  LPATINO123   \n",
       "\n",
       "        Descripcion Motivo Cuadrilla  kWh Rec  Factor    id  \\\n",
       "0  Posible anomalia    NaN    ZTY143      NaN     NaN  73.0   \n",
       "1  Posible anomalia    NaN    ZTY143      NaN     NaN  69.0   \n",
       "\n",
       "                                    Nombre  puntaje  evaluacion  \n",
       "0  ACOMETIDA O DERIVACIÓN NO AUTORIZADA HA      5.0         3.0  \n",
       "1  ACOMETIDA O DERIVACIÓN NO AUTORIZADA HA      5.0         3.0  "
      ],
      "text/html": [
       "<div>\n",
       "<style scoped>\n",
       "    .dataframe tbody tr th:only-of-type {\n",
       "        vertical-align: middle;\n",
       "    }\n",
       "\n",
       "    .dataframe tbody tr th {\n",
       "        vertical-align: top;\n",
       "    }\n",
       "\n",
       "    .dataframe thead th {\n",
       "        text-align: right;\n",
       "    }\n",
       "</style>\n",
       "<table border=\"1\" class=\"dataframe\">\n",
       "  <thead>\n",
       "    <tr style=\"text-align: right;\">\n",
       "      <th></th>\n",
       "      <th>Zona</th>\n",
       "      <th>Contrato</th>\n",
       "      <th>Orden</th>\n",
       "      <th>Usuario</th>\n",
       "      <th>Estado</th>\n",
       "      <th>Ejecucion</th>\n",
       "      <th>Revision</th>\n",
       "      <th>Codigo</th>\n",
       "      <th>Anomalia</th>\n",
       "      <th>N. Unidad</th>\n",
       "      <th>Unidad</th>\n",
       "      <th>N. Causa</th>\n",
       "      <th>Causa</th>\n",
       "      <th>U. Genera</th>\n",
       "      <th>Descripcion</th>\n",
       "      <th>Motivo</th>\n",
       "      <th>Cuadrilla</th>\n",
       "      <th>kWh Rec</th>\n",
       "      <th>Factor</th>\n",
       "      <th>id</th>\n",
       "      <th>Nombre</th>\n",
       "      <th>puntaje</th>\n",
       "      <th>evaluacion</th>\n",
       "    </tr>\n",
       "  </thead>\n",
       "  <tbody>\n",
       "    <tr>\n",
       "      <th>0</th>\n",
       "      <td>CE</td>\n",
       "      <td>DES 100.2018</td>\n",
       "      <td>10141926</td>\n",
       "      <td>1154748</td>\n",
       "      <td>Pendiente</td>\n",
       "      <td>2021-02-22 12:54:26-05</td>\n",
       "      <td>NaN</td>\n",
       "      <td>2</td>\n",
       "      <td>ACOMETIDA O DERIVACIÓN NO AUTORIZADA HACIA CAR...</td>\n",
       "      <td>0</td>\n",
       "      <td>GES. ENERGETICA</td>\n",
       "      <td>0</td>\n",
       "      <td>CAUSA NO DETERMINADA</td>\n",
       "      <td>LPATINO123</td>\n",
       "      <td>Posible anomalia</td>\n",
       "      <td>NaN</td>\n",
       "      <td>ZTY143</td>\n",
       "      <td>NaN</td>\n",
       "      <td>NaN</td>\n",
       "      <td>73.0</td>\n",
       "      <td>ACOMETIDA O DERIVACIÓN NO AUTORIZADA HA</td>\n",
       "      <td>5.0</td>\n",
       "      <td>3.0</td>\n",
       "    </tr>\n",
       "    <tr>\n",
       "      <th>1</th>\n",
       "      <td>CE</td>\n",
       "      <td>DES 100.2018</td>\n",
       "      <td>10141926</td>\n",
       "      <td>1154748</td>\n",
       "      <td>Pendiente</td>\n",
       "      <td>2021-02-22 12:54:26-05</td>\n",
       "      <td>NaN</td>\n",
       "      <td>1</td>\n",
       "      <td>ACOMETIDA O DERIVACIÓN NO AUTORIZADA HACIA CAR...</td>\n",
       "      <td>0</td>\n",
       "      <td>GES. ENERGETICA</td>\n",
       "      <td>0</td>\n",
       "      <td>CAUSA NO DETERMINADA</td>\n",
       "      <td>LPATINO123</td>\n",
       "      <td>Posible anomalia</td>\n",
       "      <td>NaN</td>\n",
       "      <td>ZTY143</td>\n",
       "      <td>NaN</td>\n",
       "      <td>NaN</td>\n",
       "      <td>69.0</td>\n",
       "      <td>ACOMETIDA O DERIVACIÓN NO AUTORIZADA HA</td>\n",
       "      <td>5.0</td>\n",
       "      <td>3.0</td>\n",
       "    </tr>\n",
       "  </tbody>\n",
       "</table>\n",
       "</div>"
      ]
     },
     "execution_count": 71,
     "metadata": {},
     "output_type": "execute_result"
    }
   ],
   "execution_count": 71
  },
  {
   "metadata": {
    "ExecuteTime": {
     "end_time": "2025-05-08T02:11:04.683560Z",
     "start_time": "2025-05-08T02:11:04.675098Z"
    }
   },
   "cell_type": "code",
   "source": "df_merged[df_merged.Orden == 11168065]",
   "id": "427852f92c17458a",
   "outputs": [
    {
     "data": {
      "text/plain": [
       "   Zona      Contrato     Orden  Usuario    Estado               Ejecucion  \\\n",
       "22   PA  PIE 333.2021  11168065   544326  Aprobada  2021-03-27 08:04:44-05   \n",
       "\n",
       "                        Revision Codigo                          Anomalia  \\\n",
       "22  2022-02-26 04:24:33.66772-05  30004  OTRAS ANOMALÍAS REINCIDENTE PARE   \n",
       "\n",
       "    N. Unidad            Unidad  N. Causa                 Causa  U. Genera  \\\n",
       "22          0  CONTROL PERDIDAS         0  CAUSA NO DETERMINADA  GSANDOVAL   \n",
       "\n",
       "                       Descripcion           Motivo Cuadrilla  kWh Rec  \\\n",
       "22  Anomalia verificada y aprobada  Otras Anomalias    ZTY971      NaN   \n",
       "\n",
       "    Factor    id                            Nombre  puntaje  evaluacion  \n",
       "22     NaN  40.0  OTRAS ANOMALÍAS REINCIDENTE PARE      1.0         1.0  "
      ],
      "text/html": [
       "<div>\n",
       "<style scoped>\n",
       "    .dataframe tbody tr th:only-of-type {\n",
       "        vertical-align: middle;\n",
       "    }\n",
       "\n",
       "    .dataframe tbody tr th {\n",
       "        vertical-align: top;\n",
       "    }\n",
       "\n",
       "    .dataframe thead th {\n",
       "        text-align: right;\n",
       "    }\n",
       "</style>\n",
       "<table border=\"1\" class=\"dataframe\">\n",
       "  <thead>\n",
       "    <tr style=\"text-align: right;\">\n",
       "      <th></th>\n",
       "      <th>Zona</th>\n",
       "      <th>Contrato</th>\n",
       "      <th>Orden</th>\n",
       "      <th>Usuario</th>\n",
       "      <th>Estado</th>\n",
       "      <th>Ejecucion</th>\n",
       "      <th>Revision</th>\n",
       "      <th>Codigo</th>\n",
       "      <th>Anomalia</th>\n",
       "      <th>N. Unidad</th>\n",
       "      <th>Unidad</th>\n",
       "      <th>N. Causa</th>\n",
       "      <th>Causa</th>\n",
       "      <th>U. Genera</th>\n",
       "      <th>Descripcion</th>\n",
       "      <th>Motivo</th>\n",
       "      <th>Cuadrilla</th>\n",
       "      <th>kWh Rec</th>\n",
       "      <th>Factor</th>\n",
       "      <th>id</th>\n",
       "      <th>Nombre</th>\n",
       "      <th>puntaje</th>\n",
       "      <th>evaluacion</th>\n",
       "    </tr>\n",
       "  </thead>\n",
       "  <tbody>\n",
       "    <tr>\n",
       "      <th>22</th>\n",
       "      <td>PA</td>\n",
       "      <td>PIE 333.2021</td>\n",
       "      <td>11168065</td>\n",
       "      <td>544326</td>\n",
       "      <td>Aprobada</td>\n",
       "      <td>2021-03-27 08:04:44-05</td>\n",
       "      <td>2022-02-26 04:24:33.66772-05</td>\n",
       "      <td>30004</td>\n",
       "      <td>OTRAS ANOMALÍAS REINCIDENTE PARE</td>\n",
       "      <td>0</td>\n",
       "      <td>CONTROL PERDIDAS</td>\n",
       "      <td>0</td>\n",
       "      <td>CAUSA NO DETERMINADA</td>\n",
       "      <td>GSANDOVAL</td>\n",
       "      <td>Anomalia verificada y aprobada</td>\n",
       "      <td>Otras Anomalias</td>\n",
       "      <td>ZTY971</td>\n",
       "      <td>NaN</td>\n",
       "      <td>NaN</td>\n",
       "      <td>40.0</td>\n",
       "      <td>OTRAS ANOMALÍAS REINCIDENTE PARE</td>\n",
       "      <td>1.0</td>\n",
       "      <td>1.0</td>\n",
       "    </tr>\n",
       "  </tbody>\n",
       "</table>\n",
       "</div>"
      ]
     },
     "execution_count": 72,
     "metadata": {},
     "output_type": "execute_result"
    }
   ],
   "execution_count": 72
  },
  {
   "metadata": {
    "ExecuteTime": {
     "end_time": "2025-05-08T02:11:14.676502Z",
     "start_time": "2025-05-08T02:11:14.499256Z"
    }
   },
   "cell_type": "code",
   "source": [
    "columnas_deseadas = [\"PRODUCTO\", \"AREA\", \"PLAN_COMERCIAL\",\"TRAFO_OPEN\", \"FASES\", \"KVA\", \"LATI_USU\", \"LONG_USU\"]\n",
    "df_usuarios = df_usuarios[columnas_deseadas].copy()\n",
    "\n",
    "# 2. Crear un nuevo dataset comparando y agregando columnas\n",
    "df_nuevo_extendido = pd.merge(df_merged, df_usuarios, left_on='Usuario', right_on='PRODUCTO', how='left')\n",
    "\n",
    "# Seleccionar solo las columnas deseadas\n",
    "columnas_deseadas = ['Orden', 'Usuario', \"Ejecucion\", 'Codigo', 'Descripcion', 'Motivo', 'kWh Rec','Factor', 'id','Nombre','Factor','AREA', 'PLAN_COMERCIAL', 'TRAFO_OPEN', 'FASES', 'KVA', 'LATI_USU', 'LONG_USU','puntaje', 'evaluacion', \"Zona\"]\n",
    "df_nuevo_extendido = df_nuevo_extendido[columnas_deseadas]\n",
    "df_nuevo_extendido.head(2)"
   ],
   "id": "96142dffe4893819",
   "outputs": [
    {
     "data": {
      "text/plain": [
       "      Orden  Usuario               Ejecucion Codigo       Descripcion Motivo  \\\n",
       "0  10141926  1154748  2021-02-22 12:54:26-05      2  Posible anomalia    NaN   \n",
       "1  10141926  1154748  2021-02-22 12:54:26-05      1  Posible anomalia    NaN   \n",
       "\n",
       "   kWh Rec  Factor    id                                   Nombre  Factor  \\\n",
       "0      NaN     NaN  73.0  ACOMETIDA O DERIVACIÓN NO AUTORIZADA HA     NaN   \n",
       "1      NaN     NaN  69.0  ACOMETIDA O DERIVACIÓN NO AUTORIZADA HA     NaN   \n",
       "\n",
       "    AREA               PLAN_COMERCIAL  TRAFO_OPEN  FASES   KVA  LATI_USU  \\\n",
       "0  Rural  17-NO RESIDENCIAL - DIRECTO  15TA061951    3.0  15.0  1.396476   \n",
       "1  Rural  17-NO RESIDENCIAL - DIRECTO  15TA061951    3.0  15.0  1.396476   \n",
       "\n",
       "    LONG_USU  puntaje  evaluacion    ZONA Zona  \n",
       "0 -77.288275      5.0         3.0  CENTRO   CE  \n",
       "1 -77.288275      5.0         3.0  CENTRO   CE  "
      ],
      "text/html": [
       "<div>\n",
       "<style scoped>\n",
       "    .dataframe tbody tr th:only-of-type {\n",
       "        vertical-align: middle;\n",
       "    }\n",
       "\n",
       "    .dataframe tbody tr th {\n",
       "        vertical-align: top;\n",
       "    }\n",
       "\n",
       "    .dataframe thead th {\n",
       "        text-align: right;\n",
       "    }\n",
       "</style>\n",
       "<table border=\"1\" class=\"dataframe\">\n",
       "  <thead>\n",
       "    <tr style=\"text-align: right;\">\n",
       "      <th></th>\n",
       "      <th>Orden</th>\n",
       "      <th>Usuario</th>\n",
       "      <th>Ejecucion</th>\n",
       "      <th>Codigo</th>\n",
       "      <th>Descripcion</th>\n",
       "      <th>Motivo</th>\n",
       "      <th>kWh Rec</th>\n",
       "      <th>Factor</th>\n",
       "      <th>id</th>\n",
       "      <th>Nombre</th>\n",
       "      <th>Factor</th>\n",
       "      <th>AREA</th>\n",
       "      <th>PLAN_COMERCIAL</th>\n",
       "      <th>TRAFO_OPEN</th>\n",
       "      <th>FASES</th>\n",
       "      <th>KVA</th>\n",
       "      <th>LATI_USU</th>\n",
       "      <th>LONG_USU</th>\n",
       "      <th>puntaje</th>\n",
       "      <th>evaluacion</th>\n",
       "      <th>ZONA</th>\n",
       "      <th>Zona</th>\n",
       "    </tr>\n",
       "  </thead>\n",
       "  <tbody>\n",
       "    <tr>\n",
       "      <th>0</th>\n",
       "      <td>10141926</td>\n",
       "      <td>1154748</td>\n",
       "      <td>2021-02-22 12:54:26-05</td>\n",
       "      <td>2</td>\n",
       "      <td>Posible anomalia</td>\n",
       "      <td>NaN</td>\n",
       "      <td>NaN</td>\n",
       "      <td>NaN</td>\n",
       "      <td>73.0</td>\n",
       "      <td>ACOMETIDA O DERIVACIÓN NO AUTORIZADA HA</td>\n",
       "      <td>NaN</td>\n",
       "      <td>Rural</td>\n",
       "      <td>17-NO RESIDENCIAL - DIRECTO</td>\n",
       "      <td>15TA061951</td>\n",
       "      <td>3.0</td>\n",
       "      <td>15.0</td>\n",
       "      <td>1.396476</td>\n",
       "      <td>-77.288275</td>\n",
       "      <td>5.0</td>\n",
       "      <td>3.0</td>\n",
       "      <td>CENTRO</td>\n",
       "      <td>CE</td>\n",
       "    </tr>\n",
       "    <tr>\n",
       "      <th>1</th>\n",
       "      <td>10141926</td>\n",
       "      <td>1154748</td>\n",
       "      <td>2021-02-22 12:54:26-05</td>\n",
       "      <td>1</td>\n",
       "      <td>Posible anomalia</td>\n",
       "      <td>NaN</td>\n",
       "      <td>NaN</td>\n",
       "      <td>NaN</td>\n",
       "      <td>69.0</td>\n",
       "      <td>ACOMETIDA O DERIVACIÓN NO AUTORIZADA HA</td>\n",
       "      <td>NaN</td>\n",
       "      <td>Rural</td>\n",
       "      <td>17-NO RESIDENCIAL - DIRECTO</td>\n",
       "      <td>15TA061951</td>\n",
       "      <td>3.0</td>\n",
       "      <td>15.0</td>\n",
       "      <td>1.396476</td>\n",
       "      <td>-77.288275</td>\n",
       "      <td>5.0</td>\n",
       "      <td>3.0</td>\n",
       "      <td>CENTRO</td>\n",
       "      <td>CE</td>\n",
       "    </tr>\n",
       "  </tbody>\n",
       "</table>\n",
       "</div>"
      ]
     },
     "execution_count": 73,
     "metadata": {},
     "output_type": "execute_result"
    }
   ],
   "execution_count": 73
  },
  {
   "metadata": {
    "ExecuteTime": {
     "end_time": "2025-05-08T02:11:18.862356Z",
     "start_time": "2025-05-08T02:11:18.853521Z"
    }
   },
   "cell_type": "code",
   "source": "df_nuevo_extendido[df_nuevo_extendido.Orden == 11168065]",
   "id": "ef901ab2bc322140",
   "outputs": [
    {
     "data": {
      "text/plain": [
       "       Orden  Usuario               Ejecucion Codigo  \\\n",
       "22  11168065   544326  2021-03-27 08:04:44-05  30004   \n",
       "\n",
       "                       Descripcion           Motivo  kWh Rec  Factor    id  \\\n",
       "22  Anomalia verificada y aprobada  Otras Anomalias      NaN     NaN  40.0   \n",
       "\n",
       "                              Nombre  Factor    AREA      PLAN_COMERCIAL  \\\n",
       "22  OTRAS ANOMALÍAS REINCIDENTE PARE     NaN  Urbano  2-PLAN RESIDENCIAL   \n",
       "\n",
       "    TRAFO_OPEN  FASES   KVA  LATI_USU   LONG_USU  puntaje  evaluacion  \\\n",
       "22  05TN000137    2.0  45.0  1.672157 -78.142107      1.0         1.0   \n",
       "\n",
       "        ZONA Zona  \n",
       "22  PACIFICO   PA  "
      ],
      "text/html": [
       "<div>\n",
       "<style scoped>\n",
       "    .dataframe tbody tr th:only-of-type {\n",
       "        vertical-align: middle;\n",
       "    }\n",
       "\n",
       "    .dataframe tbody tr th {\n",
       "        vertical-align: top;\n",
       "    }\n",
       "\n",
       "    .dataframe thead th {\n",
       "        text-align: right;\n",
       "    }\n",
       "</style>\n",
       "<table border=\"1\" class=\"dataframe\">\n",
       "  <thead>\n",
       "    <tr style=\"text-align: right;\">\n",
       "      <th></th>\n",
       "      <th>Orden</th>\n",
       "      <th>Usuario</th>\n",
       "      <th>Ejecucion</th>\n",
       "      <th>Codigo</th>\n",
       "      <th>Descripcion</th>\n",
       "      <th>Motivo</th>\n",
       "      <th>kWh Rec</th>\n",
       "      <th>Factor</th>\n",
       "      <th>id</th>\n",
       "      <th>Nombre</th>\n",
       "      <th>Factor</th>\n",
       "      <th>AREA</th>\n",
       "      <th>PLAN_COMERCIAL</th>\n",
       "      <th>TRAFO_OPEN</th>\n",
       "      <th>FASES</th>\n",
       "      <th>KVA</th>\n",
       "      <th>LATI_USU</th>\n",
       "      <th>LONG_USU</th>\n",
       "      <th>puntaje</th>\n",
       "      <th>evaluacion</th>\n",
       "      <th>ZONA</th>\n",
       "      <th>Zona</th>\n",
       "    </tr>\n",
       "  </thead>\n",
       "  <tbody>\n",
       "    <tr>\n",
       "      <th>22</th>\n",
       "      <td>11168065</td>\n",
       "      <td>544326</td>\n",
       "      <td>2021-03-27 08:04:44-05</td>\n",
       "      <td>30004</td>\n",
       "      <td>Anomalia verificada y aprobada</td>\n",
       "      <td>Otras Anomalias</td>\n",
       "      <td>NaN</td>\n",
       "      <td>NaN</td>\n",
       "      <td>40.0</td>\n",
       "      <td>OTRAS ANOMALÍAS REINCIDENTE PARE</td>\n",
       "      <td>NaN</td>\n",
       "      <td>Urbano</td>\n",
       "      <td>2-PLAN RESIDENCIAL</td>\n",
       "      <td>05TN000137</td>\n",
       "      <td>2.0</td>\n",
       "      <td>45.0</td>\n",
       "      <td>1.672157</td>\n",
       "      <td>-78.142107</td>\n",
       "      <td>1.0</td>\n",
       "      <td>1.0</td>\n",
       "      <td>PACIFICO</td>\n",
       "      <td>PA</td>\n",
       "    </tr>\n",
       "  </tbody>\n",
       "</table>\n",
       "</div>"
      ]
     },
     "execution_count": 74,
     "metadata": {},
     "output_type": "execute_result"
    }
   ],
   "execution_count": 74
  },
  {
   "metadata": {
    "ExecuteTime": {
     "end_time": "2025-05-08T03:15:23.362721Z",
     "start_time": "2025-05-08T03:15:23.359206Z"
    }
   },
   "cell_type": "code",
   "source": [
    "def merge_and_clean(df_anomalies, df_users, df_ponderado ) -> pd.DataFrame:\n",
    "    cols_anomalies = [\"Orden\", \"Usuario\",\"Ejecucion\", \"Codigo\",\"Descripcion\", \"Motivo\", \"kWh Rec\", \"Factor\", \"Zona\"]\n",
    "    df_anomalies = self.df_anomalies[cols_anomalies].copy()\n",
    "\n",
    "    df_expanded = df_anomalies.assign(Codigo=df_anomalies['Codigo'].astype(str).str.split(\"/\")).explode(\"Codigo\")\n",
    "    df_expanded['Codigo'] = df_expanded['Codigo'].str.strip()\n",
    "\n",
    "    df_merge_anom_pond = pd.merge(df_expanded, self.df_ponderado[[\"Item\",'id','Nombre','puntaje', 'evaluacion']].copy(), how=\"left\", left_on=\"Codigo\", right_on=\"Item\")\n",
    "    df_merge_anom_pond.drop(columns=['Item'], inplace=True)\n",
    "\n",
    "    columnas_deseadas = [\"PRODUCTO\", \"AREA\", \"PLAN_COMERCIAL\",\"TRAFO_OPEN\", \"FASES\", \"KVA\", \"LATI_USU\", \"LONG_USU\"]\n",
    "    df_users = self.df_users[columnas_deseadas].copy()\n",
    "\n",
    "    df_merge_anom_pond_us = pd.merge(df_merge_anom_pond, df_users, left_on='Usuario', right_on='PRODUCTO', how='left')\n",
    "\n",
    "    columnas_deseadas = ['Usuario',  'id', 'AREA', 'PLAN_COMERCIAL', 'LATI_USU', 'LONG_USU','puntaje', 'evaluacion' \"Zona\"]\n",
    "    return df_merge_anom_pond_us[columnas_deseadas].copy()\n"
   ],
   "id": "90e5275eea859ac3",
   "outputs": [],
   "execution_count": 90
  },
  {
   "metadata": {
    "ExecuteTime": {
     "end_time": "2025-05-08T03:15:24.185371Z",
     "start_time": "2025-05-08T03:15:23.936049Z"
    }
   },
   "cell_type": "code",
   "source": "df = merge_and_clean(df_anomalies, df_usuarios, df_ponderado)",
   "id": "40701a969f1806b1",
   "outputs": [],
   "execution_count": 91
  },
  {
   "metadata": {
    "ExecuteTime": {
     "end_time": "2025-05-08T03:16:29.574268Z",
     "start_time": "2025-05-08T03:16:29.569404Z"
    }
   },
   "cell_type": "code",
   "source": "df[df.Orden == 11168065]",
   "id": "e8c0ad2868eb8f71",
   "outputs": [
    {
     "data": {
      "text/plain": [
       "       Orden  Usuario               Ejecucion Codigo  \\\n",
       "22  11168065   544326  2021-03-27 08:04:44-05  30004   \n",
       "\n",
       "                       Descripcion           Motivo  kWh Rec  Factor    id  \\\n",
       "22  Anomalia verificada y aprobada  Otras Anomalias      NaN     NaN  40.0   \n",
       "\n",
       "                              Nombre  Factor    AREA      PLAN_COMERCIAL  \\\n",
       "22  OTRAS ANOMALÍAS REINCIDENTE PARE     NaN  Urbano  2-PLAN RESIDENCIAL   \n",
       "\n",
       "    TRAFO_OPEN  FASES   KVA  LATI_USU   LONG_USU  puntaje  evaluacion Zona  \n",
       "22  05TN000137    2.0  45.0  1.672157 -78.142107      1.0         1.0   PA  "
      ],
      "text/html": [
       "<div>\n",
       "<style scoped>\n",
       "    .dataframe tbody tr th:only-of-type {\n",
       "        vertical-align: middle;\n",
       "    }\n",
       "\n",
       "    .dataframe tbody tr th {\n",
       "        vertical-align: top;\n",
       "    }\n",
       "\n",
       "    .dataframe thead th {\n",
       "        text-align: right;\n",
       "    }\n",
       "</style>\n",
       "<table border=\"1\" class=\"dataframe\">\n",
       "  <thead>\n",
       "    <tr style=\"text-align: right;\">\n",
       "      <th></th>\n",
       "      <th>Orden</th>\n",
       "      <th>Usuario</th>\n",
       "      <th>Ejecucion</th>\n",
       "      <th>Codigo</th>\n",
       "      <th>Descripcion</th>\n",
       "      <th>Motivo</th>\n",
       "      <th>kWh Rec</th>\n",
       "      <th>Factor</th>\n",
       "      <th>id</th>\n",
       "      <th>Nombre</th>\n",
       "      <th>Factor</th>\n",
       "      <th>AREA</th>\n",
       "      <th>PLAN_COMERCIAL</th>\n",
       "      <th>TRAFO_OPEN</th>\n",
       "      <th>FASES</th>\n",
       "      <th>KVA</th>\n",
       "      <th>LATI_USU</th>\n",
       "      <th>LONG_USU</th>\n",
       "      <th>puntaje</th>\n",
       "      <th>evaluacion</th>\n",
       "      <th>Zona</th>\n",
       "    </tr>\n",
       "  </thead>\n",
       "  <tbody>\n",
       "    <tr>\n",
       "      <th>22</th>\n",
       "      <td>11168065</td>\n",
       "      <td>544326</td>\n",
       "      <td>2021-03-27 08:04:44-05</td>\n",
       "      <td>30004</td>\n",
       "      <td>Anomalia verificada y aprobada</td>\n",
       "      <td>Otras Anomalias</td>\n",
       "      <td>NaN</td>\n",
       "      <td>NaN</td>\n",
       "      <td>40.0</td>\n",
       "      <td>OTRAS ANOMALÍAS REINCIDENTE PARE</td>\n",
       "      <td>NaN</td>\n",
       "      <td>Urbano</td>\n",
       "      <td>2-PLAN RESIDENCIAL</td>\n",
       "      <td>05TN000137</td>\n",
       "      <td>2.0</td>\n",
       "      <td>45.0</td>\n",
       "      <td>1.672157</td>\n",
       "      <td>-78.142107</td>\n",
       "      <td>1.0</td>\n",
       "      <td>1.0</td>\n",
       "      <td>PA</td>\n",
       "    </tr>\n",
       "  </tbody>\n",
       "</table>\n",
       "</div>"
      ]
     },
     "execution_count": 92,
     "metadata": {},
     "output_type": "execute_result"
    }
   ],
   "execution_count": 92
  },
  {
   "metadata": {
    "ExecuteTime": {
     "end_time": "2025-05-08T03:17:49.727219Z",
     "start_time": "2025-05-08T03:17:49.681812Z"
    }
   },
   "cell_type": "code",
   "source": "df[df.Zona == 'PA'].info()",
   "id": "7559126e865b6090",
   "outputs": [
    {
     "name": "stdout",
     "output_type": "stream",
     "text": [
      "<class 'pandas.core.frame.DataFrame'>\n",
      "Index: 161685 entries, 13 to 363220\n",
      "Data columns (total 21 columns):\n",
      " #   Column          Non-Null Count   Dtype  \n",
      "---  ------          --------------   -----  \n",
      " 0   Orden           161685 non-null  int64  \n",
      " 1   Usuario         161685 non-null  int64  \n",
      " 2   Ejecucion       161685 non-null  object \n",
      " 3   Codigo          161685 non-null  object \n",
      " 4   Descripcion     161685 non-null  object \n",
      " 5   Motivo          156086 non-null  object \n",
      " 6   kWh Rec         137965 non-null  float64\n",
      " 7   Factor          41 non-null      float64\n",
      " 8   id              161033 non-null  float64\n",
      " 9   Nombre          161033 non-null  object \n",
      " 10  Factor          41 non-null      float64\n",
      " 11  AREA            161663 non-null  object \n",
      " 12  PLAN_COMERCIAL  161663 non-null  object \n",
      " 13  TRAFO_OPEN      161537 non-null  object \n",
      " 14  FASES           160060 non-null  float64\n",
      " 15  KVA             161575 non-null  float64\n",
      " 16  LATI_USU        161575 non-null  float64\n",
      " 17  LONG_USU        161575 non-null  float64\n",
      " 18  puntaje         161033 non-null  float64\n",
      " 19  evaluacion      161033 non-null  float64\n",
      " 20  Zona            161685 non-null  object \n",
      "dtypes: float64(10), int64(2), object(9)\n",
      "memory usage: 27.1+ MB\n"
     ]
    }
   ],
   "execution_count": 93
  },
  {
   "metadata": {
    "ExecuteTime": {
     "end_time": "2025-05-08T16:19:39.796785Z",
     "start_time": "2025-05-08T16:19:39.386614Z"
    }
   },
   "cell_type": "code",
   "source": [
    "df = pd.read_csv(data_processed_dir(\"dataset_train_clean.csv\"))\n",
    "df.info()"
   ],
   "id": "16b0ce21707cbd21",
   "outputs": [
    {
     "name": "stdout",
     "output_type": "stream",
     "text": [
      "<class 'pandas.core.frame.DataFrame'>\n",
      "RangeIndex: 363222 entries, 0 to 363221\n",
      "Data columns (total 21 columns):\n",
      " #   Column          Non-Null Count   Dtype  \n",
      "---  ------          --------------   -----  \n",
      " 0   Orden           363222 non-null  int64  \n",
      " 1   Usuario         363222 non-null  int64  \n",
      " 2   Ejecucion       363222 non-null  object \n",
      " 3   Codigo          358558 non-null  object \n",
      " 4   Descripcion     363222 non-null  object \n",
      " 5   Motivo          354392 non-null  object \n",
      " 6   kWh Rec         304578 non-null  float64\n",
      " 7   Factor          3426 non-null    float64\n",
      " 8   id              351794 non-null  float64\n",
      " 9   Nombre          351794 non-null  object \n",
      " 10  Factor.1        3426 non-null    float64\n",
      " 11  AREA            363200 non-null  object \n",
      " 12  PLAN_COMERCIAL  363200 non-null  object \n",
      " 13  TRAFO_OPEN      363027 non-null  object \n",
      " 14  FASES           359828 non-null  float64\n",
      " 15  KVA             362675 non-null  float64\n",
      " 16  LATI_USU        362675 non-null  float64\n",
      " 17  LONG_USU        362675 non-null  float64\n",
      " 18  puntaje         351794 non-null  float64\n",
      " 19  evaluacion      351794 non-null  float64\n",
      " 20  Zona            363222 non-null  object \n",
      "dtypes: float64(10), int64(2), object(9)\n",
      "memory usage: 58.2+ MB\n"
     ]
    }
   ],
   "execution_count": 9
  },
  {
   "metadata": {
    "ExecuteTime": {
     "end_time": "2025-05-08T16:27:23.941728Z",
     "start_time": "2025-05-08T16:27:23.911736Z"
    }
   },
   "cell_type": "code",
   "source": [
    "columnas_deseadas = [\n",
    "    \"Usuario\",\n",
    "    \"id\",\n",
    "    \"AREA\",\n",
    "    \"PLAN_COMERCIAL\",\n",
    "    \"LATI_USU\",\n",
    "    \"LONG_USU\",\n",
    "    \"puntaje\",\n",
    "    \"evaluacion\",\n",
    "]\n",
    "df[columnas_deseadas].info()"
   ],
   "id": "ca5be20ed7ac1ca1",
   "outputs": [
    {
     "name": "stdout",
     "output_type": "stream",
     "text": [
      "<class 'pandas.core.frame.DataFrame'>\n",
      "RangeIndex: 363222 entries, 0 to 363221\n",
      "Data columns (total 8 columns):\n",
      " #   Column          Non-Null Count   Dtype  \n",
      "---  ------          --------------   -----  \n",
      " 0   Usuario         363222 non-null  int64  \n",
      " 1   id              351794 non-null  float64\n",
      " 2   AREA            363200 non-null  object \n",
      " 3   PLAN_COMERCIAL  363200 non-null  object \n",
      " 4   LATI_USU        362675 non-null  float64\n",
      " 5   LONG_USU        362675 non-null  float64\n",
      " 6   puntaje         351794 non-null  float64\n",
      " 7   evaluacion      351794 non-null  float64\n",
      "dtypes: float64(5), int64(1), object(2)\n",
      "memory usage: 22.2+ MB\n"
     ]
    }
   ],
   "execution_count": 10
  },
  {
   "metadata": {},
   "cell_type": "code",
   "outputs": [],
   "execution_count": null,
   "source": "",
   "id": "89390edab766a5"
  }
 ],
 "metadata": {
  "kernelspec": {
   "display_name": "Python 3 (ipykernel)",
   "language": "python",
   "name": "python3"
  },
  "language_info": {
   "codemirror_mode": {
    "name": "ipython",
    "version": 3
   },
   "file_extension": ".py",
   "mimetype": "text/x-python",
   "name": "python",
   "nbconvert_exporter": "python",
   "pygments_lexer": "ipython3",
   "version": "3.12.7"
  }
 },
 "nbformat": 4,
 "nbformat_minor": 5
}
